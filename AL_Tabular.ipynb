{
 "cells": [
  {
   "cell_type": "code",
   "execution_count": 1,
   "id": "d5be58e1",
   "metadata": {},
   "outputs": [],
   "source": [
    "import pandas as pd\n",
    "from sklearn.model_selection import train_test_split\n",
    "df= pd.read_csv('dataset/large_data.csv')\n",
    "X = df.drop('TYPE', axis=1) \n",
    "y = df['TYPE']\n",
    "\n",
    "X_train, X_val, y_train, y_val = train_test_split(X, y, test_size=0.2, random_state=42, stratify=y)\n",
    "\n",
    "X_train = X_train.reset_index(drop=True)\n",
    "y_train = y_train.reset_index(drop=True)\n",
    "X_val = X_val.reset_index(drop=True)\n",
    "y_val = y_val.reset_index(drop=True)\n",
    "\n",
    "train_df = pd.concat([X_train, y_train], axis=1)\n",
    "validation_df = pd.concat([X_val, y_val], axis=1)"
   ]
  },
  {
   "cell_type": "code",
   "execution_count": 2,
   "id": "ee63bed4",
   "metadata": {},
   "outputs": [
    {
     "data": {
      "text/plain": [
       "TYPE\n",
       "FLU        20000\n",
       "ALLERGY    13105\n",
       "COVID       1638\n",
       "COLD         819\n",
       "Name: count, dtype: int64"
      ]
     },
     "execution_count": 2,
     "metadata": {},
     "output_type": "execute_result"
    }
   ],
   "source": [
    "train_df.TYPE.value_counts()"
   ]
  },
  {
   "cell_type": "code",
   "execution_count": 3,
   "id": "7097d1b4",
   "metadata": {},
   "outputs": [
    {
     "data": {
      "text/plain": [
       "TYPE\n",
       "FLU        0.562398\n",
       "ALLERGY    0.368511\n",
       "COVID      0.046060\n",
       "COLD       0.023030\n",
       "Name: proportion, dtype: float64"
      ]
     },
     "execution_count": 3,
     "metadata": {},
     "output_type": "execute_result"
    }
   ],
   "source": [
    "train_df.TYPE.value_counts(normalize=True)"
   ]
  },
  {
   "cell_type": "code",
   "execution_count": 4,
   "id": "6082b7eb",
   "metadata": {},
   "outputs": [
    {
     "data": {
      "text/plain": [
       "35562"
      ]
     },
     "execution_count": 4,
     "metadata": {},
     "output_type": "execute_result"
    }
   ],
   "source": [
    "len(train_df)"
   ]
  },
  {
   "cell_type": "code",
   "execution_count": 5,
   "id": "11dd0ef7",
   "metadata": {},
   "outputs": [
    {
     "name": "stdout",
     "output_type": "stream",
     "text": [
      "Columns with NaN values: []\n",
      "------------------------------\n"
     ]
    }
   ],
   "source": [
    "nan_counts_per_column_train = train_df.isnull().sum()\n",
    "columns_with_nan = nan_counts_per_column_train[nan_counts_per_column_train > 0].index.tolist()\n",
    "\n",
    "print(\"Columns with NaN values:\", columns_with_nan)\n",
    "print(\"-\" * 30)\n"
   ]
  },
  {
   "cell_type": "code",
   "execution_count": 6,
   "id": "b3968a9a",
   "metadata": {},
   "outputs": [
    {
     "name": "stdout",
     "output_type": "stream",
     "text": [
      "Columns with NaN values: []\n",
      "------------------------------\n"
     ]
    }
   ],
   "source": [
    "nan_counts_per_column_validation = validation_df.isnull().sum()\n",
    "columns_with_nan_validation = nan_counts_per_column_validation[nan_counts_per_column_validation > 0].index.tolist()\n",
    "\n",
    "print(\"Columns with NaN values:\", columns_with_nan_validation)\n",
    "print(\"-\" * 30)\n"
   ]
  },
  {
   "cell_type": "code",
   "execution_count": 7,
   "id": "a83976f1",
   "metadata": {},
   "outputs": [],
   "source": [
    "validation_df = validation_df.dropna(subset=columns_with_nan_validation)"
   ]
  },
  {
   "cell_type": "code",
   "execution_count": 8,
   "id": "3997eb7f",
   "metadata": {},
   "outputs": [],
   "source": [
    "RANDOM_STATE = 981408\n",
    "\n",
    "# Parametros Active Learning \n",
    "INITIAL_SAMPLE_SIZE = 500 # Total samples for the initial random set\n",
    "STEP_SIZE = 100 # Target total samples to add per step for most strategies\n",
    "TOTAL_AL_SIMULATION_SAMPLES = 36000 # Target total samples for the simulation\n",
    "\n",
    "SVD_N_COMPONENTS = 30 # Number of components for TruncatedSVD for diversity sampling\n",
    "KMEANS_SUBSAMPLE_SIZE = 100 # Tamanho do MiniBatchKMeans"
   ]
  },
  {
   "cell_type": "code",
   "execution_count": 9,
   "id": "setup_and_imports",
   "metadata": {},
   "outputs": [],
   "source": [
    "import numpy as np\n",
    "from collections import deque\n",
    "from sklearn.preprocessing import FunctionTransformer\n",
    "from sklearn.cluster import MiniBatchKMeans\n",
    "from sklearn.decomposition import TruncatedSVD\n",
    "from tqdm import trange\n",
    "from sklearn.linear_model import LogisticRegression\n",
    "from sklearn.metrics import matthews_corrcoef, accuracy_score, f1_score, classification_report\n",
    "import plotly.express as px \n",
    "from copy import deepcopy\n",
    "from sklearn.metrics.pairwise import euclidean_distances\n",
    "import math "
   ]
  },
  {
   "cell_type": "code",
   "execution_count": 10,
   "id": "define_initial_sample",
   "metadata": {},
   "outputs": [
    {
     "name": "stdout",
     "output_type": "stream",
     "text": [
      "Generating initial random labeled sample of size 500...\n",
      "\n",
      "Initial random labeled sample generated with 500 samples (indices relative to train_df).\n",
      "Initial sample class distribution (absolute):\n",
      "TYPE\n",
      "ALLERGY    183\n",
      "COLD        11\n",
      "COVID       22\n",
      "FLU        284\n",
      "Name: count, dtype: int64\n",
      "Initial sample class distribution (percentage):\n",
      "TYPE\n",
      "ALLERGY    36.6\n",
      "COLD        2.2\n",
      "COVID       4.4\n",
      "FLU        56.8\n",
      "Name: proportion, dtype: float64\n",
      "\n",
      "Active Learning Simulation will run until 36000 samples are labeled by each strategy, or the train pool (35562 samples) is exhausted.\n",
      "Starting Active Learning Simulation for up to 355 steps.\n"
     ]
    }
   ],
   "source": [
    "# --- Define Initial Labeled Sample (Shared by all strategies) ---\n",
    "\n",
    "print(f\"Generating initial random labeled sample of size {INITIAL_SAMPLE_SIZE}...\")\n",
    "\n",
    "# Get all indices from the training data pool (train_df)\n",
    "all_train_indices = np.arange(X_train.shape[0])\n",
    "\n",
    "# Ensure initial sample size doesn't exceed total training data or simulation target\n",
    "initial_sample_size_actual = min(INITIAL_SAMPLE_SIZE, X_train.shape[0], TOTAL_AL_SIMULATION_SAMPLES)\n",
    "\n",
    "rng = np.random.RandomState(RANDOM_STATE) # Ensure reproducibility for sampling\n",
    "\n",
    "# Take an initial random sample from the full training set for ALL strategies\n",
    "if initial_sample_size_actual > 0:\n",
    "    initial_sample_indices = rng.choice(all_train_indices, size=initial_sample_size_actual, replace=False).tolist()\n",
    "else:\n",
    "    initial_sample_indices = []\n",
    "\n",
    "INITIAL_SAMPLE_SIZE_ACTUAL = len(initial_sample_indices)\n",
    "\n",
    "print(f\"\\nInitial random labeled sample generated with {INITIAL_SAMPLE_SIZE_ACTUAL} samples (indices relative to train_df).\")\n",
    "if INITIAL_SAMPLE_SIZE_ACTUAL > 0:\n",
    "    print(\"Initial sample class distribution (absolute):\")\n",
    "    initial_sample_series = pd.Series(y_train.iloc[initial_sample_indices])\n",
    "    print(initial_sample_series.value_counts().sort_index())\n",
    "    print(\"Initial sample class distribution (percentage):\")\n",
    "    print(initial_sample_series.value_counts(normalize=True).sort_index()*100)\n",
    "else:\n",
    "     print(\"Initial sample size is 0.\")\n",
    "\n",
    "# --- Calculate Total Target Samples for the Simulation --- \n",
    "# TOTAL_AL_SIMULATION_SAMPLES is already set to 10000\n",
    "print(f\"\\nActive Learning Simulation will run until {TOTAL_AL_SIMULATION_SAMPLES} samples are labeled by each strategy, or the train pool ({X_train.shape[0]} samples) is exhausted.\")\n",
    "\n",
    "largest_step_size = STEP_SIZE\n",
    "# Start counting steps from 1 after the initial (step 0)\n",
    "if TOTAL_AL_SIMULATION_SAMPLES > INITIAL_SAMPLE_SIZE_ACTUAL and largest_step_size > 0:\n",
    "    max_steps = (TOTAL_AL_SIMULATION_SAMPLES - INITIAL_SAMPLE_SIZE_ACTUAL + largest_step_size - 1) // largest_step_size\n",
    "else:\n",
    "    max_steps = 0\n",
    "\n",
    "print(f\"Starting Active Learning Simulation for up to {max_steps} steps.\")\n"
   ]
  },
  {
   "cell_type": "code",
   "execution_count": 11,
   "id": "sampling_functions",
   "metadata": {},
   "outputs": [],
   "source": [
    "def least_confidence_sampling(X_unlabeled, model, n_instances: int, random_state=None) -> list[int]:\n",
    "    \"\"\"\n",
    "    Seleciona as instâncias menos confiantes a partir das características não rotuladas.\n",
    "    Assume que X_unlabeled é uma fatia da matriz completa de características, correspondente aos dados não rotulados.\n",
    "    Retorna índices relativos ao array de entrada X_unlabeled.\n",
    "    \"\"\"\n",
    "    if X_unlabeled.shape[0] == 0 or n_instances <= 0:\n",
    "        return []\n",
    "\n",
    "    probs = model.predict_proba(X_unlabeled) ## Analisa a confiança do modelo nas instâncias que ainda não estão sendo utilizadas para o treino do modelo\n",
    "\n",
    "    # Calcula a incerteza como 1 - max probabilidade prevista\n",
    "    uncertainty_scores = 1 - np.max(probs, axis=1)\n",
    "\n",
    "    # Pegar as instâncias mais incertas, como 1 - max do predict proba quanto mais incerto o modelo maior esse valor\n",
    "    sorted_indices_in_unlabeled = np.argsort(uncertainty_scores)[::-1] # Ordenar de forma descendente\n",
    "\n",
    "    return sorted_indices_in_unlabeled[:n_instances].tolist() ## Retorna a quantidade de instâncias mais incertas\n",
    "\n",
    "\n",
    "def margin_of_confidence_sampling(X_unlabeled, model, n_instances: int, random_state=None) -> list[int]:\n",
    "    \"\"\"\n",
    "    Seleciona instâncias com a menor margem entre as duas maiores probabilidades previstas.\n",
    "    Assume que X_unlabeled é uma fatia da matriz completa de características, correspondente aos dados não rotulados.\n",
    "    Retorna índices relativos ao array de entrada X_unlabeled.\n",
    "    \"\"\"\n",
    "    if X_unlabeled.shape[0] == 0 or n_instances <= 0:\n",
    "        return []\n",
    "\n",
    "    probs = model.predict_proba(X_unlabeled)## Analisa a confiança do modelo nas instâncias que ainda não estão sendo utilizadas para o treino do modelo\n",
    "\n",
    "    # Sort probabilities for each instance\n",
    "    sorted_probs = np.sort(probs, axis=1)[:, ::-1] # Sort descending along axis 1\n",
    "\n",
    "    # Calculate margin: difference between the top two probabilities\n",
    "    # Handle cases with fewer than 2 classes\n",
    "    if sorted_probs.shape[1] < 2:\n",
    "         margins = np.full(X_unlabeled.shape[0], np.inf)\n",
    "    else:\n",
    "        margins = sorted_probs[:, 0] - sorted_probs[:, 1]\n",
    "\n",
    "    # Get indices of the top n_instances with the *smallest* margin\n",
    "    sorted_indices_in_unlabeled = np.argsort(margins) # Sort ascending for smallest margin\n",
    "\n",
    "    # Return indices relative to the *input* X_unlabeled array\n",
    "    return sorted_indices_in_unlabeled[:n_instances].tolist()\n",
    "\n",
    "def ratio_of_confidence_sampling(X_unlabeled, model, n_instances: int, random_state=None) -> list[int]:\n",
    "    \"\"\"\n",
    "    Selects instances with the highest ratio between the second highest and highest probabilities.\n",
    "    Assumes X_unlabeled is a slice of the full feature matrix corresponding to unlabeled data.\n",
    "    Returns indices relative to the *input* X_unlabeled array.\n",
    "    \"\"\"\n",
    "    if X_unlabeled.shape[0] == 0 or n_instances <= 0:\n",
    "        return []\n",
    "\n",
    "    probs = model.predict_proba(X_unlabeled)\n",
    "\n",
    "    # Sort probabilities for each instance\n",
    "    sorted_probs = np.sort(probs, axis=1)[:, ::-1] # Sort descending along axis 1\n",
    "\n",
    "    # Calculate ratio: second highest / highest\n",
    "    # Handle cases where the highest probability is 0 or where there's only one class\n",
    "    ratios = np.zeros(X_unlabeled.shape[0]) # Default ratio is 0 if calculation fails/invalid\n",
    "\n",
    "    # Find instances where the highest probability is > 0 and there's at least a second class\n",
    "    valid_ratio_mask = (sorted_probs[:, 0] > 0) & (sorted_probs.shape[1] > 1)\n",
    "\n",
    "    if np.any(valid_ratio_mask):\n",
    "        # Avoid division by zero if sorted_probs[:, 0] is exactly 0 (already handled by mask)\n",
    "        ratios[valid_ratio_mask] = sorted_probs[valid_ratio_mask, 1] / sorted_probs[valid_ratio_mask, 0]\n",
    "    # For instances where valid_ratio_mask is False, the ratio remains 0,\n",
    "    # which is a low uncertainty score for this metric (perfect certainty if ratio is 0).\n",
    "\n",
    "    # Get indices of the top n_instances with the *highest* ratio\n",
    "    sorted_indices_in_unlabeled = np.argsort(ratios)[::-1] # Sort descending\n",
    "\n",
    "    # Return indices relative to the *input* X_unlabeled array\n",
    "    return sorted_indices_in_unlabeled[:n_instances].tolist()\n",
    "\n",
    "\n",
    "def entropy_sampling(X_unlabeled, model, n_instances: int, random_state=None) -> list[int]:\n",
    "    \"\"\"\n",
    "    Selects instances with the highest entropy of predicted probabilities.\n",
    "    Assumes X_unlabeled is a slice of the full feature matrix corresponding to unlabeled data.\n",
    "    Returns indices relative to the *input* X_unlabeled array.\n",
    "    \"\"\"\n",
    "    if X_unlabeled.shape[0] == 0 or n_instances <= 0:\n",
    "        return []\n",
    "\n",
    "    probs = model.predict_proba(X_unlabeled)\n",
    "\n",
    "    # Ensure log is calculated only for positive probabilities to avoid log(0)\n",
    "    # Add a small epsilon for numerical stability if probabilities are very close to 0\n",
    "    probs = probs + 1e-12\n",
    "\n",
    "    # Calculate entropy for each instance: -sum(p * log(p))\n",
    "    entropy_scores = -np.sum(probs * np.log(probs), axis=1)\n",
    "\n",
    "    # Get indices of the top n_instances with the *highest* entropy\n",
    "    sorted_indices_in_unlabeled = np.argsort(entropy_scores)[::-1] # Sort descending\n",
    "\n",
    "    # Return indices relative to the *input* X_unlabeled array\n",
    "    return sorted_indices_in_unlabeled[:n_instances].tolist()\n",
    "\n",
    "def optimized_cluster_sampling(X_reduced_unlabeled, n_instances, n_clusters, subsample_size=10000, random_state=None):\n",
    "    if random_state is None:\n",
    "        rng = np.random\n",
    "    else:\n",
    "        rng = np.random.RandomState(random_state)\n",
    "    \n",
    "    # Convert input to numpy array for consistent indexing\n",
    "    if isinstance(X_reduced_unlabeled, pd.DataFrame):\n",
    "        X_values = X_reduced_unlabeled.values\n",
    "    else:\n",
    "        X_values = np.asarray(X_reduced_unlabeled, dtype=np.float64)\n",
    "        \n",
    "    num_unlabeled = X_values.shape[0]\n",
    "\n",
    "    if num_unlabeled <= n_instances:\n",
    "        return list(range(num_unlabeled))\n",
    "\n",
    "    if n_clusters > num_unlabeled:\n",
    "        n_clusters = num_unlabeled\n",
    "\n",
    "    if subsample_size is None or subsample_size >= num_unlabeled:\n",
    "        X_subsample = X_values\n",
    "        subsample_indices = np.arange(num_unlabeled)\n",
    "    else:\n",
    "        subsample_size = min(subsample_size, num_unlabeled)\n",
    "        subsample_indices = rng.choice(num_unlabeled, size=subsample_size, replace=False)\n",
    "        X_subsample = X_values[subsample_indices]\n",
    "\n",
    "    kmeans = MiniBatchKMeans(n_clusters=n_clusters, random_state=random_state)\n",
    "    kmeans.fit(X_subsample)\n",
    "    \n",
    "    cluster_centers = kmeans.cluster_centers_\n",
    "\n",
    "    # Compute distances to each cluster center from the full unlabeled pool\n",
    "    from scipy.spatial.distance import cdist\n",
    "    distances = cdist(X_values, cluster_centers)\n",
    "\n",
    "    # For each cluster, find the closest point in the full unlabeled set\n",
    "    closest_indices = np.argmin(distances, axis=0)\n",
    "    \n",
    "    # Ensure uniqueness and limit to desired number of instances\n",
    "    selected_indices = list(dict.fromkeys(closest_indices))[:n_instances]\n",
    "\n",
    "    # If we still need more points, sample the remainder randomly\n",
    "    if len(selected_indices) < n_instances:\n",
    "        remaining_pool = np.setdiff1d(np.arange(num_unlabeled), selected_indices)\n",
    "        additional = rng.choice(remaining_pool, size=n_instances - len(selected_indices), replace=False)\n",
    "        selected_indices.extend(additional.tolist())\n",
    "\n",
    "    return selected_indices\n",
    "\n",
    "def core_set_selection(X_reduced_unlabeled, X_reduced_labeled, n_instances: int, random_state=None) -> list[int]:\n",
    "    \"\"\"\n",
    "    Selects instances from unlabeled data that are farthest from the current labeled set (using reduced features).\n",
    "    Assumes X_reduced_unlabeled and X_reduced_labeled are slices of the *reduced* feature matrix.\n",
    "    Returns indices relative to the *input* X_reduced_unlabeled array.\n",
    "    \n",
    "    NOTE: This implementation can be memory-intensive for very large X_reduced_unlabeled.\n",
    "    \"\"\"\n",
    "    rng = np.random.RandomState(random_state if random_state is not None else RANDOM_STATE)\n",
    "    num_unlabeled = X_reduced_unlabeled.shape[0]\n",
    "\n",
    "    if num_unlabeled == 0 or n_instances <= 0:\n",
    "        return []\n",
    "\n",
    "    # If there are no labeled samples yet, just pick randomly from unlabeled\n",
    "    if X_reduced_labeled.shape[0] == 0:\n",
    "         # print(\"Warning: No labeled samples for Core-Set. Falling back to random sampling.\")\n",
    "         return rng.choice(num_unlabeled, size=min(n_instances, num_unlabeled), replace=False).tolist()\n",
    "\n",
    "    # Compute distances between unlabeled instances and labeled instances (using reduced features)\n",
    "    # THIS IS THE MEMORY-INTENSIVE STEP\n",
    "    try:\n",
    "        distances = euclidean_distances(X_reduced_unlabeled, X_reduced_labeled)\n",
    "    except MemoryError:\n",
    "        print(\"MemoryError during Core-Set distance calculation. Returning empty list.\")\n",
    "        # Fallback: if distance calculation fails, return nothing or fall back to random on a subsample\n",
    "        # For now, returning empty list to skip adding samples this step for Core-Set\n",
    "        return []\n",
    "\n",
    "    # Find the minimum distance to any labeled instance for each unlabeled instance\n",
    "    min_distances = distances.min(axis=1)\n",
    "\n",
    "    # Get indices of the top n_instances with the *highest* minimum distance\n",
    "    sorted_indices_in_unlabeled = np.argsort(min_distances)[::-1] # Sort descending\n",
    "\n",
    "    # Return indices relative to the *input* X_reduced_unlabeled array\n",
    "    return sorted_indices_in_unlabeled[:n_instances].tolist()\n",
    "\n",
    "\n",
    "def train_and_evaluate_model(\n",
    "    X_train_full, y_train_full, X_val, y_val,\n",
    "    current_labeled_indices: list[int],\n",
    ") -> tuple[float, float, float]:\n",
    "    \"\"\"\n",
    "    Trains a Logistic Regression model on the current labeled data subset \n",
    "    from the full training pool and evaluates it on the validation data.\n",
    "    Handles sparse X_train.\n",
    "\n",
    "    Args:\n",
    "        X_train_full (sparse matrix): The full training features pool.\n",
    "        y_train_full (pd.Series): The full training labels pool.\n",
    "        X_val (sparse matrix): Validation features.\n",
    "        y_val (pd.Series): Validation labels.\n",
    "        current_labeled_indices (list[int]): The indices of instances currently selected for training \n",
    "                                            (relative to the full training pool).\n",
    "\n",
    "    Returns:\n",
    "        tuple[float, float, float]: The accuracy, weighted F1 score, and Matthews Correlation Coefficient on the validation data.\n",
    "    \"\"\"\n",
    "    if not current_labeled_indices:\n",
    "         # print(\"Warning: No labeled samples to train on.\")\n",
    "         return 0.0, 0.0, 0.0 # Return zero metrics if no data\n",
    "\n",
    "    # Select the subset of data using the current labeled indices\n",
    "    X_train_subset = X_train_full.loc[current_labeled_indices]\n",
    "    y_train_subset = y_train_full.loc[current_labeled_indices]\n",
    "\n",
    "    # Use balanced class weight for skewed datasets\n",
    "    clf = LogisticRegression(random_state=RANDOM_STATE, n_jobs=-1, max_iter=1000, class_weight='balanced')\n",
    "\n",
    "    # Check if the subset has more than one unique class before fitting\n",
    "    if y_train_subset.nunique() < 2:\n",
    "        # print(f\"Warning: Only {y_train_subset.nunique()} unique class(es) in the training subset. Cannot train classifier. Returning zero metrics.\")\n",
    "        return 0.0, 0.0, 0.0\n",
    "\n",
    "    clf.fit(X_train_subset, y_train_subset)\n",
    "\n",
    "    y_pred = clf.predict(X_val)\n",
    "\n",
    "    # Calculate metrics\n",
    "    accuracy = accuracy_score(y_val, y_pred)\n",
    "    # Handle potential errors if MCC cannot be calculated (e.g., only one class in prediction/true)\n",
    "    try:\n",
    "        mcc = matthews_corrcoef(y_val, y_pred)\n",
    "        # Check if mcc is NaN, which can happen in edge cases even if no exception\n",
    "        if math.isnan(mcc):\n",
    "             mcc = 0.0\n",
    "    except Exception as e:\n",
    "        # print(f\"Warning: Could not compute MCC: {e}. Returning 0.\")\n",
    "        mcc = 0.0\n",
    "        \n",
    "    # Handle potential errors if F1 cannot be calculated\n",
    "    try:\n",
    "        f1_w = f1_score(y_val, y_pred, average='weighted')\n",
    "        if math.isnan(f1_w):\n",
    "             f1_w = 0.0\n",
    "    except Exception as e:\n",
    "        # print(f\"Warning: Could not compute F1: {e}. Returning 0.\")\n",
    "        f1_w = 0.0\n",
    "\n",
    "    return accuracy, f1_w, mcc"
   ]
  },
  {
   "cell_type": "code",
   "execution_count": 12,
   "id": "active_learning_simulation",
   "metadata": {},
   "outputs": [
    {
     "name": "stdout",
     "output_type": "stream",
     "text": [
      "Evaluating initial models with 500 samples...\n",
      "Initial MCC: 0.8354\n",
      "Starting Active Learning Simulation for up to 355 steps.\n",
      "Target total samples per strategy: up to 36000\n"
     ]
    },
    {
     "name": "stderr",
     "output_type": "stream",
     "text": [
      "AL Steps:  99%|█████████▉| 351/355 [18:53<00:12,  3.23s/it]"
     ]
    },
    {
     "name": "stdout",
     "output_type": "stream",
     "text": [
      "No samples added by any strategy in this step. Stopping simulation.\n",
      "Active Learning simulation loop finished.\n",
      "Appending final data points for plot consistency...\n"
     ]
    },
    {
     "name": "stderr",
     "output_type": "stream",
     "text": [
      "\n"
     ]
    }
   ],
   "source": [
    "# --- Active Learning Simulation Setup and Loop ---\n",
    "\n",
    "# Initialize separate lists for selected indices for each strategy\n",
    "# All strategies start with the same initial_sample_indices (100 random samples)\n",
    "strategy_indices = {\n",
    "    'Random': deepcopy(initial_sample_indices),\n",
    "    'Least Confidence': deepcopy(initial_sample_indices),\n",
    "    'Margin of Confidence': deepcopy(initial_sample_indices),\n",
    "    'Ratio of Confidence': deepcopy(initial_sample_indices),\n",
    "    'Entropy': deepcopy(initial_sample_indices),\n",
    "    'Cluster-Based': deepcopy(initial_sample_indices),\n",
    "}\n",
    "\n",
    "# Initialize results list\n",
    "results_list = []\n",
    "\n",
    "# Evaluate initial models (provides the first data point at step 0)\n",
    "print(f\"Evaluating initial models with {INITIAL_SAMPLE_SIZE_ACTUAL} samples...\")\n",
    "if INITIAL_SAMPLE_SIZE_ACTUAL > 0:\n",
    "    initial_accuracy, initial_f1, initial_mcc = train_and_evaluate_model(\n",
    "        X_train, y_train, X_val, y_val, initial_sample_indices\n",
    "    )\n",
    "\n",
    "    # Add initial results for all strategies (they all start the same)\n",
    "    for strategy_name in strategy_indices.keys():\n",
    "         results_list.append({\n",
    "             'Strategy': strategy_name,\n",
    "             'Step': 0, # Use step 0 for the initial state\n",
    "             'Number of Labeled Samples': len(strategy_indices[strategy_name]),\n",
    "             'MCC': initial_mcc,\n",
    "             'Accuracy': initial_accuracy,\n",
    "             'F1 Score (weighted)': initial_f1\n",
    "         })\n",
    "    print(f\"Initial MCC: {initial_mcc:.4f}\")\n",
    "else:\n",
    "     print(\"Warning: Initial sample size is 0. Starting AL from 0 samples.\")\n",
    "\n",
    "# Get all indices from the training data pool (train_df)\n",
    "all_train_indices = np.arange(X_train.shape[0])\n",
    "\n",
    "# Start counting steps from 1 after the initial (step 0)\n",
    "if TOTAL_AL_SIMULATION_SAMPLES > INITIAL_SAMPLE_SIZE_ACTUAL and largest_step_size > 0:\n",
    "    # Calculate steps needed *after* the initial sample\n",
    "    samples_needed_after_init = TOTAL_AL_SIMULATION_SAMPLES - INITIAL_SAMPLE_SIZE_ACTUAL\n",
    "    max_steps = (samples_needed_after_init + largest_step_size - 1) // largest_step_size\n",
    "else:\n",
    "    max_steps = 0\n",
    "\n",
    "print(f\"Starting Active Learning Simulation for up to {max_steps} steps.\")\n",
    "print(f\"Target total samples per strategy: up to {TOTAL_AL_SIMULATION_SAMPLES}\")\n",
    "\n",
    "# --- Active Learning Simulation Loop ---\n",
    "for step in trange(1, max_steps + 1, desc=\"AL Steps\"):\n",
    "    # print(f\"\\n--- Step {step}/{max_steps} ---\")\n",
    "\n",
    "    # Keep track if any strategy added samples in this step\n",
    "    samples_added_in_step = False\n",
    "\n",
    "    # Iterate over all strategies\n",
    "    for strategy_name, current_indices in strategy_indices.items():\n",
    "\n",
    "        current_n_samples = len(current_indices)\n",
    "\n",
    "        # Check if this strategy has already reached its target or exhausted the pool\n",
    "        if current_n_samples >= TOTAL_AL_SIMULATION_SAMPLES or current_n_samples >= X_train.shape[0]:\n",
    "            # print(f\"{strategy_name}: Target sample count ({TOTAL_AL_SIMULATION_SAMPLES}) or pool size ({X_train.shape[0]}) already reached. Skipping step.\")\n",
    "            # Append the last result if no new samples were added in this step yet\n",
    "            last_result = next((r for r in reversed(results_list) if r['Strategy'] == strategy_name), None)\n",
    "            if last_result and last_result.get('Step', 0) < step: # Use .get with default 0 for safety\n",
    "                 results_list.append({\n",
    "                     'Strategy': strategy_name,\n",
    "                     'Step': step,\n",
    "                     'Number of Labeled Samples': last_result['Number of Labeled Samples'],\n",
    "                     'MCC': last_result['MCC'],\n",
    "                     'Accuracy': last_result['Accuracy'],\n",
    "                     'F1 Score (weighted)': last_result['F1 Score (weighted)']\n",
    "                 })\n",
    "            continue # Move to the next strategy\n",
    "\n",
    "        # Find indices NOT yet selected by THIS strategy (the unlabeled pool for this strategy)\n",
    "        unlabeled_mask = ~np.isin(all_train_indices, current_indices)\n",
    "        unlabeled_indices = all_train_indices[unlabeled_mask]\n",
    "\n",
    "        # --- Select New Indices based on Strategy ---\n",
    "        newly_selected_indices_original = [] # Indices relative to the original train_df pool\n",
    "\n",
    "        # Determine how many samples to add in this step for this strategy (usually STEP_SIZE)\n",
    "        # Ensure we don't add more than needed to reach the target or exhaust the pool\n",
    "        num_to_add = min(STEP_SIZE, TOTAL_AL_SIMULATION_SAMPLES - current_n_samples, X_train.shape[0] - current_n_samples)\n",
    "        \n",
    "        if len(unlabeled_indices) == 0 or num_to_add <= 0:\n",
    "            # No unlabeled data or 0 samples requested, skip selection for this strategy this step\n",
    "            # The plateauing logic outside this block will handle appending the last result if necessary.\n",
    "            # print(f\"{strategy_name}: No unlabeled data or samples requested (num_to_add={num_to_add}, unlabeled={len(unlabeled_indices)}). Skipping selection.\")\n",
    "            newly_selected_indices_relative = [] # Empty list means no new samples added\n",
    "        else:\n",
    "                # Get subsets for sampling functions (indices relative to the unlabeled_indices list)\n",
    "                # The sampling functions will return indices relative to X_unlabeled_subset / X_reduced_unlabeled_subset\n",
    "                X_unlabeled_subset = X_train.loc[unlabeled_indices] \n",
    "                X_reduced_unlabeled_subset = X_train.loc[unlabeled_indices]\n",
    "                \n",
    "                if strategy_name == 'Random':\n",
    "                    newly_selected_indices_relative = rng.choice(X_unlabeled_subset.shape[0], size=min(num_to_add, X_unlabeled_subset.shape[0]), replace=False).tolist()\n",
    "\n",
    "                elif strategy_name in ['Least Confidence', 'Margin of Confidence', 'Ratio of Confidence', 'Entropy']:\n",
    "                    # Train model on *current* labeled data to query uncertainty on unlabeled data\n",
    "                    if len(current_indices) == 0:\n",
    "                        # print(f\"Warning: {strategy_name} needs a trained model but no labeled data available. Falling back to random sampling for this step.\")\n",
    "                        newly_selected_indices_relative = rng.choice(X_unlabeled_subset.shape[0], size=min(num_to_add, X_unlabeled_subset.shape[0]), replace=False).tolist()\n",
    "                    else:\n",
    "                        model_for_query = LogisticRegression(random_state=RANDOM_STATE, n_jobs=-1, max_iter=1000, class_weight='balanced')\n",
    "                        try:\n",
    "                            model_for_query.fit(X_train.iloc[current_indices], y_train.iloc[current_indices])\n",
    "                        except ValueError as e:\n",
    "                            # print(f\"Warning: Could not train model for {strategy_name} at step {step} due to: {e}. Falling back to random sampling for this batch.\")\n",
    "                            newly_selected_indices_relative = rng.choice(X_unlabeled_subset.shape[0], size=min(num_to_add, X_unlabeled_subset.shape[0]), replace=False).tolist()\n",
    "                        else:\n",
    "                            if strategy_name == 'Least Confidence':\n",
    "                                newly_selected_indices_relative = least_confidence_sampling(X_unlabeled_subset, model_for_query, num_to_add)\n",
    "                            elif strategy_name == 'Margin of Confidence':\n",
    "                                newly_selected_indices_relative = margin_of_confidence_sampling(X_unlabeled_subset, model_for_query, num_to_add)\n",
    "                            elif strategy_name == 'Ratio of Confidence':\n",
    "                                newly_selected_indices_relative = ratio_of_confidence_sampling(X_unlabeled_subset, model_for_query, num_to_add)\n",
    "                            elif strategy_name == 'Entropy':\n",
    "                                newly_selected_indices_relative = entropy_sampling(X_unlabeled_subset, model_for_query, num_to_add)\n",
    "\n",
    "                elif strategy_name == 'Cluster-Based':\n",
    "                    # Number of clusters for sampling should ideally scale with the batch size\n",
    "                    n_clusters_for_sampling = min(num_to_add, X_reduced_unlabeled_subset.shape[0])\n",
    "                    if n_clusters_for_sampling > 0:\n",
    "                        newly_selected_indices_relative = optimized_cluster_sampling(\n",
    "                            X_reduced_unlabeled_subset, num_to_add, n_clusters_for_sampling,\n",
    "                            subsample_size=KMEANS_SUBSAMPLE_SIZE, random_state=RANDOM_STATE\n",
    "                        )\n",
    "                    elif num_to_add > 0: # If we needed samples but couldn't cluster meaningfully\n",
    "                        # print(f\"Warning: {strategy_name} cannot cluster {X_reduced_unlabeled_subset.shape[0]} samples into {n_clusters_for_sampling} clusters. Falling back to random sampling for this batch.\")\n",
    "                        newly_selected_indices_relative = rng.choice(X_unlabeled_subset.shape[0], size=min(num_to_add, X_unlabeled_subset.shape[0]), replace=False).tolist()\n",
    "                    # else: num_to_add was 0, no selection needed\n",
    "            \n",
    "\n",
    "        # Map relative indices back to original training set indices (from the all_train_indices pool)\n",
    "        # Only do this mapping if indices were actually selected\n",
    "        if newly_selected_indices_relative:\n",
    "                newly_selected_indices_original = unlabeled_indices[newly_selected_indices_relative].tolist()\n",
    "\n",
    "\n",
    "        # --- Update Labeled Indices and Evaluate ---\n",
    "\n",
    "        # Check if any indices were actually selected by the strategy logic\n",
    "        if newly_selected_indices_original:\n",
    "            # Add new indices to the strategy's selected pool\n",
    "            strategy_indices[strategy_name].extend(newly_selected_indices_original)\n",
    "\n",
    "            # Remove duplicates (shouldn't be any if sampled from unlabeled) and sort (optional)\n",
    "            # Using set() removes duplicates efficiently\n",
    "            strategy_indices[strategy_name] = sorted(list(set(strategy_indices[strategy_name])))\n",
    "\n",
    "            # Set flag indicating samples were added by at least one strategy in this step\n",
    "            samples_added_in_step = True\n",
    "\n",
    "            # Train and evaluate the model for this strategy with the updated labeled set\n",
    "            # print(f\"{strategy_name}: Training model with {len(strategy_indices[strategy_name])} samples...\")\n",
    "            accuracy, f1, mcc = train_and_evaluate_model(\n",
    "                X_train, y_train, X_val, y_val, strategy_indices[strategy_name]\n",
    "            )\n",
    "\n",
    "            # Record results\n",
    "            results_list.append({\n",
    "                'Strategy': strategy_name,\n",
    "                'Step': step,\n",
    "                'Number of Labeled Samples': len(strategy_indices[strategy_name]),\n",
    "                'MCC': mcc,\n",
    "                'Accuracy': accuracy,\n",
    "                'F1 Score (weighted)': f1\n",
    "            })\n",
    "            # print(f\"{strategy_name} MCC: {mcc:.4f}\")\n",
    "        else:# If no samples were added in this step for this specific strategy,\n",
    "             # append the last result if it's from a previous step to show plateau/stagnation\n",
    "             last_result = next((r for r in reversed(results_list) if r['Strategy'] == strategy_name), None)\n",
    "             if last_result and last_result.get('Step', 0) < step: \n",
    "                 results_list.append({\n",
    "                     'Strategy': strategy_name,\n",
    "                     'Step': step,\n",
    "                     'Number of Labeled Samples': last_result['Number of Labeled Samples'],\n",
    "                     'MCC': last_result['MCC'],\n",
    "                     'Accuracy': last_result['Accuracy'],\n",
    "                     'F1 Score (weighted)': last_result['F1 Score (weighted)']\n",
    "                 })\n",
    "\n",
    "    # Stop loop early if no samples were added by *any* strategy in this step\n",
    "    # This happens if all strategies have reached their target samples or the pool is exhausted\n",
    "    if not samples_added_in_step:\n",
    "         print(\"No samples added by any strategy in this step. Stopping simulation.\")\n",
    "         break\n",
    "\n",
    "print(\"Active Learning simulation loop finished.\")\n",
    "\n",
    "# Add final data points for plotting consistency (ensure lines extend to the end)\n",
    "if results_list:\n",
    "    max_step_recorded = max(r.get('Step', 0) for r in results_list)\n",
    "    # If the loop broke early, the final step should still be max_steps\n",
    "    final_plot_step = max(max_step_recorded, max_steps)\n",
    "else:\n",
    "    final_plot_step = max_steps # If no results, use max_steps\n",
    "\n",
    "\n",
    "print(\"Appending final data points for plot consistency...\")\n",
    "\n"
   ]
  },
  {
   "cell_type": "code",
   "execution_count": 13,
   "id": "453bde42",
   "metadata": {},
   "outputs": [
    {
     "name": "stdout",
     "output_type": "stream",
     "text": [
      "Final data points appended. Results DataFrame updated.\n",
      "Combined DataFrame for plotting created.\n"
     ]
    },
    {
     "name": "stderr",
     "output_type": "stream",
     "text": [
      "C:\\Users\\Tales\\AppData\\Local\\Temp\\ipykernel_22460\\1771927652.py:89: FutureWarning: The behavior of DataFrame concatenation with empty or all-NA entries is deprecated. In a future version, this will no longer exclude empty or all-NA columns when determining the result dtypes. To retain the old behavior, exclude the relevant entries before the concat operation.\n",
      "  plot_df = pd.concat([df_results, df_theoretical], ignore_index=True)\n"
     ]
    }
   ],
   "source": [
    "# Re-process dataframe after adding final points\n",
    "df_results = pd.DataFrame(results_list)\n",
    "for strategy_name in strategy_indices.keys():\n",
    "    last_result = next((r for r in reversed(results_list) if r['Strategy'] == strategy_name), None);\n",
    "\n",
    "    # Append a point at the final_plot_step only if the last point for this strategy is before it\n",
    "    if last_result is not None and last_result.get('Step', -1) < final_plot_step:\n",
    "         # Find the actual last result for this strategy (important if intermediate plateau points were added)\n",
    "         # Filter df_results for the current strategy, sort by steps, and get the last one\n",
    "         strategy_df = df_results[(df_results['Strategy'] == strategy_name)].sort_values(by='Step')\n",
    "         if not strategy_df.empty:\n",
    "             last_valid_point = strategy_df.iloc[-1].to_dict()\n",
    "             # Check if we are not duplicating the very last point if it's already at final_plot_step\n",
    "             if last_valid_point.get('Step', -1) < final_plot_step:\n",
    "                 results_list.append({\n",
    "                      'Strategy': strategy_name,\n",
    "                      'Step': final_plot_step, # Assign the final simulation step\n",
    "                      'Number of Labeled Samples': last_valid_point['Number of Labeled Samples'], # Samples remain the same\n",
    "                      'MCC': last_valid_point['MCC'], # Metrics remain the same\n",
    "                      'Accuracy': last_valid_point['Accuracy'],\n",
    "                      'F1 Score (weighted)': last_valid_point['F1 Score (weighted)']\n",
    "                  })\n",
    "    # Handle case where a strategy had no samples initially but should appear in plot legend at step 0\n",
    "    elif last_result is None and INITIAL_SAMPLE_SIZE_ACTUAL == 0 and 0 not in [r.get('Step',-1) for r in results_list if r.get('Strategy') == strategy_name]:\n",
    "         results_list.append({\n",
    "              'Strategy': strategy_name,\n",
    "              'Step': 0,\n",
    "              'Number of Labeled Samples': 0,\n",
    "              'MCC': 0.0,\n",
    "              'Accuracy': 0.0,\n",
    "              'F1 Score (weighted)': 0.0\n",
    "         })\n",
    "\n",
    "# Re-process dataframe after adding final points\n",
    "df_results = pd.DataFrame(results_list)\n",
    "# Remove potential duplicate entries at the same step/sample count caused by plateauing logic or final append\n",
    "df_results = df_results.drop_duplicates(subset=['Strategy', 'Step', 'Number of Labeled Samples']).reset_index(drop=True)\n",
    "# Sort again to ensure correct plotting\n",
    "df_results = df_results.sort_values(by=['Strategy', 'Number of Labeled Samples']).reset_index(drop=True)\n",
    "\n",
    "print(\"Final data points appended. Results DataFrame updated.\")\n",
    "\n",
    "# Recalculate theoretical curve based on potentially new max samples after adding final points\n",
    "min_samples_achieved = df_results[\"Number of Labeled Samples\"].min() if not df_results.empty else 0\n",
    "max_samples_achieved = df_results[\"Number of Labeled Samples\"].max() if not df_results.empty else TOTAL_AL_SIMULATION_SAMPLES\n",
    "\n",
    "# Ensure log calculation is possible (start from 1 if min_samples_achieved is 0 or 1)\n",
    "log_start = max(1, min_samples_achieved)\n",
    "\n",
    "# Create x values for the theoretical curve plot\n",
    "if max_samples_achieved > log_start:\n",
    "    x_vals_theoretical = np.linspace(log_start, max_samples_achieved, 100) # Generate 100 points\n",
    "else:\n",
    "    # If range is 0 or 1 point, create a simple x range for plotting\n",
    "    # Ensure there's at least one point if min_samples_achieved exists\n",
    "    if min_samples_achieved > 0:\n",
    "        x_vals_theoretical = np.array([min_samples_achieved, min_samples_achieved + 1])\n",
    "    else:\n",
    "        x_vals_theoretical = np.array([1.0, 2.0]) # Default if no data at all, use floats for consistency\n",
    "\n",
    "# Calculate theoretical curve values based on the overall range of MCC observed\n",
    "max_mcc_observed = df_results[\"MCC\"].max() if not df_results.empty else 0.0\n",
    "min_mcc_observed = df_results[\"MCC\"].min() if not df_results.empty else 0.0\n",
    "\n",
    "# Avoid division by zero if max_samples_achieved is the same as log_start\n",
    "if max_samples_achieved > log_start:\n",
    "    # Scale log curve between min and max observed MCC\n",
    "    # Ensure the log argument is positive\n",
    "    log_arg = np.maximum(x_vals_theoretical, log_start)\n",
    "    theoretical_curve_values = (\n",
    "        np.log(log_arg / log_start) / np.log(max_samples_achieved / log_start) * \n",
    "        (max_mcc_observed - min_mcc_observed) + \n",
    "        min_mcc_observed\n",
    "    )\n",
    "else: \n",
    "    # If only one effective sample point range, theoretical curve is just a flat line at the max observed MCC\n",
    "    theoretical_curve_values = np.full_like(x_vals_theoretical, max_mcc_observed)\n",
    "\n",
    "df_theoretical = pd.DataFrame({\n",
    "    \"Number of Labeled Samples\": x_vals_theoretical,\n",
    "    \"MCC\": theoretical_curve_values,\n",
    "    \"Strategy\": \"Theoretical\",\n",
    "    \"Step\": None, # No meaningful step for theoretical curve\n",
    "    \"Accuracy\": None,\n",
    "    \"F1 Score (weighted)\": None\n",
    "})\n",
    "\n",
    "# Concatenate the results and the theoretical curve for plotting\n",
    "plot_df = pd.concat([df_results, df_theoretical], ignore_index=True)\n",
    "\n",
    "print(\"Combined DataFrame for plotting created.\")"
   ]
  },
  {
   "cell_type": "code",
   "execution_count": 15,
   "id": "7d3b7803",
   "metadata": {},
   "outputs": [],
   "source": [
    "plot_df.to_csv('plot_tabular.csv', sep = ';', index=False)"
   ]
  },
  {
   "cell_type": "code",
   "execution_count": 2,
   "id": "plot_results",
   "metadata": {},
   "outputs": [
    {
     "data": {
      "application/vnd.plotly.v1+json": {
       "config": {
        "plotlyServerURL": "https://plot.ly"
       },
       "data": [
        {
         "customdata": [
          [
           "Cluster-Based",
           0.8965245754133393,
           0.9154967219573068
          ],
          [
           "Cluster-Based",
           0.8977617815768755,
           0.9161957662480412
          ],
          [
           "Cluster-Based",
           0.9074344843099764,
           0.9233749251913678
          ],
          [
           "Cluster-Based",
           0.9127207288269036,
           0.927211820223921
          ],
          [
           "Cluster-Based",
           0.9155325610167584,
           0.9292664814221954
          ],
          [
           "Cluster-Based",
           0.9182319199190192,
           0.9313848940969238
          ],
          [
           "Cluster-Based",
           0.9219435384096276,
           0.9341490550260112
          ],
          [
           "Cluster-Based",
           0.9218310651220336,
           0.9340883510062928
          ],
          [
           "Cluster-Based",
           0.9237431110111348,
           0.935497401386238
          ],
          [
           "Cluster-Based",
           0.9245304240242942,
           0.9360868598764904
          ],
          [
           "Cluster-Based",
           0.9271173096389608,
           0.93802723192567
          ],
          [
           "Cluster-Based",
           0.9281295692273084,
           0.9387981699833324
          ],
          [
           "Cluster-Based",
           0.9275672027893376,
           0.9384037542428468
          ],
          [
           "Cluster-Based",
           0.9282420425149028,
           0.9389111824156668
          ],
          [
           "Cluster-Based",
           0.928354515802497,
           0.93900151632852
          ],
          [
           "Cluster-Based",
           0.9281295692273084,
           0.9388320588839988
          ],
          [
           "Cluster-Based",
           0.9285794623776852,
           0.939178414154852
          ],
          [
           "Cluster-Based",
           0.928916882240468,
           0.9394344463083504
          ],
          [
           "Cluster-Based",
           0.9294792486784388,
           0.9398696500659786
          ],
          [
           "Cluster-Based",
           0.929029355528062,
           0.9395374040956388
          ],
          [
           "Cluster-Based",
           0.9291418288156564,
           0.9396242354458346
          ],
          [
           "Cluster-Based",
           0.9293667753908448,
           0.9397936775367216
          ],
          [
           "Cluster-Based",
           0.929591721966033,
           0.9399560764882168
          ],
          [
           "Cluster-Based",
           0.9292543021032504,
           0.9396993264285712
          ],
          [
           "Cluster-Based",
           0.9294792486784388,
           0.9398690163475878
          ],
          [
           "Cluster-Based",
           0.9297041952536272,
           0.9400427809827372
          ],
          [
           "Cluster-Based",
           0.9297041952536272,
           0.9400426089359508
          ],
          [
           "Cluster-Based",
           0.9298166685412216,
           0.9401295120530564
          ],
          [
           "Cluster-Based",
           0.9300416151164098,
           0.940303523223355
          ],
          [
           "Cluster-Based",
           0.9299291418288156,
           0.940228877704792
          ],
          [
           "Cluster-Based",
           0.9299291418288156,
           0.940228877704792
          ],
          [
           "Cluster-Based",
           0.9299291418288156,
           0.940228877704792
          ],
          [
           "Cluster-Based",
           0.9299291418288156,
           0.940228877704792
          ],
          [
           "Cluster-Based",
           0.9299291418288156,
           0.940228877704792
          ],
          [
           "Cluster-Based",
           0.9299291418288156,
           0.940228877704792
          ],
          [
           "Cluster-Based",
           0.9300416151164098,
           0.940303994415413
          ],
          [
           "Cluster-Based",
           0.9300416151164098,
           0.9403039980072022
          ],
          [
           "Cluster-Based",
           0.9300416151164098,
           0.9403039980072022
          ],
          [
           "Cluster-Based",
           0.9300416151164098,
           0.9403044829130148
          ],
          [
           "Cluster-Based",
           0.9300416151164098,
           0.9403039980072022
          ],
          [
           "Cluster-Based",
           0.930154088404004,
           0.9403790951302746
          ],
          [
           "Cluster-Based",
           0.930154088404004,
           0.9403796964353583
          ],
          [
           "Cluster-Based",
           0.930154088404004,
           0.9403796964353583
          ],
          [
           "Cluster-Based",
           0.930154088404004,
           0.9403794936482538
          ],
          [
           "Cluster-Based",
           0.930154088404004,
           0.9403793349720428
          ],
          [
           "Cluster-Based",
           0.930154088404004,
           0.9403793349720428
          ],
          [
           "Cluster-Based",
           0.930154088404004,
           0.9403793349720428
          ],
          [
           "Cluster-Based",
           0.9300416151164098,
           0.9403043343525412
          ],
          [
           "Cluster-Based",
           0.9300416151164098,
           0.9403039755028236
          ],
          [
           "Cluster-Based",
           0.930154088404004,
           0.9403790951302746
          ],
          [
           "Cluster-Based",
           0.930154088404004,
           0.9403796442691856
          ],
          [
           "Cluster-Based",
           0.9302665616915984,
           0.9404546832127746
          ],
          [
           "Cluster-Based",
           0.930154088404004,
           0.9403796442691856
          ],
          [
           "Cluster-Based",
           0.9302665616915984,
           0.9404546832127746
          ],
          [
           "Cluster-Based",
           0.930154088404004,
           0.9403796442691856
          ],
          [
           "Cluster-Based",
           0.930154088404004,
           0.940380065012267
          ],
          [
           "Cluster-Based",
           0.930154088404004,
           0.940380065012267
          ],
          [
           "Cluster-Based",
           0.930154088404004,
           0.940380065012267
          ],
          [
           "Cluster-Based",
           0.930154088404004,
           0.940380065012267
          ],
          [
           "Cluster-Based",
           0.930154088404004,
           0.940380065012267
          ],
          [
           "Cluster-Based",
           0.930154088404004,
           0.9403796442691856
          ],
          [
           "Cluster-Based",
           0.930154088404004,
           0.940380065012267
          ],
          [
           "Cluster-Based",
           0.930154088404004,
           0.940380065012267
          ],
          [
           "Cluster-Based",
           0.9302665616915984,
           0.9404551029788264
          ],
          [
           "Cluster-Based",
           0.9302665616915984,
           0.9404551029788264
          ],
          [
           "Cluster-Based",
           0.9302665616915984,
           0.9404551029788264
          ],
          [
           "Cluster-Based",
           0.9302665616915984,
           0.9404546832127746
          ],
          [
           "Cluster-Based",
           0.9302665616915984,
           0.9404551029788264
          ],
          [
           "Cluster-Based",
           0.9302665616915984,
           0.9404551029788264
          ],
          [
           "Cluster-Based",
           0.9302665616915984,
           0.9404551029788264
          ],
          [
           "Cluster-Based",
           0.9302665616915984,
           0.9404551029788264
          ],
          [
           "Cluster-Based",
           0.9302665616915984,
           0.9404551029788264
          ],
          [
           "Cluster-Based",
           0.9302665616915984,
           0.9404551029788264
          ],
          [
           "Cluster-Based",
           0.9302665616915984,
           0.9404551029788264
          ],
          [
           "Cluster-Based",
           0.9302665616915984,
           0.9404551029788264
          ],
          [
           "Cluster-Based",
           0.9302665616915984,
           0.9404551029788264
          ],
          [
           "Cluster-Based",
           0.9302665616915984,
           0.9404551029788264
          ],
          [
           "Cluster-Based",
           0.9302665616915984,
           0.9404551029788264
          ],
          [
           "Cluster-Based",
           0.9302665616915984,
           0.9404551029788264
          ],
          [
           "Cluster-Based",
           0.930154088404004,
           0.940380065012267
          ],
          [
           "Cluster-Based",
           0.930154088404004,
           0.940380065012267
          ],
          [
           "Cluster-Based",
           0.9302665616915984,
           0.9404551029788264
          ],
          [
           "Cluster-Based",
           0.9300416151164098,
           0.9403039980072022
          ],
          [
           "Cluster-Based",
           0.9300416151164098,
           0.9403039359002004
          ],
          [
           "Cluster-Based",
           0.930154088404004,
           0.940379343380407
          ],
          [
           "Cluster-Based",
           0.930154088404004,
           0.9403796442691856
          ],
          [
           "Cluster-Based",
           0.930154088404004,
           0.9403796442691856
          ],
          [
           "Cluster-Based",
           0.9302665616915984,
           0.9404546832127746
          ],
          [
           "Cluster-Based",
           0.9302665616915984,
           0.9404546832127746
          ],
          [
           "Cluster-Based",
           0.9302665616915984,
           0.9404546832127746
          ],
          [
           "Cluster-Based",
           0.9302665616915984,
           0.9404546832127746
          ],
          [
           "Cluster-Based",
           0.9302665616915984,
           0.9404546832127746
          ],
          [
           "Cluster-Based",
           0.9302665616915984,
           0.9404546832127746
          ],
          [
           "Cluster-Based",
           0.930154088404004,
           0.9403796442691856
          ],
          [
           "Cluster-Based",
           0.930154088404004,
           0.9403796442691856
          ],
          [
           "Cluster-Based",
           0.9302665616915984,
           0.9404546832127746
          ],
          [
           "Cluster-Based",
           0.9302665616915984,
           0.9404546832127746
          ],
          [
           "Cluster-Based",
           0.9302665616915984,
           0.9404546832127746
          ],
          [
           "Cluster-Based",
           0.9302665616915984,
           0.9404546832127746
          ],
          [
           "Cluster-Based",
           0.930154088404004,
           0.9403796442691856
          ],
          [
           "Cluster-Based",
           0.9302665616915984,
           0.9404546832127746
          ],
          [
           "Cluster-Based",
           0.9302665616915984,
           0.9404546832127746
          ],
          [
           "Cluster-Based",
           0.9302665616915984,
           0.9404546832127746
          ],
          [
           "Cluster-Based",
           0.9302665616915984,
           0.9404546832127746
          ],
          [
           "Cluster-Based",
           0.9302665616915984,
           0.940455024097872
          ],
          [
           "Cluster-Based",
           0.9302665616915984,
           0.940455024097872
          ],
          [
           "Cluster-Based",
           0.9302665616915984,
           0.940455024097872
          ],
          [
           "Cluster-Based",
           0.9302665616915984,
           0.940455024097872
          ],
          [
           "Cluster-Based",
           0.9302665616915984,
           0.940455024097872
          ],
          [
           "Cluster-Based",
           0.9302665616915984,
           0.940455024097872
          ],
          [
           "Cluster-Based",
           0.9302665616915984,
           0.940455024097872
          ],
          [
           "Cluster-Based",
           0.9302665616915984,
           0.940455024097872
          ],
          [
           "Cluster-Based",
           0.9302665616915984,
           0.940455024097872
          ],
          [
           "Cluster-Based",
           0.9302665616915984,
           0.940455024097872
          ],
          [
           "Cluster-Based",
           0.9302665616915984,
           0.940455024097872
          ],
          [
           "Cluster-Based",
           0.9302665616915984,
           0.940455024097872
          ],
          [
           "Cluster-Based",
           0.930154088404004,
           0.9403800239519386
          ],
          [
           "Cluster-Based",
           0.9302665616915984,
           0.940455024097872
          ],
          [
           "Cluster-Based",
           0.9302665616915984,
           0.940455024097872
          ],
          [
           "Cluster-Based",
           0.9302665616915984,
           0.940455024097872
          ],
          [
           "Cluster-Based",
           0.9302665616915984,
           0.940455024097872
          ],
          [
           "Cluster-Based",
           0.930154088404004,
           0.9403794892118548
          ],
          [
           "Cluster-Based",
           0.930154088404004,
           0.9403794892118548
          ],
          [
           "Cluster-Based",
           0.930154088404004,
           0.9403800239519386
          ],
          [
           "Cluster-Based",
           0.930154088404004,
           0.9403800239519386
          ],
          [
           "Cluster-Based",
           0.930154088404004,
           0.9403800239519386
          ],
          [
           "Cluster-Based",
           0.930154088404004,
           0.9403800239519386
          ],
          [
           "Cluster-Based",
           0.930154088404004,
           0.9403800239519386
          ],
          [
           "Cluster-Based",
           0.930154088404004,
           0.9403800239519386
          ],
          [
           "Cluster-Based",
           0.930154088404004,
           0.9403800239519386
          ],
          [
           "Cluster-Based",
           0.930154088404004,
           0.9403800239519386
          ],
          [
           "Cluster-Based",
           0.930154088404004,
           0.9403800239519386
          ],
          [
           "Cluster-Based",
           0.930154088404004,
           0.9403800239519386
          ],
          [
           "Cluster-Based",
           0.930154088404004,
           0.9403800239519386
          ],
          [
           "Cluster-Based",
           0.930154088404004,
           0.9403800239519386
          ],
          [
           "Cluster-Based",
           0.930154088404004,
           0.9403800239519386
          ],
          [
           "Cluster-Based",
           0.930154088404004,
           0.9403800239519386
          ],
          [
           "Cluster-Based",
           0.930154088404004,
           0.9403800239519386
          ],
          [
           "Cluster-Based",
           0.930154088404004,
           0.9403800239519386
          ],
          [
           "Cluster-Based",
           0.930154088404004,
           0.9403794892118548
          ],
          [
           "Cluster-Based",
           0.930154088404004,
           0.9403800239519386
          ],
          [
           "Cluster-Based",
           0.930154088404004,
           0.9403800239519386
          ],
          [
           "Cluster-Based",
           0.930154088404004,
           0.9403800239519386
          ],
          [
           "Cluster-Based",
           0.930154088404004,
           0.9403800239519386
          ],
          [
           "Cluster-Based",
           0.930154088404004,
           0.9403800239519386
          ],
          [
           "Cluster-Based",
           0.930154088404004,
           0.9403800239519386
          ],
          [
           "Cluster-Based",
           0.930154088404004,
           0.9403800239519386
          ],
          [
           "Cluster-Based",
           0.930154088404004,
           0.9403800239519386
          ],
          [
           "Cluster-Based",
           0.930154088404004,
           0.9403800239519386
          ],
          [
           "Cluster-Based",
           0.930154088404004,
           0.9403800239519386
          ],
          [
           "Cluster-Based",
           0.930154088404004,
           0.9403800239519386
          ],
          [
           "Cluster-Based",
           0.930154088404004,
           0.9403800239519386
          ],
          [
           "Cluster-Based",
           0.930154088404004,
           0.9403800239519386
          ],
          [
           "Cluster-Based",
           0.930154088404004,
           0.9403800239519386
          ],
          [
           "Cluster-Based",
           0.930154088404004,
           0.9403800239519386
          ],
          [
           "Cluster-Based",
           0.930154088404004,
           0.9403800239519386
          ],
          [
           "Cluster-Based",
           0.930154088404004,
           0.9403800239519386
          ],
          [
           "Cluster-Based",
           0.930154088404004,
           0.9403800239519386
          ],
          [
           "Cluster-Based",
           0.930154088404004,
           0.9403800239519386
          ],
          [
           "Cluster-Based",
           0.930154088404004,
           0.9403800239519386
          ],
          [
           "Cluster-Based",
           0.930154088404004,
           0.9403800239519386
          ],
          [
           "Cluster-Based",
           0.930154088404004,
           0.9403800239519386
          ],
          [
           "Cluster-Based",
           0.930154088404004,
           0.9403800239519386
          ],
          [
           "Cluster-Based",
           0.930154088404004,
           0.9403800239519386
          ],
          [
           "Cluster-Based",
           0.930154088404004,
           0.9403800239519386
          ],
          [
           "Cluster-Based",
           0.930154088404004,
           0.9403800239519386
          ],
          [
           "Cluster-Based",
           0.930154088404004,
           0.9403800239519386
          ],
          [
           "Cluster-Based",
           0.930154088404004,
           0.9403800239519386
          ],
          [
           "Cluster-Based",
           0.930154088404004,
           0.9403800239519386
          ],
          [
           "Cluster-Based",
           0.930154088404004,
           0.9403800239519386
          ],
          [
           "Cluster-Based",
           0.930154088404004,
           0.9403800239519386
          ],
          [
           "Cluster-Based",
           0.930154088404004,
           0.9403800239519386
          ],
          [
           "Cluster-Based",
           0.930154088404004,
           0.9403800239519386
          ],
          [
           "Cluster-Based",
           0.930154088404004,
           0.9403800239519386
          ],
          [
           "Cluster-Based",
           0.930154088404004,
           0.9403800239519386
          ],
          [
           "Cluster-Based",
           0.930154088404004,
           0.9403800239519386
          ],
          [
           "Cluster-Based",
           0.930154088404004,
           0.9403800239519386
          ],
          [
           "Cluster-Based",
           0.9302665616915984,
           0.9404546970512648
          ],
          [
           "Cluster-Based",
           0.930154088404004,
           0.9403800239519386
          ],
          [
           "Cluster-Based",
           0.930154088404004,
           0.9403800239519386
          ],
          [
           "Cluster-Based",
           0.930154088404004,
           0.9403800239519386
          ],
          [
           "Cluster-Based",
           0.930154088404004,
           0.9403800239519386
          ],
          [
           "Cluster-Based",
           0.930154088404004,
           0.9403800239519386
          ],
          [
           "Cluster-Based",
           0.930154088404004,
           0.9403800239519386
          ],
          [
           "Cluster-Based",
           0.930154088404004,
           0.9403800239519386
          ],
          [
           "Cluster-Based",
           0.930154088404004,
           0.9403794892118548
          ],
          [
           "Cluster-Based",
           0.930154088404004,
           0.9403800239519386
          ],
          [
           "Cluster-Based",
           0.930154088404004,
           0.9403800239519386
          ],
          [
           "Cluster-Based",
           0.930154088404004,
           0.9403794892118548
          ],
          [
           "Cluster-Based",
           0.9302665616915984,
           0.9404546970512648
          ],
          [
           "Cluster-Based",
           0.9302665616915984,
           0.9404546970512648
          ],
          [
           "Cluster-Based",
           0.9302665616915984,
           0.9404546970512648
          ],
          [
           "Cluster-Based",
           0.9302665616915984,
           0.9404546970512648
          ],
          [
           "Cluster-Based",
           0.9302665616915984,
           0.9404546970512648
          ],
          [
           "Cluster-Based",
           0.9302665616915984,
           0.9404546970512648
          ],
          [
           "Cluster-Based",
           0.9302665616915984,
           0.9404546970512648
          ],
          [
           "Cluster-Based",
           0.9302665616915984,
           0.9404546970512648
          ],
          [
           "Cluster-Based",
           0.9302665616915984,
           0.9404546970512648
          ],
          [
           "Cluster-Based",
           0.9302665616915984,
           0.9404546970512648
          ],
          [
           "Cluster-Based",
           0.9302665616915984,
           0.9404546970512648
          ],
          [
           "Cluster-Based",
           0.9302665616915984,
           0.9404546970512648
          ],
          [
           "Cluster-Based",
           0.9302665616915984,
           0.9404546970512648
          ],
          [
           "Cluster-Based",
           0.9302665616915984,
           0.9404546970512648
          ],
          [
           "Cluster-Based",
           0.9302665616915984,
           0.9404546970512648
          ],
          [
           "Cluster-Based",
           0.9302665616915984,
           0.9404546970512648
          ],
          [
           "Cluster-Based",
           0.9302665616915984,
           0.9404546970512648
          ],
          [
           "Cluster-Based",
           0.9302665616915984,
           0.9404546970512648
          ],
          [
           "Cluster-Based",
           0.9302665616915984,
           0.9404546970512648
          ],
          [
           "Cluster-Based",
           0.9302665616915984,
           0.9404546970512648
          ],
          [
           "Cluster-Based",
           0.930154088404004,
           0.9403800239519386
          ],
          [
           "Cluster-Based",
           0.9302665616915984,
           0.9404546970512648
          ],
          [
           "Cluster-Based",
           0.9302665616915984,
           0.9404546970512648
          ],
          [
           "Cluster-Based",
           0.9302665616915984,
           0.9404546970512648
          ],
          [
           "Cluster-Based",
           0.9302665616915984,
           0.9404546970512648
          ],
          [
           "Cluster-Based",
           0.9302665616915984,
           0.9404546970512648
          ],
          [
           "Cluster-Based",
           0.9302665616915984,
           0.9404546970512648
          ],
          [
           "Cluster-Based",
           0.9302665616915984,
           0.9404546970512648
          ],
          [
           "Cluster-Based",
           0.9302665616915984,
           0.9404546970512648
          ],
          [
           "Cluster-Based",
           0.9302665616915984,
           0.9404546970512648
          ],
          [
           "Cluster-Based",
           0.9302665616915984,
           0.9404546970512648
          ],
          [
           "Cluster-Based",
           0.9302665616915984,
           0.9404546970512648
          ],
          [
           "Cluster-Based",
           0.9302665616915984,
           0.9404546970512648
          ],
          [
           "Cluster-Based",
           0.9302665616915984,
           0.9404546970512648
          ],
          [
           "Cluster-Based",
           0.9302665616915984,
           0.9404546970512648
          ],
          [
           "Cluster-Based",
           0.9302665616915984,
           0.9404546970512648
          ],
          [
           "Cluster-Based",
           0.9302665616915984,
           0.9404546970512648
          ],
          [
           "Cluster-Based",
           0.9302665616915984,
           0.9404546970512648
          ],
          [
           "Cluster-Based",
           0.9302665616915984,
           0.9404546970512648
          ],
          [
           "Cluster-Based",
           0.9302665616915984,
           0.9404546970512648
          ],
          [
           "Cluster-Based",
           0.9302665616915984,
           0.9404546970512648
          ],
          [
           "Cluster-Based",
           0.9302665616915984,
           0.9404546970512648
          ],
          [
           "Cluster-Based",
           0.9302665616915984,
           0.9404546970512648
          ],
          [
           "Cluster-Based",
           0.9302665616915984,
           0.9404546970512648
          ],
          [
           "Cluster-Based",
           0.9302665616915984,
           0.9404546970512648
          ],
          [
           "Cluster-Based",
           0.9302665616915984,
           0.9404546970512648
          ],
          [
           "Cluster-Based",
           0.9302665616915984,
           0.9404546970512648
          ],
          [
           "Cluster-Based",
           0.9302665616915984,
           0.9404546970512648
          ],
          [
           "Cluster-Based",
           0.9302665616915984,
           0.9404546970512648
          ],
          [
           "Cluster-Based",
           0.9302665616915984,
           0.9404546970512648
          ],
          [
           "Cluster-Based",
           0.9302665616915984,
           0.9404546970512648
          ],
          [
           "Cluster-Based",
           0.9302665616915984,
           0.9404546970512648
          ],
          [
           "Cluster-Based",
           0.9302665616915984,
           0.9404546970512648
          ],
          [
           "Cluster-Based",
           0.9302665616915984,
           0.9404546970512648
          ],
          [
           "Cluster-Based",
           0.9302665616915984,
           0.9404546970512648
          ],
          [
           "Cluster-Based",
           0.9302665616915984,
           0.9404546970512648
          ],
          [
           "Cluster-Based",
           0.9302665616915984,
           0.9404546970512648
          ],
          [
           "Cluster-Based",
           0.9302665616915984,
           0.9404546970512648
          ],
          [
           "Cluster-Based",
           0.9302665616915984,
           0.9404546970512648
          ],
          [
           "Cluster-Based",
           0.9302665616915984,
           0.9404546970512648
          ],
          [
           "Cluster-Based",
           0.9302665616915984,
           0.9404546970512648
          ],
          [
           "Cluster-Based",
           0.9302665616915984,
           0.9404546970512648
          ],
          [
           "Cluster-Based",
           0.9302665616915984,
           0.9404546970512648
          ],
          [
           "Cluster-Based",
           0.9302665616915984,
           0.9404546970512648
          ],
          [
           "Cluster-Based",
           0.9302665616915984,
           0.9404546970512648
          ],
          [
           "Cluster-Based",
           0.9302665616915984,
           0.9404546970512648
          ],
          [
           "Cluster-Based",
           0.9302665616915984,
           0.9404546970512648
          ],
          [
           "Cluster-Based",
           0.9302665616915984,
           0.9404546970512648
          ],
          [
           "Cluster-Based",
           0.9302665616915984,
           0.9404546970512648
          ],
          [
           "Cluster-Based",
           0.9302665616915984,
           0.9404546970512648
          ],
          [
           "Cluster-Based",
           0.9302665616915984,
           0.9404546970512648
          ],
          [
           "Cluster-Based",
           0.9302665616915984,
           0.9404546970512648
          ],
          [
           "Cluster-Based",
           0.9302665616915984,
           0.9404546970512648
          ],
          [
           "Cluster-Based",
           0.9302665616915984,
           0.9404546970512648
          ],
          [
           "Cluster-Based",
           0.9302665616915984,
           0.9404546970512648
          ],
          [
           "Cluster-Based",
           0.9302665616915984,
           0.9404546970512648
          ],
          [
           "Cluster-Based",
           0.9302665616915984,
           0.9404546970512648
          ],
          [
           "Cluster-Based",
           0.9302665616915984,
           0.9404546970512648
          ],
          [
           "Cluster-Based",
           0.9302665616915984,
           0.9404546970512648
          ],
          [
           "Cluster-Based",
           0.9302665616915984,
           0.9404546970512648
          ],
          [
           "Cluster-Based",
           0.9302665616915984,
           0.9404546970512648
          ],
          [
           "Cluster-Based",
           0.9302665616915984,
           0.9404546970512648
          ],
          [
           "Cluster-Based",
           0.9302665616915984,
           0.9404546970512648
          ],
          [
           "Cluster-Based",
           0.9302665616915984,
           0.9404546970512648
          ],
          [
           "Cluster-Based",
           0.9302665616915984,
           0.9404546970512648
          ],
          [
           "Cluster-Based",
           0.9302665616915984,
           0.9404546970512648
          ],
          [
           "Cluster-Based",
           0.9302665616915984,
           0.9404546970512648
          ],
          [
           "Cluster-Based",
           0.9302665616915984,
           0.9404546970512648
          ],
          [
           "Cluster-Based",
           0.9302665616915984,
           0.9404546970512648
          ],
          [
           "Cluster-Based",
           0.9302665616915984,
           0.9404546970512648
          ],
          [
           "Cluster-Based",
           0.9302665616915984,
           0.9404546970512648
          ],
          [
           "Cluster-Based",
           0.9302665616915984,
           0.9404546970512648
          ],
          [
           "Cluster-Based",
           0.9302665616915984,
           0.9404546970512648
          ],
          [
           "Cluster-Based",
           0.9302665616915984,
           0.9404546970512648
          ],
          [
           "Cluster-Based",
           0.9302665616915984,
           0.9404546970512648
          ],
          [
           "Cluster-Based",
           0.9302665616915984,
           0.9404546970512648
          ],
          [
           "Cluster-Based",
           0.9302665616915984,
           0.9404546970512648
          ],
          [
           "Cluster-Based",
           0.9302665616915984,
           0.9404546970512648
          ],
          [
           "Cluster-Based",
           0.9302665616915984,
           0.9404546970512648
          ],
          [
           "Cluster-Based",
           0.9302665616915984,
           0.9404546970512648
          ],
          [
           "Cluster-Based",
           0.9302665616915984,
           0.9404546970512648
          ],
          [
           "Cluster-Based",
           0.9302665616915984,
           0.9404546970512648
          ],
          [
           "Cluster-Based",
           0.9302665616915984,
           0.9404546970512648
          ],
          [
           "Cluster-Based",
           0.9302665616915984,
           0.9404546970512648
          ],
          [
           "Cluster-Based",
           0.9302665616915984,
           0.9404546970512648
          ],
          [
           "Cluster-Based",
           0.9302665616915984,
           0.9404546970512648
          ],
          [
           "Cluster-Based",
           0.9302665616915984,
           0.9404546970512648
          ],
          [
           "Cluster-Based",
           0.9302665616915984,
           0.9404546970512648
          ],
          [
           "Cluster-Based",
           0.9302665616915984,
           0.9404546970512648
          ],
          [
           "Cluster-Based",
           0.9302665616915984,
           0.9404546970512648
          ],
          [
           "Cluster-Based",
           0.9302665616915984,
           0.9404546970512648
          ],
          [
           "Cluster-Based",
           0.9302665616915984,
           0.9404546970512648
          ],
          [
           "Cluster-Based",
           0.9302665616915984,
           0.9404546970512648
          ],
          [
           "Cluster-Based",
           0.9302665616915984,
           0.9404546970512648
          ],
          [
           "Cluster-Based",
           0.9302665616915984,
           0.9404546970512648
          ],
          [
           "Cluster-Based",
           0.9302665616915984,
           0.9404546970512648
          ],
          [
           "Cluster-Based",
           0.9302665616915984,
           0.9404546970512648
          ],
          [
           "Cluster-Based",
           0.9302665616915984,
           0.9404546970512648
          ],
          [
           "Cluster-Based",
           0.9302665616915984,
           0.9404546970512648
          ],
          [
           "Cluster-Based",
           0.9302665616915984,
           0.9404546970512648
          ],
          [
           "Cluster-Based",
           0.9302665616915984,
           0.9404546970512648
          ],
          [
           "Cluster-Based",
           0.9302665616915984,
           0.9404546970512648
          ],
          [
           "Cluster-Based",
           0.9302665616915984,
           0.9404546970512648
          ],
          [
           "Cluster-Based",
           0.9302665616915984,
           0.9404546970512648
          ],
          [
           "Cluster-Based",
           0.9302665616915984,
           0.9404546970512648
          ],
          [
           "Cluster-Based",
           0.9302665616915984,
           0.9404546970512648
          ],
          [
           "Cluster-Based",
           0.9302665616915984,
           0.9404546970512648
          ],
          [
           "Cluster-Based",
           0.9302665616915984,
           0.9404546970512648
          ],
          [
           "Cluster-Based",
           0.9302665616915984,
           0.9404546970512648
          ],
          [
           "Cluster-Based",
           0.9302665616915984,
           0.9404546970512648
          ],
          [
           "Cluster-Based",
           0.9302665616915984,
           0.9404546970512648
          ],
          [
           "Cluster-Based",
           0.9302665616915984,
           0.9404546970512648
          ],
          [
           "Cluster-Based",
           0.9302665616915984,
           0.9404546970512648
          ],
          [
           "Cluster-Based",
           0.9302665616915984,
           0.9404546970512648
          ],
          [
           "Cluster-Based",
           0.9302665616915984,
           0.9404546970512648
          ],
          [
           "Cluster-Based",
           0.9302665616915984,
           0.9404546970512648
          ],
          [
           "Cluster-Based",
           0.9302665616915984,
           0.9404546970512648
          ],
          [
           "Cluster-Based",
           0.9302665616915984,
           0.9404546970512648
          ],
          [
           "Cluster-Based",
           0.9302665616915984,
           0.9404546970512648
          ],
          [
           "Cluster-Based",
           0.9302665616915984,
           0.9404546970512648
          ],
          [
           "Cluster-Based",
           0.9302665616915984,
           0.9404546970512648
          ],
          [
           "Cluster-Based",
           0.9302665616915984,
           0.9404546970512648
          ],
          [
           "Cluster-Based",
           0.9302665616915984,
           0.9404546970512648
          ],
          [
           "Cluster-Based",
           0.9302665616915984,
           0.9404546970512648
          ],
          [
           "Cluster-Based",
           0.9302665616915984,
           0.9404546970512648
          ],
          [
           "Cluster-Based",
           0.9302665616915984,
           0.9404546970512648
          ],
          [
           "Cluster-Based",
           0.9302665616915984,
           0.9404546970512648
          ],
          [
           "Cluster-Based",
           0.9302665616915984,
           0.9404546970512648
          ],
          [
           "Cluster-Based",
           0.9302665616915984,
           0.9404546970512648
          ],
          [
           "Cluster-Based",
           0.9302665616915984,
           0.9404546970512648
          ],
          [
           "Cluster-Based",
           0.9302665616915984,
           0.9404546970512648
          ],
          [
           "Cluster-Based",
           0.9302665616915984,
           0.9404546970512648
          ],
          [
           "Cluster-Based",
           0.9302665616915984,
           0.9404546970512648
          ],
          [
           "Cluster-Based",
           0.9302665616915984,
           0.9404546970512648
          ],
          [
           "Cluster-Based",
           0.9302665616915984,
           0.9404546970512648
          ],
          [
           "Cluster-Based",
           0.9302665616915984,
           0.9404546970512648
          ],
          [
           "Cluster-Based",
           0.9302665616915984,
           0.9404546970512648
          ],
          [
           "Cluster-Based",
           0.9302665616915984,
           0.9404546970512648
          ],
          [
           "Cluster-Based",
           0.9302665616915984,
           0.9404546970512648
          ],
          [
           "Cluster-Based",
           0.9302665616915984,
           0.9404546970512648
          ],
          [
           "Cluster-Based",
           0.9302665616915984,
           0.9404546970512648
          ],
          [
           "Cluster-Based",
           0.9302665616915984,
           0.9404546970512648
          ],
          [
           "Cluster-Based",
           0.9302665616915984,
           0.9404546970512648
          ],
          [
           "Cluster-Based",
           0.9302665616915984,
           0.9404546970512648
          ],
          [
           "Cluster-Based",
           0.9302665616915984,
           0.9404546970512648
          ]
         ],
         "hovertemplate": "Strategy=%{customdata[0]}<br>Number of Labeled Samples=%{x:.0f}<br>MCC=%{y:.4f}<br>Accuracy=%{customdata[1]:.4f}<br>F1 Score (weighted)=%{customdata[2]:.4f}<extra></extra>",
         "legendgroup": "Cluster-Based",
         "line": {
          "color": "blueviolet",
          "dash": "solid"
         },
         "marker": {
          "symbol": "circle"
         },
         "mode": "lines+markers",
         "name": "Cluster-Based",
         "showlegend": true,
         "type": "scattergl",
         "x": {
          "bdata": "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",
          "dtype": "f8"
         },
         "xaxis": "x",
         "y": {
          "bdata": "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",
          "dtype": "f8"
         },
         "yaxis": "y"
        },
        {
         "customdata": [
          [
           "Entropy",
           0.8965245754133393,
           0.9154967219573068
          ],
          [
           "Entropy",
           0.9090091103362952,
           0.9249275064007736
          ],
          [
           "Entropy",
           0.928354515802497,
           0.9390270033416704
          ],
          [
           "Entropy",
           0.9298166685412216,
           0.9401561457076666
          ],
          [
           "Entropy",
           0.9298166685412216,
           0.9401570503288827
          ],
          [
           "Entropy",
           0.9298166685412216,
           0.9401687340464648
          ],
          [
           "Entropy",
           0.9298166685412216,
           0.9401687340464648
          ],
          [
           "Entropy",
           0.9298166685412216,
           0.9401687340464648
          ],
          [
           "Entropy",
           0.9298166685412216,
           0.9401687340464648
          ],
          [
           "Entropy",
           0.9298166685412216,
           0.9401687340464648
          ],
          [
           "Entropy",
           0.9298166685412216,
           0.9401687340464648
          ],
          [
           "Entropy",
           0.9298166685412216,
           0.9401687340464648
          ],
          [
           "Entropy",
           0.929591721966033,
           0.9399291642260806
          ],
          [
           "Entropy",
           0.9294792486784388,
           0.939797918120322
          ],
          [
           "Entropy",
           0.9291418288156564,
           0.9394446700266628
          ],
          [
           "Entropy",
           0.929029355528062,
           0.9392172022215594
          ],
          [
           "Entropy",
           0.9291418288156564,
           0.9391000177811364
          ],
          [
           "Entropy",
           0.929029355528062,
           0.9381242919845818
          ],
          [
           "Entropy",
           0.927792149364526,
           0.9363065024647148
          ],
          [
           "Entropy",
           0.92790462265212,
           0.9357733553582572
          ],
          [
           "Entropy",
           0.9293667753908448,
           0.936702203609686
          ],
          [
           "Entropy",
           0.9292543021032504,
           0.9362848394725022
          ],
          [
           "Entropy",
           0.9293667753908448,
           0.9364399218754454
          ],
          [
           "Entropy",
           0.9294792486784388,
           0.93644267884173
          ],
          [
           "Entropy",
           0.9297041952536272,
           0.9366725268997176
          ],
          [
           "Entropy",
           0.929591721966033,
           0.936535438239352
          ],
          [
           "Entropy",
           0.9294792486784388,
           0.9364442960933314
          ],
          [
           "Entropy",
           0.9293667753908448,
           0.936348247182626
          ],
          [
           "Entropy",
           0.9293667753908448,
           0.9363498920337904
          ],
          [
           "Entropy",
           0.9293667753908448,
           0.9363498920337904
          ],
          [
           "Entropy",
           0.9297041952536272,
           0.9366247131501316
          ],
          [
           "Entropy",
           0.929591721966033,
           0.936460014273252
          ],
          [
           "Entropy",
           0.9297041952536272,
           0.9366009885235588
          ],
          [
           "Entropy",
           0.9299291418288156,
           0.9366933226575006
          ],
          [
           "Entropy",
           0.9300416151164098,
           0.9367147130011236
          ],
          [
           "Entropy",
           0.930154088404004,
           0.9367759521235836
          ],
          [
           "Entropy",
           0.9298166685412216,
           0.936468016454694
          ],
          [
           "Entropy",
           0.9300416151164098,
           0.9365784937275096
          ],
          [
           "Entropy",
           0.9302665616915984,
           0.936691085549232
          ],
          [
           "Entropy",
           0.9302665616915984,
           0.9368142016687416
          ],
          [
           "Entropy",
           0.9302665616915984,
           0.9368277103384544
          ],
          [
           "Entropy",
           0.9302665616915984,
           0.9368062307746252
          ],
          [
           "Entropy",
           0.9304915082667866,
           0.9369858936521868
          ],
          [
           "Entropy",
           0.9306039815543808,
           0.93702492756452
          ],
          [
           "Entropy",
           0.9303790349791924,
           0.9368880261372876
          ],
          [
           "Entropy",
           0.9303790349791924,
           0.9369303797565016
          ],
          [
           "Entropy",
           0.9304915082667866,
           0.936935010129959
          ],
          [
           "Entropy",
           0.9302665616915984,
           0.9367263876722428
          ],
          [
           "Entropy",
           0.9306039815543808,
           0.9369957121259213
          ],
          [
           "Entropy",
           0.9307164548419752,
           0.9371284507842144
          ],
          [
           "Entropy",
           0.9307164548419752,
           0.9371706897341298
          ],
          [
           "Entropy",
           0.9304915082667866,
           0.9369908445036896
          ],
          [
           "Entropy",
           0.9307164548419752,
           0.9371284507842144
          ],
          [
           "Entropy",
           0.9308289281295692,
           0.937260826079924
          ],
          [
           "Entropy",
           0.9309414014171634,
           0.937371842196272
          ],
          [
           "Entropy",
           0.9309414014171634,
           0.937371842196272
          ],
          [
           "Entropy",
           0.9308289281295692,
           0.937218622104441
          ],
          [
           "Entropy",
           0.9308289281295692,
           0.9372394501787492
          ],
          [
           "Entropy",
           0.9309414014171634,
           0.937371842196272
          ],
          [
           "Entropy",
           0.9306039815543808,
           0.9370384233744128
          ],
          [
           "Entropy",
           0.9308289281295692,
           0.9373649757407572
          ],
          [
           "Entropy",
           0.9309414014171634,
           0.937371842196272
          ],
          [
           "Entropy",
           0.9309414014171634,
           0.937371842196272
          ],
          [
           "Entropy",
           0.9307164548419752,
           0.937191745836774
          ],
          [
           "Entropy",
           0.9308289281295692,
           0.9373235623745444
          ],
          [
           "Entropy",
           0.9307164548419752,
           0.9375588716330512
          ],
          [
           "Entropy",
           0.9298166685412216,
           0.9369260989947196
          ],
          [
           "Entropy",
           0.929591721966033,
           0.9368119130133148
          ],
          [
           "Entropy",
           0.9292543021032504,
           0.9366113701873644
          ],
          [
           "Entropy",
           0.9293667753908448,
           0.936660617153812
          ],
          [
           "Entropy",
           0.9288044089528736,
           0.9363008484922456
          ],
          [
           "Entropy",
           0.9292543021032504,
           0.9368936187210432
          ],
          [
           "Entropy",
           0.9292543021032504,
           0.9368936187210432
          ],
          [
           "Entropy",
           0.9292543021032504,
           0.9370842994693034
          ],
          [
           "Entropy",
           0.9292543021032504,
           0.9369894084456024
          ],
          [
           "Entropy",
           0.9291418288156564,
           0.9369375299543276
          ],
          [
           "Entropy",
           0.929591721966033,
           0.937505393103418
          ],
          [
           "Entropy",
           0.9298166685412216,
           0.937860849810752
          ],
          [
           "Entropy",
           0.929591721966033,
           0.9376878270031396
          ],
          [
           "Entropy",
           0.9297041952536272,
           0.9377742889668256
          ],
          [
           "Entropy",
           0.9298166685412216,
           0.9378928644584914
          ],
          [
           "Entropy",
           0.9297041952536272,
           0.9378063322572028
          ],
          [
           "Entropy",
           0.9298166685412216,
           0.9378928644584914
          ],
          [
           "Entropy",
           0.9297041952536272,
           0.9378063322572028
          ],
          [
           "Entropy",
           0.9297041952536272,
           0.9379844555983068
          ],
          [
           "Entropy",
           0.9294792486784388,
           0.9377812302582847
          ],
          [
           "Entropy",
           0.929591721966033,
           0.9378983588289096
          ],
          [
           "Entropy",
           0.929591721966033,
           0.9382731648604312
          ],
          [
           "Entropy",
           0.9297041952536272,
           0.9390072937930284
          ],
          [
           "Entropy",
           0.9297041952536272,
           0.9389512310708692
          ],
          [
           "Entropy",
           0.9297041952536272,
           0.9389512310708692
          ],
          [
           "Entropy",
           0.929591721966033,
           0.9389793472857564
          ],
          [
           "Entropy",
           0.9299291418288156,
           0.9393099908769802
          ],
          [
           "Entropy",
           0.9302665616915984,
           0.9396390861026092
          ],
          [
           "Entropy",
           0.930154088404004,
           0.939529558078872
          ],
          [
           "Entropy",
           0.9306039815543808,
           0.9400502809617244
          ],
          [
           "Entropy",
           0.9304915082667866,
           0.9400203812324176
          ],
          [
           "Entropy",
           0.9302665616915984,
           0.9404546970512648
          ],
          [
           "Entropy",
           0.9302665616915984,
           0.9404546970512648
          ],
          [
           "Entropy",
           0.9302665616915984,
           0.9404546970512648
          ],
          [
           "Entropy",
           0.9302665616915984,
           0.9404546970512648
          ],
          [
           "Entropy",
           0.9302665616915984,
           0.9404546970512648
          ],
          [
           "Entropy",
           0.9302665616915984,
           0.9404546970512648
          ],
          [
           "Entropy",
           0.9302665616915984,
           0.9404546970512648
          ],
          [
           "Entropy",
           0.9302665616915984,
           0.9404546970512648
          ],
          [
           "Entropy",
           0.9302665616915984,
           0.9404546970512648
          ],
          [
           "Entropy",
           0.9302665616915984,
           0.9404546970512648
          ],
          [
           "Entropy",
           0.9302665616915984,
           0.9404546970512648
          ],
          [
           "Entropy",
           0.9302665616915984,
           0.9404546970512648
          ],
          [
           "Entropy",
           0.9302665616915984,
           0.9404546970512648
          ],
          [
           "Entropy",
           0.9302665616915984,
           0.9404546970512648
          ],
          [
           "Entropy",
           0.9302665616915984,
           0.9404546970512648
          ],
          [
           "Entropy",
           0.9302665616915984,
           0.9404546970512648
          ],
          [
           "Entropy",
           0.9302665616915984,
           0.9404546970512648
          ],
          [
           "Entropy",
           0.9302665616915984,
           0.9404546970512648
          ],
          [
           "Entropy",
           0.9302665616915984,
           0.9404546970512648
          ],
          [
           "Entropy",
           0.9302665616915984,
           0.9404546970512648
          ],
          [
           "Entropy",
           0.9302665616915984,
           0.9404546970512648
          ],
          [
           "Entropy",
           0.9302665616915984,
           0.9404546970512648
          ],
          [
           "Entropy",
           0.9302665616915984,
           0.9404546970512648
          ],
          [
           "Entropy",
           0.9302665616915984,
           0.9404546970512648
          ],
          [
           "Entropy",
           0.9302665616915984,
           0.9404546970512648
          ],
          [
           "Entropy",
           0.9302665616915984,
           0.9404546970512648
          ],
          [
           "Entropy",
           0.9302665616915984,
           0.9404546970512648
          ],
          [
           "Entropy",
           0.9302665616915984,
           0.9404546970512648
          ],
          [
           "Entropy",
           0.9302665616915984,
           0.9404546970512648
          ],
          [
           "Entropy",
           0.9302665616915984,
           0.9404546970512648
          ],
          [
           "Entropy",
           0.9302665616915984,
           0.9404546970512648
          ],
          [
           "Entropy",
           0.9302665616915984,
           0.9404546970512648
          ],
          [
           "Entropy",
           0.9302665616915984,
           0.9404546970512648
          ],
          [
           "Entropy",
           0.9302665616915984,
           0.9404546970512648
          ],
          [
           "Entropy",
           0.9302665616915984,
           0.9404546970512648
          ],
          [
           "Entropy",
           0.9302665616915984,
           0.9404546970512648
          ],
          [
           "Entropy",
           0.9302665616915984,
           0.9404546970512648
          ],
          [
           "Entropy",
           0.9302665616915984,
           0.9404546970512648
          ],
          [
           "Entropy",
           0.9302665616915984,
           0.9404546970512648
          ],
          [
           "Entropy",
           0.9302665616915984,
           0.9404546970512648
          ],
          [
           "Entropy",
           0.9302665616915984,
           0.9404546970512648
          ],
          [
           "Entropy",
           0.9302665616915984,
           0.9404546970512648
          ],
          [
           "Entropy",
           0.9302665616915984,
           0.9404546970512648
          ],
          [
           "Entropy",
           0.9302665616915984,
           0.9404546970512648
          ],
          [
           "Entropy",
           0.9302665616915984,
           0.9404546970512648
          ],
          [
           "Entropy",
           0.9302665616915984,
           0.9404546970512648
          ],
          [
           "Entropy",
           0.9302665616915984,
           0.9404546970512648
          ],
          [
           "Entropy",
           0.9302665616915984,
           0.9404546970512648
          ],
          [
           "Entropy",
           0.9302665616915984,
           0.9404546970512648
          ],
          [
           "Entropy",
           0.9302665616915984,
           0.9404546970512648
          ],
          [
           "Entropy",
           0.9302665616915984,
           0.9404546970512648
          ],
          [
           "Entropy",
           0.9302665616915984,
           0.9404546970512648
          ],
          [
           "Entropy",
           0.9302665616915984,
           0.9404546970512648
          ],
          [
           "Entropy",
           0.9302665616915984,
           0.9404546970512648
          ],
          [
           "Entropy",
           0.9302665616915984,
           0.9404546970512648
          ],
          [
           "Entropy",
           0.9302665616915984,
           0.9404546970512648
          ],
          [
           "Entropy",
           0.9302665616915984,
           0.9404546970512648
          ],
          [
           "Entropy",
           0.9302665616915984,
           0.9404546970512648
          ],
          [
           "Entropy",
           0.9302665616915984,
           0.9404546970512648
          ],
          [
           "Entropy",
           0.9302665616915984,
           0.9404546970512648
          ],
          [
           "Entropy",
           0.9302665616915984,
           0.9404546970512648
          ],
          [
           "Entropy",
           0.9302665616915984,
           0.9404546970512648
          ],
          [
           "Entropy",
           0.9302665616915984,
           0.9404546970512648
          ],
          [
           "Entropy",
           0.9302665616915984,
           0.9404546970512648
          ],
          [
           "Entropy",
           0.9302665616915984,
           0.9404546970512648
          ],
          [
           "Entropy",
           0.9302665616915984,
           0.9404546970512648
          ],
          [
           "Entropy",
           0.9302665616915984,
           0.9404546970512648
          ],
          [
           "Entropy",
           0.9302665616915984,
           0.9404546970512648
          ],
          [
           "Entropy",
           0.9302665616915984,
           0.9404546970512648
          ],
          [
           "Entropy",
           0.9302665616915984,
           0.9404546970512648
          ],
          [
           "Entropy",
           0.9302665616915984,
           0.9404546970512648
          ],
          [
           "Entropy",
           0.9302665616915984,
           0.9404546970512648
          ],
          [
           "Entropy",
           0.9302665616915984,
           0.9404546970512648
          ],
          [
           "Entropy",
           0.9302665616915984,
           0.9404546970512648
          ],
          [
           "Entropy",
           0.9302665616915984,
           0.9404546970512648
          ],
          [
           "Entropy",
           0.9302665616915984,
           0.9404546970512648
          ],
          [
           "Entropy",
           0.9302665616915984,
           0.9404546970512648
          ],
          [
           "Entropy",
           0.9302665616915984,
           0.9404546970512648
          ],
          [
           "Entropy",
           0.9302665616915984,
           0.9404546970512648
          ],
          [
           "Entropy",
           0.9302665616915984,
           0.9404546970512648
          ],
          [
           "Entropy",
           0.9302665616915984,
           0.9404546970512648
          ],
          [
           "Entropy",
           0.9302665616915984,
           0.9404546970512648
          ],
          [
           "Entropy",
           0.9302665616915984,
           0.9404546970512648
          ],
          [
           "Entropy",
           0.9302665616915984,
           0.9404546970512648
          ],
          [
           "Entropy",
           0.9302665616915984,
           0.9404546970512648
          ],
          [
           "Entropy",
           0.9302665616915984,
           0.9404546970512648
          ],
          [
           "Entropy",
           0.9302665616915984,
           0.9404546970512648
          ],
          [
           "Entropy",
           0.9302665616915984,
           0.9404546970512648
          ],
          [
           "Entropy",
           0.9302665616915984,
           0.9404546970512648
          ],
          [
           "Entropy",
           0.9302665616915984,
           0.9404546970512648
          ],
          [
           "Entropy",
           0.9302665616915984,
           0.9404546970512648
          ],
          [
           "Entropy",
           0.9302665616915984,
           0.9404546970512648
          ],
          [
           "Entropy",
           0.9302665616915984,
           0.9404546970512648
          ],
          [
           "Entropy",
           0.9302665616915984,
           0.9404546970512648
          ],
          [
           "Entropy",
           0.9302665616915984,
           0.9404546970512648
          ],
          [
           "Entropy",
           0.9302665616915984,
           0.9404546970512648
          ],
          [
           "Entropy",
           0.9302665616915984,
           0.9404546970512648
          ],
          [
           "Entropy",
           0.9302665616915984,
           0.9404546970512648
          ],
          [
           "Entropy",
           0.9302665616915984,
           0.9404546970512648
          ],
          [
           "Entropy",
           0.9302665616915984,
           0.9404546970512648
          ],
          [
           "Entropy",
           0.9302665616915984,
           0.9404546970512648
          ],
          [
           "Entropy",
           0.9302665616915984,
           0.9404546970512648
          ],
          [
           "Entropy",
           0.9302665616915984,
           0.9404546970512648
          ],
          [
           "Entropy",
           0.9302665616915984,
           0.9404546970512648
          ],
          [
           "Entropy",
           0.9302665616915984,
           0.9404546970512648
          ],
          [
           "Entropy",
           0.9302665616915984,
           0.9404546970512648
          ],
          [
           "Entropy",
           0.9302665616915984,
           0.9404546970512648
          ],
          [
           "Entropy",
           0.9302665616915984,
           0.9404546970512648
          ],
          [
           "Entropy",
           0.9302665616915984,
           0.9404546970512648
          ],
          [
           "Entropy",
           0.9302665616915984,
           0.9404546970512648
          ],
          [
           "Entropy",
           0.9302665616915984,
           0.9404546970512648
          ],
          [
           "Entropy",
           0.9302665616915984,
           0.9404546970512648
          ],
          [
           "Entropy",
           0.9302665616915984,
           0.9404546970512648
          ],
          [
           "Entropy",
           0.9302665616915984,
           0.9404546970512648
          ],
          [
           "Entropy",
           0.9302665616915984,
           0.9404546970512648
          ],
          [
           "Entropy",
           0.9302665616915984,
           0.9404546970512648
          ],
          [
           "Entropy",
           0.9302665616915984,
           0.9404546970512648
          ],
          [
           "Entropy",
           0.9302665616915984,
           0.9404546970512648
          ],
          [
           "Entropy",
           0.9302665616915984,
           0.9404546970512648
          ],
          [
           "Entropy",
           0.9302665616915984,
           0.9404546970512648
          ],
          [
           "Entropy",
           0.9302665616915984,
           0.9404546970512648
          ],
          [
           "Entropy",
           0.9302665616915984,
           0.9404546970512648
          ],
          [
           "Entropy",
           0.9302665616915984,
           0.9404546970512648
          ],
          [
           "Entropy",
           0.9302665616915984,
           0.9404546970512648
          ],
          [
           "Entropy",
           0.9302665616915984,
           0.9404546970512648
          ],
          [
           "Entropy",
           0.9302665616915984,
           0.9404546970512648
          ],
          [
           "Entropy",
           0.9302665616915984,
           0.9404546970512648
          ],
          [
           "Entropy",
           0.9302665616915984,
           0.9404546970512648
          ],
          [
           "Entropy",
           0.9302665616915984,
           0.9404546970512648
          ],
          [
           "Entropy",
           0.9302665616915984,
           0.9404546970512648
          ],
          [
           "Entropy",
           0.9302665616915984,
           0.9404546970512648
          ],
          [
           "Entropy",
           0.9302665616915984,
           0.9404546970512648
          ],
          [
           "Entropy",
           0.9302665616915984,
           0.9404546970512648
          ],
          [
           "Entropy",
           0.9302665616915984,
           0.9404546970512648
          ],
          [
           "Entropy",
           0.9302665616915984,
           0.9404546970512648
          ],
          [
           "Entropy",
           0.9302665616915984,
           0.9404546970512648
          ],
          [
           "Entropy",
           0.9302665616915984,
           0.9404546970512648
          ],
          [
           "Entropy",
           0.9302665616915984,
           0.9404546970512648
          ],
          [
           "Entropy",
           0.9302665616915984,
           0.9404546970512648
          ],
          [
           "Entropy",
           0.9302665616915984,
           0.9404546970512648
          ],
          [
           "Entropy",
           0.9302665616915984,
           0.9404546970512648
          ],
          [
           "Entropy",
           0.9302665616915984,
           0.9404546970512648
          ],
          [
           "Entropy",
           0.9302665616915984,
           0.9404546970512648
          ],
          [
           "Entropy",
           0.9302665616915984,
           0.9404546970512648
          ],
          [
           "Entropy",
           0.9302665616915984,
           0.9404546970512648
          ],
          [
           "Entropy",
           0.9302665616915984,
           0.9404546970512648
          ],
          [
           "Entropy",
           0.9302665616915984,
           0.9404546970512648
          ],
          [
           "Entropy",
           0.9302665616915984,
           0.9404546970512648
          ],
          [
           "Entropy",
           0.9302665616915984,
           0.9404546970512648
          ],
          [
           "Entropy",
           0.9302665616915984,
           0.9404546970512648
          ],
          [
           "Entropy",
           0.9302665616915984,
           0.9404546970512648
          ],
          [
           "Entropy",
           0.9302665616915984,
           0.9404546970512648
          ],
          [
           "Entropy",
           0.9302665616915984,
           0.9404546970512648
          ],
          [
           "Entropy",
           0.9302665616915984,
           0.9404546970512648
          ],
          [
           "Entropy",
           0.9302665616915984,
           0.9404546970512648
          ],
          [
           "Entropy",
           0.9302665616915984,
           0.9404546970512648
          ],
          [
           "Entropy",
           0.9302665616915984,
           0.9404546970512648
          ],
          [
           "Entropy",
           0.9302665616915984,
           0.9404546970512648
          ],
          [
           "Entropy",
           0.9302665616915984,
           0.9404546970512648
          ],
          [
           "Entropy",
           0.9302665616915984,
           0.9404546970512648
          ],
          [
           "Entropy",
           0.9302665616915984,
           0.9404546970512648
          ],
          [
           "Entropy",
           0.9302665616915984,
           0.9404546970512648
          ],
          [
           "Entropy",
           0.9302665616915984,
           0.9404546970512648
          ],
          [
           "Entropy",
           0.9302665616915984,
           0.9404546970512648
          ],
          [
           "Entropy",
           0.9302665616915984,
           0.9404546970512648
          ],
          [
           "Entropy",
           0.9302665616915984,
           0.9404546970512648
          ],
          [
           "Entropy",
           0.9302665616915984,
           0.9404546970512648
          ],
          [
           "Entropy",
           0.9302665616915984,
           0.9404546970512648
          ],
          [
           "Entropy",
           0.9302665616915984,
           0.9404546970512648
          ],
          [
           "Entropy",
           0.9302665616915984,
           0.9404546970512648
          ],
          [
           "Entropy",
           0.9302665616915984,
           0.9404546970512648
          ],
          [
           "Entropy",
           0.9302665616915984,
           0.9404546970512648
          ],
          [
           "Entropy",
           0.9302665616915984,
           0.9404546970512648
          ],
          [
           "Entropy",
           0.9302665616915984,
           0.9404546970512648
          ],
          [
           "Entropy",
           0.9302665616915984,
           0.9404546970512648
          ],
          [
           "Entropy",
           0.9302665616915984,
           0.9404546970512648
          ],
          [
           "Entropy",
           0.9302665616915984,
           0.9404546970512648
          ],
          [
           "Entropy",
           0.9302665616915984,
           0.9404546970512648
          ],
          [
           "Entropy",
           0.9302665616915984,
           0.9404546970512648
          ],
          [
           "Entropy",
           0.9302665616915984,
           0.9404546970512648
          ],
          [
           "Entropy",
           0.9302665616915984,
           0.9404546970512648
          ],
          [
           "Entropy",
           0.9302665616915984,
           0.9404546970512648
          ],
          [
           "Entropy",
           0.9302665616915984,
           0.9404546970512648
          ],
          [
           "Entropy",
           0.9302665616915984,
           0.9404546970512648
          ],
          [
           "Entropy",
           0.9302665616915984,
           0.9404546970512648
          ],
          [
           "Entropy",
           0.9302665616915984,
           0.9404546970512648
          ],
          [
           "Entropy",
           0.9302665616915984,
           0.9404546970512648
          ],
          [
           "Entropy",
           0.9302665616915984,
           0.9404546970512648
          ],
          [
           "Entropy",
           0.9302665616915984,
           0.9404546970512648
          ],
          [
           "Entropy",
           0.9302665616915984,
           0.9404546970512648
          ],
          [
           "Entropy",
           0.9302665616915984,
           0.9404546970512648
          ],
          [
           "Entropy",
           0.9302665616915984,
           0.9404546970512648
          ],
          [
           "Entropy",
           0.9302665616915984,
           0.9404546970512648
          ],
          [
           "Entropy",
           0.9302665616915984,
           0.9404546970512648
          ],
          [
           "Entropy",
           0.9302665616915984,
           0.9404546970512648
          ],
          [
           "Entropy",
           0.9302665616915984,
           0.9404546970512648
          ],
          [
           "Entropy",
           0.9302665616915984,
           0.9404546970512648
          ],
          [
           "Entropy",
           0.9302665616915984,
           0.9404546970512648
          ],
          [
           "Entropy",
           0.9302665616915984,
           0.9404546970512648
          ],
          [
           "Entropy",
           0.9302665616915984,
           0.9404546970512648
          ],
          [
           "Entropy",
           0.9302665616915984,
           0.9404546970512648
          ],
          [
           "Entropy",
           0.9302665616915984,
           0.9404546970512648
          ],
          [
           "Entropy",
           0.9302665616915984,
           0.9404546970512648
          ],
          [
           "Entropy",
           0.9302665616915984,
           0.9404546970512648
          ],
          [
           "Entropy",
           0.9302665616915984,
           0.9404546970512648
          ],
          [
           "Entropy",
           0.9302665616915984,
           0.9404546970512648
          ],
          [
           "Entropy",
           0.9302665616915984,
           0.9404546970512648
          ],
          [
           "Entropy",
           0.9302665616915984,
           0.9404546970512648
          ],
          [
           "Entropy",
           0.9302665616915984,
           0.9404546970512648
          ],
          [
           "Entropy",
           0.9302665616915984,
           0.9404546970512648
          ],
          [
           "Entropy",
           0.9302665616915984,
           0.9404546970512648
          ],
          [
           "Entropy",
           0.9302665616915984,
           0.9404546970512648
          ],
          [
           "Entropy",
           0.9302665616915984,
           0.9404546970512648
          ],
          [
           "Entropy",
           0.9302665616915984,
           0.9404546970512648
          ],
          [
           "Entropy",
           0.9302665616915984,
           0.9404546970512648
          ],
          [
           "Entropy",
           0.9302665616915984,
           0.9404546970512648
          ],
          [
           "Entropy",
           0.9302665616915984,
           0.9404546970512648
          ],
          [
           "Entropy",
           0.9302665616915984,
           0.9404546970512648
          ],
          [
           "Entropy",
           0.9302665616915984,
           0.9404546970512648
          ],
          [
           "Entropy",
           0.9302665616915984,
           0.9404546970512648
          ],
          [
           "Entropy",
           0.9302665616915984,
           0.9404546970512648
          ],
          [
           "Entropy",
           0.9302665616915984,
           0.9404546970512648
          ],
          [
           "Entropy",
           0.9302665616915984,
           0.9404546970512648
          ],
          [
           "Entropy",
           0.9302665616915984,
           0.9404546970512648
          ],
          [
           "Entropy",
           0.9302665616915984,
           0.9404546970512648
          ],
          [
           "Entropy",
           0.9302665616915984,
           0.9404546970512648
          ],
          [
           "Entropy",
           0.9302665616915984,
           0.9404546970512648
          ],
          [
           "Entropy",
           0.9302665616915984,
           0.9404546970512648
          ],
          [
           "Entropy",
           0.9302665616915984,
           0.9404546970512648
          ],
          [
           "Entropy",
           0.9302665616915984,
           0.9404546970512648
          ],
          [
           "Entropy",
           0.9302665616915984,
           0.9404546970512648
          ],
          [
           "Entropy",
           0.9302665616915984,
           0.9404546970512648
          ],
          [
           "Entropy",
           0.9302665616915984,
           0.9404546970512648
          ],
          [
           "Entropy",
           0.9302665616915984,
           0.9404546970512648
          ],
          [
           "Entropy",
           0.9302665616915984,
           0.9404546970512648
          ],
          [
           "Entropy",
           0.9302665616915984,
           0.9404546970512648
          ],
          [
           "Entropy",
           0.9302665616915984,
           0.9404546970512648
          ],
          [
           "Entropy",
           0.9302665616915984,
           0.9404546970512648
          ],
          [
           "Entropy",
           0.9302665616915984,
           0.9404546970512648
          ],
          [
           "Entropy",
           0.9302665616915984,
           0.9404546970512648
          ],
          [
           "Entropy",
           0.9302665616915984,
           0.9404546970512648
          ],
          [
           "Entropy",
           0.9302665616915984,
           0.9404546970512648
          ],
          [
           "Entropy",
           0.9302665616915984,
           0.9404546970512648
          ],
          [
           "Entropy",
           0.9302665616915984,
           0.9404546970512648
          ],
          [
           "Entropy",
           0.9302665616915984,
           0.9404546970512648
          ],
          [
           "Entropy",
           0.9302665616915984,
           0.9404546970512648
          ],
          [
           "Entropy",
           0.9302665616915984,
           0.9404546970512648
          ],
          [
           "Entropy",
           0.9302665616915984,
           0.9404546970512648
          ],
          [
           "Entropy",
           0.9302665616915984,
           0.9404546970512648
          ],
          [
           "Entropy",
           0.9302665616915984,
           0.9404546970512648
          ],
          [
           "Entropy",
           0.9302665616915984,
           0.9404546970512648
          ],
          [
           "Entropy",
           0.9302665616915984,
           0.9404546970512648
          ],
          [
           "Entropy",
           0.9302665616915984,
           0.9404546970512648
          ],
          [
           "Entropy",
           0.9302665616915984,
           0.9404546970512648
          ],
          [
           "Entropy",
           0.9302665616915984,
           0.9404546970512648
          ],
          [
           "Entropy",
           0.9302665616915984,
           0.9404546970512648
          ],
          [
           "Entropy",
           0.9302665616915984,
           0.9404546970512648
          ]
         ],
         "hovertemplate": "Strategy=%{customdata[0]}<br>Number of Labeled Samples=%{x:.0f}<br>MCC=%{y:.4f}<br>Accuracy=%{customdata[1]:.4f}<br>F1 Score (weighted)=%{customdata[2]:.4f}<extra></extra>",
         "legendgroup": "Entropy",
         "line": {
          "color": "red",
          "dash": "dot"
         },
         "marker": {
          "symbol": "circle"
         },
         "mode": "lines+markers",
         "name": "Entropy",
         "showlegend": true,
         "type": "scattergl",
         "x": {
          "bdata": "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",
          "dtype": "f8"
         },
         "xaxis": "x",
         "y": {
          "bdata": "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",
          "dtype": "f8"
         },
         "yaxis": "y"
        },
        {
         "customdata": [
          [
           "Least Confidence",
           0.8965245754133393,
           0.9154967219573068
          ],
          [
           "Least Confidence",
           0.9112585760881792,
           0.926674561795352
          ],
          [
           "Least Confidence",
           0.9298166685412216,
           0.9401553047718292
          ],
          [
           "Least Confidence",
           0.9297041952536272,
           0.9400810470457202
          ],
          [
           "Least Confidence",
           0.9298166685412216,
           0.9401687340464648
          ],
          [
           "Least Confidence",
           0.9298166685412216,
           0.9401687340464648
          ],
          [
           "Least Confidence",
           0.9298166685412216,
           0.9401687340464648
          ],
          [
           "Least Confidence",
           0.9298166685412216,
           0.9401687340464648
          ],
          [
           "Least Confidence",
           0.9298166685412216,
           0.9401687340464648
          ],
          [
           "Least Confidence",
           0.9298166685412216,
           0.9401687340464648
          ],
          [
           "Least Confidence",
           0.9297041952536272,
           0.9400596021584712
          ],
          [
           "Least Confidence",
           0.9294792486784388,
           0.939797918120322
          ],
          [
           "Least Confidence",
           0.9292543021032504,
           0.9395775502181792
          ],
          [
           "Least Confidence",
           0.9291418288156564,
           0.9393330584691671
          ],
          [
           "Least Confidence",
           0.9292543021032504,
           0.9393627495449454
          ],
          [
           "Least Confidence",
           0.9294792486784388,
           0.9391772553061856
          ],
          [
           "Least Confidence",
           0.92790462265212,
           0.9363751233944256
          ],
          [
           "Least Confidence",
           0.9288044089528736,
           0.9362379842966464
          ],
          [
           "Least Confidence",
           0.9288044089528736,
           0.9359032007426537
          ],
          [
           "Least Confidence",
           0.9291418288156564,
           0.9360076938363748
          ],
          [
           "Least Confidence",
           0.9292543021032504,
           0.9359035977479064
          ],
          [
           "Least Confidence",
           0.9293667753908448,
           0.9360641782863648
          ],
          [
           "Least Confidence",
           0.9294792486784388,
           0.9362092017170786
          ],
          [
           "Least Confidence",
           0.929591721966033,
           0.9363932951950432
          ],
          [
           "Least Confidence",
           0.9298166685412216,
           0.9366055108100472
          ],
          [
           "Least Confidence",
           0.929591721966033,
           0.9363750014496718
          ],
          [
           "Least Confidence",
           0.9297041952536272,
           0.9364665721326112
          ],
          [
           "Least Confidence",
           0.9297041952536272,
           0.936397276008022
          ],
          [
           "Least Confidence",
           0.9297041952536272,
           0.9363668998244324
          ],
          [
           "Least Confidence",
           0.9298166685412216,
           0.9364680888770656
          ],
          [
           "Least Confidence",
           0.9297041952536272,
           0.936260915785974
          ],
          [
           "Least Confidence",
           0.9300416151164098,
           0.9365503897125476
          ],
          [
           "Least Confidence",
           0.9304915082667866,
           0.9369304576748678
          ],
          [
           "Least Confidence",
           0.9299291418288156,
           0.9364022500082771
          ],
          [
           "Least Confidence",
           0.9298166685412216,
           0.9362593502995156
          ],
          [
           "Least Confidence",
           0.930154088404004,
           0.936474386863751
          ],
          [
           "Least Confidence",
           0.930154088404004,
           0.93642839974097
          ],
          [
           "Least Confidence",
           0.9304915082667866,
           0.9367975077729864
          ],
          [
           "Least Confidence",
           0.9306039815543808,
           0.9369465673617756
          ],
          [
           "Least Confidence",
           0.9304915082667866,
           0.9368123604861042
          ],
          [
           "Least Confidence",
           0.9306039815543808,
           0.9369465673617756
          ],
          [
           "Least Confidence",
           0.9304915082667866,
           0.9368123604861042
          ],
          [
           "Least Confidence",
           0.9303790349791924,
           0.9367141753265708
          ],
          [
           "Least Confidence",
           0.9303790349791924,
           0.9367141753265708
          ],
          [
           "Least Confidence",
           0.9303790349791924,
           0.9367141753265708
          ],
          [
           "Least Confidence",
           0.9304915082667866,
           0.9368189688937736
          ],
          [
           "Least Confidence",
           0.9306039815543808,
           0.936908948861246
          ],
          [
           "Least Confidence",
           0.9304915082667866,
           0.9368189688937736
          ],
          [
           "Least Confidence",
           0.9304915082667866,
           0.9368189688937736
          ],
          [
           "Least Confidence",
           0.9306039815543808,
           0.9368648836866702
          ],
          [
           "Least Confidence",
           0.9308289281295692,
           0.9370893475682164
          ],
          [
           "Least Confidence",
           0.9308289281295692,
           0.9370893475682164
          ],
          [
           "Least Confidence",
           0.9308289281295692,
           0.9370893475682164
          ],
          [
           "Least Confidence",
           0.9309414014171634,
           0.9371797687432366
          ],
          [
           "Least Confidence",
           0.9306039815543808,
           0.936908948861246
          ],
          [
           "Least Confidence",
           0.9309414014171634,
           0.9371797687432366
          ],
          [
           "Least Confidence",
           0.9309414014171634,
           0.9371797687432366
          ],
          [
           "Least Confidence",
           0.9309414014171634,
           0.9371797687432366
          ],
          [
           "Least Confidence",
           0.9310538747047576,
           0.9373138114497624
          ],
          [
           "Least Confidence",
           0.9310538747047576,
           0.9370917782753774
          ],
          [
           "Least Confidence",
           0.9308289281295692,
           0.9370453466353708
          ],
          [
           "Least Confidence",
           0.9310538747047576,
           0.9370917782753774
          ],
          [
           "Least Confidence",
           0.9309414014171634,
           0.9371797687432366
          ],
          [
           "Least Confidence",
           0.9309414014171634,
           0.9371797687432366
          ],
          [
           "Least Confidence",
           0.9308289281295692,
           0.9370453466353708
          ],
          [
           "Least Confidence",
           0.9309414014171634,
           0.9372663305758429
          ],
          [
           "Least Confidence",
           0.9308289281295692,
           0.9373235623745444
          ],
          [
           "Least Confidence",
           0.9308289281295692,
           0.9372817225773294
          ],
          [
           "Least Confidence",
           0.9308289281295692,
           0.9373235623745444
          ],
          [
           "Least Confidence",
           0.9307164548419752,
           0.9372964341734348
          ],
          [
           "Least Confidence",
           0.9306039815543808,
           0.9372068219128706
          ],
          [
           "Least Confidence",
           0.9307164548419752,
           0.937337530616259
          ],
          [
           "Least Confidence",
           0.9306039815543808,
           0.9373289784183896
          ],
          [
           "Least Confidence",
           0.9299291418288156,
           0.9369367874096592
          ],
          [
           "Least Confidence",
           0.9300416151164098,
           0.9370252746798744
          ],
          [
           "Least Confidence",
           0.9299291418288156,
           0.9369757840588936
          ],
          [
           "Least Confidence",
           0.9298166685412216,
           0.9369260989947196
          ],
          [
           "Least Confidence",
           0.9288044089528736,
           0.9362629509301048
          ],
          [
           "Least Confidence",
           0.928916882240468,
           0.9363877634696448
          ],
          [
           "Least Confidence",
           0.929029355528062,
           0.9364747891679848
          ],
          [
           "Least Confidence",
           0.9291418288156564,
           0.9368673713118676
          ],
          [
           "Least Confidence",
           0.929029355528062,
           0.9367450668728466
          ],
          [
           "Least Confidence",
           0.9291418288156564,
           0.9368673713118676
          ],
          [
           "Least Confidence",
           0.9294792486784388,
           0.9373597644255092
          ],
          [
           "Least Confidence",
           0.929591721966033,
           0.9375309701464702
          ],
          [
           "Least Confidence",
           0.9293667753908448,
           0.9372986294344422
          ],
          [
           "Least Confidence",
           0.9299291418288156,
           0.93803707294403
          ],
          [
           "Least Confidence",
           0.9297041952536272,
           0.937922043880946
          ],
          [
           "Least Confidence",
           0.9298166685412216,
           0.9379505867252428
          ],
          [
           "Least Confidence",
           0.9298166685412216,
           0.9379505867252428
          ],
          [
           "Least Confidence",
           0.929591721966033,
           0.937835892512422
          ],
          [
           "Least Confidence",
           0.929591721966033,
           0.937835892512422
          ],
          [
           "Least Confidence",
           0.9297041952536272,
           0.937922043880946
          ],
          [
           "Least Confidence",
           0.9294792486784388,
           0.9378660213240126
          ],
          [
           "Least Confidence",
           0.9298166685412216,
           0.9380443390489156
          ],
          [
           "Least Confidence",
           0.9294792486784388,
           0.9378660213240126
          ],
          [
           "Least Confidence",
           0.9300416151164098,
           0.9394198599992086
          ],
          [
           "Least Confidence",
           0.930154088404004,
           0.939529558078872
          ],
          [
           "Least Confidence",
           0.930154088404004,
           0.939529558078872
          ],
          [
           "Least Confidence",
           0.9302665616915984,
           0.9402273500677912
          ],
          [
           "Least Confidence",
           0.930154088404004,
           0.9401207192614034
          ],
          [
           "Least Confidence",
           0.9303790349791924,
           0.9403106039139084
          ],
          [
           "Least Confidence",
           0.930154088404004,
           0.9402851724460122
          ],
          [
           "Least Confidence",
           0.930154088404004,
           0.9402851724460122
          ],
          [
           "Least Confidence",
           0.930154088404004,
           0.9402851724460122
          ],
          [
           "Least Confidence",
           0.930154088404004,
           0.9402851724460122
          ],
          [
           "Least Confidence",
           0.930154088404004,
           0.9402851724460122
          ],
          [
           "Least Confidence",
           0.9302665616915984,
           0.9404546970512648
          ],
          [
           "Least Confidence",
           0.9302665616915984,
           0.9404546970512648
          ],
          [
           "Least Confidence",
           0.9302665616915984,
           0.9404546970512648
          ],
          [
           "Least Confidence",
           0.9302665616915984,
           0.9404546970512648
          ],
          [
           "Least Confidence",
           0.9302665616915984,
           0.9404546970512648
          ],
          [
           "Least Confidence",
           0.9302665616915984,
           0.9404546970512648
          ],
          [
           "Least Confidence",
           0.9302665616915984,
           0.9404546970512648
          ],
          [
           "Least Confidence",
           0.9302665616915984,
           0.9404546970512648
          ],
          [
           "Least Confidence",
           0.9302665616915984,
           0.9404546970512648
          ],
          [
           "Least Confidence",
           0.9302665616915984,
           0.9404546970512648
          ],
          [
           "Least Confidence",
           0.9302665616915984,
           0.9404546970512648
          ],
          [
           "Least Confidence",
           0.9302665616915984,
           0.9404546970512648
          ],
          [
           "Least Confidence",
           0.9302665616915984,
           0.9404546970512648
          ],
          [
           "Least Confidence",
           0.9302665616915984,
           0.9404546970512648
          ],
          [
           "Least Confidence",
           0.9302665616915984,
           0.9404546970512648
          ],
          [
           "Least Confidence",
           0.9302665616915984,
           0.9404546970512648
          ],
          [
           "Least Confidence",
           0.9302665616915984,
           0.9404546970512648
          ],
          [
           "Least Confidence",
           0.9302665616915984,
           0.9404546970512648
          ],
          [
           "Least Confidence",
           0.9302665616915984,
           0.9404546970512648
          ],
          [
           "Least Confidence",
           0.9302665616915984,
           0.9404546970512648
          ],
          [
           "Least Confidence",
           0.9302665616915984,
           0.9404546970512648
          ],
          [
           "Least Confidence",
           0.9302665616915984,
           0.9404546970512648
          ],
          [
           "Least Confidence",
           0.9302665616915984,
           0.9404546970512648
          ],
          [
           "Least Confidence",
           0.9302665616915984,
           0.9404546970512648
          ],
          [
           "Least Confidence",
           0.9302665616915984,
           0.9404546970512648
          ],
          [
           "Least Confidence",
           0.9302665616915984,
           0.9404546970512648
          ],
          [
           "Least Confidence",
           0.9302665616915984,
           0.9404546970512648
          ],
          [
           "Least Confidence",
           0.9302665616915984,
           0.9404546970512648
          ],
          [
           "Least Confidence",
           0.9302665616915984,
           0.9404546970512648
          ],
          [
           "Least Confidence",
           0.9302665616915984,
           0.9404546970512648
          ],
          [
           "Least Confidence",
           0.9302665616915984,
           0.9404546970512648
          ],
          [
           "Least Confidence",
           0.9302665616915984,
           0.9404546970512648
          ],
          [
           "Least Confidence",
           0.9302665616915984,
           0.9404546970512648
          ],
          [
           "Least Confidence",
           0.9302665616915984,
           0.9404546970512648
          ],
          [
           "Least Confidence",
           0.9302665616915984,
           0.9404546970512648
          ],
          [
           "Least Confidence",
           0.9302665616915984,
           0.9404546970512648
          ],
          [
           "Least Confidence",
           0.9302665616915984,
           0.9404546970512648
          ],
          [
           "Least Confidence",
           0.9302665616915984,
           0.9404546970512648
          ],
          [
           "Least Confidence",
           0.9302665616915984,
           0.9404546970512648
          ],
          [
           "Least Confidence",
           0.9302665616915984,
           0.9404546970512648
          ],
          [
           "Least Confidence",
           0.9302665616915984,
           0.9404546970512648
          ],
          [
           "Least Confidence",
           0.9302665616915984,
           0.9404546970512648
          ],
          [
           "Least Confidence",
           0.9302665616915984,
           0.9404546970512648
          ],
          [
           "Least Confidence",
           0.9302665616915984,
           0.9404546970512648
          ],
          [
           "Least Confidence",
           0.9302665616915984,
           0.9404546970512648
          ],
          [
           "Least Confidence",
           0.9302665616915984,
           0.9404546970512648
          ],
          [
           "Least Confidence",
           0.9302665616915984,
           0.9404546970512648
          ],
          [
           "Least Confidence",
           0.9302665616915984,
           0.9404546970512648
          ],
          [
           "Least Confidence",
           0.9302665616915984,
           0.9404546970512648
          ],
          [
           "Least Confidence",
           0.9302665616915984,
           0.9404546970512648
          ],
          [
           "Least Confidence",
           0.9302665616915984,
           0.9404546970512648
          ],
          [
           "Least Confidence",
           0.9302665616915984,
           0.9404546970512648
          ],
          [
           "Least Confidence",
           0.9302665616915984,
           0.9404546970512648
          ],
          [
           "Least Confidence",
           0.9302665616915984,
           0.9404546970512648
          ],
          [
           "Least Confidence",
           0.9302665616915984,
           0.9404546970512648
          ],
          [
           "Least Confidence",
           0.9302665616915984,
           0.9404546970512648
          ],
          [
           "Least Confidence",
           0.9302665616915984,
           0.9404546970512648
          ],
          [
           "Least Confidence",
           0.9302665616915984,
           0.9404546970512648
          ],
          [
           "Least Confidence",
           0.9302665616915984,
           0.9404546970512648
          ],
          [
           "Least Confidence",
           0.9302665616915984,
           0.9404546970512648
          ],
          [
           "Least Confidence",
           0.9302665616915984,
           0.9404546970512648
          ],
          [
           "Least Confidence",
           0.9302665616915984,
           0.9404546970512648
          ],
          [
           "Least Confidence",
           0.9302665616915984,
           0.9404546970512648
          ],
          [
           "Least Confidence",
           0.9302665616915984,
           0.9404546970512648
          ],
          [
           "Least Confidence",
           0.9302665616915984,
           0.9404546970512648
          ],
          [
           "Least Confidence",
           0.9302665616915984,
           0.9404546970512648
          ],
          [
           "Least Confidence",
           0.9302665616915984,
           0.9404546970512648
          ],
          [
           "Least Confidence",
           0.9302665616915984,
           0.9404546970512648
          ],
          [
           "Least Confidence",
           0.9302665616915984,
           0.9404546970512648
          ],
          [
           "Least Confidence",
           0.9302665616915984,
           0.9404546970512648
          ],
          [
           "Least Confidence",
           0.9302665616915984,
           0.9404546970512648
          ],
          [
           "Least Confidence",
           0.9302665616915984,
           0.9404546970512648
          ],
          [
           "Least Confidence",
           0.9302665616915984,
           0.9404546970512648
          ],
          [
           "Least Confidence",
           0.9302665616915984,
           0.9404546970512648
          ],
          [
           "Least Confidence",
           0.9302665616915984,
           0.9404546970512648
          ],
          [
           "Least Confidence",
           0.9302665616915984,
           0.9404546970512648
          ],
          [
           "Least Confidence",
           0.9302665616915984,
           0.9404546970512648
          ],
          [
           "Least Confidence",
           0.9302665616915984,
           0.9404546970512648
          ],
          [
           "Least Confidence",
           0.9302665616915984,
           0.9404546970512648
          ],
          [
           "Least Confidence",
           0.9302665616915984,
           0.9404546970512648
          ],
          [
           "Least Confidence",
           0.9302665616915984,
           0.9404546970512648
          ],
          [
           "Least Confidence",
           0.9302665616915984,
           0.9404546970512648
          ],
          [
           "Least Confidence",
           0.9302665616915984,
           0.9404546970512648
          ],
          [
           "Least Confidence",
           0.9302665616915984,
           0.9404546970512648
          ],
          [
           "Least Confidence",
           0.9302665616915984,
           0.9404546970512648
          ],
          [
           "Least Confidence",
           0.9302665616915984,
           0.9404546970512648
          ],
          [
           "Least Confidence",
           0.9302665616915984,
           0.9404546970512648
          ],
          [
           "Least Confidence",
           0.9302665616915984,
           0.9404546970512648
          ],
          [
           "Least Confidence",
           0.9302665616915984,
           0.9404546970512648
          ],
          [
           "Least Confidence",
           0.9302665616915984,
           0.9404546970512648
          ],
          [
           "Least Confidence",
           0.9302665616915984,
           0.9404546970512648
          ],
          [
           "Least Confidence",
           0.9302665616915984,
           0.9404546970512648
          ],
          [
           "Least Confidence",
           0.9302665616915984,
           0.9404546970512648
          ],
          [
           "Least Confidence",
           0.9302665616915984,
           0.9404546970512648
          ],
          [
           "Least Confidence",
           0.9302665616915984,
           0.9404546970512648
          ],
          [
           "Least Confidence",
           0.9302665616915984,
           0.9404546970512648
          ],
          [
           "Least Confidence",
           0.9302665616915984,
           0.9404546970512648
          ],
          [
           "Least Confidence",
           0.9302665616915984,
           0.9404546970512648
          ],
          [
           "Least Confidence",
           0.9302665616915984,
           0.9404546970512648
          ],
          [
           "Least Confidence",
           0.9302665616915984,
           0.9404546970512648
          ],
          [
           "Least Confidence",
           0.9302665616915984,
           0.9404546970512648
          ],
          [
           "Least Confidence",
           0.9302665616915984,
           0.9404546970512648
          ],
          [
           "Least Confidence",
           0.9302665616915984,
           0.9404546970512648
          ],
          [
           "Least Confidence",
           0.9302665616915984,
           0.9404546970512648
          ],
          [
           "Least Confidence",
           0.9302665616915984,
           0.9404546970512648
          ],
          [
           "Least Confidence",
           0.9302665616915984,
           0.9404546970512648
          ],
          [
           "Least Confidence",
           0.9302665616915984,
           0.9404546970512648
          ],
          [
           "Least Confidence",
           0.9302665616915984,
           0.9404546970512648
          ],
          [
           "Least Confidence",
           0.9302665616915984,
           0.9404546970512648
          ],
          [
           "Least Confidence",
           0.9302665616915984,
           0.9404546970512648
          ],
          [
           "Least Confidence",
           0.9302665616915984,
           0.9404546970512648
          ],
          [
           "Least Confidence",
           0.9302665616915984,
           0.9404546970512648
          ],
          [
           "Least Confidence",
           0.9302665616915984,
           0.9404546970512648
          ],
          [
           "Least Confidence",
           0.9302665616915984,
           0.9404546970512648
          ],
          [
           "Least Confidence",
           0.9302665616915984,
           0.9404546970512648
          ],
          [
           "Least Confidence",
           0.9302665616915984,
           0.9404546970512648
          ],
          [
           "Least Confidence",
           0.9302665616915984,
           0.9404546970512648
          ],
          [
           "Least Confidence",
           0.9302665616915984,
           0.9404546970512648
          ],
          [
           "Least Confidence",
           0.9302665616915984,
           0.9404546970512648
          ],
          [
           "Least Confidence",
           0.9302665616915984,
           0.9404546970512648
          ],
          [
           "Least Confidence",
           0.9302665616915984,
           0.9404546970512648
          ],
          [
           "Least Confidence",
           0.9302665616915984,
           0.9404546970512648
          ],
          [
           "Least Confidence",
           0.9302665616915984,
           0.9404546970512648
          ],
          [
           "Least Confidence",
           0.9302665616915984,
           0.9404546970512648
          ],
          [
           "Least Confidence",
           0.9302665616915984,
           0.9404546970512648
          ],
          [
           "Least Confidence",
           0.9302665616915984,
           0.9404546970512648
          ],
          [
           "Least Confidence",
           0.9302665616915984,
           0.9404546970512648
          ],
          [
           "Least Confidence",
           0.9302665616915984,
           0.9404546970512648
          ],
          [
           "Least Confidence",
           0.9302665616915984,
           0.9404546970512648
          ],
          [
           "Least Confidence",
           0.9302665616915984,
           0.9404546970512648
          ],
          [
           "Least Confidence",
           0.9302665616915984,
           0.9404546970512648
          ],
          [
           "Least Confidence",
           0.9302665616915984,
           0.9404546970512648
          ],
          [
           "Least Confidence",
           0.9302665616915984,
           0.9404546970512648
          ],
          [
           "Least Confidence",
           0.9302665616915984,
           0.9404546970512648
          ],
          [
           "Least Confidence",
           0.9302665616915984,
           0.9404546970512648
          ],
          [
           "Least Confidence",
           0.9302665616915984,
           0.9404546970512648
          ],
          [
           "Least Confidence",
           0.9302665616915984,
           0.9404546970512648
          ],
          [
           "Least Confidence",
           0.9302665616915984,
           0.9404546970512648
          ],
          [
           "Least Confidence",
           0.9302665616915984,
           0.9404546970512648
          ],
          [
           "Least Confidence",
           0.9302665616915984,
           0.9404546970512648
          ],
          [
           "Least Confidence",
           0.9302665616915984,
           0.9404546970512648
          ],
          [
           "Least Confidence",
           0.9302665616915984,
           0.9404546970512648
          ],
          [
           "Least Confidence",
           0.9302665616915984,
           0.9404546970512648
          ],
          [
           "Least Confidence",
           0.9302665616915984,
           0.9404546970512648
          ],
          [
           "Least Confidence",
           0.9302665616915984,
           0.9404546970512648
          ],
          [
           "Least Confidence",
           0.9302665616915984,
           0.9404546970512648
          ],
          [
           "Least Confidence",
           0.9302665616915984,
           0.9404546970512648
          ],
          [
           "Least Confidence",
           0.9302665616915984,
           0.9404546970512648
          ],
          [
           "Least Confidence",
           0.9302665616915984,
           0.9404546970512648
          ],
          [
           "Least Confidence",
           0.9302665616915984,
           0.9404546970512648
          ],
          [
           "Least Confidence",
           0.9302665616915984,
           0.9404546970512648
          ],
          [
           "Least Confidence",
           0.9302665616915984,
           0.9404546970512648
          ],
          [
           "Least Confidence",
           0.9302665616915984,
           0.9404546970512648
          ],
          [
           "Least Confidence",
           0.9302665616915984,
           0.9404546970512648
          ],
          [
           "Least Confidence",
           0.9302665616915984,
           0.9404546970512648
          ],
          [
           "Least Confidence",
           0.9302665616915984,
           0.9404546970512648
          ],
          [
           "Least Confidence",
           0.9302665616915984,
           0.9404546970512648
          ],
          [
           "Least Confidence",
           0.9302665616915984,
           0.9404546970512648
          ],
          [
           "Least Confidence",
           0.9302665616915984,
           0.9404546970512648
          ],
          [
           "Least Confidence",
           0.9302665616915984,
           0.9404546970512648
          ],
          [
           "Least Confidence",
           0.9302665616915984,
           0.9404546970512648
          ],
          [
           "Least Confidence",
           0.9302665616915984,
           0.9404546970512648
          ],
          [
           "Least Confidence",
           0.9302665616915984,
           0.9404546970512648
          ],
          [
           "Least Confidence",
           0.9302665616915984,
           0.9404546970512648
          ],
          [
           "Least Confidence",
           0.9302665616915984,
           0.9404546970512648
          ],
          [
           "Least Confidence",
           0.9302665616915984,
           0.9404546970512648
          ],
          [
           "Least Confidence",
           0.9302665616915984,
           0.9404546970512648
          ],
          [
           "Least Confidence",
           0.9302665616915984,
           0.9404546970512648
          ],
          [
           "Least Confidence",
           0.9302665616915984,
           0.9404546970512648
          ],
          [
           "Least Confidence",
           0.9302665616915984,
           0.9404546970512648
          ],
          [
           "Least Confidence",
           0.9302665616915984,
           0.9404546970512648
          ],
          [
           "Least Confidence",
           0.9302665616915984,
           0.9404546970512648
          ],
          [
           "Least Confidence",
           0.9302665616915984,
           0.9404546970512648
          ],
          [
           "Least Confidence",
           0.9302665616915984,
           0.9404546970512648
          ],
          [
           "Least Confidence",
           0.9302665616915984,
           0.9404546970512648
          ],
          [
           "Least Confidence",
           0.9302665616915984,
           0.9404546970512648
          ],
          [
           "Least Confidence",
           0.9302665616915984,
           0.9404546970512648
          ],
          [
           "Least Confidence",
           0.9302665616915984,
           0.9404546970512648
          ],
          [
           "Least Confidence",
           0.9302665616915984,
           0.9404546970512648
          ],
          [
           "Least Confidence",
           0.9302665616915984,
           0.9404546970512648
          ],
          [
           "Least Confidence",
           0.9302665616915984,
           0.9404546970512648
          ],
          [
           "Least Confidence",
           0.9302665616915984,
           0.9404546970512648
          ],
          [
           "Least Confidence",
           0.9302665616915984,
           0.9404546970512648
          ],
          [
           "Least Confidence",
           0.9302665616915984,
           0.9404546970512648
          ],
          [
           "Least Confidence",
           0.9302665616915984,
           0.9404546970512648
          ],
          [
           "Least Confidence",
           0.9302665616915984,
           0.9404546970512648
          ],
          [
           "Least Confidence",
           0.9302665616915984,
           0.9404546970512648
          ],
          [
           "Least Confidence",
           0.9302665616915984,
           0.9404546970512648
          ],
          [
           "Least Confidence",
           0.9302665616915984,
           0.9404546970512648
          ],
          [
           "Least Confidence",
           0.9302665616915984,
           0.9404546970512648
          ],
          [
           "Least Confidence",
           0.9302665616915984,
           0.9404546970512648
          ],
          [
           "Least Confidence",
           0.9302665616915984,
           0.9404546970512648
          ],
          [
           "Least Confidence",
           0.9302665616915984,
           0.9404546970512648
          ],
          [
           "Least Confidence",
           0.9302665616915984,
           0.9404546970512648
          ],
          [
           "Least Confidence",
           0.9302665616915984,
           0.9404546970512648
          ],
          [
           "Least Confidence",
           0.9302665616915984,
           0.9404546970512648
          ],
          [
           "Least Confidence",
           0.9302665616915984,
           0.9404546970512648
          ],
          [
           "Least Confidence",
           0.9302665616915984,
           0.9404546970512648
          ],
          [
           "Least Confidence",
           0.9302665616915984,
           0.9404546970512648
          ],
          [
           "Least Confidence",
           0.9302665616915984,
           0.9404546970512648
          ],
          [
           "Least Confidence",
           0.9302665616915984,
           0.9404546970512648
          ],
          [
           "Least Confidence",
           0.9302665616915984,
           0.9404546970512648
          ],
          [
           "Least Confidence",
           0.9302665616915984,
           0.9404546970512648
          ],
          [
           "Least Confidence",
           0.9302665616915984,
           0.9404546970512648
          ],
          [
           "Least Confidence",
           0.9302665616915984,
           0.9404546970512648
          ],
          [
           "Least Confidence",
           0.9302665616915984,
           0.9404546970512648
          ],
          [
           "Least Confidence",
           0.9302665616915984,
           0.9404546970512648
          ],
          [
           "Least Confidence",
           0.9302665616915984,
           0.9404546970512648
          ],
          [
           "Least Confidence",
           0.9302665616915984,
           0.9404546970512648
          ],
          [
           "Least Confidence",
           0.9302665616915984,
           0.9404546970512648
          ],
          [
           "Least Confidence",
           0.9302665616915984,
           0.9404546970512648
          ],
          [
           "Least Confidence",
           0.9302665616915984,
           0.9404546970512648
          ],
          [
           "Least Confidence",
           0.9302665616915984,
           0.9404546970512648
          ],
          [
           "Least Confidence",
           0.9302665616915984,
           0.9404546970512648
          ],
          [
           "Least Confidence",
           0.9302665616915984,
           0.9404546970512648
          ],
          [
           "Least Confidence",
           0.9302665616915984,
           0.9404546970512648
          ],
          [
           "Least Confidence",
           0.9302665616915984,
           0.9404546970512648
          ],
          [
           "Least Confidence",
           0.9302665616915984,
           0.9404546970512648
          ],
          [
           "Least Confidence",
           0.9302665616915984,
           0.9404546970512648
          ],
          [
           "Least Confidence",
           0.9302665616915984,
           0.9404546970512648
          ],
          [
           "Least Confidence",
           0.9302665616915984,
           0.9404546970512648
          ],
          [
           "Least Confidence",
           0.9302665616915984,
           0.9404546970512648
          ],
          [
           "Least Confidence",
           0.9302665616915984,
           0.9404546970512648
          ],
          [
           "Least Confidence",
           0.9302665616915984,
           0.9404546970512648
          ],
          [
           "Least Confidence",
           0.9302665616915984,
           0.9404546970512648
          ],
          [
           "Least Confidence",
           0.9302665616915984,
           0.9404546970512648
          ],
          [
           "Least Confidence",
           0.9302665616915984,
           0.9404546970512648
          ],
          [
           "Least Confidence",
           0.9302665616915984,
           0.9404546970512648
          ],
          [
           "Least Confidence",
           0.9302665616915984,
           0.9404546970512648
          ],
          [
           "Least Confidence",
           0.9302665616915984,
           0.9404546970512648
          ],
          [
           "Least Confidence",
           0.9302665616915984,
           0.9404546970512648
          ],
          [
           "Least Confidence",
           0.9302665616915984,
           0.9404546970512648
          ],
          [
           "Least Confidence",
           0.9302665616915984,
           0.9404546970512648
          ],
          [
           "Least Confidence",
           0.9302665616915984,
           0.9404546970512648
          ],
          [
           "Least Confidence",
           0.9302665616915984,
           0.9404546970512648
          ],
          [
           "Least Confidence",
           0.9302665616915984,
           0.9404546970512648
          ],
          [
           "Least Confidence",
           0.9302665616915984,
           0.9404546970512648
          ],
          [
           "Least Confidence",
           0.9302665616915984,
           0.9404546970512648
          ],
          [
           "Least Confidence",
           0.9302665616915984,
           0.9404546970512648
          ],
          [
           "Least Confidence",
           0.9302665616915984,
           0.9404546970512648
          ],
          [
           "Least Confidence",
           0.9302665616915984,
           0.9404546970512648
          ],
          [
           "Least Confidence",
           0.9302665616915984,
           0.9404546970512648
          ],
          [
           "Least Confidence",
           0.9302665616915984,
           0.9404546970512648
          ],
          [
           "Least Confidence",
           0.9302665616915984,
           0.9404546970512648
          ],
          [
           "Least Confidence",
           0.9302665616915984,
           0.9404546970512648
          ],
          [
           "Least Confidence",
           0.9302665616915984,
           0.9404546970512648
          ],
          [
           "Least Confidence",
           0.9302665616915984,
           0.9404546970512648
          ]
         ],
         "hovertemplate": "Strategy=%{customdata[0]}<br>Number of Labeled Samples=%{x:.0f}<br>MCC=%{y:.4f}<br>Accuracy=%{customdata[1]:.4f}<br>F1 Score (weighted)=%{customdata[2]:.4f}<extra></extra>",
         "legendgroup": "Least Confidence",
         "line": {
          "color": "green",
          "dash": "solid"
         },
         "marker": {
          "symbol": "circle"
         },
         "mode": "lines+markers",
         "name": "Least Confidence",
         "showlegend": true,
         "type": "scattergl",
         "x": {
          "bdata": "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",
          "dtype": "f8"
         },
         "xaxis": "x",
         "y": {
          "bdata": "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",
          "dtype": "f8"
         },
         "yaxis": "y"
        },
        {
         "customdata": [
          [
           "Margin of Confidence",
           0.8965245754133393,
           0.9154967219573068
          ],
          [
           "Margin of Confidence",
           0.9268923630637724,
           0.937972218093818
          ],
          [
           "Margin of Confidence",
           0.9300416151164098,
           0.940304116548574
          ],
          [
           "Margin of Confidence",
           0.9300416151164098,
           0.9403039980072022
          ],
          [
           "Margin of Confidence",
           0.9298166685412216,
           0.9401646746878032
          ],
          [
           "Margin of Confidence",
           0.9297041952536272,
           0.9400786080616632
          ],
          [
           "Margin of Confidence",
           0.9298166685412216,
           0.9401687340464648
          ],
          [
           "Margin of Confidence",
           0.9298166685412216,
           0.9401687340464648
          ],
          [
           "Margin of Confidence",
           0.9298166685412216,
           0.9401687340464648
          ],
          [
           "Margin of Confidence",
           0.9298166685412216,
           0.9401687340464648
          ],
          [
           "Margin of Confidence",
           0.9298166685412216,
           0.9401687340464648
          ],
          [
           "Margin of Confidence",
           0.9298166685412216,
           0.9401687340464648
          ],
          [
           "Margin of Confidence",
           0.9297041952536272,
           0.9400386870259638
          ],
          [
           "Margin of Confidence",
           0.9292543021032504,
           0.9395775502181792
          ],
          [
           "Margin of Confidence",
           0.9292543021032504,
           0.9395255718651078
          ],
          [
           "Margin of Confidence",
           0.9292543021032504,
           0.939398990634576
          ],
          [
           "Margin of Confidence",
           0.929591721966033,
           0.9392663205471068
          ],
          [
           "Margin of Confidence",
           0.9280170959397144,
           0.9366934218326358
          ],
          [
           "Margin of Confidence",
           0.9275672027893376,
           0.935416038588368
          ],
          [
           "Margin of Confidence",
           0.9285794623776852,
           0.9358369642461842
          ],
          [
           "Margin of Confidence",
           0.929591721966033,
           0.9365821342645528
          ],
          [
           "Margin of Confidence",
           0.9293667753908448,
           0.936401455841426
          ],
          [
           "Margin of Confidence",
           0.9294792486784388,
           0.9365530554166568
          ],
          [
           "Margin of Confidence",
           0.929591721966033,
           0.9366904406990176
          ],
          [
           "Margin of Confidence",
           0.929591721966033,
           0.9367364394809904
          ],
          [
           "Margin of Confidence",
           0.929591721966033,
           0.936691992813609
          ],
          [
           "Margin of Confidence",
           0.9298166685412216,
           0.9368548150131146
          ],
          [
           "Margin of Confidence",
           0.9297041952536272,
           0.9367112106479774
          ],
          [
           "Margin of Confidence",
           0.9297041952536272,
           0.9366758584172036
          ],
          [
           "Margin of Confidence",
           0.9299291418288156,
           0.9367798492746748
          ],
          [
           "Margin of Confidence",
           0.9302665616915984,
           0.9370800493921396
          ],
          [
           "Margin of Confidence",
           0.930154088404004,
           0.9370720939657454
          ],
          [
           "Margin of Confidence",
           0.9299291418288156,
           0.9367565433810948
          ],
          [
           "Margin of Confidence",
           0.9298166685412216,
           0.9367017531116782
          ],
          [
           "Margin of Confidence",
           0.9300416151164098,
           0.936825616721184
          ],
          [
           "Margin of Confidence",
           0.9299291418288156,
           0.9367583031749258
          ],
          [
           "Margin of Confidence",
           0.930154088404004,
           0.9369479073281368
          ],
          [
           "Margin of Confidence",
           0.930154088404004,
           0.9369905753683602
          ],
          [
           "Margin of Confidence",
           0.9302665616915984,
           0.937072477154426
          ],
          [
           "Margin of Confidence",
           0.9302665616915984,
           0.937072477154426
          ],
          [
           "Margin of Confidence",
           0.930154088404004,
           0.9369836156085382
          ],
          [
           "Margin of Confidence",
           0.930154088404004,
           0.9369836156085382
          ],
          [
           "Margin of Confidence",
           0.9302665616915984,
           0.9370835896153538
          ],
          [
           "Margin of Confidence",
           0.9302665616915984,
           0.9370835896153538
          ],
          [
           "Margin of Confidence",
           0.9300416151164098,
           0.936906056091702
          ],
          [
           "Margin of Confidence",
           0.930154088404004,
           0.9370348600346996
          ],
          [
           "Margin of Confidence",
           0.930154088404004,
           0.9369947581949106
          ],
          [
           "Margin of Confidence",
           0.930154088404004,
           0.9370348600346996
          ],
          [
           "Margin of Confidence",
           0.9299291418288156,
           0.9368174822872112
          ],
          [
           "Margin of Confidence",
           0.9300416151164098,
           0.936906056091702
          ],
          [
           "Margin of Confidence",
           0.9300416151164098,
           0.936906056091702
          ],
          [
           "Margin of Confidence",
           0.9299291418288156,
           0.9368174822872112
          ],
          [
           "Margin of Confidence",
           0.9303790349791924,
           0.9371725513809236
          ],
          [
           "Margin of Confidence",
           0.9304915082667866,
           0.9371804198109328
          ],
          [
           "Margin of Confidence",
           0.9307164548419752,
           0.9370426497348082
          ],
          [
           "Margin of Confidence",
           0.9308289281295692,
           0.9371328893494604
          ],
          [
           "Margin of Confidence",
           0.9311663479923518,
           0.9374044963910978
          ],
          [
           "Margin of Confidence",
           0.931278821279946,
           0.9374519344203208
          ],
          [
           "Margin of Confidence",
           0.9311663479923518,
           0.9373610609151966
          ],
          [
           "Margin of Confidence",
           0.931278821279946,
           0.9373189437837964
          ],
          [
           "Margin of Confidence",
           0.9310538747047576,
           0.9372264070718328
          ],
          [
           "Margin of Confidence",
           0.931278821279946,
           0.9374519344203208
          ],
          [
           "Margin of Confidence",
           0.9313912945675402,
           0.9375429612310444
          ],
          [
           "Margin of Confidence",
           0.9308289281295692,
           0.9371328893494604
          ],
          [
           "Margin of Confidence",
           0.9308289281295692,
           0.9371328893494604
          ],
          [
           "Margin of Confidence",
           0.9308289281295692,
           0.9371328893494604
          ],
          [
           "Margin of Confidence",
           0.9307164548419752,
           0.9372964341734348
          ],
          [
           "Margin of Confidence",
           0.9306039815543808,
           0.9371652731035056
          ],
          [
           "Margin of Confidence",
           0.9306039815543808,
           0.9371652731035056
          ],
          [
           "Margin of Confidence",
           0.9307164548419752,
           0.9372549183471688
          ],
          [
           "Margin of Confidence",
           0.9307164548419752,
           0.9373782135722
          ],
          [
           "Margin of Confidence",
           0.9306039815543808,
           0.9372068219128706
          ],
          [
           "Margin of Confidence",
           0.9304915082667866,
           0.937075766307563
          ],
          [
           "Margin of Confidence",
           0.9306039815543808,
           0.9372479518364204
          ],
          [
           "Margin of Confidence",
           0.9306039815543808,
           0.9372479518364204
          ],
          [
           "Margin of Confidence",
           0.9303790349791924,
           0.9370692026391372
          ],
          [
           "Margin of Confidence",
           0.9297041952536272,
           0.9367207508900688
          ],
          [
           "Margin of Confidence",
           0.9291418288156564,
           0.936734652407521
          ],
          [
           "Margin of Confidence",
           0.9291418288156564,
           0.9366613143365228
          ],
          [
           "Margin of Confidence",
           0.929029355528062,
           0.9366112148146096
          ],
          [
           "Margin of Confidence",
           0.929029355528062,
           0.9365743518704912
          ],
          [
           "Margin of Confidence",
           0.929029355528062,
           0.9366112148146096
          ],
          [
           "Margin of Confidence",
           0.929591721966033,
           0.9375899047562304
          ],
          [
           "Margin of Confidence",
           0.9297041952536272,
           0.9376764495138716
          ],
          [
           "Margin of Confidence",
           0.9294792486784388,
           0.9375034601664994
          ],
          [
           "Margin of Confidence",
           0.929591721966033,
           0.9375899047562304
          ],
          [
           "Margin of Confidence",
           0.9298166685412216,
           0.9379448448482028
          ],
          [
           "Margin of Confidence",
           0.9294792486784388,
           0.9376804767636908
          ],
          [
           "Margin of Confidence",
           0.9298166685412216,
           0.9379767057007022
          ],
          [
           "Margin of Confidence",
           0.9297041952536272,
           0.9378904310937892
          ],
          [
           "Margin of Confidence",
           0.9294792486784388,
           0.9375625014046868
          ],
          [
           "Margin of Confidence",
           0.9293667753908448,
           0.9382463609754492
          ],
          [
           "Margin of Confidence",
           0.9293667753908448,
           0.938188638930286
          ],
          [
           "Margin of Confidence",
           0.9293667753908448,
           0.938188638930286
          ],
          [
           "Margin of Confidence",
           0.9293667753908448,
           0.9382169600979516
          ],
          [
           "Margin of Confidence",
           0.9293667753908448,
           0.9382169600979516
          ],
          [
           "Margin of Confidence",
           0.9292543021032504,
           0.938132268872308
          ],
          [
           "Margin of Confidence",
           0.9293667753908448,
           0.9382169600979516
          ],
          [
           "Margin of Confidence",
           0.9293667753908448,
           0.9382463609754492
          ],
          [
           "Margin of Confidence",
           0.9292543021032504,
           0.938132268872308
          ],
          [
           "Margin of Confidence",
           0.9292543021032504,
           0.9381616915862504
          ],
          [
           "Margin of Confidence",
           0.9304915082667866,
           0.9399118431651572
          ],
          [
           "Margin of Confidence",
           0.930154088404004,
           0.9400183558608176
          ],
          [
           "Margin of Confidence",
           0.9302665616915984,
           0.9401255911684008
          ],
          [
           "Margin of Confidence",
           0.930154088404004,
           0.9400183558608176
          ],
          [
           "Margin of Confidence",
           0.9302665616915984,
           0.9401255911684008
          ],
          [
           "Margin of Confidence",
           0.9302665616915984,
           0.9401017120124088
          ],
          [
           "Margin of Confidence",
           0.9302665616915984,
           0.9401255911684008
          ],
          [
           "Margin of Confidence",
           0.9302665616915984,
           0.9401255911684008
          ],
          [
           "Margin of Confidence",
           0.930154088404004,
           0.9400422561372402
          ],
          [
           "Margin of Confidence",
           0.930154088404004,
           0.9401520003162982
          ],
          [
           "Margin of Confidence",
           0.9302665616915984,
           0.9404546970512648
          ],
          [
           "Margin of Confidence",
           0.9302665616915984,
           0.9404546970512648
          ],
          [
           "Margin of Confidence",
           0.9302665616915984,
           0.9404546970512648
          ],
          [
           "Margin of Confidence",
           0.9302665616915984,
           0.9404546970512648
          ],
          [
           "Margin of Confidence",
           0.9302665616915984,
           0.9404546970512648
          ],
          [
           "Margin of Confidence",
           0.9302665616915984,
           0.9404546970512648
          ],
          [
           "Margin of Confidence",
           0.9302665616915984,
           0.9404546970512648
          ],
          [
           "Margin of Confidence",
           0.9302665616915984,
           0.9404546970512648
          ],
          [
           "Margin of Confidence",
           0.9302665616915984,
           0.9404546970512648
          ],
          [
           "Margin of Confidence",
           0.9302665616915984,
           0.9404546970512648
          ],
          [
           "Margin of Confidence",
           0.9302665616915984,
           0.9404546970512648
          ],
          [
           "Margin of Confidence",
           0.9302665616915984,
           0.9404546970512648
          ],
          [
           "Margin of Confidence",
           0.9302665616915984,
           0.9404546970512648
          ],
          [
           "Margin of Confidence",
           0.9302665616915984,
           0.9404546970512648
          ],
          [
           "Margin of Confidence",
           0.9302665616915984,
           0.9404546970512648
          ],
          [
           "Margin of Confidence",
           0.9302665616915984,
           0.9404546970512648
          ],
          [
           "Margin of Confidence",
           0.9302665616915984,
           0.9404546970512648
          ],
          [
           "Margin of Confidence",
           0.9302665616915984,
           0.9404546970512648
          ],
          [
           "Margin of Confidence",
           0.9302665616915984,
           0.9404546970512648
          ],
          [
           "Margin of Confidence",
           0.9302665616915984,
           0.9404546970512648
          ],
          [
           "Margin of Confidence",
           0.9302665616915984,
           0.9404546970512648
          ],
          [
           "Margin of Confidence",
           0.9302665616915984,
           0.9404546970512648
          ],
          [
           "Margin of Confidence",
           0.9302665616915984,
           0.9404546970512648
          ],
          [
           "Margin of Confidence",
           0.9302665616915984,
           0.9404546970512648
          ],
          [
           "Margin of Confidence",
           0.9302665616915984,
           0.9404546970512648
          ],
          [
           "Margin of Confidence",
           0.9302665616915984,
           0.9404546970512648
          ],
          [
           "Margin of Confidence",
           0.9302665616915984,
           0.9404546970512648
          ],
          [
           "Margin of Confidence",
           0.9302665616915984,
           0.9404546970512648
          ],
          [
           "Margin of Confidence",
           0.9302665616915984,
           0.9404546970512648
          ],
          [
           "Margin of Confidence",
           0.9302665616915984,
           0.9404546970512648
          ],
          [
           "Margin of Confidence",
           0.9302665616915984,
           0.9404546970512648
          ],
          [
           "Margin of Confidence",
           0.9302665616915984,
           0.9404546970512648
          ],
          [
           "Margin of Confidence",
           0.9302665616915984,
           0.9404546970512648
          ],
          [
           "Margin of Confidence",
           0.9302665616915984,
           0.9404546970512648
          ],
          [
           "Margin of Confidence",
           0.9302665616915984,
           0.9404546970512648
          ],
          [
           "Margin of Confidence",
           0.9302665616915984,
           0.9404546970512648
          ],
          [
           "Margin of Confidence",
           0.9302665616915984,
           0.9404546970512648
          ],
          [
           "Margin of Confidence",
           0.9302665616915984,
           0.9404546970512648
          ],
          [
           "Margin of Confidence",
           0.9302665616915984,
           0.9404546970512648
          ],
          [
           "Margin of Confidence",
           0.9302665616915984,
           0.9404546970512648
          ],
          [
           "Margin of Confidence",
           0.9302665616915984,
           0.9404546970512648
          ],
          [
           "Margin of Confidence",
           0.9302665616915984,
           0.9404546970512648
          ],
          [
           "Margin of Confidence",
           0.9302665616915984,
           0.9404546970512648
          ],
          [
           "Margin of Confidence",
           0.9302665616915984,
           0.9404546970512648
          ],
          [
           "Margin of Confidence",
           0.9302665616915984,
           0.9404546970512648
          ],
          [
           "Margin of Confidence",
           0.9302665616915984,
           0.9404546970512648
          ],
          [
           "Margin of Confidence",
           0.9302665616915984,
           0.9404546970512648
          ],
          [
           "Margin of Confidence",
           0.9302665616915984,
           0.9404546970512648
          ],
          [
           "Margin of Confidence",
           0.9302665616915984,
           0.9404546970512648
          ],
          [
           "Margin of Confidence",
           0.9302665616915984,
           0.9404546970512648
          ],
          [
           "Margin of Confidence",
           0.9302665616915984,
           0.9404546970512648
          ],
          [
           "Margin of Confidence",
           0.9302665616915984,
           0.9404546970512648
          ],
          [
           "Margin of Confidence",
           0.9302665616915984,
           0.9404546970512648
          ],
          [
           "Margin of Confidence",
           0.9302665616915984,
           0.9404546970512648
          ],
          [
           "Margin of Confidence",
           0.9302665616915984,
           0.9404546970512648
          ],
          [
           "Margin of Confidence",
           0.9302665616915984,
           0.9404546970512648
          ],
          [
           "Margin of Confidence",
           0.9302665616915984,
           0.9404546970512648
          ],
          [
           "Margin of Confidence",
           0.9302665616915984,
           0.9404546970512648
          ],
          [
           "Margin of Confidence",
           0.9302665616915984,
           0.9404546970512648
          ],
          [
           "Margin of Confidence",
           0.9302665616915984,
           0.9404546970512648
          ],
          [
           "Margin of Confidence",
           0.9302665616915984,
           0.9404546970512648
          ],
          [
           "Margin of Confidence",
           0.9302665616915984,
           0.9404546970512648
          ],
          [
           "Margin of Confidence",
           0.9302665616915984,
           0.9404546970512648
          ],
          [
           "Margin of Confidence",
           0.9302665616915984,
           0.9404546970512648
          ],
          [
           "Margin of Confidence",
           0.9302665616915984,
           0.9404546970512648
          ],
          [
           "Margin of Confidence",
           0.9302665616915984,
           0.9404546970512648
          ],
          [
           "Margin of Confidence",
           0.9302665616915984,
           0.9404546970512648
          ],
          [
           "Margin of Confidence",
           0.9302665616915984,
           0.9404546970512648
          ],
          [
           "Margin of Confidence",
           0.9302665616915984,
           0.9404546970512648
          ],
          [
           "Margin of Confidence",
           0.9302665616915984,
           0.9404546970512648
          ],
          [
           "Margin of Confidence",
           0.9302665616915984,
           0.9404546970512648
          ],
          [
           "Margin of Confidence",
           0.9302665616915984,
           0.9404546970512648
          ],
          [
           "Margin of Confidence",
           0.9302665616915984,
           0.9404546970512648
          ],
          [
           "Margin of Confidence",
           0.9302665616915984,
           0.9404546970512648
          ],
          [
           "Margin of Confidence",
           0.9302665616915984,
           0.9404546970512648
          ],
          [
           "Margin of Confidence",
           0.9302665616915984,
           0.9404546970512648
          ],
          [
           "Margin of Confidence",
           0.9302665616915984,
           0.9404546970512648
          ],
          [
           "Margin of Confidence",
           0.9302665616915984,
           0.9404546970512648
          ],
          [
           "Margin of Confidence",
           0.9302665616915984,
           0.9404546970512648
          ],
          [
           "Margin of Confidence",
           0.9302665616915984,
           0.9404546970512648
          ],
          [
           "Margin of Confidence",
           0.9302665616915984,
           0.9404546970512648
          ],
          [
           "Margin of Confidence",
           0.9302665616915984,
           0.9404546970512648
          ],
          [
           "Margin of Confidence",
           0.9302665616915984,
           0.9404546970512648
          ],
          [
           "Margin of Confidence",
           0.9302665616915984,
           0.9404546970512648
          ],
          [
           "Margin of Confidence",
           0.9302665616915984,
           0.9404546970512648
          ],
          [
           "Margin of Confidence",
           0.9302665616915984,
           0.9404546970512648
          ],
          [
           "Margin of Confidence",
           0.9302665616915984,
           0.9404546970512648
          ],
          [
           "Margin of Confidence",
           0.9302665616915984,
           0.9404546970512648
          ],
          [
           "Margin of Confidence",
           0.9302665616915984,
           0.9404546970512648
          ],
          [
           "Margin of Confidence",
           0.9302665616915984,
           0.9404546970512648
          ],
          [
           "Margin of Confidence",
           0.9302665616915984,
           0.9404546970512648
          ],
          [
           "Margin of Confidence",
           0.9302665616915984,
           0.9404546970512648
          ],
          [
           "Margin of Confidence",
           0.9302665616915984,
           0.9404546970512648
          ],
          [
           "Margin of Confidence",
           0.9302665616915984,
           0.9404546970512648
          ],
          [
           "Margin of Confidence",
           0.9302665616915984,
           0.9404546970512648
          ],
          [
           "Margin of Confidence",
           0.9302665616915984,
           0.9404546970512648
          ],
          [
           "Margin of Confidence",
           0.9302665616915984,
           0.9404546970512648
          ],
          [
           "Margin of Confidence",
           0.9302665616915984,
           0.9404546970512648
          ],
          [
           "Margin of Confidence",
           0.9302665616915984,
           0.9404546970512648
          ],
          [
           "Margin of Confidence",
           0.9302665616915984,
           0.9404546970512648
          ],
          [
           "Margin of Confidence",
           0.9302665616915984,
           0.9404546970512648
          ],
          [
           "Margin of Confidence",
           0.9302665616915984,
           0.9404546970512648
          ],
          [
           "Margin of Confidence",
           0.9302665616915984,
           0.9404546970512648
          ],
          [
           "Margin of Confidence",
           0.9302665616915984,
           0.9404546970512648
          ],
          [
           "Margin of Confidence",
           0.9302665616915984,
           0.9404546970512648
          ],
          [
           "Margin of Confidence",
           0.9302665616915984,
           0.9404546970512648
          ],
          [
           "Margin of Confidence",
           0.9302665616915984,
           0.9404546970512648
          ],
          [
           "Margin of Confidence",
           0.9302665616915984,
           0.9404546970512648
          ],
          [
           "Margin of Confidence",
           0.9302665616915984,
           0.9404546970512648
          ],
          [
           "Margin of Confidence",
           0.9302665616915984,
           0.9404546970512648
          ],
          [
           "Margin of Confidence",
           0.9302665616915984,
           0.9404546970512648
          ],
          [
           "Margin of Confidence",
           0.9302665616915984,
           0.9404546970512648
          ],
          [
           "Margin of Confidence",
           0.9302665616915984,
           0.9404546970512648
          ],
          [
           "Margin of Confidence",
           0.9302665616915984,
           0.9404546970512648
          ],
          [
           "Margin of Confidence",
           0.9302665616915984,
           0.9404546970512648
          ],
          [
           "Margin of Confidence",
           0.9302665616915984,
           0.9404546970512648
          ],
          [
           "Margin of Confidence",
           0.9302665616915984,
           0.9404546970512648
          ],
          [
           "Margin of Confidence",
           0.9302665616915984,
           0.9404546970512648
          ],
          [
           "Margin of Confidence",
           0.9302665616915984,
           0.9404546970512648
          ],
          [
           "Margin of Confidence",
           0.9302665616915984,
           0.9404546970512648
          ],
          [
           "Margin of Confidence",
           0.9302665616915984,
           0.9404546970512648
          ],
          [
           "Margin of Confidence",
           0.9302665616915984,
           0.9404546970512648
          ],
          [
           "Margin of Confidence",
           0.9302665616915984,
           0.9404546970512648
          ],
          [
           "Margin of Confidence",
           0.9302665616915984,
           0.9404546970512648
          ],
          [
           "Margin of Confidence",
           0.9302665616915984,
           0.9404546970512648
          ],
          [
           "Margin of Confidence",
           0.9302665616915984,
           0.9404546970512648
          ],
          [
           "Margin of Confidence",
           0.9302665616915984,
           0.9404546970512648
          ],
          [
           "Margin of Confidence",
           0.9302665616915984,
           0.9404546970512648
          ],
          [
           "Margin of Confidence",
           0.9302665616915984,
           0.9404546970512648
          ],
          [
           "Margin of Confidence",
           0.9302665616915984,
           0.9404546970512648
          ],
          [
           "Margin of Confidence",
           0.9302665616915984,
           0.9404546970512648
          ],
          [
           "Margin of Confidence",
           0.9302665616915984,
           0.9404546970512648
          ],
          [
           "Margin of Confidence",
           0.9302665616915984,
           0.9404546970512648
          ],
          [
           "Margin of Confidence",
           0.9302665616915984,
           0.9404546970512648
          ],
          [
           "Margin of Confidence",
           0.9302665616915984,
           0.9404546970512648
          ],
          [
           "Margin of Confidence",
           0.9302665616915984,
           0.9404546970512648
          ],
          [
           "Margin of Confidence",
           0.9302665616915984,
           0.9404546970512648
          ],
          [
           "Margin of Confidence",
           0.9302665616915984,
           0.9404546970512648
          ],
          [
           "Margin of Confidence",
           0.9302665616915984,
           0.9404546970512648
          ],
          [
           "Margin of Confidence",
           0.9302665616915984,
           0.9404546970512648
          ],
          [
           "Margin of Confidence",
           0.9302665616915984,
           0.9404546970512648
          ],
          [
           "Margin of Confidence",
           0.9302665616915984,
           0.9404546970512648
          ],
          [
           "Margin of Confidence",
           0.9302665616915984,
           0.9404546970512648
          ],
          [
           "Margin of Confidence",
           0.9302665616915984,
           0.9404546970512648
          ],
          [
           "Margin of Confidence",
           0.9302665616915984,
           0.9404546970512648
          ],
          [
           "Margin of Confidence",
           0.9302665616915984,
           0.9404546970512648
          ],
          [
           "Margin of Confidence",
           0.9302665616915984,
           0.9404546970512648
          ],
          [
           "Margin of Confidence",
           0.9302665616915984,
           0.9404546970512648
          ],
          [
           "Margin of Confidence",
           0.9302665616915984,
           0.9404546970512648
          ],
          [
           "Margin of Confidence",
           0.9302665616915984,
           0.9404546970512648
          ],
          [
           "Margin of Confidence",
           0.9302665616915984,
           0.9404546970512648
          ],
          [
           "Margin of Confidence",
           0.9302665616915984,
           0.9404546970512648
          ],
          [
           "Margin of Confidence",
           0.9302665616915984,
           0.9404546970512648
          ],
          [
           "Margin of Confidence",
           0.9302665616915984,
           0.9404546970512648
          ],
          [
           "Margin of Confidence",
           0.9302665616915984,
           0.9404546970512648
          ],
          [
           "Margin of Confidence",
           0.9302665616915984,
           0.9404546970512648
          ],
          [
           "Margin of Confidence",
           0.9302665616915984,
           0.9404546970512648
          ],
          [
           "Margin of Confidence",
           0.9302665616915984,
           0.9404546970512648
          ],
          [
           "Margin of Confidence",
           0.9302665616915984,
           0.9404546970512648
          ],
          [
           "Margin of Confidence",
           0.9302665616915984,
           0.9404546970512648
          ],
          [
           "Margin of Confidence",
           0.9302665616915984,
           0.9404546970512648
          ],
          [
           "Margin of Confidence",
           0.9302665616915984,
           0.9404546970512648
          ],
          [
           "Margin of Confidence",
           0.9302665616915984,
           0.9404546970512648
          ],
          [
           "Margin of Confidence",
           0.9302665616915984,
           0.9404546970512648
          ],
          [
           "Margin of Confidence",
           0.9302665616915984,
           0.9404546970512648
          ],
          [
           "Margin of Confidence",
           0.9302665616915984,
           0.9404546970512648
          ],
          [
           "Margin of Confidence",
           0.9302665616915984,
           0.9404546970512648
          ],
          [
           "Margin of Confidence",
           0.9302665616915984,
           0.9404546970512648
          ],
          [
           "Margin of Confidence",
           0.9302665616915984,
           0.9404546970512648
          ],
          [
           "Margin of Confidence",
           0.9302665616915984,
           0.9404546970512648
          ],
          [
           "Margin of Confidence",
           0.9302665616915984,
           0.9404546970512648
          ],
          [
           "Margin of Confidence",
           0.9302665616915984,
           0.9404546970512648
          ],
          [
           "Margin of Confidence",
           0.9302665616915984,
           0.9404546970512648
          ],
          [
           "Margin of Confidence",
           0.9302665616915984,
           0.9404546970512648
          ],
          [
           "Margin of Confidence",
           0.9302665616915984,
           0.9404546970512648
          ],
          [
           "Margin of Confidence",
           0.9302665616915984,
           0.9404546970512648
          ],
          [
           "Margin of Confidence",
           0.9302665616915984,
           0.9404546970512648
          ],
          [
           "Margin of Confidence",
           0.9302665616915984,
           0.9404546970512648
          ],
          [
           "Margin of Confidence",
           0.9302665616915984,
           0.9404546970512648
          ],
          [
           "Margin of Confidence",
           0.9302665616915984,
           0.9404546970512648
          ],
          [
           "Margin of Confidence",
           0.9302665616915984,
           0.9404546970512648
          ],
          [
           "Margin of Confidence",
           0.9302665616915984,
           0.9404546970512648
          ],
          [
           "Margin of Confidence",
           0.9302665616915984,
           0.9404546970512648
          ],
          [
           "Margin of Confidence",
           0.9302665616915984,
           0.9404546970512648
          ],
          [
           "Margin of Confidence",
           0.9302665616915984,
           0.9404546970512648
          ],
          [
           "Margin of Confidence",
           0.9302665616915984,
           0.9404546970512648
          ],
          [
           "Margin of Confidence",
           0.9302665616915984,
           0.9404546970512648
          ],
          [
           "Margin of Confidence",
           0.9302665616915984,
           0.9404546970512648
          ],
          [
           "Margin of Confidence",
           0.9302665616915984,
           0.9404546970512648
          ],
          [
           "Margin of Confidence",
           0.9302665616915984,
           0.9404546970512648
          ],
          [
           "Margin of Confidence",
           0.9302665616915984,
           0.9404546970512648
          ],
          [
           "Margin of Confidence",
           0.9302665616915984,
           0.9404546970512648
          ],
          [
           "Margin of Confidence",
           0.9302665616915984,
           0.9404546970512648
          ],
          [
           "Margin of Confidence",
           0.9302665616915984,
           0.9404546970512648
          ],
          [
           "Margin of Confidence",
           0.9302665616915984,
           0.9404546970512648
          ],
          [
           "Margin of Confidence",
           0.9302665616915984,
           0.9404546970512648
          ],
          [
           "Margin of Confidence",
           0.9302665616915984,
           0.9404546970512648
          ],
          [
           "Margin of Confidence",
           0.9302665616915984,
           0.9404546970512648
          ],
          [
           "Margin of Confidence",
           0.9302665616915984,
           0.9404546970512648
          ],
          [
           "Margin of Confidence",
           0.9302665616915984,
           0.9404546970512648
          ],
          [
           "Margin of Confidence",
           0.9302665616915984,
           0.9404546970512648
          ],
          [
           "Margin of Confidence",
           0.9302665616915984,
           0.9404546970512648
          ],
          [
           "Margin of Confidence",
           0.9302665616915984,
           0.9404546970512648
          ],
          [
           "Margin of Confidence",
           0.9302665616915984,
           0.9404546970512648
          ],
          [
           "Margin of Confidence",
           0.9302665616915984,
           0.9404546970512648
          ],
          [
           "Margin of Confidence",
           0.9302665616915984,
           0.9404546970512648
          ],
          [
           "Margin of Confidence",
           0.9302665616915984,
           0.9404546970512648
          ],
          [
           "Margin of Confidence",
           0.9302665616915984,
           0.9404546970512648
          ],
          [
           "Margin of Confidence",
           0.9302665616915984,
           0.9404546970512648
          ],
          [
           "Margin of Confidence",
           0.9302665616915984,
           0.9404546970512648
          ],
          [
           "Margin of Confidence",
           0.9302665616915984,
           0.9404546970512648
          ],
          [
           "Margin of Confidence",
           0.9302665616915984,
           0.9404546970512648
          ],
          [
           "Margin of Confidence",
           0.9302665616915984,
           0.9404546970512648
          ],
          [
           "Margin of Confidence",
           0.9302665616915984,
           0.9404546970512648
          ],
          [
           "Margin of Confidence",
           0.9302665616915984,
           0.9404546970512648
          ],
          [
           "Margin of Confidence",
           0.9302665616915984,
           0.9404546970512648
          ],
          [
           "Margin of Confidence",
           0.9302665616915984,
           0.9404546970512648
          ],
          [
           "Margin of Confidence",
           0.9302665616915984,
           0.9404546970512648
          ],
          [
           "Margin of Confidence",
           0.9302665616915984,
           0.9404546970512648
          ],
          [
           "Margin of Confidence",
           0.9302665616915984,
           0.9404546970512648
          ],
          [
           "Margin of Confidence",
           0.9302665616915984,
           0.9404546970512648
          ],
          [
           "Margin of Confidence",
           0.9302665616915984,
           0.9404546970512648
          ],
          [
           "Margin of Confidence",
           0.9302665616915984,
           0.9404546970512648
          ],
          [
           "Margin of Confidence",
           0.9302665616915984,
           0.9404546970512648
          ],
          [
           "Margin of Confidence",
           0.9302665616915984,
           0.9404546970512648
          ],
          [
           "Margin of Confidence",
           0.9302665616915984,
           0.9404546970512648
          ],
          [
           "Margin of Confidence",
           0.9302665616915984,
           0.9404546970512648
          ],
          [
           "Margin of Confidence",
           0.9302665616915984,
           0.9404546970512648
          ],
          [
           "Margin of Confidence",
           0.9302665616915984,
           0.9404546970512648
          ],
          [
           "Margin of Confidence",
           0.9302665616915984,
           0.9404546970512648
          ],
          [
           "Margin of Confidence",
           0.9302665616915984,
           0.9404546970512648
          ],
          [
           "Margin of Confidence",
           0.9302665616915984,
           0.9404546970512648
          ],
          [
           "Margin of Confidence",
           0.9302665616915984,
           0.9404546970512648
          ],
          [
           "Margin of Confidence",
           0.9302665616915984,
           0.9404546970512648
          ],
          [
           "Margin of Confidence",
           0.9302665616915984,
           0.9404546970512648
          ],
          [
           "Margin of Confidence",
           0.9302665616915984,
           0.9404546970512648
          ],
          [
           "Margin of Confidence",
           0.9302665616915984,
           0.9404546970512648
          ],
          [
           "Margin of Confidence",
           0.9302665616915984,
           0.9404546970512648
          ],
          [
           "Margin of Confidence",
           0.9302665616915984,
           0.9404546970512648
          ],
          [
           "Margin of Confidence",
           0.9302665616915984,
           0.9404546970512648
          ],
          [
           "Margin of Confidence",
           0.9302665616915984,
           0.9404546970512648
          ],
          [
           "Margin of Confidence",
           0.9302665616915984,
           0.9404546970512648
          ],
          [
           "Margin of Confidence",
           0.9302665616915984,
           0.9404546970512648
          ]
         ],
         "hovertemplate": "Strategy=%{customdata[0]}<br>Number of Labeled Samples=%{x:.0f}<br>MCC=%{y:.4f}<br>Accuracy=%{customdata[1]:.4f}<br>F1 Score (weighted)=%{customdata[2]:.4f}<extra></extra>",
         "legendgroup": "Margin of Confidence",
         "line": {
          "color": "purple",
          "dash": "solid"
         },
         "marker": {
          "symbol": "circle"
         },
         "mode": "lines+markers",
         "name": "Margin of Confidence",
         "showlegend": true,
         "type": "scattergl",
         "x": {
          "bdata": "AAAAAABAf0AAAAAAAMCCQAAAAAAA4IVAAAAAAAAAiUAAAAAAACCMQAAAAAAAQI9AAAAAAAAwkUAAAAAAAMCSQAAAAAAAUJRAAAAAAADglUAAAAAAAHCXQAAAAAAAAJlAAAAAAACQmkAAAAAAACCcQAAAAAAAsJ1AAAAAAABAn0AAAAAAAGigQAAAAAAAMKFAAAAAAAD4oUAAAAAAAMCiQAAAAAAAiKNAAAAAAABQpEAAAAAAABilQAAAAAAA4KVAAAAAAACopkAAAAAAAHCnQAAAAAAAOKhAAAAAAAAAqUAAAAAAAMipQAAAAAAAkKpAAAAAAABYq0AAAAAAACCsQAAAAAAA6KxAAAAAAACwrUAAAAAAAHiuQAAAAAAAQK9AAAAAAAAEsEAAAAAAAGiwQAAAAAAAzLBAAAAAAAAwsUAAAAAAAJSxQAAAAAAA+LFAAAAAAABcskAAAAAAAMCyQAAAAAAAJLNAAAAAAACIs0AAAAAAAOyzQAAAAAAAULRAAAAAAAC0tEAAAAAAABi1QAAAAAAAfLVAAAAAAADgtUAAAAAAAES2QAAAAAAAqLZAAAAAAAAMt0AAAAAAAHC3QAAAAAAA1LdAAAAAAAA4uEAAAAAAAJy4QAAAAAAAALlAAAAAAABkuUAAAAAAAMi5QAAAAAAALLpAAAAAAACQukAAAAAAAPS6QAAAAAAAWLtAAAAAAAC8u0AAAAAAACC8QAAAAAAAhLxAAAAAAADovEAAAAAAAEy9QAAAAAAAsL1AAAAAAAAUvkAAAAAAAHi+QAAAAAAA3L5AAAAAAABAv0AAAAAAAKS/QAAAAAAABMBAAAAAAAA2wEAAAAAAAGjAQAAAAAAAmsBAAAAAAADMwEAAAAAAAP7AQAAAAAAAMMFAAAAAAABiwUAAAAAAAJTBQAAAAAAAxsFAAAAAAAD4wUAAAAAAACrCQAAAAAAAXMJAAAAAAACOwkAAAAAAAMDCQAAAAAAA8sJAAAAAAAAkw0AAAAAAAFbDQAAAAAAAiMNAAAAAAAC6w0AAAAAAAOzDQAAAAAAAHsRAAAAAAABQxEAAAAAAAILEQAAAAAAAtMRAAAAAAADmxEAAAAAAABjFQAAAAAAASsVAAAAAAAB8xUAAAAAAAK7FQAAAAAAA4MVAAAAAAAASxkAAAAAAAETGQAAAAAAAdsZAAAAAAACoxkAAAAAAANrGQAAAAAAADMdAAAAAAAA+x0AAAAAAAHDHQAAAAAAAosdAAAAAAADUx0AAAAAAAAbIQAAAAAAAOMhAAAAAAABqyEAAAAAAAJzIQAAAAAAAzshAAAAAAAAAyUAAAAAAADLJQAAAAAAAZMlAAAAAAACWyUAAAAAAAMjJQAAAAAAA+slAAAAAAAAsykAAAAAAAF7KQAAAAAAAkMpAAAAAAADCykAAAAAAAPTKQAAAAAAAJstAAAAAAABYy0AAAAAAAIrLQAAAAAAAvMtAAAAAAADuy0AAAAAAACDMQAAAAAAAUsxAAAAAAACEzEAAAAAAALbMQAAAAAAA6MxAAAAAAAAazUAAAAAAAEzNQAAAAAAAfs1AAAAAAACwzUAAAAAAAOLNQAAAAAAAFM5AAAAAAABGzkAAAAAAAHjOQAAAAAAAqs5AAAAAAADczkAAAAAAAA7PQAAAAAAAQM9AAAAAAAByz0AAAAAAAKTPQAAAAAAA1s9AAAAAAAAE0EAAAAAAAB3QQAAAAAAANtBAAAAAAABP0EAAAAAAAGjQQAAAAAAAgdBAAAAAAACa0EAAAAAAALPQQAAAAAAAzNBAAAAAAADl0EAAAAAAAP7QQAAAAAAAF9FAAAAAAAAw0UAAAAAAAEnRQAAAAAAAYtFAAAAAAAB70UAAAAAAAJTRQAAAAAAArdFAAAAAAADG0UAAAAAAAN/RQAAAAAAA+NFAAAAAAAAR0kAAAAAAACrSQAAAAAAAQ9JAAAAAAABc0kAAAAAAAHXSQAAAAAAAjtJAAAAAAACn0kAAAAAAAMDSQAAAAAAA2dJAAAAAAADy0kAAAAAAAAvTQAAAAAAAJNNAAAAAAAA900AAAAAAAFbTQAAAAAAAb9NAAAAAAACI00AAAAAAAKHTQAAAAAAAutNAAAAAAADT00AAAAAAAOzTQAAAAAAABdRAAAAAAAAe1EAAAAAAADfUQAAAAAAAUNRAAAAAAABp1EAAAAAAAILUQAAAAAAAm9RAAAAAAAC01EAAAAAAAM3UQAAAAAAA5tRAAAAAAAD/1EAAAAAAABjVQAAAAAAAMdVAAAAAAABK1UAAAAAAAGPVQAAAAAAAfNVAAAAAAACV1UAAAAAAAK7VQAAAAAAAx9VAAAAAAADg1UAAAAAAAPnVQAAAAAAAEtZAAAAAAAAr1kAAAAAAAETWQAAAAAAAXdZAAAAAAAB21kAAAAAAAI/WQAAAAAAAqNZAAAAAAADB1kAAAAAAANrWQAAAAAAA89ZAAAAAAAAM10AAAAAAACXXQAAAAAAAPtdAAAAAAABX10AAAAAAAHDXQAAAAAAAiddAAAAAAACi10AAAAAAALvXQAAAAAAA1NdAAAAAAADt10AAAAAAAAbYQAAAAAAAH9hAAAAAAAA42EAAAAAAAFHYQAAAAAAAathAAAAAAACD2EAAAAAAAJzYQAAAAAAAtdhAAAAAAADO2EAAAAAAAOfYQAAAAAAAANlAAAAAAAAZ2UAAAAAAADLZQAAAAAAAS9lAAAAAAABk2UAAAAAAAH3ZQAAAAAAAltlAAAAAAACv2UAAAAAAAMjZQAAAAAAA4dlAAAAAAAD62UAAAAAAABPaQAAAAAAALNpAAAAAAABF2kAAAAAAAF7aQAAAAAAAd9pAAAAAAACQ2kAAAAAAAKnaQAAAAAAAwtpAAAAAAADb2kAAAAAAAPTaQAAAAAAADdtAAAAAAAAm20AAAAAAAD/bQAAAAAAAWNtAAAAAAABx20AAAAAAAIrbQAAAAAAAo9tAAAAAAAC820AAAAAAANXbQAAAAAAA7ttAAAAAAAAH3EAAAAAAACDcQAAAAAAAOdxAAAAAAABS3EAAAAAAAGvcQAAAAAAAhNxAAAAAAACd3EAAAAAAALbcQAAAAAAAz9xAAAAAAADo3EAAAAAAAAHdQAAAAAAAGt1AAAAAAAAz3UAAAAAAAEzdQAAAAAAAZd1AAAAAAAB+3UAAAAAAAJfdQAAAAAAAsN1AAAAAAADJ3UAAAAAAAOLdQAAAAAAA+91AAAAAAAAU3kAAAAAAAC3eQAAAAAAARt5AAAAAAABf3kAAAAAAAHjeQAAAAAAAkd5AAAAAAACq3kAAAAAAAMPeQAAAAAAA3N5AAAAAAAD13kAAAAAAAA7fQAAAAAAAJ99AAAAAAABA30AAAAAAAFnfQAAAAAAAct9AAAAAAACL30AAAAAAAKTfQAAAAAAAvd9AAAAAAADW30AAAAAAAO/fQAAAAAAABOBAAAAAAIAQ4EAAAAAAAB3gQAAAAACAKeBAAAAAAAA24EAAAAAAgELgQAAAAAAAT+BAAAAAAIBb4EAAAAAAAGjgQAAAAACAdOBAAAAAAACB4EAAAAAAgI3gQAAAAAAAmuBAAAAAAICm4EAAAAAAALPgQAAAAACAv+BAAAAAAADM4EAAAAAAgNjgQAAAAAAA5eBAAAAAAIDx4EAAAAAAAP7gQAAAAACACuFAAAAAAAAX4UAAAAAAgCPhQAAAAAAAMOFAAAAAAIA84UAAAAAAAEnhQAAAAACAVeFAAAAAAEBd4UAAAAAAQF3hQAAAAABAXeFA",
          "dtype": "f8"
         },
         "xaxis": "x",
         "y": {
          "bdata": "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",
          "dtype": "f8"
         },
         "yaxis": "y"
        },
        {
         "customdata": [
          [
           "Random",
           0.8965245754133393,
           0.9154967219573068
          ],
          [
           "Random",
           0.907771904172759,
           0.9239313362403204
          ],
          [
           "Random",
           0.9173321336182656,
           0.9306260390689374
          ],
          [
           "Random",
           0.9142953548532224,
           0.9285282498469568
          ],
          [
           "Random",
           0.9182319199190192,
           0.931398939047925
          ],
          [
           "Random",
           0.9214936452592508,
           0.933836052447542
          ],
          [
           "Random",
           0.923855584298729,
           0.9355823518635822
          ],
          [
           "Random",
           0.9235181644359464,
           0.9353351506563448
          ],
          [
           "Random",
           0.9261050500506128,
           0.9372697597663958
          ],
          [
           "Random",
           0.9282420425149028,
           0.938906764580351
          ],
          [
           "Random",
           0.92790462265212,
           0.9386469108289568
          ],
          [
           "Random",
           0.9292543021032504,
           0.9396750345072816
          ],
          [
           "Random",
           0.929029355528062,
           0.9395047418893612
          ],
          [
           "Random",
           0.928354515802497,
           0.9389928898820388
          ],
          [
           "Random",
           0.928916882240468,
           0.939432561740847
          ],
          [
           "Random",
           0.9293667753908448,
           0.9397645543156647
          ],
          [
           "Random",
           0.9293667753908448,
           0.939778016395824
          ],
          [
           "Random",
           0.9299291418288156,
           0.9402096932422946
          ],
          [
           "Random",
           0.9300416151164098,
           0.9402611073390352
          ],
          [
           "Random",
           0.9299291418288156,
           0.9402096932422946
          ],
          [
           "Random",
           0.930154088404004,
           0.9403713230669248
          ],
          [
           "Random",
           0.9300416151164098,
           0.9402958936300548
          ],
          [
           "Random",
           0.9300416151164098,
           0.9402958936300548
          ],
          [
           "Random",
           0.9300416151164098,
           0.9402971246534536
          ],
          [
           "Random",
           0.9300416151164098,
           0.9403043619751764
          ],
          [
           "Random",
           0.9299291418288156,
           0.9402288936946392
          ],
          [
           "Random",
           0.930154088404004,
           0.9403800713045088
          ],
          [
           "Random",
           0.930154088404004,
           0.9403815136280798
          ],
          [
           "Random",
           0.9300416151164098,
           0.9403038069238258
          ],
          [
           "Random",
           0.9302665616915984,
           0.9404537469379636
          ],
          [
           "Random",
           0.9302665616915984,
           0.9404537469379636
          ],
          [
           "Random",
           0.9302665616915984,
           0.940454162292636
          ],
          [
           "Random",
           0.9302665616915984,
           0.9404546970512648
          ],
          [
           "Random",
           0.9302665616915984,
           0.940454162292636
          ],
          [
           "Random",
           0.9302665616915984,
           0.9404546970512648
          ],
          [
           "Random",
           0.9302665616915984,
           0.9404546970512648
          ],
          [
           "Random",
           0.9302665616915984,
           0.9404546970512648
          ],
          [
           "Random",
           0.9302665616915984,
           0.9404546970512648
          ],
          [
           "Random",
           0.9302665616915984,
           0.9404546970512648
          ],
          [
           "Random",
           0.9302665616915984,
           0.9404534512671656
          ],
          [
           "Random",
           0.9303790349791924,
           0.9405285698622968
          ],
          [
           "Random",
           0.9303790349791924,
           0.9405285698622968
          ],
          [
           "Random",
           0.9303790349791924,
           0.9405285698622968
          ],
          [
           "Random",
           0.9302665616915984,
           0.9404537469379636
          ],
          [
           "Random",
           0.9302665616915984,
           0.9404537469379636
          ],
          [
           "Random",
           0.9302665616915984,
           0.940454162292636
          ],
          [
           "Random",
           0.9302665616915984,
           0.940454162292636
          ],
          [
           "Random",
           0.9302665616915984,
           0.940454162292636
          ],
          [
           "Random",
           0.9302665616915984,
           0.940454162292636
          ],
          [
           "Random",
           0.9302665616915984,
           0.9404546970512648
          ],
          [
           "Random",
           0.9302665616915984,
           0.940454162292636
          ],
          [
           "Random",
           0.9302665616915984,
           0.940454162292636
          ],
          [
           "Random",
           0.9302665616915984,
           0.940454162292636
          ],
          [
           "Random",
           0.9302665616915984,
           0.940454162292636
          ],
          [
           "Random",
           0.9302665616915984,
           0.940454162292636
          ],
          [
           "Random",
           0.9302665616915984,
           0.940454162292636
          ],
          [
           "Random",
           0.9302665616915984,
           0.940454162292636
          ],
          [
           "Random",
           0.9302665616915984,
           0.940454162292636
          ],
          [
           "Random",
           0.9302665616915984,
           0.940454162292636
          ],
          [
           "Random",
           0.9302665616915984,
           0.940454162292636
          ],
          [
           "Random",
           0.9302665616915984,
           0.940454162292636
          ],
          [
           "Random",
           0.9302665616915984,
           0.9404546970512648
          ],
          [
           "Random",
           0.9302665616915984,
           0.940454162292636
          ],
          [
           "Random",
           0.9302665616915984,
           0.940454162292636
          ],
          [
           "Random",
           0.9302665616915984,
           0.940454162292636
          ],
          [
           "Random",
           0.9302665616915984,
           0.9404546970512648
          ],
          [
           "Random",
           0.9302665616915984,
           0.9404546970512648
          ],
          [
           "Random",
           0.9302665616915984,
           0.9404546970512648
          ],
          [
           "Random",
           0.9302665616915984,
           0.9404546970512648
          ],
          [
           "Random",
           0.9302665616915984,
           0.9404546970512648
          ],
          [
           "Random",
           0.9302665616915984,
           0.9404546970512648
          ],
          [
           "Random",
           0.9302665616915984,
           0.9404546970512648
          ],
          [
           "Random",
           0.9302665616915984,
           0.9404546970512648
          ],
          [
           "Random",
           0.9302665616915984,
           0.9404546970512648
          ],
          [
           "Random",
           0.9302665616915984,
           0.9404546970512648
          ],
          [
           "Random",
           0.9302665616915984,
           0.9404546970512648
          ],
          [
           "Random",
           0.9302665616915984,
           0.9404546970512648
          ],
          [
           "Random",
           0.9302665616915984,
           0.9404546970512648
          ],
          [
           "Random",
           0.9302665616915984,
           0.9404546970512648
          ],
          [
           "Random",
           0.9302665616915984,
           0.9404546970512648
          ],
          [
           "Random",
           0.9302665616915984,
           0.9404546970512648
          ],
          [
           "Random",
           0.9302665616915984,
           0.9404546970512648
          ],
          [
           "Random",
           0.9302665616915984,
           0.940454162292636
          ],
          [
           "Random",
           0.9302665616915984,
           0.940454162292636
          ],
          [
           "Random",
           0.9302665616915984,
           0.940454162292636
          ],
          [
           "Random",
           0.9302665616915984,
           0.9404546970512648
          ],
          [
           "Random",
           0.9302665616915984,
           0.9404546970512648
          ],
          [
           "Random",
           0.9302665616915984,
           0.9404546970512648
          ],
          [
           "Random",
           0.9302665616915984,
           0.9404546970512648
          ],
          [
           "Random",
           0.9302665616915984,
           0.9404546970512648
          ],
          [
           "Random",
           0.9302665616915984,
           0.9404546970512648
          ],
          [
           "Random",
           0.9302665616915984,
           0.9404546970512648
          ],
          [
           "Random",
           0.9302665616915984,
           0.9404546970512648
          ],
          [
           "Random",
           0.9302665616915984,
           0.9404546970512648
          ],
          [
           "Random",
           0.9302665616915984,
           0.9404546970512648
          ],
          [
           "Random",
           0.9302665616915984,
           0.9404546970512648
          ],
          [
           "Random",
           0.9302665616915984,
           0.9404546970512648
          ],
          [
           "Random",
           0.9302665616915984,
           0.9404546970512648
          ],
          [
           "Random",
           0.9302665616915984,
           0.9404546970512648
          ],
          [
           "Random",
           0.9302665616915984,
           0.9404546970512648
          ],
          [
           "Random",
           0.9302665616915984,
           0.9404546970512648
          ],
          [
           "Random",
           0.9302665616915984,
           0.9404546970512648
          ],
          [
           "Random",
           0.9302665616915984,
           0.9404546970512648
          ],
          [
           "Random",
           0.9302665616915984,
           0.9404546970512648
          ],
          [
           "Random",
           0.9302665616915984,
           0.9404546970512648
          ],
          [
           "Random",
           0.9302665616915984,
           0.9404546970512648
          ],
          [
           "Random",
           0.9302665616915984,
           0.9404546970512648
          ],
          [
           "Random",
           0.9302665616915984,
           0.9404546970512648
          ],
          [
           "Random",
           0.9302665616915984,
           0.9404546970512648
          ],
          [
           "Random",
           0.9302665616915984,
           0.9404546970512648
          ],
          [
           "Random",
           0.9302665616915984,
           0.9404546970512648
          ],
          [
           "Random",
           0.9302665616915984,
           0.9404546970512648
          ],
          [
           "Random",
           0.9302665616915984,
           0.9404546970512648
          ],
          [
           "Random",
           0.9302665616915984,
           0.9404546970512648
          ],
          [
           "Random",
           0.9302665616915984,
           0.9404546970512648
          ],
          [
           "Random",
           0.9302665616915984,
           0.9404546970512648
          ],
          [
           "Random",
           0.9302665616915984,
           0.9404546970512648
          ],
          [
           "Random",
           0.9302665616915984,
           0.9404546970512648
          ],
          [
           "Random",
           0.9302665616915984,
           0.9404546970512648
          ],
          [
           "Random",
           0.9302665616915984,
           0.9404546970512648
          ],
          [
           "Random",
           0.9302665616915984,
           0.9404546970512648
          ],
          [
           "Random",
           0.9302665616915984,
           0.9404546970512648
          ],
          [
           "Random",
           0.9302665616915984,
           0.9404546970512648
          ],
          [
           "Random",
           0.9302665616915984,
           0.9404546970512648
          ],
          [
           "Random",
           0.9302665616915984,
           0.9404546970512648
          ],
          [
           "Random",
           0.9302665616915984,
           0.9404546970512648
          ],
          [
           "Random",
           0.9302665616915984,
           0.9404546970512648
          ],
          [
           "Random",
           0.9302665616915984,
           0.9404546970512648
          ],
          [
           "Random",
           0.9302665616915984,
           0.9404546970512648
          ],
          [
           "Random",
           0.9302665616915984,
           0.9404546970512648
          ],
          [
           "Random",
           0.9302665616915984,
           0.9404546970512648
          ],
          [
           "Random",
           0.9302665616915984,
           0.9404546970512648
          ],
          [
           "Random",
           0.9302665616915984,
           0.9404546970512648
          ],
          [
           "Random",
           0.9302665616915984,
           0.9404546970512648
          ],
          [
           "Random",
           0.9302665616915984,
           0.9404546970512648
          ],
          [
           "Random",
           0.9302665616915984,
           0.9404546970512648
          ],
          [
           "Random",
           0.9302665616915984,
           0.9404546970512648
          ],
          [
           "Random",
           0.9302665616915984,
           0.9404546970512648
          ],
          [
           "Random",
           0.9302665616915984,
           0.9404546970512648
          ],
          [
           "Random",
           0.9302665616915984,
           0.9404546970512648
          ],
          [
           "Random",
           0.9302665616915984,
           0.9404546970512648
          ],
          [
           "Random",
           0.9302665616915984,
           0.9404546970512648
          ],
          [
           "Random",
           0.9302665616915984,
           0.9404546970512648
          ],
          [
           "Random",
           0.9302665616915984,
           0.9404546970512648
          ],
          [
           "Random",
           0.9302665616915984,
           0.9404546970512648
          ],
          [
           "Random",
           0.9302665616915984,
           0.9404546970512648
          ],
          [
           "Random",
           0.9302665616915984,
           0.9404546970512648
          ],
          [
           "Random",
           0.9302665616915984,
           0.9404546970512648
          ],
          [
           "Random",
           0.9302665616915984,
           0.9404546970512648
          ],
          [
           "Random",
           0.9302665616915984,
           0.9404546970512648
          ],
          [
           "Random",
           0.9302665616915984,
           0.9404546970512648
          ],
          [
           "Random",
           0.9302665616915984,
           0.9404546970512648
          ],
          [
           "Random",
           0.9302665616915984,
           0.9404546970512648
          ],
          [
           "Random",
           0.9302665616915984,
           0.9404546970512648
          ],
          [
           "Random",
           0.9302665616915984,
           0.9404546970512648
          ],
          [
           "Random",
           0.9302665616915984,
           0.9404546970512648
          ],
          [
           "Random",
           0.9302665616915984,
           0.9404546970512648
          ],
          [
           "Random",
           0.9302665616915984,
           0.9404546970512648
          ],
          [
           "Random",
           0.9302665616915984,
           0.9404546970512648
          ],
          [
           "Random",
           0.9302665616915984,
           0.9404546970512648
          ],
          [
           "Random",
           0.9302665616915984,
           0.9404546970512648
          ],
          [
           "Random",
           0.9302665616915984,
           0.9404546970512648
          ],
          [
           "Random",
           0.9302665616915984,
           0.9404546970512648
          ],
          [
           "Random",
           0.9302665616915984,
           0.9404546970512648
          ],
          [
           "Random",
           0.9302665616915984,
           0.9404546970512648
          ],
          [
           "Random",
           0.9302665616915984,
           0.9404546970512648
          ],
          [
           "Random",
           0.9302665616915984,
           0.9404546970512648
          ],
          [
           "Random",
           0.9302665616915984,
           0.9404546970512648
          ],
          [
           "Random",
           0.9302665616915984,
           0.9404546970512648
          ],
          [
           "Random",
           0.9302665616915984,
           0.9404546970512648
          ],
          [
           "Random",
           0.9302665616915984,
           0.9404546970512648
          ],
          [
           "Random",
           0.9302665616915984,
           0.9404546970512648
          ],
          [
           "Random",
           0.9302665616915984,
           0.9404546970512648
          ],
          [
           "Random",
           0.9302665616915984,
           0.9404546970512648
          ],
          [
           "Random",
           0.9302665616915984,
           0.9404546970512648
          ],
          [
           "Random",
           0.9302665616915984,
           0.9404546970512648
          ],
          [
           "Random",
           0.9302665616915984,
           0.9404546970512648
          ],
          [
           "Random",
           0.9302665616915984,
           0.9404546970512648
          ],
          [
           "Random",
           0.9302665616915984,
           0.9404546970512648
          ],
          [
           "Random",
           0.9302665616915984,
           0.9404546970512648
          ],
          [
           "Random",
           0.9302665616915984,
           0.9404546970512648
          ],
          [
           "Random",
           0.9302665616915984,
           0.9404546970512648
          ],
          [
           "Random",
           0.9302665616915984,
           0.9404546970512648
          ],
          [
           "Random",
           0.9302665616915984,
           0.9404546970512648
          ],
          [
           "Random",
           0.9302665616915984,
           0.9404546970512648
          ],
          [
           "Random",
           0.9302665616915984,
           0.9404546970512648
          ],
          [
           "Random",
           0.9302665616915984,
           0.9404546970512648
          ],
          [
           "Random",
           0.9302665616915984,
           0.9404546970512648
          ],
          [
           "Random",
           0.9302665616915984,
           0.9404546970512648
          ],
          [
           "Random",
           0.9302665616915984,
           0.9404546970512648
          ],
          [
           "Random",
           0.9302665616915984,
           0.9404546970512648
          ],
          [
           "Random",
           0.9302665616915984,
           0.9404546970512648
          ],
          [
           "Random",
           0.9302665616915984,
           0.9404546970512648
          ],
          [
           "Random",
           0.9302665616915984,
           0.9404546970512648
          ],
          [
           "Random",
           0.9302665616915984,
           0.9404546970512648
          ],
          [
           "Random",
           0.9302665616915984,
           0.9404546970512648
          ],
          [
           "Random",
           0.9302665616915984,
           0.9404546970512648
          ],
          [
           "Random",
           0.9302665616915984,
           0.9404546970512648
          ],
          [
           "Random",
           0.9302665616915984,
           0.9404546970512648
          ],
          [
           "Random",
           0.9302665616915984,
           0.9404546970512648
          ],
          [
           "Random",
           0.9302665616915984,
           0.9404546970512648
          ],
          [
           "Random",
           0.9302665616915984,
           0.9404546970512648
          ],
          [
           "Random",
           0.9302665616915984,
           0.9404546970512648
          ],
          [
           "Random",
           0.9302665616915984,
           0.9404546970512648
          ],
          [
           "Random",
           0.9302665616915984,
           0.9404546970512648
          ],
          [
           "Random",
           0.9302665616915984,
           0.9404546970512648
          ],
          [
           "Random",
           0.9302665616915984,
           0.9404546970512648
          ],
          [
           "Random",
           0.9302665616915984,
           0.9404546970512648
          ],
          [
           "Random",
           0.9302665616915984,
           0.9404546970512648
          ],
          [
           "Random",
           0.9302665616915984,
           0.9404546970512648
          ],
          [
           "Random",
           0.9302665616915984,
           0.9404546970512648
          ],
          [
           "Random",
           0.9302665616915984,
           0.9404546970512648
          ],
          [
           "Random",
           0.9302665616915984,
           0.9404546970512648
          ],
          [
           "Random",
           0.9302665616915984,
           0.9404546970512648
          ],
          [
           "Random",
           0.9302665616915984,
           0.9404546970512648
          ],
          [
           "Random",
           0.9302665616915984,
           0.9404546970512648
          ],
          [
           "Random",
           0.9302665616915984,
           0.9404546970512648
          ],
          [
           "Random",
           0.9302665616915984,
           0.9404546970512648
          ],
          [
           "Random",
           0.9302665616915984,
           0.9404546970512648
          ],
          [
           "Random",
           0.9302665616915984,
           0.9404546970512648
          ],
          [
           "Random",
           0.9302665616915984,
           0.9404546970512648
          ],
          [
           "Random",
           0.9302665616915984,
           0.9404546970512648
          ],
          [
           "Random",
           0.9302665616915984,
           0.9404546970512648
          ],
          [
           "Random",
           0.9302665616915984,
           0.9404546970512648
          ],
          [
           "Random",
           0.9302665616915984,
           0.9404546970512648
          ],
          [
           "Random",
           0.9302665616915984,
           0.9404546970512648
          ],
          [
           "Random",
           0.9302665616915984,
           0.9404546970512648
          ],
          [
           "Random",
           0.9302665616915984,
           0.9404546970512648
          ],
          [
           "Random",
           0.9302665616915984,
           0.9404546970512648
          ],
          [
           "Random",
           0.9302665616915984,
           0.9404546970512648
          ],
          [
           "Random",
           0.9302665616915984,
           0.9404546970512648
          ],
          [
           "Random",
           0.9302665616915984,
           0.9404546970512648
          ],
          [
           "Random",
           0.9302665616915984,
           0.9404546970512648
          ],
          [
           "Random",
           0.9302665616915984,
           0.9404546970512648
          ],
          [
           "Random",
           0.9302665616915984,
           0.9404546970512648
          ],
          [
           "Random",
           0.9302665616915984,
           0.9404546970512648
          ],
          [
           "Random",
           0.9302665616915984,
           0.9404546970512648
          ],
          [
           "Random",
           0.9302665616915984,
           0.9404546970512648
          ],
          [
           "Random",
           0.9302665616915984,
           0.9404546970512648
          ],
          [
           "Random",
           0.9302665616915984,
           0.9404546970512648
          ],
          [
           "Random",
           0.9302665616915984,
           0.9404546970512648
          ],
          [
           "Random",
           0.9302665616915984,
           0.9404546970512648
          ],
          [
           "Random",
           0.930154088404004,
           0.9403800239519386
          ],
          [
           "Random",
           0.930154088404004,
           0.9403800239519386
          ],
          [
           "Random",
           0.930154088404004,
           0.9403800239519386
          ],
          [
           "Random",
           0.9302665616915984,
           0.9404546970512648
          ],
          [
           "Random",
           0.930154088404004,
           0.9403800239519386
          ],
          [
           "Random",
           0.930154088404004,
           0.9403800239519386
          ],
          [
           "Random",
           0.930154088404004,
           0.9403800239519386
          ],
          [
           "Random",
           0.930154088404004,
           0.9403800239519386
          ],
          [
           "Random",
           0.930154088404004,
           0.9403800239519386
          ],
          [
           "Random",
           0.930154088404004,
           0.9403800239519386
          ],
          [
           "Random",
           0.930154088404004,
           0.9403800239519386
          ],
          [
           "Random",
           0.930154088404004,
           0.9403800239519386
          ],
          [
           "Random",
           0.930154088404004,
           0.9403800239519386
          ],
          [
           "Random",
           0.930154088404004,
           0.9403800239519386
          ],
          [
           "Random",
           0.930154088404004,
           0.9403800239519386
          ],
          [
           "Random",
           0.930154088404004,
           0.9403800239519386
          ],
          [
           "Random",
           0.9302665616915984,
           0.9404546970512648
          ],
          [
           "Random",
           0.930154088404004,
           0.9403800239519386
          ],
          [
           "Random",
           0.9302665616915984,
           0.9404546970512648
          ],
          [
           "Random",
           0.9302665616915984,
           0.9404546970512648
          ],
          [
           "Random",
           0.9302665616915984,
           0.9404546970512648
          ],
          [
           "Random",
           0.9302665616915984,
           0.9404546970512648
          ],
          [
           "Random",
           0.9302665616915984,
           0.9404546970512648
          ],
          [
           "Random",
           0.9302665616915984,
           0.9404546970512648
          ],
          [
           "Random",
           0.9302665616915984,
           0.9404546970512648
          ],
          [
           "Random",
           0.9302665616915984,
           0.9404546970512648
          ],
          [
           "Random",
           0.9302665616915984,
           0.9404546970512648
          ],
          [
           "Random",
           0.9302665616915984,
           0.9404546970512648
          ],
          [
           "Random",
           0.9302665616915984,
           0.9404546970512648
          ],
          [
           "Random",
           0.9302665616915984,
           0.9404546970512648
          ],
          [
           "Random",
           0.9302665616915984,
           0.9404546970512648
          ],
          [
           "Random",
           0.9302665616915984,
           0.9404546970512648
          ],
          [
           "Random",
           0.9302665616915984,
           0.9404546970512648
          ],
          [
           "Random",
           0.9302665616915984,
           0.9404546970512648
          ],
          [
           "Random",
           0.9302665616915984,
           0.9404546970512648
          ],
          [
           "Random",
           0.9302665616915984,
           0.9404546970512648
          ],
          [
           "Random",
           0.9302665616915984,
           0.9404546970512648
          ],
          [
           "Random",
           0.9302665616915984,
           0.9404546970512648
          ],
          [
           "Random",
           0.9302665616915984,
           0.9404546970512648
          ],
          [
           "Random",
           0.9302665616915984,
           0.9404546970512648
          ],
          [
           "Random",
           0.9302665616915984,
           0.9404546970512648
          ],
          [
           "Random",
           0.9302665616915984,
           0.9404546970512648
          ],
          [
           "Random",
           0.9302665616915984,
           0.9404546970512648
          ],
          [
           "Random",
           0.9302665616915984,
           0.9404546970512648
          ],
          [
           "Random",
           0.9302665616915984,
           0.9404546970512648
          ],
          [
           "Random",
           0.9302665616915984,
           0.9404546970512648
          ],
          [
           "Random",
           0.9302665616915984,
           0.9404546970512648
          ],
          [
           "Random",
           0.9302665616915984,
           0.9404546970512648
          ],
          [
           "Random",
           0.9302665616915984,
           0.9404546970512648
          ],
          [
           "Random",
           0.9302665616915984,
           0.9404546970512648
          ],
          [
           "Random",
           0.9302665616915984,
           0.9404546970512648
          ],
          [
           "Random",
           0.9302665616915984,
           0.9404546970512648
          ],
          [
           "Random",
           0.9302665616915984,
           0.9404546970512648
          ],
          [
           "Random",
           0.9302665616915984,
           0.9404546970512648
          ],
          [
           "Random",
           0.9302665616915984,
           0.9404546970512648
          ],
          [
           "Random",
           0.9302665616915984,
           0.9404546970512648
          ],
          [
           "Random",
           0.9302665616915984,
           0.9404546970512648
          ],
          [
           "Random",
           0.9302665616915984,
           0.9404546970512648
          ],
          [
           "Random",
           0.9302665616915984,
           0.9404546970512648
          ],
          [
           "Random",
           0.9302665616915984,
           0.9404546970512648
          ],
          [
           "Random",
           0.9302665616915984,
           0.9404546970512648
          ],
          [
           "Random",
           0.9302665616915984,
           0.9404546970512648
          ],
          [
           "Random",
           0.9302665616915984,
           0.9404546970512648
          ],
          [
           "Random",
           0.9302665616915984,
           0.9404546970512648
          ],
          [
           "Random",
           0.9302665616915984,
           0.9404546970512648
          ],
          [
           "Random",
           0.9302665616915984,
           0.9404546970512648
          ],
          [
           "Random",
           0.9302665616915984,
           0.9404546970512648
          ],
          [
           "Random",
           0.9302665616915984,
           0.9404546970512648
          ],
          [
           "Random",
           0.9302665616915984,
           0.9404546970512648
          ],
          [
           "Random",
           0.9302665616915984,
           0.9404546970512648
          ],
          [
           "Random",
           0.9302665616915984,
           0.9404546970512648
          ],
          [
           "Random",
           0.9302665616915984,
           0.9404546970512648
          ],
          [
           "Random",
           0.9302665616915984,
           0.9404546970512648
          ],
          [
           "Random",
           0.9302665616915984,
           0.9404546970512648
          ],
          [
           "Random",
           0.9302665616915984,
           0.9404546970512648
          ],
          [
           "Random",
           0.9302665616915984,
           0.9404546970512648
          ],
          [
           "Random",
           0.9302665616915984,
           0.9404546970512648
          ],
          [
           "Random",
           0.9302665616915984,
           0.9404546970512648
          ],
          [
           "Random",
           0.9302665616915984,
           0.9404546970512648
          ],
          [
           "Random",
           0.9302665616915984,
           0.9404546970512648
          ],
          [
           "Random",
           0.9302665616915984,
           0.9404546970512648
          ],
          [
           "Random",
           0.9302665616915984,
           0.9404546970512648
          ],
          [
           "Random",
           0.9302665616915984,
           0.9404546970512648
          ],
          [
           "Random",
           0.9302665616915984,
           0.9404546970512648
          ],
          [
           "Random",
           0.9302665616915984,
           0.9404546970512648
          ],
          [
           "Random",
           0.9302665616915984,
           0.9404546970512648
          ],
          [
           "Random",
           0.9302665616915984,
           0.9404546970512648
          ],
          [
           "Random",
           0.9302665616915984,
           0.9404546970512648
          ],
          [
           "Random",
           0.9302665616915984,
           0.9404546970512648
          ],
          [
           "Random",
           0.9302665616915984,
           0.9404546970512648
          ],
          [
           "Random",
           0.9302665616915984,
           0.9404546970512648
          ],
          [
           "Random",
           0.9302665616915984,
           0.9404546970512648
          ],
          [
           "Random",
           0.9302665616915984,
           0.9404546970512648
          ],
          [
           "Random",
           0.9302665616915984,
           0.9404546970512648
          ],
          [
           "Random",
           0.9302665616915984,
           0.9404546970512648
          ],
          [
           "Random",
           0.9302665616915984,
           0.9404546970512648
          ],
          [
           "Random",
           0.9302665616915984,
           0.9404546970512648
          ],
          [
           "Random",
           0.9302665616915984,
           0.9404546970512648
          ],
          [
           "Random",
           0.9302665616915984,
           0.9404546970512648
          ],
          [
           "Random",
           0.9302665616915984,
           0.9404546970512648
          ],
          [
           "Random",
           0.9302665616915984,
           0.9404546970512648
          ],
          [
           "Random",
           0.9302665616915984,
           0.9404546970512648
          ],
          [
           "Random",
           0.9302665616915984,
           0.9404546970512648
          ],
          [
           "Random",
           0.9302665616915984,
           0.9404546970512648
          ],
          [
           "Random",
           0.9302665616915984,
           0.9404546970512648
          ],
          [
           "Random",
           0.9302665616915984,
           0.9404546970512648
          ],
          [
           "Random",
           0.9302665616915984,
           0.9404546970512648
          ],
          [
           "Random",
           0.9302665616915984,
           0.9404546970512648
          ],
          [
           "Random",
           0.9302665616915984,
           0.9404546970512648
          ],
          [
           "Random",
           0.9302665616915984,
           0.9404546970512648
          ],
          [
           "Random",
           0.9302665616915984,
           0.9404546970512648
          ],
          [
           "Random",
           0.9302665616915984,
           0.9404546970512648
          ]
         ],
         "hovertemplate": "Strategy=%{customdata[0]}<br>Number of Labeled Samples=%{x:.0f}<br>MCC=%{y:.4f}<br>Accuracy=%{customdata[1]:.4f}<br>F1 Score (weighted)=%{customdata[2]:.4f}<extra></extra>",
         "legendgroup": "Random",
         "line": {
          "color": "orange",
          "dash": "solid"
         },
         "marker": {
          "symbol": "circle"
         },
         "mode": "lines+markers",
         "name": "Random",
         "showlegend": true,
         "type": "scattergl",
         "x": {
          "bdata": "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",
          "dtype": "f8"
         },
         "xaxis": "x",
         "y": {
          "bdata": "PU50d+W76j8I8PW36ULrP7RQiFftsus/Ocu1tXqU6z+r46a018PrPy5psfke6us/3kIPS4AF7D+XI+1RPAHsP4th3HkaIew/y7Hi0Ro67D9t8W/lLzbsPwK2VJJxRuw/dOimWLhD7D/QkdLuaDzsP50LWc3sQuw/InDUm49I7D+iaEo+RUjsP9Z3FxkMT+w/9zra7FhQ7D/WdxcZDE/sP5qoFzMzUuw/Hy5tJoxQ7D8fLm0mjFDsP/8g2c+sUOw/9pinknVQ7D81knNtzk7sP/SNCQsdUuw/ezEFbzhS7D9rHrzgVVDsP1cMIVdyU+w/VwwhV3JT7D/3DsyJbFPsP6EGWtBmU+w/9w7MiWxT7D+hBlrQZlPsP6EGWtBmU+w/oQZa0GZT7D+hBlrQZlPsP6EGWtBmU+w/NEtZOHhT7D9+e+FuHlXsP3574W4eVew/fnvhbh5V7D9XDCFXclPsP1cMIVdyU+w/9w7MiWxT7D/3DsyJbFPsP/cOzIlsU+w/9w7MiWxT7D+hBlrQZlPsP/cOzIlsU+w/9w7MiWxT7D/3DsyJbFPsP/cOzIlsU+w/9w7MiWxT7D/3DsyJbFPsP/cOzIlsU+w/9w7MiWxT7D/3DsyJbFPsP/cOzIlsU+w/9w7MiWxT7D+hBlrQZlPsP/cOzIlsU+w/9w7MiWxT7D/3DsyJbFPsP6EGWtBmU+w/oQZa0GZT7D+hBlrQZlPsP6EGWtBmU+w/oQZa0GZT7D+hBlrQZlPsP6EGWtBmU+w/oQZa0GZT7D+hBlrQZlPsP6EGWtBmU+w/oQZa0GZT7D+hBlrQZlPsP6EGWtBmU+w/oQZa0GZT7D+hBlrQZlPsP6EGWtBmU+w/oQZa0GZT7D/3DsyJbFPsP/cOzIlsU+w/9w7MiWxT7D+hBlrQZlPsP6EGWtBmU+w/oQZa0GZT7D+hBlrQZlPsP6EGWtBmU+w/oQZa0GZT7D+hBlrQZlPsP6EGWtBmU+w/oQZa0GZT7D+hBlrQZlPsP6EGWtBmU+w/oQZa0GZT7D+hBlrQZlPsP6EGWtBmU+w/oQZa0GZT7D+hBlrQZlPsP6EGWtBmU+w/oQZa0GZT7D+hBlrQZlPsP6EGWtBmU+w/oQZa0GZT7D+hBlrQZlPsP6EGWtBmU+w/oQZa0GZT7D+hBlrQZlPsP6EGWtBmU+w/oQZa0GZT7D+hBlrQZlPsP6EGWtBmU+w/oQZa0GZT7D+hBlrQZlPsP6EGWtBmU+w/oQZa0GZT7D+hBlrQZlPsP6EGWtBmU+w/oQZa0GZT7D+hBlrQZlPsP6EGWtBmU+w/oQZa0GZT7D+hBlrQZlPsP6EGWtBmU+w/oQZa0GZT7D+hBlrQZlPsP6EGWtBmU+w/oQZa0GZT7D+hBlrQZlPsP6EGWtBmU+w/oQZa0GZT7D+hBlrQZlPsP6EGWtBmU+w/oQZa0GZT7D+hBlrQZlPsP6EGWtBmU+w/oQZa0GZT7D+hBlrQZlPsP6EGWtBmU+w/oQZa0GZT7D+hBlrQZlPsP6EGWtBmU+w/oQZa0GZT7D+hBlrQZlPsP6EGWtBmU+w/oQZa0GZT7D+hBlrQZlPsP6EGWtBmU+w/oQZa0GZT7D+hBlrQZlPsP6EGWtBmU+w/oQZa0GZT7D+hBlrQZlPsP6EGWtBmU+w/oQZa0GZT7D+hBlrQZlPsP6EGWtBmU+w/oQZa0GZT7D+hBlrQZlPsP6EGWtBmU+w/oQZa0GZT7D+hBlrQZlPsP6EGWtBmU+w/oQZa0GZT7D+hBlrQZlPsP6EGWtBmU+w/oQZa0GZT7D+hBlrQZlPsP6EGWtBmU+w/oQZa0GZT7D+hBlrQZlPsP6EGWtBmU+w/oQZa0GZT7D+hBlrQZlPsP6EGWtBmU+w/oQZa0GZT7D+hBlrQZlPsP6EGWtBmU+w/oQZa0GZT7D+hBlrQZlPsP6EGWtBmU+w/oQZa0GZT7D+hBlrQZlPsP6EGWtBmU+w/oQZa0GZT7D+hBlrQZlPsP6EGWtBmU+w/oQZa0GZT7D+hBlrQZlPsP6EGWtBmU+w/oQZa0GZT7D+hBlrQZlPsP6EGWtBmU+w/oQZa0GZT7D+hBlrQZlPsP6EGWtBmU+w/oQZa0GZT7D+hBlrQZlPsP6EGWtBmU+w/oQZa0GZT7D+hBlrQZlPsP6EGWtBmU+w/oQZa0GZT7D+hBlrQZlPsP6EGWtBmU+w/oQZa0GZT7D+hBlrQZlPsP6EGWtBmU+w/oQZa0GZT7D+hBlrQZlPsP6EGWtBmU+w/oQZa0GZT7D+hBlrQZlPsP6EGWtBmU+w/oQZa0GZT7D+hBlrQZlPsP6EGWtBmU+w/oQZa0GZT7D+hBlrQZlPsP6EGWtBmU+w/oQZa0GZT7D+hBlrQZlPsP6EGWtBmU+w/oQZa0GZT7D+hBlrQZlPsP6EGWtBmU+w/oQZa0GZT7D+hBlrQZlPsP6EGWtBmU+w/oQZa0GZT7D+hBlrQZlPsP6EGWtBmU+w/oQZa0GZT7D+hBlrQZlPsP6EGWtBmU+w/oQZa0GZT7D+hBlrQZlPsP6EGWtBmU+w/oQZa0GZT7D+hBlrQZlPsP8ET2lTSUew/wRPaVNJR7D/BE9pU0lHsP6EGWtBmU+w/wRPaVNJR7D/BE9pU0lHsP8ET2lTSUew/wRPaVNJR7D/BE9pU0lHsP8ET2lTSUew/wRPaVNJR7D/BE9pU0lHsP8ET2lTSUew/wRPaVNJR7D/BE9pU0lHsP8ET2lTSUew/oQZa0GZT7D/BE9pU0lHsP6EGWtBmU+w/oQZa0GZT7D+hBlrQZlPsP6EGWtBmU+w/oQZa0GZT7D+hBlrQZlPsP6EGWtBmU+w/oQZa0GZT7D+hBlrQZlPsP6EGWtBmU+w/oQZa0GZT7D+hBlrQZlPsP6EGWtBmU+w/oQZa0GZT7D+hBlrQZlPsP6EGWtBmU+w/oQZa0GZT7D+hBlrQZlPsP6EGWtBmU+w/oQZa0GZT7D+hBlrQZlPsP6EGWtBmU+w/oQZa0GZT7D+hBlrQZlPsP6EGWtBmU+w/oQZa0GZT7D+hBlrQZlPsP6EGWtBmU+w/oQZa0GZT7D+hBlrQZlPsP6EGWtBmU+w/oQZa0GZT7D+hBlrQZlPsP6EGWtBmU+w/oQZa0GZT7D+hBlrQZlPsP6EGWtBmU+w/oQZa0GZT7D+hBlrQZlPsP6EGWtBmU+w/oQZa0GZT7D+hBlrQZlPsP6EGWtBmU+w/oQZa0GZT7D+hBlrQZlPsP6EGWtBmU+w/oQZa0GZT7D+hBlrQZlPsP6EGWtBmU+w/oQZa0GZT7D+hBlrQZlPsP6EGWtBmU+w/oQZa0GZT7D+hBlrQZlPsP6EGWtBmU+w/oQZa0GZT7D+hBlrQZlPsP6EGWtBmU+w/oQZa0GZT7D+hBlrQZlPsP6EGWtBmU+w/oQZa0GZT7D+hBlrQZlPsP6EGWtBmU+w/oQZa0GZT7D+hBlrQZlPsP6EGWtBmU+w/oQZa0GZT7D+hBlrQZlPsP6EGWtBmU+w/oQZa0GZT7D+hBlrQZlPsP6EGWtBmU+w/oQZa0GZT7D+hBlrQZlPsP6EGWtBmU+w/oQZa0GZT7D+hBlrQZlPsP6EGWtBmU+w/oQZa0GZT7D+hBlrQZlPsP6EGWtBmU+w/oQZa0GZT7D+hBlrQZlPsP6EGWtBmU+w/oQZa0GZT7D+hBlrQZlPsP6EGWtBmU+w/oQZa0GZT7D+hBlrQZlPsP6EGWtBmU+w/oQZa0GZT7D+hBlrQZlPsP6EGWtBmU+w/",
          "dtype": "f8"
         },
         "yaxis": "y"
        },
        {
         "customdata": [
          [
           "Ratio of Confidence",
           0.8965245754133393,
           0.9154967219573068
          ],
          [
           "Ratio of Confidence",
           0.9265549432009896,
           0.9377205010388594
          ],
          [
           "Ratio of Confidence",
           0.930154088404004,
           0.9403791023197652
          ],
          [
           "Ratio of Confidence",
           0.930154088404004,
           0.9403791023197652
          ],
          [
           "Ratio of Confidence",
           0.9298166685412216,
           0.9401587417711478
          ],
          [
           "Ratio of Confidence",
           0.9299291418288156,
           0.9402423165003838
          ],
          [
           "Ratio of Confidence",
           0.9299291418288156,
           0.9402288315891788
          ],
          [
           "Ratio of Confidence",
           0.9297041952536272,
           0.940086496564556
          ],
          [
           "Ratio of Confidence",
           0.9298166685412216,
           0.9401687340464648
          ],
          [
           "Ratio of Confidence",
           0.9298166685412216,
           0.9401687340464648
          ],
          [
           "Ratio of Confidence",
           0.9298166685412216,
           0.9401687340464648
          ],
          [
           "Ratio of Confidence",
           0.9298166685412216,
           0.9401687340464648
          ],
          [
           "Ratio of Confidence",
           0.9298166685412216,
           0.9401687340464648
          ],
          [
           "Ratio of Confidence",
           0.9298166685412216,
           0.9401480372542472
          ],
          [
           "Ratio of Confidence",
           0.9293667753908448,
           0.9396878226490908
          ],
          [
           "Ratio of Confidence",
           0.929029355528062,
           0.9393564704961866
          ],
          [
           "Ratio of Confidence",
           0.929029355528062,
           0.9391314684242558
          ],
          [
           "Ratio of Confidence",
           0.9288044089528736,
           0.9382512863777334
          ],
          [
           "Ratio of Confidence",
           0.9275672027893376,
           0.9352581956036786
          ],
          [
           "Ratio of Confidence",
           0.928916882240468,
           0.936151930127312
          ],
          [
           "Ratio of Confidence",
           0.929591721966033,
           0.936649533563439
          ],
          [
           "Ratio of Confidence",
           0.9294792486784388,
           0.9365580660851032
          ],
          [
           "Ratio of Confidence",
           0.9294792486784388,
           0.9365530554166568
          ],
          [
           "Ratio of Confidence",
           0.929591721966033,
           0.9366646599873548
          ],
          [
           "Ratio of Confidence",
           0.929591721966033,
           0.936757234752023
          ],
          [
           "Ratio of Confidence",
           0.9298166685412216,
           0.9368746230335658
          ],
          [
           "Ratio of Confidence",
           0.929591721966033,
           0.9366751932479872
          ],
          [
           "Ratio of Confidence",
           0.9297041952536272,
           0.9366971652282088
          ],
          [
           "Ratio of Confidence",
           0.9299291418288156,
           0.936862072489798
          ],
          [
           "Ratio of Confidence",
           0.9300416151164098,
           0.9368857227532148
          ],
          [
           "Ratio of Confidence",
           0.9298166685412216,
           0.9367260841929216
          ],
          [
           "Ratio of Confidence",
           0.9299291418288156,
           0.9368514336955508
          ],
          [
           "Ratio of Confidence",
           0.9299291418288156,
           0.936761284888957
          ],
          [
           "Ratio of Confidence",
           0.930154088404004,
           0.9369369178811776
          ],
          [
           "Ratio of Confidence",
           0.9300416151164098,
           0.93684710864358
          ],
          [
           "Ratio of Confidence",
           0.930154088404004,
           0.936988798419821
          ],
          [
           "Ratio of Confidence",
           0.9300416151164098,
           0.9368589989293912
          ],
          [
           "Ratio of Confidence",
           0.9302665616915984,
           0.9370795853950116
          ],
          [
           "Ratio of Confidence",
           0.9299291418288156,
           0.9368129480377266
          ],
          [
           "Ratio of Confidence",
           0.9302665616915984,
           0.937072477154426
          ],
          [
           "Ratio of Confidence",
           0.9302665616915984,
           0.937072477154426
          ],
          [
           "Ratio of Confidence",
           0.930154088404004,
           0.9369836156085382
          ],
          [
           "Ratio of Confidence",
           0.930154088404004,
           0.9370348600346996
          ],
          [
           "Ratio of Confidence",
           0.9300416151164098,
           0.936906056091702
          ],
          [
           "Ratio of Confidence",
           0.9303790349791924,
           0.9371725513809236
          ],
          [
           "Ratio of Confidence",
           0.9302665616915984,
           0.937123661272152
          ],
          [
           "Ratio of Confidence",
           0.9298166685412216,
           0.9367692227904794
          ],
          [
           "Ratio of Confidence",
           0.9299291418288156,
           0.9368576417970772
          ],
          [
           "Ratio of Confidence",
           0.9300416151164098,
           0.936906056091702
          ],
          [
           "Ratio of Confidence",
           0.9300416151164098,
           0.936906056091702
          ],
          [
           "Ratio of Confidence",
           0.9300416151164098,
           0.936906056091702
          ],
          [
           "Ratio of Confidence",
           0.9302665616915984,
           0.9370835896153538
          ],
          [
           "Ratio of Confidence",
           0.9311663479923518,
           0.9374044963910978
          ],
          [
           "Ratio of Confidence",
           0.931278821279946,
           0.9372541674538436
          ],
          [
           "Ratio of Confidence",
           0.9315037678551344,
           0.9373913988148974
          ],
          [
           "Ratio of Confidence",
           0.9317287144303228,
           0.9375749904530628
          ],
          [
           "Ratio of Confidence",
           0.9317287144303228,
           0.9375749904530628
          ],
          [
           "Ratio of Confidence",
           0.9316162411427286,
           0.9374370183477776
          ],
          [
           "Ratio of Confidence",
           0.9316162411427286,
           0.937483112332598
          ],
          [
           "Ratio of Confidence",
           0.9317287144303228,
           0.9375749904530628
          ],
          [
           "Ratio of Confidence",
           0.9316162411427286,
           0.9374370183477776
          ],
          [
           "Ratio of Confidence",
           0.931841187717917,
           0.9376670345951778
          ],
          [
           "Ratio of Confidence",
           0.9316162411427286,
           0.937483112332598
          ],
          [
           "Ratio of Confidence",
           0.9317287144303228,
           0.9376656030371676
          ],
          [
           "Ratio of Confidence",
           0.9316162411427286,
           0.9375738064529986
          ],
          [
           "Ratio of Confidence",
           0.9313912945675402,
           0.9372998484955436
          ],
          [
           "Ratio of Confidence",
           0.931278821279946,
           0.9372541674538436
          ],
          [
           "Ratio of Confidence",
           0.931278821279946,
           0.9374519344203208
          ],
          [
           "Ratio of Confidence",
           0.9310538747047576,
           0.9374199044842844
          ],
          [
           "Ratio of Confidence",
           0.9304915082667866,
           0.937033761152537
          ],
          [
           "Ratio of Confidence",
           0.9306039815543808,
           0.9371232994203036
          ],
          [
           "Ratio of Confidence",
           0.9306039815543808,
           0.9371652731035056
          ],
          [
           "Ratio of Confidence",
           0.9306039815543808,
           0.9371652731035056
          ],
          [
           "Ratio of Confidence",
           0.9304915082667866,
           0.937075766307563
          ],
          [
           "Ratio of Confidence",
           0.9303790349791924,
           0.9370692026391372
          ],
          [
           "Ratio of Confidence",
           0.930154088404004,
           0.9369542570703184
          ],
          [
           "Ratio of Confidence",
           0.9302665616915984,
           0.9370431182048976
          ],
          [
           "Ratio of Confidence",
           0.930154088404004,
           0.9369318338526904
          ],
          [
           "Ratio of Confidence",
           0.930154088404004,
           0.9369133511011954
          ],
          [
           "Ratio of Confidence",
           0.9297041952536272,
           0.9366639395760646
          ],
          [
           "Ratio of Confidence",
           0.9297041952536272,
           0.9366639395760646
          ],
          [
           "Ratio of Confidence",
           0.9297041952536272,
           0.9366639395760646
          ],
          [
           "Ratio of Confidence",
           0.9297041952536272,
           0.9366639395760646
          ],
          [
           "Ratio of Confidence",
           0.929591721966033,
           0.9366560909761648
          ],
          [
           "Ratio of Confidence",
           0.929029355528062,
           0.9364995882011042
          ],
          [
           "Ratio of Confidence",
           0.929029355528062,
           0.9364369359256592
          ],
          [
           "Ratio of Confidence",
           0.929029355528062,
           0.9364369359256592
          ],
          [
           "Ratio of Confidence",
           0.929029355528062,
           0.9364123395722456
          ],
          [
           "Ratio of Confidence",
           0.929029355528062,
           0.9363356660705634
          ],
          [
           "Ratio of Confidence",
           0.9291418288156564,
           0.9366241302736416
          ],
          [
           "Ratio of Confidence",
           0.929029355528062,
           0.9364369359256592
          ],
          [
           "Ratio of Confidence",
           0.9292543021032504,
           0.9370147071599132
          ],
          [
           "Ratio of Confidence",
           0.9291418288156564,
           0.9368927332927436
          ],
          [
           "Ratio of Confidence",
           0.9292543021032504,
           0.9369794341130108
          ],
          [
           "Ratio of Confidence",
           0.9292543021032504,
           0.9370147071599132
          ],
          [
           "Ratio of Confidence",
           0.929591721966033,
           0.9375309701464702
          ],
          [
           "Ratio of Confidence",
           0.9294792486784388,
           0.937470211879434
          ],
          [
           "Ratio of Confidence",
           0.9294792486784388,
           0.9375294854061272
          ],
          [
           "Ratio of Confidence",
           0.9294792486784388,
           0.9375294854061272
          ],
          [
           "Ratio of Confidence",
           0.9294792486784388,
           0.9375887193575152
          ],
          [
           "Ratio of Confidence",
           0.929591721966033,
           0.9376749060691648
          ],
          [
           "Ratio of Confidence",
           0.9294792486784388,
           0.9375887193575152
          ],
          [
           "Ratio of Confidence",
           0.9293667753908448,
           0.93753544208136
          ],
          [
           "Ratio of Confidence",
           0.929591721966033,
           0.9378573344098958
          ],
          [
           "Ratio of Confidence",
           0.9294792486784388,
           0.9378032609110236
          ],
          [
           "Ratio of Confidence",
           0.9294792486784388,
           0.9378032609110236
          ],
          [
           "Ratio of Confidence",
           0.929591721966033,
           0.9379474377809478
          ],
          [
           "Ratio of Confidence",
           0.9297041952536272,
           0.9383584354240836
          ],
          [
           "Ratio of Confidence",
           0.929591721966033,
           0.9382434990933948
          ],
          [
           "Ratio of Confidence",
           0.9294792486784388,
           0.938214144213831
          ],
          [
           "Ratio of Confidence",
           0.9303790349791924,
           0.9399664778778196
          ],
          [
           "Ratio of Confidence",
           0.9303790349791924,
           0.9403650655307624
          ],
          [
           "Ratio of Confidence",
           0.9304915082667866,
           0.9404713782437792
          ],
          [
           "Ratio of Confidence",
           0.930154088404004,
           0.9402851724460122
          ],
          [
           "Ratio of Confidence",
           0.9303790349791924,
           0.9403650655307624
          ],
          [
           "Ratio of Confidence",
           0.9302665616915984,
           0.9404546970512648
          ],
          [
           "Ratio of Confidence",
           0.9302665616915984,
           0.9404546970512648
          ],
          [
           "Ratio of Confidence",
           0.9302665616915984,
           0.9404546970512648
          ],
          [
           "Ratio of Confidence",
           0.9302665616915984,
           0.9404546970512648
          ],
          [
           "Ratio of Confidence",
           0.9302665616915984,
           0.9404546970512648
          ],
          [
           "Ratio of Confidence",
           0.9302665616915984,
           0.9404546970512648
          ],
          [
           "Ratio of Confidence",
           0.9302665616915984,
           0.9404546970512648
          ],
          [
           "Ratio of Confidence",
           0.9302665616915984,
           0.9404546970512648
          ],
          [
           "Ratio of Confidence",
           0.9302665616915984,
           0.9404546970512648
          ],
          [
           "Ratio of Confidence",
           0.9302665616915984,
           0.9404546970512648
          ],
          [
           "Ratio of Confidence",
           0.9302665616915984,
           0.9404546970512648
          ],
          [
           "Ratio of Confidence",
           0.9302665616915984,
           0.9404546970512648
          ],
          [
           "Ratio of Confidence",
           0.9302665616915984,
           0.9404546970512648
          ],
          [
           "Ratio of Confidence",
           0.9302665616915984,
           0.9404546970512648
          ],
          [
           "Ratio of Confidence",
           0.9302665616915984,
           0.9404546970512648
          ],
          [
           "Ratio of Confidence",
           0.9302665616915984,
           0.9404546970512648
          ],
          [
           "Ratio of Confidence",
           0.9302665616915984,
           0.9404546970512648
          ],
          [
           "Ratio of Confidence",
           0.9302665616915984,
           0.9404546970512648
          ],
          [
           "Ratio of Confidence",
           0.9302665616915984,
           0.9404546970512648
          ],
          [
           "Ratio of Confidence",
           0.9302665616915984,
           0.9404546970512648
          ],
          [
           "Ratio of Confidence",
           0.9302665616915984,
           0.9404546970512648
          ],
          [
           "Ratio of Confidence",
           0.9302665616915984,
           0.9404546970512648
          ],
          [
           "Ratio of Confidence",
           0.9302665616915984,
           0.9404546970512648
          ],
          [
           "Ratio of Confidence",
           0.9302665616915984,
           0.9404546970512648
          ],
          [
           "Ratio of Confidence",
           0.9302665616915984,
           0.9404546970512648
          ],
          [
           "Ratio of Confidence",
           0.9302665616915984,
           0.9404546970512648
          ],
          [
           "Ratio of Confidence",
           0.9302665616915984,
           0.9404546970512648
          ],
          [
           "Ratio of Confidence",
           0.9302665616915984,
           0.9404546970512648
          ],
          [
           "Ratio of Confidence",
           0.9302665616915984,
           0.9404546970512648
          ],
          [
           "Ratio of Confidence",
           0.9302665616915984,
           0.9404546970512648
          ],
          [
           "Ratio of Confidence",
           0.9302665616915984,
           0.9404546970512648
          ],
          [
           "Ratio of Confidence",
           0.9302665616915984,
           0.9404546970512648
          ],
          [
           "Ratio of Confidence",
           0.9302665616915984,
           0.9404546970512648
          ],
          [
           "Ratio of Confidence",
           0.9302665616915984,
           0.9404546970512648
          ],
          [
           "Ratio of Confidence",
           0.9302665616915984,
           0.9404546970512648
          ],
          [
           "Ratio of Confidence",
           0.9302665616915984,
           0.9404546970512648
          ],
          [
           "Ratio of Confidence",
           0.9302665616915984,
           0.9404546970512648
          ],
          [
           "Ratio of Confidence",
           0.9302665616915984,
           0.9404546970512648
          ],
          [
           "Ratio of Confidence",
           0.9302665616915984,
           0.9404546970512648
          ],
          [
           "Ratio of Confidence",
           0.9302665616915984,
           0.9404546970512648
          ],
          [
           "Ratio of Confidence",
           0.9302665616915984,
           0.9404546970512648
          ],
          [
           "Ratio of Confidence",
           0.9302665616915984,
           0.9404546970512648
          ],
          [
           "Ratio of Confidence",
           0.9302665616915984,
           0.9404546970512648
          ],
          [
           "Ratio of Confidence",
           0.9302665616915984,
           0.9404546970512648
          ],
          [
           "Ratio of Confidence",
           0.9302665616915984,
           0.9404546970512648
          ],
          [
           "Ratio of Confidence",
           0.9302665616915984,
           0.9404546970512648
          ],
          [
           "Ratio of Confidence",
           0.9302665616915984,
           0.9404546970512648
          ],
          [
           "Ratio of Confidence",
           0.9302665616915984,
           0.9404546970512648
          ],
          [
           "Ratio of Confidence",
           0.9302665616915984,
           0.9404546970512648
          ],
          [
           "Ratio of Confidence",
           0.9302665616915984,
           0.9404546970512648
          ],
          [
           "Ratio of Confidence",
           0.9302665616915984,
           0.9404546970512648
          ],
          [
           "Ratio of Confidence",
           0.9302665616915984,
           0.9404546970512648
          ],
          [
           "Ratio of Confidence",
           0.9302665616915984,
           0.9404546970512648
          ],
          [
           "Ratio of Confidence",
           0.9302665616915984,
           0.9404546970512648
          ],
          [
           "Ratio of Confidence",
           0.9302665616915984,
           0.9404546970512648
          ],
          [
           "Ratio of Confidence",
           0.9302665616915984,
           0.9404546970512648
          ],
          [
           "Ratio of Confidence",
           0.9302665616915984,
           0.9404546970512648
          ],
          [
           "Ratio of Confidence",
           0.9302665616915984,
           0.9404546970512648
          ],
          [
           "Ratio of Confidence",
           0.9302665616915984,
           0.9404546970512648
          ],
          [
           "Ratio of Confidence",
           0.9302665616915984,
           0.9404546970512648
          ],
          [
           "Ratio of Confidence",
           0.9302665616915984,
           0.9404546970512648
          ],
          [
           "Ratio of Confidence",
           0.9302665616915984,
           0.9404546970512648
          ],
          [
           "Ratio of Confidence",
           0.9302665616915984,
           0.9404546970512648
          ],
          [
           "Ratio of Confidence",
           0.9302665616915984,
           0.9404546970512648
          ],
          [
           "Ratio of Confidence",
           0.9302665616915984,
           0.9404546970512648
          ],
          [
           "Ratio of Confidence",
           0.9302665616915984,
           0.9404546970512648
          ],
          [
           "Ratio of Confidence",
           0.9302665616915984,
           0.9404546970512648
          ],
          [
           "Ratio of Confidence",
           0.9302665616915984,
           0.9404546970512648
          ],
          [
           "Ratio of Confidence",
           0.9302665616915984,
           0.9404546970512648
          ],
          [
           "Ratio of Confidence",
           0.9302665616915984,
           0.9404546970512648
          ],
          [
           "Ratio of Confidence",
           0.9302665616915984,
           0.9404546970512648
          ],
          [
           "Ratio of Confidence",
           0.9302665616915984,
           0.9404546970512648
          ],
          [
           "Ratio of Confidence",
           0.9302665616915984,
           0.9404546970512648
          ],
          [
           "Ratio of Confidence",
           0.9302665616915984,
           0.9404546970512648
          ],
          [
           "Ratio of Confidence",
           0.9302665616915984,
           0.9404546970512648
          ],
          [
           "Ratio of Confidence",
           0.9302665616915984,
           0.9404546970512648
          ],
          [
           "Ratio of Confidence",
           0.9302665616915984,
           0.9404546970512648
          ],
          [
           "Ratio of Confidence",
           0.9302665616915984,
           0.9404546970512648
          ],
          [
           "Ratio of Confidence",
           0.9302665616915984,
           0.9404546970512648
          ],
          [
           "Ratio of Confidence",
           0.9302665616915984,
           0.9404546970512648
          ],
          [
           "Ratio of Confidence",
           0.9302665616915984,
           0.9404546970512648
          ],
          [
           "Ratio of Confidence",
           0.9302665616915984,
           0.9404546970512648
          ],
          [
           "Ratio of Confidence",
           0.9302665616915984,
           0.9404546970512648
          ],
          [
           "Ratio of Confidence",
           0.9302665616915984,
           0.9404546970512648
          ],
          [
           "Ratio of Confidence",
           0.9302665616915984,
           0.9404546970512648
          ],
          [
           "Ratio of Confidence",
           0.9302665616915984,
           0.9404546970512648
          ],
          [
           "Ratio of Confidence",
           0.9302665616915984,
           0.9404546970512648
          ],
          [
           "Ratio of Confidence",
           0.9302665616915984,
           0.9404546970512648
          ],
          [
           "Ratio of Confidence",
           0.9302665616915984,
           0.9404546970512648
          ],
          [
           "Ratio of Confidence",
           0.9302665616915984,
           0.9404546970512648
          ],
          [
           "Ratio of Confidence",
           0.9302665616915984,
           0.9404546970512648
          ],
          [
           "Ratio of Confidence",
           0.9302665616915984,
           0.9404546970512648
          ],
          [
           "Ratio of Confidence",
           0.9302665616915984,
           0.9404546970512648
          ],
          [
           "Ratio of Confidence",
           0.9302665616915984,
           0.9404546970512648
          ],
          [
           "Ratio of Confidence",
           0.9302665616915984,
           0.9404546970512648
          ],
          [
           "Ratio of Confidence",
           0.9302665616915984,
           0.9404546970512648
          ],
          [
           "Ratio of Confidence",
           0.9302665616915984,
           0.9404546970512648
          ],
          [
           "Ratio of Confidence",
           0.9302665616915984,
           0.9404546970512648
          ],
          [
           "Ratio of Confidence",
           0.9302665616915984,
           0.9404546970512648
          ],
          [
           "Ratio of Confidence",
           0.9302665616915984,
           0.9404546970512648
          ],
          [
           "Ratio of Confidence",
           0.9302665616915984,
           0.9404546970512648
          ],
          [
           "Ratio of Confidence",
           0.9302665616915984,
           0.9404546970512648
          ],
          [
           "Ratio of Confidence",
           0.9302665616915984,
           0.9404546970512648
          ],
          [
           "Ratio of Confidence",
           0.9302665616915984,
           0.9404546970512648
          ],
          [
           "Ratio of Confidence",
           0.9302665616915984,
           0.9404546970512648
          ],
          [
           "Ratio of Confidence",
           0.9302665616915984,
           0.9404546970512648
          ],
          [
           "Ratio of Confidence",
           0.9302665616915984,
           0.9404546970512648
          ],
          [
           "Ratio of Confidence",
           0.9302665616915984,
           0.9404546970512648
          ],
          [
           "Ratio of Confidence",
           0.9302665616915984,
           0.9404546970512648
          ],
          [
           "Ratio of Confidence",
           0.9302665616915984,
           0.9404546970512648
          ],
          [
           "Ratio of Confidence",
           0.9302665616915984,
           0.9404546970512648
          ],
          [
           "Ratio of Confidence",
           0.9302665616915984,
           0.9404546970512648
          ],
          [
           "Ratio of Confidence",
           0.9302665616915984,
           0.9404546970512648
          ],
          [
           "Ratio of Confidence",
           0.9302665616915984,
           0.9404546970512648
          ],
          [
           "Ratio of Confidence",
           0.9302665616915984,
           0.9404546970512648
          ],
          [
           "Ratio of Confidence",
           0.9302665616915984,
           0.9404546970512648
          ],
          [
           "Ratio of Confidence",
           0.9302665616915984,
           0.9404546970512648
          ],
          [
           "Ratio of Confidence",
           0.9302665616915984,
           0.9404546970512648
          ],
          [
           "Ratio of Confidence",
           0.9302665616915984,
           0.9404546970512648
          ],
          [
           "Ratio of Confidence",
           0.9302665616915984,
           0.9404546970512648
          ],
          [
           "Ratio of Confidence",
           0.9302665616915984,
           0.9404546970512648
          ],
          [
           "Ratio of Confidence",
           0.9302665616915984,
           0.9404546970512648
          ],
          [
           "Ratio of Confidence",
           0.9302665616915984,
           0.9404546970512648
          ],
          [
           "Ratio of Confidence",
           0.9302665616915984,
           0.9404546970512648
          ],
          [
           "Ratio of Confidence",
           0.9302665616915984,
           0.9404546970512648
          ],
          [
           "Ratio of Confidence",
           0.9302665616915984,
           0.9404546970512648
          ],
          [
           "Ratio of Confidence",
           0.9302665616915984,
           0.9404546970512648
          ],
          [
           "Ratio of Confidence",
           0.9302665616915984,
           0.9404546970512648
          ],
          [
           "Ratio of Confidence",
           0.9302665616915984,
           0.9404546970512648
          ],
          [
           "Ratio of Confidence",
           0.9302665616915984,
           0.9404546970512648
          ],
          [
           "Ratio of Confidence",
           0.9302665616915984,
           0.9404546970512648
          ],
          [
           "Ratio of Confidence",
           0.9302665616915984,
           0.9404546970512648
          ],
          [
           "Ratio of Confidence",
           0.9302665616915984,
           0.9404546970512648
          ],
          [
           "Ratio of Confidence",
           0.9302665616915984,
           0.9404546970512648
          ],
          [
           "Ratio of Confidence",
           0.9302665616915984,
           0.9404546970512648
          ],
          [
           "Ratio of Confidence",
           0.9302665616915984,
           0.9404546970512648
          ],
          [
           "Ratio of Confidence",
           0.9302665616915984,
           0.9404546970512648
          ],
          [
           "Ratio of Confidence",
           0.9302665616915984,
           0.9404546970512648
          ],
          [
           "Ratio of Confidence",
           0.9302665616915984,
           0.9404546970512648
          ],
          [
           "Ratio of Confidence",
           0.9302665616915984,
           0.9404546970512648
          ],
          [
           "Ratio of Confidence",
           0.9302665616915984,
           0.9404546970512648
          ],
          [
           "Ratio of Confidence",
           0.9302665616915984,
           0.9404546970512648
          ],
          [
           "Ratio of Confidence",
           0.9302665616915984,
           0.9404546970512648
          ],
          [
           "Ratio of Confidence",
           0.9302665616915984,
           0.9404546970512648
          ],
          [
           "Ratio of Confidence",
           0.9302665616915984,
           0.9404546970512648
          ],
          [
           "Ratio of Confidence",
           0.9302665616915984,
           0.9404546970512648
          ],
          [
           "Ratio of Confidence",
           0.9302665616915984,
           0.9404546970512648
          ],
          [
           "Ratio of Confidence",
           0.9302665616915984,
           0.9404546970512648
          ],
          [
           "Ratio of Confidence",
           0.9302665616915984,
           0.9404546970512648
          ],
          [
           "Ratio of Confidence",
           0.9302665616915984,
           0.9404546970512648
          ],
          [
           "Ratio of Confidence",
           0.9302665616915984,
           0.9404546970512648
          ],
          [
           "Ratio of Confidence",
           0.9302665616915984,
           0.9404546970512648
          ],
          [
           "Ratio of Confidence",
           0.9302665616915984,
           0.9404546970512648
          ],
          [
           "Ratio of Confidence",
           0.9302665616915984,
           0.9404546970512648
          ],
          [
           "Ratio of Confidence",
           0.9302665616915984,
           0.9404546970512648
          ],
          [
           "Ratio of Confidence",
           0.9302665616915984,
           0.9404546970512648
          ],
          [
           "Ratio of Confidence",
           0.9302665616915984,
           0.9404546970512648
          ],
          [
           "Ratio of Confidence",
           0.9302665616915984,
           0.9404546970512648
          ],
          [
           "Ratio of Confidence",
           0.9302665616915984,
           0.9404546970512648
          ],
          [
           "Ratio of Confidence",
           0.9302665616915984,
           0.9404546970512648
          ],
          [
           "Ratio of Confidence",
           0.9302665616915984,
           0.9404546970512648
          ],
          [
           "Ratio of Confidence",
           0.9302665616915984,
           0.9404546970512648
          ],
          [
           "Ratio of Confidence",
           0.9302665616915984,
           0.9404546970512648
          ],
          [
           "Ratio of Confidence",
           0.9302665616915984,
           0.9404546970512648
          ],
          [
           "Ratio of Confidence",
           0.9302665616915984,
           0.9404546970512648
          ],
          [
           "Ratio of Confidence",
           0.9302665616915984,
           0.9404546970512648
          ],
          [
           "Ratio of Confidence",
           0.9302665616915984,
           0.9404546970512648
          ],
          [
           "Ratio of Confidence",
           0.9302665616915984,
           0.9404546970512648
          ],
          [
           "Ratio of Confidence",
           0.9302665616915984,
           0.9404546970512648
          ],
          [
           "Ratio of Confidence",
           0.9302665616915984,
           0.9404546970512648
          ],
          [
           "Ratio of Confidence",
           0.9302665616915984,
           0.9404546970512648
          ],
          [
           "Ratio of Confidence",
           0.9302665616915984,
           0.9404546970512648
          ],
          [
           "Ratio of Confidence",
           0.9302665616915984,
           0.9404546970512648
          ],
          [
           "Ratio of Confidence",
           0.9302665616915984,
           0.9404546970512648
          ],
          [
           "Ratio of Confidence",
           0.9302665616915984,
           0.9404546970512648
          ],
          [
           "Ratio of Confidence",
           0.9302665616915984,
           0.9404546970512648
          ],
          [
           "Ratio of Confidence",
           0.9302665616915984,
           0.9404546970512648
          ],
          [
           "Ratio of Confidence",
           0.9302665616915984,
           0.9404546970512648
          ],
          [
           "Ratio of Confidence",
           0.9302665616915984,
           0.9404546970512648
          ],
          [
           "Ratio of Confidence",
           0.9302665616915984,
           0.9404546970512648
          ],
          [
           "Ratio of Confidence",
           0.9302665616915984,
           0.9404546970512648
          ],
          [
           "Ratio of Confidence",
           0.9302665616915984,
           0.9404546970512648
          ],
          [
           "Ratio of Confidence",
           0.9302665616915984,
           0.9404546970512648
          ],
          [
           "Ratio of Confidence",
           0.9302665616915984,
           0.9404546970512648
          ],
          [
           "Ratio of Confidence",
           0.9302665616915984,
           0.9404546970512648
          ],
          [
           "Ratio of Confidence",
           0.9302665616915984,
           0.9404546970512648
          ],
          [
           "Ratio of Confidence",
           0.9302665616915984,
           0.9404546970512648
          ],
          [
           "Ratio of Confidence",
           0.9302665616915984,
           0.9404546970512648
          ],
          [
           "Ratio of Confidence",
           0.9302665616915984,
           0.9404546970512648
          ],
          [
           "Ratio of Confidence",
           0.9302665616915984,
           0.9404546970512648
          ],
          [
           "Ratio of Confidence",
           0.9302665616915984,
           0.9404546970512648
          ],
          [
           "Ratio of Confidence",
           0.9302665616915984,
           0.9404546970512648
          ],
          [
           "Ratio of Confidence",
           0.9302665616915984,
           0.9404546970512648
          ],
          [
           "Ratio of Confidence",
           0.9302665616915984,
           0.9404546970512648
          ],
          [
           "Ratio of Confidence",
           0.9302665616915984,
           0.9404546970512648
          ],
          [
           "Ratio of Confidence",
           0.9302665616915984,
           0.9404546970512648
          ],
          [
           "Ratio of Confidence",
           0.9302665616915984,
           0.9404546970512648
          ],
          [
           "Ratio of Confidence",
           0.9302665616915984,
           0.9404546970512648
          ],
          [
           "Ratio of Confidence",
           0.9302665616915984,
           0.9404546970512648
          ],
          [
           "Ratio of Confidence",
           0.9302665616915984,
           0.9404546970512648
          ],
          [
           "Ratio of Confidence",
           0.9302665616915984,
           0.9404546970512648
          ],
          [
           "Ratio of Confidence",
           0.9302665616915984,
           0.9404546970512648
          ],
          [
           "Ratio of Confidence",
           0.9302665616915984,
           0.9404546970512648
          ],
          [
           "Ratio of Confidence",
           0.9302665616915984,
           0.9404546970512648
          ],
          [
           "Ratio of Confidence",
           0.9302665616915984,
           0.9404546970512648
          ],
          [
           "Ratio of Confidence",
           0.9302665616915984,
           0.9404546970512648
          ],
          [
           "Ratio of Confidence",
           0.9302665616915984,
           0.9404546970512648
          ],
          [
           "Ratio of Confidence",
           0.9302665616915984,
           0.9404546970512648
          ],
          [
           "Ratio of Confidence",
           0.9302665616915984,
           0.9404546970512648
          ],
          [
           "Ratio of Confidence",
           0.9302665616915984,
           0.9404546970512648
          ],
          [
           "Ratio of Confidence",
           0.9302665616915984,
           0.9404546970512648
          ],
          [
           "Ratio of Confidence",
           0.9302665616915984,
           0.9404546970512648
          ],
          [
           "Ratio of Confidence",
           0.9302665616915984,
           0.9404546970512648
          ],
          [
           "Ratio of Confidence",
           0.9302665616915984,
           0.9404546970512648
          ],
          [
           "Ratio of Confidence",
           0.9302665616915984,
           0.9404546970512648
          ],
          [
           "Ratio of Confidence",
           0.9302665616915984,
           0.9404546970512648
          ],
          [
           "Ratio of Confidence",
           0.9302665616915984,
           0.9404546970512648
          ],
          [
           "Ratio of Confidence",
           0.9302665616915984,
           0.9404546970512648
          ],
          [
           "Ratio of Confidence",
           0.9302665616915984,
           0.9404546970512648
          ],
          [
           "Ratio of Confidence",
           0.9302665616915984,
           0.9404546970512648
          ],
          [
           "Ratio of Confidence",
           0.9302665616915984,
           0.9404546970512648
          ],
          [
           "Ratio of Confidence",
           0.9302665616915984,
           0.9404546970512648
          ],
          [
           "Ratio of Confidence",
           0.9302665616915984,
           0.9404546970512648
          ],
          [
           "Ratio of Confidence",
           0.9302665616915984,
           0.9404546970512648
          ],
          [
           "Ratio of Confidence",
           0.9302665616915984,
           0.9404546970512648
          ],
          [
           "Ratio of Confidence",
           0.9302665616915984,
           0.9404546970512648
          ],
          [
           "Ratio of Confidence",
           0.9302665616915984,
           0.9404546970512648
          ],
          [
           "Ratio of Confidence",
           0.9302665616915984,
           0.9404546970512648
          ],
          [
           "Ratio of Confidence",
           0.9302665616915984,
           0.9404546970512648
          ],
          [
           "Ratio of Confidence",
           0.9302665616915984,
           0.9404546970512648
          ],
          [
           "Ratio of Confidence",
           0.9302665616915984,
           0.9404546970512648
          ],
          [
           "Ratio of Confidence",
           0.9302665616915984,
           0.9404546970512648
          ],
          [
           "Ratio of Confidence",
           0.9302665616915984,
           0.9404546970512648
          ],
          [
           "Ratio of Confidence",
           0.9302665616915984,
           0.9404546970512648
          ],
          [
           "Ratio of Confidence",
           0.9302665616915984,
           0.9404546970512648
          ],
          [
           "Ratio of Confidence",
           0.9302665616915984,
           0.9404546970512648
          ],
          [
           "Ratio of Confidence",
           0.9302665616915984,
           0.9404546970512648
          ],
          [
           "Ratio of Confidence",
           0.9302665616915984,
           0.9404546970512648
          ],
          [
           "Ratio of Confidence",
           0.9302665616915984,
           0.9404546970512648
          ]
         ],
         "hovertemplate": "Strategy=%{customdata[0]}<br>Number of Labeled Samples=%{x:.0f}<br>MCC=%{y:.4f}<br>Accuracy=%{customdata[1]:.4f}<br>F1 Score (weighted)=%{customdata[2]:.4f}<extra></extra>",
         "legendgroup": "Ratio of Confidence",
         "line": {
          "color": "cyan",
          "dash": "solid"
         },
         "marker": {
          "symbol": "circle"
         },
         "mode": "lines+markers",
         "name": "Ratio of Confidence",
         "showlegend": true,
         "type": "scattergl",
         "x": {
          "bdata": "AAAAAABAf0AAAAAAAMCCQAAAAAAA4IVAAAAAAAAAiUAAAAAAACCMQAAAAAAAQI9AAAAAAAAwkUAAAAAAAMCSQAAAAAAAUJRAAAAAAADglUAAAAAAAHCXQAAAAAAAAJlAAAAAAACQmkAAAAAAACCcQAAAAAAAsJ1AAAAAAABAn0AAAAAAAGigQAAAAAAAMKFAAAAAAAD4oUAAAAAAAMCiQAAAAAAAiKNAAAAAAABQpEAAAAAAABilQAAAAAAA4KVAAAAAAACopkAAAAAAAHCnQAAAAAAAOKhAAAAAAAAAqUAAAAAAAMipQAAAAAAAkKpAAAAAAABYq0AAAAAAACCsQAAAAAAA6KxAAAAAAACwrUAAAAAAAHiuQAAAAAAAQK9AAAAAAAAEsEAAAAAAAGiwQAAAAAAAzLBAAAAAAAAwsUAAAAAAAJSxQAAAAAAA+LFAAAAAAABcskAAAAAAAMCyQAAAAAAAJLNAAAAAAACIs0AAAAAAAOyzQAAAAAAAULRAAAAAAAC0tEAAAAAAABi1QAAAAAAAfLVAAAAAAADgtUAAAAAAAES2QAAAAAAAqLZAAAAAAAAMt0AAAAAAAHC3QAAAAAAA1LdAAAAAAAA4uEAAAAAAAJy4QAAAAAAAALlAAAAAAABkuUAAAAAAAMi5QAAAAAAALLpAAAAAAACQukAAAAAAAPS6QAAAAAAAWLtAAAAAAAC8u0AAAAAAACC8QAAAAAAAhLxAAAAAAADovEAAAAAAAEy9QAAAAAAAsL1AAAAAAAAUvkAAAAAAAHi+QAAAAAAA3L5AAAAAAABAv0AAAAAAAKS/QAAAAAAABMBAAAAAAAA2wEAAAAAAAGjAQAAAAAAAmsBAAAAAAADMwEAAAAAAAP7AQAAAAAAAMMFAAAAAAABiwUAAAAAAAJTBQAAAAAAAxsFAAAAAAAD4wUAAAAAAACrCQAAAAAAAXMJAAAAAAACOwkAAAAAAAMDCQAAAAAAA8sJAAAAAAAAkw0AAAAAAAFbDQAAAAAAAiMNAAAAAAAC6w0AAAAAAAOzDQAAAAAAAHsRAAAAAAABQxEAAAAAAAILEQAAAAAAAtMRAAAAAAADmxEAAAAAAABjFQAAAAAAASsVAAAAAAAB8xUAAAAAAAK7FQAAAAAAA4MVAAAAAAAASxkAAAAAAAETGQAAAAAAAdsZAAAAAAACoxkAAAAAAANrGQAAAAAAADMdAAAAAAAA+x0AAAAAAAHDHQAAAAAAAosdAAAAAAADUx0AAAAAAAAbIQAAAAAAAOMhAAAAAAABqyEAAAAAAAJzIQAAAAAAAzshAAAAAAAAAyUAAAAAAADLJQAAAAAAAZMlAAAAAAACWyUAAAAAAAMjJQAAAAAAA+slAAAAAAAAsykAAAAAAAF7KQAAAAAAAkMpAAAAAAADCykAAAAAAAPTKQAAAAAAAJstAAAAAAABYy0AAAAAAAIrLQAAAAAAAvMtAAAAAAADuy0AAAAAAACDMQAAAAAAAUsxAAAAAAACEzEAAAAAAALbMQAAAAAAA6MxAAAAAAAAazUAAAAAAAEzNQAAAAAAAfs1AAAAAAACwzUAAAAAAAOLNQAAAAAAAFM5AAAAAAABGzkAAAAAAAHjOQAAAAAAAqs5AAAAAAADczkAAAAAAAA7PQAAAAAAAQM9AAAAAAAByz0AAAAAAAKTPQAAAAAAA1s9AAAAAAAAE0EAAAAAAAB3QQAAAAAAANtBAAAAAAABP0EAAAAAAAGjQQAAAAAAAgdBAAAAAAACa0EAAAAAAALPQQAAAAAAAzNBAAAAAAADl0EAAAAAAAP7QQAAAAAAAF9FAAAAAAAAw0UAAAAAAAEnRQAAAAAAAYtFAAAAAAAB70UAAAAAAAJTRQAAAAAAArdFAAAAAAADG0UAAAAAAAN/RQAAAAAAA+NFAAAAAAAAR0kAAAAAAACrSQAAAAAAAQ9JAAAAAAABc0kAAAAAAAHXSQAAAAAAAjtJAAAAAAACn0kAAAAAAAMDSQAAAAAAA2dJAAAAAAADy0kAAAAAAAAvTQAAAAAAAJNNAAAAAAAA900AAAAAAAFbTQAAAAAAAb9NAAAAAAACI00AAAAAAAKHTQAAAAAAAutNAAAAAAADT00AAAAAAAOzTQAAAAAAABdRAAAAAAAAe1EAAAAAAADfUQAAAAAAAUNRAAAAAAABp1EAAAAAAAILUQAAAAAAAm9RAAAAAAAC01EAAAAAAAM3UQAAAAAAA5tRAAAAAAAD/1EAAAAAAABjVQAAAAAAAMdVAAAAAAABK1UAAAAAAAGPVQAAAAAAAfNVAAAAAAACV1UAAAAAAAK7VQAAAAAAAx9VAAAAAAADg1UAAAAAAAPnVQAAAAAAAEtZAAAAAAAAr1kAAAAAAAETWQAAAAAAAXdZAAAAAAAB21kAAAAAAAI/WQAAAAAAAqNZAAAAAAADB1kAAAAAAANrWQAAAAAAA89ZAAAAAAAAM10AAAAAAACXXQAAAAAAAPtdAAAAAAABX10AAAAAAAHDXQAAAAAAAiddAAAAAAACi10AAAAAAALvXQAAAAAAA1NdAAAAAAADt10AAAAAAAAbYQAAAAAAAH9hAAAAAAAA42EAAAAAAAFHYQAAAAAAAathAAAAAAACD2EAAAAAAAJzYQAAAAAAAtdhAAAAAAADO2EAAAAAAAOfYQAAAAAAAANlAAAAAAAAZ2UAAAAAAADLZQAAAAAAAS9lAAAAAAABk2UAAAAAAAH3ZQAAAAAAAltlAAAAAAACv2UAAAAAAAMjZQAAAAAAA4dlAAAAAAAD62UAAAAAAABPaQAAAAAAALNpAAAAAAABF2kAAAAAAAF7aQAAAAAAAd9pAAAAAAACQ2kAAAAAAAKnaQAAAAAAAwtpAAAAAAADb2kAAAAAAAPTaQAAAAAAADdtAAAAAAAAm20AAAAAAAD/bQAAAAAAAWNtAAAAAAABx20AAAAAAAIrbQAAAAAAAo9tAAAAAAAC820AAAAAAANXbQAAAAAAA7ttAAAAAAAAH3EAAAAAAACDcQAAAAAAAOdxAAAAAAABS3EAAAAAAAGvcQAAAAAAAhNxAAAAAAACd3EAAAAAAALbcQAAAAAAAz9xAAAAAAADo3EAAAAAAAAHdQAAAAAAAGt1AAAAAAAAz3UAAAAAAAEzdQAAAAAAAZd1AAAAAAAB+3UAAAAAAAJfdQAAAAAAAsN1AAAAAAADJ3UAAAAAAAOLdQAAAAAAA+91AAAAAAAAU3kAAAAAAAC3eQAAAAAAARt5AAAAAAABf3kAAAAAAAHjeQAAAAAAAkd5AAAAAAACq3kAAAAAAAMPeQAAAAAAA3N5AAAAAAAD13kAAAAAAAA7fQAAAAAAAJ99AAAAAAABA30AAAAAAAFnfQAAAAAAAct9AAAAAAACL30AAAAAAAKTfQAAAAAAAvd9AAAAAAADW30AAAAAAAO/fQAAAAAAABOBAAAAAAIAQ4EAAAAAAAB3gQAAAAACAKeBAAAAAAAA24EAAAAAAgELgQAAAAAAAT+BAAAAAAIBb4EAAAAAAAGjgQAAAAACAdOBAAAAAAACB4EAAAAAAgI3gQAAAAAAAmuBAAAAAAICm4EAAAAAAALPgQAAAAACAv+BAAAAAAADM4EAAAAAAgNjgQAAAAAAA5eBAAAAAAIDx4EAAAAAAAP7gQAAAAACACuFAAAAAAAAX4UAAAAAAgCPhQAAAAAAAMOFAAAAAAIA84UAAAAAAAEnhQAAAAACAVeFAAAAAAEBd4UAAAAAAQF3hQAAAAABAXeFA",
          "dtype": "f8"
         },
         "xaxis": "x",
         "y": {
          "bdata": "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",
          "dtype": "f8"
         },
         "yaxis": "y"
        },
        {
         "customdata": [
          [
           "Theoretical",
           null,
           null
          ],
          [
           "Theoretical",
           null,
           null
          ],
          [
           "Theoretical",
           null,
           null
          ],
          [
           "Theoretical",
           null,
           null
          ],
          [
           "Theoretical",
           null,
           null
          ],
          [
           "Theoretical",
           null,
           null
          ],
          [
           "Theoretical",
           null,
           null
          ],
          [
           "Theoretical",
           null,
           null
          ],
          [
           "Theoretical",
           null,
           null
          ],
          [
           "Theoretical",
           null,
           null
          ],
          [
           "Theoretical",
           null,
           null
          ],
          [
           "Theoretical",
           null,
           null
          ],
          [
           "Theoretical",
           null,
           null
          ],
          [
           "Theoretical",
           null,
           null
          ],
          [
           "Theoretical",
           null,
           null
          ],
          [
           "Theoretical",
           null,
           null
          ],
          [
           "Theoretical",
           null,
           null
          ],
          [
           "Theoretical",
           null,
           null
          ],
          [
           "Theoretical",
           null,
           null
          ],
          [
           "Theoretical",
           null,
           null
          ],
          [
           "Theoretical",
           null,
           null
          ],
          [
           "Theoretical",
           null,
           null
          ],
          [
           "Theoretical",
           null,
           null
          ],
          [
           "Theoretical",
           null,
           null
          ],
          [
           "Theoretical",
           null,
           null
          ],
          [
           "Theoretical",
           null,
           null
          ],
          [
           "Theoretical",
           null,
           null
          ],
          [
           "Theoretical",
           null,
           null
          ],
          [
           "Theoretical",
           null,
           null
          ],
          [
           "Theoretical",
           null,
           null
          ],
          [
           "Theoretical",
           null,
           null
          ],
          [
           "Theoretical",
           null,
           null
          ],
          [
           "Theoretical",
           null,
           null
          ],
          [
           "Theoretical",
           null,
           null
          ],
          [
           "Theoretical",
           null,
           null
          ],
          [
           "Theoretical",
           null,
           null
          ],
          [
           "Theoretical",
           null,
           null
          ],
          [
           "Theoretical",
           null,
           null
          ],
          [
           "Theoretical",
           null,
           null
          ],
          [
           "Theoretical",
           null,
           null
          ],
          [
           "Theoretical",
           null,
           null
          ],
          [
           "Theoretical",
           null,
           null
          ],
          [
           "Theoretical",
           null,
           null
          ],
          [
           "Theoretical",
           null,
           null
          ],
          [
           "Theoretical",
           null,
           null
          ],
          [
           "Theoretical",
           null,
           null
          ],
          [
           "Theoretical",
           null,
           null
          ],
          [
           "Theoretical",
           null,
           null
          ],
          [
           "Theoretical",
           null,
           null
          ],
          [
           "Theoretical",
           null,
           null
          ],
          [
           "Theoretical",
           null,
           null
          ],
          [
           "Theoretical",
           null,
           null
          ],
          [
           "Theoretical",
           null,
           null
          ],
          [
           "Theoretical",
           null,
           null
          ],
          [
           "Theoretical",
           null,
           null
          ],
          [
           "Theoretical",
           null,
           null
          ],
          [
           "Theoretical",
           null,
           null
          ],
          [
           "Theoretical",
           null,
           null
          ],
          [
           "Theoretical",
           null,
           null
          ],
          [
           "Theoretical",
           null,
           null
          ],
          [
           "Theoretical",
           null,
           null
          ],
          [
           "Theoretical",
           null,
           null
          ],
          [
           "Theoretical",
           null,
           null
          ],
          [
           "Theoretical",
           null,
           null
          ],
          [
           "Theoretical",
           null,
           null
          ],
          [
           "Theoretical",
           null,
           null
          ],
          [
           "Theoretical",
           null,
           null
          ],
          [
           "Theoretical",
           null,
           null
          ],
          [
           "Theoretical",
           null,
           null
          ],
          [
           "Theoretical",
           null,
           null
          ],
          [
           "Theoretical",
           null,
           null
          ],
          [
           "Theoretical",
           null,
           null
          ],
          [
           "Theoretical",
           null,
           null
          ],
          [
           "Theoretical",
           null,
           null
          ],
          [
           "Theoretical",
           null,
           null
          ],
          [
           "Theoretical",
           null,
           null
          ],
          [
           "Theoretical",
           null,
           null
          ],
          [
           "Theoretical",
           null,
           null
          ],
          [
           "Theoretical",
           null,
           null
          ],
          [
           "Theoretical",
           null,
           null
          ],
          [
           "Theoretical",
           null,
           null
          ],
          [
           "Theoretical",
           null,
           null
          ],
          [
           "Theoretical",
           null,
           null
          ],
          [
           "Theoretical",
           null,
           null
          ],
          [
           "Theoretical",
           null,
           null
          ],
          [
           "Theoretical",
           null,
           null
          ],
          [
           "Theoretical",
           null,
           null
          ],
          [
           "Theoretical",
           null,
           null
          ],
          [
           "Theoretical",
           null,
           null
          ],
          [
           "Theoretical",
           null,
           null
          ],
          [
           "Theoretical",
           null,
           null
          ],
          [
           "Theoretical",
           null,
           null
          ],
          [
           "Theoretical",
           null,
           null
          ],
          [
           "Theoretical",
           null,
           null
          ],
          [
           "Theoretical",
           null,
           null
          ],
          [
           "Theoretical",
           null,
           null
          ],
          [
           "Theoretical",
           null,
           null
          ],
          [
           "Theoretical",
           null,
           null
          ],
          [
           "Theoretical",
           null,
           null
          ],
          [
           "Theoretical",
           null,
           null
          ]
         ],
         "hovertemplate": "Strategy=%{customdata[0]}<br>Number of Labeled Samples=%{x:.0f}<br>MCC=%{y:.4f}<br>Accuracy=%{customdata[1]:.4f}<br>F1 Score (weighted)=%{customdata[2]:.4f}<extra></extra>",
         "legendgroup": "Theoretical",
         "line": {
          "color": "gray",
          "dash": "dash"
         },
         "marker": {
          "symbol": "circle"
         },
         "mode": "lines+markers",
         "name": "Theoretical",
         "showlegend": true,
         "type": "scattergl",
         "x": {
          "bdata": "AAAAAABAf0AsBWr9SrGKQCwFav1K4ZJAwgcffPBpmEBZCtT6lfKdQHeGxLydvaFAwgcffPCBpEANiXk7Q0anQFgK1PqVCqpAo4suuujOrEDuDIl5O5OvQBzHcRzHK7FAwgcffPCNskBoSMzbGfCzQA2JeTtDUrVAsskmm2y0tkBYCtT6lRa4QP5KgVq/eLlAo4suuujaukBIzNsZEj28QO4MiXk7n71AlE022WQBv0Acx3EcxzHAQG9nSMzb4sBAwgcffPCTwUAVqPUrBUXCQGdIzNsZ9sJAuuiiiy6nw0ANiXk7Q1jEQGApUOtXCcVAsskmm2y6xUAFav1KgWvGQFcK1PqVHMdAq6qqqqrNx0D+SoFav37IQE/rVwrUL8lAo4suuujgyUD3KwVq/ZHKQEfM2xkSQ8tAm2yyySb0y0DvDIl5O6XMQEGtXylQVs1AlE022WQHzkDn7QyJebjOQDmO4ziOac9ARhdddFEN0EBvZ0jM22XQQJm3MyRmvtBAwgcffPAW0UDrVwrUem/RQBWo9SsFyNFAPvjgg48g0kBnSMzbGXnSQJGYtzOk0dJAuuiiiy4q00DkOI7juILTQA2JeTtD29NANtlkk80z1EBgKVDrV4zUQIp5O0Pi5NRAsskmm2w91UDcGRLz9pXVQAVq/UqB7tVAL7roogtH1kBYCtT6lZ/WQIFav1Ig+NZAq6qqqqpQ10DU+pUCNanXQP5KgVq/AdhAKJtsskla2EBQ61cK1LLYQHo7Q2JeC9lAo4suuuhj2UDM2xkSc7zZQPcrBWr9FNpAHnzwwYdt2kBIzNsZEsbaQHIcx3GcHttAm2yyySZ320DFvJ0hsc/bQO4MiXk7KNxAF1100cWA3EBBrV8pUNncQGr9SoHaMd1AlE022WSK3UC8nSEx7+LdQObtDIl5O95AED744AOU3kA5juM4juzeQGPezpAYRd9AjC666KKd30C1fqVALfbfQG9nSMxbJ+BAhA8++KBT4ECZtzMk5n/gQK1fKVArrOBAwgcffHDY4EDXrxSotQThQOtXCtT6MOFAAAAAAEBd4UA=",
          "dtype": "f8"
         },
         "xaxis": "x",
         "y": {
          "bdata": "PU50d+W76j8dZCpDVe/qP61LO3emEOs/ya5w9FYp6z+/lYyC9jzrP1IU2NA/Tes/qsdSnCtb6z9b5FSsU2frP9z5J78dcus/5xN4p9B76z/7acmun4TrP4DL7SqxjOs/xhBMhCKU6z/2pKvICpvrP+Z7fmB8oes/1yRuOoan6z+jlSmeNK3rP1r/PsSRsus/tje/Raa36z+gLM5vebzrP4u2MYMRwes/Ujdb5XPF6z+Ut7pGpcnrP/F5DMGpzes/zSSQ74TR6z+3uZICOtXrP0SDVs/L2Os/AhEh3Tzc6z/G2wZwj9/rP26q6JHF4us/un/8GeHl6z9PJCiz4+jrP+91ZOHO6+s/J0BVBqTu6z/WmjhlZPHrPyr4SSYR9Os/nrOvWav26z+GvAX6M/nrP2qdlO6r++s/O3RBDRT+6z9JSEEcbQDsP+hsmNO3Auw/4jRt3vQE7D9NEjTcJAfsP3pKumFICew/fZwT+l8L7D/EkW4nbA3sP0Cl0mNtD+w/NvnKIWQR7D8+8v/MUBPsP5y7wcozFew/d3OFeg0X7D9uglY23hjsP6tvPVOmGuw/mVedIWYc7D+MBontHR7sPw2ZEP/NH+w/IWiImnYh7D9c8MkAGCPsPx5Ob2+yJOw/o9cJIUYm7D8HTlRN0yfsP/UQYSlaKew/8LTE59oq7D+yUb24VSzsPyXVVsrKLew/ap+MSDov7D9SpWhdpDDsP3pQIDEJMuw/r04v6mgz7D9MfXCtwzTsPwgZNZ4ZNuw/pFZa3mo37D+YhV2OtzjsP6Labs3/Oew/ef2CuUM77D9ScmNvgzzsP8j1vQq/Pew/jt8ypvY+7D+9nmJbKkDsP75g+kJaQew/gfK/dIZC7D9G6pwHr0PsPxwnqRHUROw/H7I0qPVF7D94DNHfE0fsP1v0WcwuSOw/S6r9gEZJ7D9Wv0QQW0rsPyJ0GYxsS+w/P7DOBXtM7D9kmCaOhk3sP/vJWDWPTuw/r0EYC5VP7D9p8pgemFDsP7MRlX6YUew/Gh5SOZZS7D/oo6VckVPsPx3E+fWJVOw/cIFREoBV7D8=",
          "dtype": "f8"
         },
         "yaxis": "y"
        }
       ],
       "layout": {
        "hovermode": "x unified",
        "legend": {
         "title": {
          "text": "Strategy"
         },
         "tracegroupgap": 0
        },
        "template": {
         "data": {
          "bar": [
           {
            "error_x": {
             "color": "#2a3f5f"
            },
            "error_y": {
             "color": "#2a3f5f"
            },
            "marker": {
             "line": {
              "color": "#E5ECF6",
              "width": 0.5
             },
             "pattern": {
              "fillmode": "overlay",
              "size": 10,
              "solidity": 0.2
             }
            },
            "type": "bar"
           }
          ],
          "barpolar": [
           {
            "marker": {
             "line": {
              "color": "#E5ECF6",
              "width": 0.5
             },
             "pattern": {
              "fillmode": "overlay",
              "size": 10,
              "solidity": 0.2
             }
            },
            "type": "barpolar"
           }
          ],
          "carpet": [
           {
            "aaxis": {
             "endlinecolor": "#2a3f5f",
             "gridcolor": "white",
             "linecolor": "white",
             "minorgridcolor": "white",
             "startlinecolor": "#2a3f5f"
            },
            "baxis": {
             "endlinecolor": "#2a3f5f",
             "gridcolor": "white",
             "linecolor": "white",
             "minorgridcolor": "white",
             "startlinecolor": "#2a3f5f"
            },
            "type": "carpet"
           }
          ],
          "choropleth": [
           {
            "colorbar": {
             "outlinewidth": 0,
             "ticks": ""
            },
            "type": "choropleth"
           }
          ],
          "contour": [
           {
            "colorbar": {
             "outlinewidth": 0,
             "ticks": ""
            },
            "colorscale": [
             [
              0,
              "#0d0887"
             ],
             [
              0.1111111111111111,
              "#46039f"
             ],
             [
              0.2222222222222222,
              "#7201a8"
             ],
             [
              0.3333333333333333,
              "#9c179e"
             ],
             [
              0.4444444444444444,
              "#bd3786"
             ],
             [
              0.5555555555555556,
              "#d8576b"
             ],
             [
              0.6666666666666666,
              "#ed7953"
             ],
             [
              0.7777777777777778,
              "#fb9f3a"
             ],
             [
              0.8888888888888888,
              "#fdca26"
             ],
             [
              1,
              "#f0f921"
             ]
            ],
            "type": "contour"
           }
          ],
          "contourcarpet": [
           {
            "colorbar": {
             "outlinewidth": 0,
             "ticks": ""
            },
            "type": "contourcarpet"
           }
          ],
          "heatmap": [
           {
            "colorbar": {
             "outlinewidth": 0,
             "ticks": ""
            },
            "colorscale": [
             [
              0,
              "#0d0887"
             ],
             [
              0.1111111111111111,
              "#46039f"
             ],
             [
              0.2222222222222222,
              "#7201a8"
             ],
             [
              0.3333333333333333,
              "#9c179e"
             ],
             [
              0.4444444444444444,
              "#bd3786"
             ],
             [
              0.5555555555555556,
              "#d8576b"
             ],
             [
              0.6666666666666666,
              "#ed7953"
             ],
             [
              0.7777777777777778,
              "#fb9f3a"
             ],
             [
              0.8888888888888888,
              "#fdca26"
             ],
             [
              1,
              "#f0f921"
             ]
            ],
            "type": "heatmap"
           }
          ],
          "histogram": [
           {
            "marker": {
             "pattern": {
              "fillmode": "overlay",
              "size": 10,
              "solidity": 0.2
             }
            },
            "type": "histogram"
           }
          ],
          "histogram2d": [
           {
            "colorbar": {
             "outlinewidth": 0,
             "ticks": ""
            },
            "colorscale": [
             [
              0,
              "#0d0887"
             ],
             [
              0.1111111111111111,
              "#46039f"
             ],
             [
              0.2222222222222222,
              "#7201a8"
             ],
             [
              0.3333333333333333,
              "#9c179e"
             ],
             [
              0.4444444444444444,
              "#bd3786"
             ],
             [
              0.5555555555555556,
              "#d8576b"
             ],
             [
              0.6666666666666666,
              "#ed7953"
             ],
             [
              0.7777777777777778,
              "#fb9f3a"
             ],
             [
              0.8888888888888888,
              "#fdca26"
             ],
             [
              1,
              "#f0f921"
             ]
            ],
            "type": "histogram2d"
           }
          ],
          "histogram2dcontour": [
           {
            "colorbar": {
             "outlinewidth": 0,
             "ticks": ""
            },
            "colorscale": [
             [
              0,
              "#0d0887"
             ],
             [
              0.1111111111111111,
              "#46039f"
             ],
             [
              0.2222222222222222,
              "#7201a8"
             ],
             [
              0.3333333333333333,
              "#9c179e"
             ],
             [
              0.4444444444444444,
              "#bd3786"
             ],
             [
              0.5555555555555556,
              "#d8576b"
             ],
             [
              0.6666666666666666,
              "#ed7953"
             ],
             [
              0.7777777777777778,
              "#fb9f3a"
             ],
             [
              0.8888888888888888,
              "#fdca26"
             ],
             [
              1,
              "#f0f921"
             ]
            ],
            "type": "histogram2dcontour"
           }
          ],
          "mesh3d": [
           {
            "colorbar": {
             "outlinewidth": 0,
             "ticks": ""
            },
            "type": "mesh3d"
           }
          ],
          "parcoords": [
           {
            "line": {
             "colorbar": {
              "outlinewidth": 0,
              "ticks": ""
             }
            },
            "type": "parcoords"
           }
          ],
          "pie": [
           {
            "automargin": true,
            "type": "pie"
           }
          ],
          "scatter": [
           {
            "fillpattern": {
             "fillmode": "overlay",
             "size": 10,
             "solidity": 0.2
            },
            "type": "scatter"
           }
          ],
          "scatter3d": [
           {
            "line": {
             "colorbar": {
              "outlinewidth": 0,
              "ticks": ""
             }
            },
            "marker": {
             "colorbar": {
              "outlinewidth": 0,
              "ticks": ""
             }
            },
            "type": "scatter3d"
           }
          ],
          "scattercarpet": [
           {
            "marker": {
             "colorbar": {
              "outlinewidth": 0,
              "ticks": ""
             }
            },
            "type": "scattercarpet"
           }
          ],
          "scattergeo": [
           {
            "marker": {
             "colorbar": {
              "outlinewidth": 0,
              "ticks": ""
             }
            },
            "type": "scattergeo"
           }
          ],
          "scattergl": [
           {
            "marker": {
             "colorbar": {
              "outlinewidth": 0,
              "ticks": ""
             }
            },
            "type": "scattergl"
           }
          ],
          "scattermap": [
           {
            "marker": {
             "colorbar": {
              "outlinewidth": 0,
              "ticks": ""
             }
            },
            "type": "scattermap"
           }
          ],
          "scattermapbox": [
           {
            "marker": {
             "colorbar": {
              "outlinewidth": 0,
              "ticks": ""
             }
            },
            "type": "scattermapbox"
           }
          ],
          "scatterpolar": [
           {
            "marker": {
             "colorbar": {
              "outlinewidth": 0,
              "ticks": ""
             }
            },
            "type": "scatterpolar"
           }
          ],
          "scatterpolargl": [
           {
            "marker": {
             "colorbar": {
              "outlinewidth": 0,
              "ticks": ""
             }
            },
            "type": "scatterpolargl"
           }
          ],
          "scatterternary": [
           {
            "marker": {
             "colorbar": {
              "outlinewidth": 0,
              "ticks": ""
             }
            },
            "type": "scatterternary"
           }
          ],
          "surface": [
           {
            "colorbar": {
             "outlinewidth": 0,
             "ticks": ""
            },
            "colorscale": [
             [
              0,
              "#0d0887"
             ],
             [
              0.1111111111111111,
              "#46039f"
             ],
             [
              0.2222222222222222,
              "#7201a8"
             ],
             [
              0.3333333333333333,
              "#9c179e"
             ],
             [
              0.4444444444444444,
              "#bd3786"
             ],
             [
              0.5555555555555556,
              "#d8576b"
             ],
             [
              0.6666666666666666,
              "#ed7953"
             ],
             [
              0.7777777777777778,
              "#fb9f3a"
             ],
             [
              0.8888888888888888,
              "#fdca26"
             ],
             [
              1,
              "#f0f921"
             ]
            ],
            "type": "surface"
           }
          ],
          "table": [
           {
            "cells": {
             "fill": {
              "color": "#EBF0F8"
             },
             "line": {
              "color": "white"
             }
            },
            "header": {
             "fill": {
              "color": "#C8D4E3"
             },
             "line": {
              "color": "white"
             }
            },
            "type": "table"
           }
          ]
         },
         "layout": {
          "annotationdefaults": {
           "arrowcolor": "#2a3f5f",
           "arrowhead": 0,
           "arrowwidth": 1
          },
          "autotypenumbers": "strict",
          "coloraxis": {
           "colorbar": {
            "outlinewidth": 0,
            "ticks": ""
           }
          },
          "colorscale": {
           "diverging": [
            [
             0,
             "#8e0152"
            ],
            [
             0.1,
             "#c51b7d"
            ],
            [
             0.2,
             "#de77ae"
            ],
            [
             0.3,
             "#f1b6da"
            ],
            [
             0.4,
             "#fde0ef"
            ],
            [
             0.5,
             "#f7f7f7"
            ],
            [
             0.6,
             "#e6f5d0"
            ],
            [
             0.7,
             "#b8e186"
            ],
            [
             0.8,
             "#7fbc41"
            ],
            [
             0.9,
             "#4d9221"
            ],
            [
             1,
             "#276419"
            ]
           ],
           "sequential": [
            [
             0,
             "#0d0887"
            ],
            [
             0.1111111111111111,
             "#46039f"
            ],
            [
             0.2222222222222222,
             "#7201a8"
            ],
            [
             0.3333333333333333,
             "#9c179e"
            ],
            [
             0.4444444444444444,
             "#bd3786"
            ],
            [
             0.5555555555555556,
             "#d8576b"
            ],
            [
             0.6666666666666666,
             "#ed7953"
            ],
            [
             0.7777777777777778,
             "#fb9f3a"
            ],
            [
             0.8888888888888888,
             "#fdca26"
            ],
            [
             1,
             "#f0f921"
            ]
           ],
           "sequentialminus": [
            [
             0,
             "#0d0887"
            ],
            [
             0.1111111111111111,
             "#46039f"
            ],
            [
             0.2222222222222222,
             "#7201a8"
            ],
            [
             0.3333333333333333,
             "#9c179e"
            ],
            [
             0.4444444444444444,
             "#bd3786"
            ],
            [
             0.5555555555555556,
             "#d8576b"
            ],
            [
             0.6666666666666666,
             "#ed7953"
            ],
            [
             0.7777777777777778,
             "#fb9f3a"
            ],
            [
             0.8888888888888888,
             "#fdca26"
            ],
            [
             1,
             "#f0f921"
            ]
           ]
          },
          "colorway": [
           "#636efa",
           "#EF553B",
           "#00cc96",
           "#ab63fa",
           "#FFA15A",
           "#19d3f3",
           "#FF6692",
           "#B6E880",
           "#FF97FF",
           "#FECB52"
          ],
          "font": {
           "color": "#2a3f5f"
          },
          "geo": {
           "bgcolor": "white",
           "lakecolor": "white",
           "landcolor": "#E5ECF6",
           "showlakes": true,
           "showland": true,
           "subunitcolor": "white"
          },
          "hoverlabel": {
           "align": "left"
          },
          "hovermode": "closest",
          "mapbox": {
           "style": "light"
          },
          "paper_bgcolor": "white",
          "plot_bgcolor": "#E5ECF6",
          "polar": {
           "angularaxis": {
            "gridcolor": "white",
            "linecolor": "white",
            "ticks": ""
           },
           "bgcolor": "#E5ECF6",
           "radialaxis": {
            "gridcolor": "white",
            "linecolor": "white",
            "ticks": ""
           }
          },
          "scene": {
           "xaxis": {
            "backgroundcolor": "#E5ECF6",
            "gridcolor": "white",
            "gridwidth": 2,
            "linecolor": "white",
            "showbackground": true,
            "ticks": "",
            "zerolinecolor": "white"
           },
           "yaxis": {
            "backgroundcolor": "#E5ECF6",
            "gridcolor": "white",
            "gridwidth": 2,
            "linecolor": "white",
            "showbackground": true,
            "ticks": "",
            "zerolinecolor": "white"
           },
           "zaxis": {
            "backgroundcolor": "#E5ECF6",
            "gridcolor": "white",
            "gridwidth": 2,
            "linecolor": "white",
            "showbackground": true,
            "ticks": "",
            "zerolinecolor": "white"
           }
          },
          "shapedefaults": {
           "line": {
            "color": "#2a3f5f"
           }
          },
          "ternary": {
           "aaxis": {
            "gridcolor": "white",
            "linecolor": "white",
            "ticks": ""
           },
           "baxis": {
            "gridcolor": "white",
            "linecolor": "white",
            "ticks": ""
           },
           "bgcolor": "#E5ECF6",
           "caxis": {
            "gridcolor": "white",
            "linecolor": "white",
            "ticks": ""
           }
          },
          "title": {
           "x": 0.05
          },
          "xaxis": {
           "automargin": true,
           "gridcolor": "white",
           "linecolor": "white",
           "ticks": "",
           "title": {
            "standoff": 15
           },
           "zerolinecolor": "white",
           "zerolinewidth": 2
          },
          "yaxis": {
           "automargin": true,
           "gridcolor": "white",
           "linecolor": "white",
           "ticks": "",
           "title": {
            "standoff": 15
           },
           "zerolinecolor": "white",
           "zerolinewidth": 2
          }
         }
        },
        "title": {
         "text": "Active Learning Performance: MCC vs. Number of Labeled Samples",
         "x": 0.5
        },
        "xaxis": {
         "anchor": "y",
         "domain": [
          0,
          1
         ],
         "title": {
          "text": "Number of Labeled Samples"
         }
        },
        "yaxis": {
         "anchor": "x",
         "domain": [
          0,
          1
         ],
         "title": {
          "text": "MCC Score"
         }
        }
       }
      }
     },
     "metadata": {},
     "output_type": "display_data"
    },
    {
     "data": {
      "application/vnd.plotly.v1+json": {
       "config": {
        "plotlyServerURL": "https://plot.ly"
       },
       "data": [
        {
         "customdata": [
          [
           "Cluster-Based",
           0.835436566647736,
           0.8965245754133393,
           0
          ],
          [
           "Cluster-Based",
           0.8373758283694662,
           0.8977617815768755,
           1
          ],
          [
           "Cluster-Based",
           0.8514498777427282,
           0.9074344843099764,
           2
          ],
          [
           "Cluster-Based",
           0.8593878173831672,
           0.9127207288269036,
           3
          ],
          [
           "Cluster-Based",
           0.8634685357805039,
           0.9155325610167584,
           4
          ],
          [
           "Cluster-Based",
           0.8675829962943791,
           0.9182319199190192,
           5
          ],
          [
           "Cluster-Based",
           0.8730335979007514,
           0.9219435384096276,
           6
          ],
          [
           "Cluster-Based",
           0.8729349806146454,
           0.9218310651220336,
           7
          ],
          [
           "Cluster-Based",
           0.8757204148687201,
           0.9237431110111348,
           8
          ],
          [
           "Cluster-Based",
           0.8768441754726333,
           0.9245304240242942,
           9
          ],
          [
           "Cluster-Based",
           0.88063648866084,
           0.9271173096389608,
           10
          ],
          [
           "Cluster-Based",
           0.8821150416425013,
           0.9281295692273084,
           11
          ],
          [
           "Cluster-Based",
           0.8812074556420222,
           0.9275672027893376,
           12
          ],
          [
           "Cluster-Based",
           0.882209910748596,
           0.9282420425149028,
           13
          ],
          [
           "Cluster-Based",
           0.8823743805820868,
           0.928354515802497,
           14
          ],
          [
           "Cluster-Based",
           0.8820375848451915,
           0.9281295692273084,
           15
          ],
          [
           "Cluster-Based",
           0.8826914769763212,
           0.9285794623776852,
           16
          ],
          [
           "Cluster-Based",
           0.8831972354423052,
           0.928916882240468,
           17
          ],
          [
           "Cluster-Based",
           0.8840319047109838,
           0.9294792486784388,
           18
          ],
          [
           "Cluster-Based",
           0.8833196169284736,
           0.929029355528062,
           19
          ],
          [
           "Cluster-Based",
           0.8834851908003483,
           0.9291418288156564,
           20
          ],
          [
           "Cluster-Based",
           0.8838228312888392,
           0.9293667753908448,
           21
          ],
          [
           "Cluster-Based",
           0.8841808096261266,
           0.929591721966033,
           22
          ],
          [
           "Cluster-Based",
           0.8836708616904142,
           0.9292543021032504,
           23
          ],
          [
           "Cluster-Based",
           0.8840118389555456,
           0.9294792486784388,
           24
          ],
          [
           "Cluster-Based",
           0.8843433067278071,
           0.9297041952536272,
           25
          ],
          [
           "Cluster-Based",
           0.8843400502565807,
           0.9297041952536272,
           26
          ],
          [
           "Cluster-Based",
           0.8845058709046393,
           0.9298166685412216,
           27
          ],
          [
           "Cluster-Based",
           0.8848377276556072,
           0.9300416151164098,
           28
          ],
          [
           "Cluster-Based",
           0.8846323710813034,
           0.9299291418288156,
           29
          ],
          [
           "Cluster-Based",
           0.8846323710813034,
           0.9299291418288156,
           30
          ],
          [
           "Cluster-Based",
           0.8846323710813034,
           0.9299291418288156,
           31
          ],
          [
           "Cluster-Based",
           0.8846323710813034,
           0.9299291418288156,
           32
          ],
          [
           "Cluster-Based",
           0.8846323710813034,
           0.9299291418288156,
           33
          ],
          [
           "Cluster-Based",
           0.8846323710813034,
           0.9299291418288156,
           34
          ],
          [
           "Cluster-Based",
           0.8848216881131339,
           0.9300416151164098,
           35
          ],
          [
           "Cluster-Based",
           0.8848155316451634,
           0.9300416151164098,
           36
          ],
          [
           "Cluster-Based",
           0.8848155316451634,
           0.9300416151164098,
           37
          ],
          [
           "Cluster-Based",
           0.8848095233490135,
           0.9300416151164098,
           38
          ],
          [
           "Cluster-Based",
           0.8848155316451634,
           0.9300416151164098,
           39
          ],
          [
           "Cluster-Based",
           0.8850204419090112,
           0.930154088404004,
           40
          ],
          [
           "Cluster-Based",
           0.885026824073775,
           0.930154088404004,
           41
          ],
          [
           "Cluster-Based",
           0.885026824073775,
           0.930154088404004,
           42
          ],
          [
           "Cluster-Based",
           0.8850333544894402,
           0.930154088404004,
           43
          ],
          [
           "Cluster-Based",
           0.8850236144612027,
           0.930154088404004,
           44
          ],
          [
           "Cluster-Based",
           0.8850236144612027,
           0.930154088404004,
           45
          ],
          [
           "Cluster-Based",
           0.8850236144612027,
           0.930154088404004,
           46
          ],
          [
           "Cluster-Based",
           0.8848344456380742,
           0.9300416151164098,
           47
          ],
          [
           "Cluster-Based",
           0.8848312006774075,
           0.9300416151164098,
           48
          ],
          [
           "Cluster-Based",
           0.8850204419090112,
           0.930154088404004,
           49
          ],
          [
           "Cluster-Based",
           0.8850021847345461,
           0.930154088404004,
           50
          ],
          [
           "Cluster-Based",
           0.8851948798747356,
           0.9302665616915984,
           51
          ],
          [
           "Cluster-Based",
           0.8850021847345461,
           0.930154088404004,
           52
          ],
          [
           "Cluster-Based",
           0.8851948798747356,
           0.9302665616915984,
           53
          ],
          [
           "Cluster-Based",
           0.8850021847345461,
           0.930154088404004,
           54
          ],
          [
           "Cluster-Based",
           0.8849992715406583,
           0.930154088404004,
           55
          ],
          [
           "Cluster-Based",
           0.8849992715406583,
           0.930154088404004,
           56
          ],
          [
           "Cluster-Based",
           0.8849992715406583,
           0.930154088404004,
           57
          ],
          [
           "Cluster-Based",
           0.8849992715406583,
           0.930154088404004,
           58
          ],
          [
           "Cluster-Based",
           0.8849992715406583,
           0.930154088404004,
           59
          ],
          [
           "Cluster-Based",
           0.8850021847345461,
           0.930154088404004,
           60
          ],
          [
           "Cluster-Based",
           0.8849992715406583,
           0.930154088404004,
           61
          ],
          [
           "Cluster-Based",
           0.8849992715406583,
           0.930154088404004,
           62
          ],
          [
           "Cluster-Based",
           0.8851920020904483,
           0.9302665616915984,
           63
          ],
          [
           "Cluster-Based",
           0.8851920020904483,
           0.9302665616915984,
           64
          ],
          [
           "Cluster-Based",
           0.8851920020904483,
           0.9302665616915984,
           65
          ],
          [
           "Cluster-Based",
           0.8851948798747356,
           0.9302665616915984,
           66
          ],
          [
           "Cluster-Based",
           0.8851920020904483,
           0.9302665616915984,
           67
          ],
          [
           "Cluster-Based",
           0.8851920020904483,
           0.9302665616915984,
           68
          ],
          [
           "Cluster-Based",
           0.8851920020904483,
           0.9302665616915984,
           69
          ],
          [
           "Cluster-Based",
           0.8851920020904483,
           0.9302665616915984,
           70
          ],
          [
           "Cluster-Based",
           0.8851920020904483,
           0.9302665616915984,
           71
          ],
          [
           "Cluster-Based",
           0.8851920020904483,
           0.9302665616915984,
           72
          ],
          [
           "Cluster-Based",
           0.8851920020904483,
           0.9302665616915984,
           73
          ],
          [
           "Cluster-Based",
           0.8851920020904483,
           0.9302665616915984,
           74
          ],
          [
           "Cluster-Based",
           0.8851920020904483,
           0.9302665616915984,
           75
          ],
          [
           "Cluster-Based",
           0.8851920020904483,
           0.9302665616915984,
           76
          ],
          [
           "Cluster-Based",
           0.8851920020904483,
           0.9302665616915984,
           77
          ],
          [
           "Cluster-Based",
           0.8851920020904483,
           0.9302665616915984,
           78
          ],
          [
           "Cluster-Based",
           0.8849992715406583,
           0.930154088404004,
           79
          ],
          [
           "Cluster-Based",
           0.8849992715406583,
           0.930154088404004,
           80
          ],
          [
           "Cluster-Based",
           0.8851920020904483,
           0.9302665616915984,
           81
          ],
          [
           "Cluster-Based",
           0.8848155316451634,
           0.9300416151164098,
           82
          ],
          [
           "Cluster-Based",
           0.8848185913565307,
           0.9300416151164098,
           83
          ],
          [
           "Cluster-Based",
           0.8850051349728225,
           0.930154088404004,
           84
          ],
          [
           "Cluster-Based",
           0.8850021847345461,
           0.930154088404004,
           85
          ],
          [
           "Cluster-Based",
           0.8850021847345461,
           0.930154088404004,
           86
          ],
          [
           "Cluster-Based",
           0.8851948798747356,
           0.9302665616915984,
           87
          ],
          [
           "Cluster-Based",
           0.8851948798747356,
           0.9302665616915984,
           88
          ],
          [
           "Cluster-Based",
           0.8851948798747356,
           0.9302665616915984,
           89
          ],
          [
           "Cluster-Based",
           0.8851948798747356,
           0.9302665616915984,
           90
          ],
          [
           "Cluster-Based",
           0.8851948798747356,
           0.9302665616915984,
           91
          ],
          [
           "Cluster-Based",
           0.8851948798747356,
           0.9302665616915984,
           92
          ],
          [
           "Cluster-Based",
           0.8850021847345461,
           0.930154088404004,
           93
          ],
          [
           "Cluster-Based",
           0.8850021847345461,
           0.930154088404004,
           94
          ],
          [
           "Cluster-Based",
           0.8851948798747356,
           0.9302665616915984,
           95
          ],
          [
           "Cluster-Based",
           0.8851948798747356,
           0.9302665616915984,
           96
          ],
          [
           "Cluster-Based",
           0.8851948798747356,
           0.9302665616915984,
           97
          ],
          [
           "Cluster-Based",
           0.8851948798747356,
           0.9302665616915984,
           98
          ],
          [
           "Cluster-Based",
           0.8850021847345461,
           0.930154088404004,
           99
          ],
          [
           "Cluster-Based",
           0.8851948798747356,
           0.9302665616915984,
           100
          ],
          [
           "Cluster-Based",
           0.8851948798747356,
           0.9302665616915984,
           101
          ],
          [
           "Cluster-Based",
           0.8851948798747356,
           0.9302665616915984,
           102
          ],
          [
           "Cluster-Based",
           0.8851948798747356,
           0.9302665616915984,
           103
          ],
          [
           "Cluster-Based",
           0.8851863576641205,
           0.9302665616915984,
           104
          ],
          [
           "Cluster-Based",
           0.8851863576641205,
           0.9302665616915984,
           105
          ],
          [
           "Cluster-Based",
           0.8851863576641205,
           0.9302665616915984,
           106
          ],
          [
           "Cluster-Based",
           0.8851863576641205,
           0.9302665616915984,
           107
          ],
          [
           "Cluster-Based",
           0.8851863576641205,
           0.9302665616915984,
           108
          ],
          [
           "Cluster-Based",
           0.8851863576641205,
           0.9302665616915984,
           109
          ],
          [
           "Cluster-Based",
           0.8851863576641205,
           0.9302665616915984,
           110
          ],
          [
           "Cluster-Based",
           0.8851863576641205,
           0.9302665616915984,
           111
          ],
          [
           "Cluster-Based",
           0.8851863576641205,
           0.9302665616915984,
           112
          ],
          [
           "Cluster-Based",
           0.8851863576641205,
           0.9302665616915984,
           113
          ],
          [
           "Cluster-Based",
           0.8851863576641205,
           0.9302665616915984,
           114
          ],
          [
           "Cluster-Based",
           0.8851863576641205,
           0.9302665616915984,
           115
          ],
          [
           "Cluster-Based",
           0.8849879891646354,
           0.930154088404004,
           116
          ],
          [
           "Cluster-Based",
           0.8851863576641205,
           0.9302665616915984,
           117
          ],
          [
           "Cluster-Based",
           0.8851863576641205,
           0.9302665616915984,
           118
          ],
          [
           "Cluster-Based",
           0.8851863576641205,
           0.9302665616915984,
           119
          ],
          [
           "Cluster-Based",
           0.8851863576641205,
           0.9302665616915984,
           120
          ],
          [
           "Cluster-Based",
           0.8849907542031125,
           0.930154088404004,
           121
          ],
          [
           "Cluster-Based",
           0.8849907542031125,
           0.930154088404004,
           122
          ],
          [
           "Cluster-Based",
           0.8849879891646354,
           0.930154088404004,
           123
          ],
          [
           "Cluster-Based",
           0.8849879891646354,
           0.930154088404004,
           124
          ],
          [
           "Cluster-Based",
           0.8849879891646354,
           0.930154088404004,
           125
          ],
          [
           "Cluster-Based",
           0.8849879891646354,
           0.930154088404004,
           126
          ],
          [
           "Cluster-Based",
           0.8849879891646354,
           0.930154088404004,
           127
          ],
          [
           "Cluster-Based",
           0.8849879891646354,
           0.930154088404004,
           128
          ],
          [
           "Cluster-Based",
           0.8849879891646354,
           0.930154088404004,
           129
          ],
          [
           "Cluster-Based",
           0.8849879891646354,
           0.930154088404004,
           130
          ],
          [
           "Cluster-Based",
           0.8849879891646354,
           0.930154088404004,
           131
          ],
          [
           "Cluster-Based",
           0.8849879891646354,
           0.930154088404004,
           132
          ],
          [
           "Cluster-Based",
           0.8849879891646354,
           0.930154088404004,
           133
          ],
          [
           "Cluster-Based",
           0.8849879891646354,
           0.930154088404004,
           134
          ],
          [
           "Cluster-Based",
           0.8849879891646354,
           0.930154088404004,
           135
          ],
          [
           "Cluster-Based",
           0.8849879891646354,
           0.930154088404004,
           136
          ],
          [
           "Cluster-Based",
           0.8849879891646354,
           0.930154088404004,
           137
          ],
          [
           "Cluster-Based",
           0.8849879891646354,
           0.930154088404004,
           138
          ],
          [
           "Cluster-Based",
           0.8849907542031125,
           0.930154088404004,
           139
          ],
          [
           "Cluster-Based",
           0.8849879891646354,
           0.930154088404004,
           140
          ],
          [
           "Cluster-Based",
           0.8849879891646354,
           0.930154088404004,
           141
          ],
          [
           "Cluster-Based",
           0.8849879891646354,
           0.930154088404004,
           142
          ],
          [
           "Cluster-Based",
           0.8849879891646354,
           0.930154088404004,
           143
          ],
          [
           "Cluster-Based",
           0.8849879891646354,
           0.930154088404004,
           144
          ],
          [
           "Cluster-Based",
           0.8849879891646354,
           0.930154088404004,
           145
          ],
          [
           "Cluster-Based",
           0.8849879891646354,
           0.930154088404004,
           146
          ],
          [
           "Cluster-Based",
           0.8849879891646354,
           0.930154088404004,
           147
          ],
          [
           "Cluster-Based",
           0.8849879891646354,
           0.930154088404004,
           148
          ],
          [
           "Cluster-Based",
           0.8849879891646354,
           0.930154088404004,
           149
          ],
          [
           "Cluster-Based",
           0.8849879891646354,
           0.930154088404004,
           150
          ],
          [
           "Cluster-Based",
           0.8849879891646354,
           0.930154088404004,
           151
          ],
          [
           "Cluster-Based",
           0.8849879891646354,
           0.930154088404004,
           152
          ],
          [
           "Cluster-Based",
           0.8849879891646354,
           0.930154088404004,
           153
          ],
          [
           "Cluster-Based",
           0.8849879891646354,
           0.930154088404004,
           154
          ],
          [
           "Cluster-Based",
           0.8849879891646354,
           0.930154088404004,
           155
          ],
          [
           "Cluster-Based",
           0.8849879891646354,
           0.930154088404004,
           156
          ],
          [
           "Cluster-Based",
           0.8849879891646354,
           0.930154088404004,
           157
          ],
          [
           "Cluster-Based",
           0.8849879891646354,
           0.930154088404004,
           158
          ],
          [
           "Cluster-Based",
           0.8849879891646354,
           0.930154088404004,
           159
          ],
          [
           "Cluster-Based",
           0.8849879891646354,
           0.930154088404004,
           160
          ],
          [
           "Cluster-Based",
           0.8849879891646354,
           0.930154088404004,
           161
          ],
          [
           "Cluster-Based",
           0.8849879891646354,
           0.930154088404004,
           162
          ],
          [
           "Cluster-Based",
           0.8849879891646354,
           0.930154088404004,
           163
          ],
          [
           "Cluster-Based",
           0.8849879891646354,
           0.930154088404004,
           164
          ],
          [
           "Cluster-Based",
           0.8849879891646354,
           0.930154088404004,
           165
          ],
          [
           "Cluster-Based",
           0.8849879891646354,
           0.930154088404004,
           166
          ],
          [
           "Cluster-Based",
           0.8849879891646354,
           0.930154088404004,
           167
          ],
          [
           "Cluster-Based",
           0.8849879891646354,
           0.930154088404004,
           168
          ],
          [
           "Cluster-Based",
           0.8849879891646354,
           0.930154088404004,
           169
          ],
          [
           "Cluster-Based",
           0.8849879891646354,
           0.930154088404004,
           170
          ],
          [
           "Cluster-Based",
           0.8849879891646354,
           0.930154088404004,
           171
          ],
          [
           "Cluster-Based",
           0.8849879891646354,
           0.930154088404004,
           172
          ],
          [
           "Cluster-Based",
           0.8849879891646354,
           0.930154088404004,
           173
          ],
          [
           "Cluster-Based",
           0.8849879891646354,
           0.930154088404004,
           174
          ],
          [
           "Cluster-Based",
           0.8849879891646354,
           0.930154088404004,
           175
          ],
          [
           "Cluster-Based",
           0.8849879891646354,
           0.930154088404004,
           176
          ],
          [
           "Cluster-Based",
           0.8851808614128523,
           0.9302665616915984,
           177
          ],
          [
           "Cluster-Based",
           0.8849879891646354,
           0.930154088404004,
           178
          ],
          [
           "Cluster-Based",
           0.8849879891646354,
           0.930154088404004,
           179
          ],
          [
           "Cluster-Based",
           0.8849879891646354,
           0.930154088404004,
           180
          ],
          [
           "Cluster-Based",
           0.8849879891646354,
           0.930154088404004,
           181
          ],
          [
           "Cluster-Based",
           0.8849879891646354,
           0.930154088404004,
           182
          ],
          [
           "Cluster-Based",
           0.8849879891646354,
           0.930154088404004,
           183
          ],
          [
           "Cluster-Based",
           0.8849879891646354,
           0.930154088404004,
           184
          ],
          [
           "Cluster-Based",
           0.8849907542031125,
           0.930154088404004,
           185
          ],
          [
           "Cluster-Based",
           0.8849879891646354,
           0.930154088404004,
           186
          ],
          [
           "Cluster-Based",
           0.8849879891646354,
           0.930154088404004,
           187
          ],
          [
           "Cluster-Based",
           0.8849907542031125,
           0.930154088404004,
           188
          ],
          [
           "Cluster-Based",
           0.8851808614128523,
           0.9302665616915984,
           189
          ],
          [
           "Cluster-Based",
           0.8851808614128523,
           0.9302665616915984,
           190
          ],
          [
           "Cluster-Based",
           0.8851808614128523,
           0.9302665616915984,
           191
          ],
          [
           "Cluster-Based",
           0.8851808614128523,
           0.9302665616915984,
           192
          ],
          [
           "Cluster-Based",
           0.8851808614128523,
           0.9302665616915984,
           193
          ],
          [
           "Cluster-Based",
           0.8851808614128523,
           0.9302665616915984,
           194
          ],
          [
           "Cluster-Based",
           0.8851808614128523,
           0.9302665616915984,
           195
          ],
          [
           "Cluster-Based",
           0.8851808614128523,
           0.9302665616915984,
           196
          ],
          [
           "Cluster-Based",
           0.8851808614128523,
           0.9302665616915984,
           197
          ],
          [
           "Cluster-Based",
           0.8851808614128523,
           0.9302665616915984,
           198
          ],
          [
           "Cluster-Based",
           0.8851808614128523,
           0.9302665616915984,
           199
          ],
          [
           "Cluster-Based",
           0.8851808614128523,
           0.9302665616915984,
           200
          ],
          [
           "Cluster-Based",
           0.8851808614128523,
           0.9302665616915984,
           201
          ],
          [
           "Cluster-Based",
           0.8851808614128523,
           0.9302665616915984,
           202
          ],
          [
           "Cluster-Based",
           0.8851808614128523,
           0.9302665616915984,
           203
          ],
          [
           "Cluster-Based",
           0.8851808614128523,
           0.9302665616915984,
           204
          ],
          [
           "Cluster-Based",
           0.8851808614128523,
           0.9302665616915984,
           205
          ],
          [
           "Cluster-Based",
           0.8851808614128523,
           0.9302665616915984,
           206
          ],
          [
           "Cluster-Based",
           0.8851808614128523,
           0.9302665616915984,
           207
          ],
          [
           "Cluster-Based",
           0.8851808614128523,
           0.9302665616915984,
           208
          ],
          [
           "Cluster-Based",
           0.8849879891646354,
           0.930154088404004,
           209
          ],
          [
           "Cluster-Based",
           0.8851808614128523,
           0.9302665616915984,
           210
          ],
          [
           "Cluster-Based",
           0.8851808614128523,
           0.9302665616915984,
           211
          ],
          [
           "Cluster-Based",
           0.8851808614128523,
           0.9302665616915984,
           212
          ],
          [
           "Cluster-Based",
           0.8851808614128523,
           0.9302665616915984,
           213
          ],
          [
           "Cluster-Based",
           0.8851808614128523,
           0.9302665616915984,
           214
          ],
          [
           "Cluster-Based",
           0.8851808614128523,
           0.9302665616915984,
           215
          ],
          [
           "Cluster-Based",
           0.8851808614128523,
           0.9302665616915984,
           216
          ],
          [
           "Cluster-Based",
           0.8851808614128523,
           0.9302665616915984,
           217
          ],
          [
           "Cluster-Based",
           0.8851808614128523,
           0.9302665616915984,
           218
          ],
          [
           "Cluster-Based",
           0.8851808614128523,
           0.9302665616915984,
           219
          ],
          [
           "Cluster-Based",
           0.8851808614128523,
           0.9302665616915984,
           220
          ],
          [
           "Cluster-Based",
           0.8851808614128523,
           0.9302665616915984,
           221
          ],
          [
           "Cluster-Based",
           0.8851808614128523,
           0.9302665616915984,
           222
          ],
          [
           "Cluster-Based",
           0.8851808614128523,
           0.9302665616915984,
           223
          ],
          [
           "Cluster-Based",
           0.8851808614128523,
           0.9302665616915984,
           224
          ],
          [
           "Cluster-Based",
           0.8851808614128523,
           0.9302665616915984,
           225
          ],
          [
           "Cluster-Based",
           0.8851808614128523,
           0.9302665616915984,
           226
          ],
          [
           "Cluster-Based",
           0.8851808614128523,
           0.9302665616915984,
           227
          ],
          [
           "Cluster-Based",
           0.8851808614128523,
           0.9302665616915984,
           228
          ],
          [
           "Cluster-Based",
           0.8851808614128523,
           0.9302665616915984,
           229
          ],
          [
           "Cluster-Based",
           0.8851808614128523,
           0.9302665616915984,
           230
          ],
          [
           "Cluster-Based",
           0.8851808614128523,
           0.9302665616915984,
           231
          ],
          [
           "Cluster-Based",
           0.8851808614128523,
           0.9302665616915984,
           232
          ],
          [
           "Cluster-Based",
           0.8851808614128523,
           0.9302665616915984,
           233
          ],
          [
           "Cluster-Based",
           0.8851808614128523,
           0.9302665616915984,
           234
          ],
          [
           "Cluster-Based",
           0.8851808614128523,
           0.9302665616915984,
           235
          ],
          [
           "Cluster-Based",
           0.8851808614128523,
           0.9302665616915984,
           236
          ],
          [
           "Cluster-Based",
           0.8851808614128523,
           0.9302665616915984,
           237
          ],
          [
           "Cluster-Based",
           0.8851808614128523,
           0.9302665616915984,
           238
          ],
          [
           "Cluster-Based",
           0.8851808614128523,
           0.9302665616915984,
           239
          ],
          [
           "Cluster-Based",
           0.8851808614128523,
           0.9302665616915984,
           240
          ],
          [
           "Cluster-Based",
           0.8851808614128523,
           0.9302665616915984,
           241
          ],
          [
           "Cluster-Based",
           0.8851808614128523,
           0.9302665616915984,
           242
          ],
          [
           "Cluster-Based",
           0.8851808614128523,
           0.9302665616915984,
           243
          ],
          [
           "Cluster-Based",
           0.8851808614128523,
           0.9302665616915984,
           244
          ],
          [
           "Cluster-Based",
           0.8851808614128523,
           0.9302665616915984,
           245
          ],
          [
           "Cluster-Based",
           0.8851808614128523,
           0.9302665616915984,
           246
          ],
          [
           "Cluster-Based",
           0.8851808614128523,
           0.9302665616915984,
           247
          ],
          [
           "Cluster-Based",
           0.8851808614128523,
           0.9302665616915984,
           248
          ],
          [
           "Cluster-Based",
           0.8851808614128523,
           0.9302665616915984,
           249
          ],
          [
           "Cluster-Based",
           0.8851808614128523,
           0.9302665616915984,
           250
          ],
          [
           "Cluster-Based",
           0.8851808614128523,
           0.9302665616915984,
           251
          ],
          [
           "Cluster-Based",
           0.8851808614128523,
           0.9302665616915984,
           252
          ],
          [
           "Cluster-Based",
           0.8851808614128523,
           0.9302665616915984,
           253
          ],
          [
           "Cluster-Based",
           0.8851808614128523,
           0.9302665616915984,
           254
          ],
          [
           "Cluster-Based",
           0.8851808614128523,
           0.9302665616915984,
           255
          ],
          [
           "Cluster-Based",
           0.8851808614128523,
           0.9302665616915984,
           256
          ],
          [
           "Cluster-Based",
           0.8851808614128523,
           0.9302665616915984,
           257
          ],
          [
           "Cluster-Based",
           0.8851808614128523,
           0.9302665616915984,
           258
          ],
          [
           "Cluster-Based",
           0.8851808614128523,
           0.9302665616915984,
           259
          ],
          [
           "Cluster-Based",
           0.8851808614128523,
           0.9302665616915984,
           260
          ],
          [
           "Cluster-Based",
           0.8851808614128523,
           0.9302665616915984,
           261
          ],
          [
           "Cluster-Based",
           0.8851808614128523,
           0.9302665616915984,
           262
          ],
          [
           "Cluster-Based",
           0.8851808614128523,
           0.9302665616915984,
           263
          ],
          [
           "Cluster-Based",
           0.8851808614128523,
           0.9302665616915984,
           264
          ],
          [
           "Cluster-Based",
           0.8851808614128523,
           0.9302665616915984,
           265
          ],
          [
           "Cluster-Based",
           0.8851808614128523,
           0.9302665616915984,
           266
          ],
          [
           "Cluster-Based",
           0.8851808614128523,
           0.9302665616915984,
           267
          ],
          [
           "Cluster-Based",
           0.8851808614128523,
           0.9302665616915984,
           268
          ],
          [
           "Cluster-Based",
           0.8851808614128523,
           0.9302665616915984,
           269
          ],
          [
           "Cluster-Based",
           0.8851808614128523,
           0.9302665616915984,
           270
          ],
          [
           "Cluster-Based",
           0.8851808614128523,
           0.9302665616915984,
           271
          ],
          [
           "Cluster-Based",
           0.8851808614128523,
           0.9302665616915984,
           272
          ],
          [
           "Cluster-Based",
           0.8851808614128523,
           0.9302665616915984,
           273
          ],
          [
           "Cluster-Based",
           0.8851808614128523,
           0.9302665616915984,
           274
          ],
          [
           "Cluster-Based",
           0.8851808614128523,
           0.9302665616915984,
           275
          ],
          [
           "Cluster-Based",
           0.8851808614128523,
           0.9302665616915984,
           276
          ],
          [
           "Cluster-Based",
           0.8851808614128523,
           0.9302665616915984,
           277
          ],
          [
           "Cluster-Based",
           0.8851808614128523,
           0.9302665616915984,
           278
          ],
          [
           "Cluster-Based",
           0.8851808614128523,
           0.9302665616915984,
           279
          ],
          [
           "Cluster-Based",
           0.8851808614128523,
           0.9302665616915984,
           280
          ],
          [
           "Cluster-Based",
           0.8851808614128523,
           0.9302665616915984,
           281
          ],
          [
           "Cluster-Based",
           0.8851808614128523,
           0.9302665616915984,
           282
          ],
          [
           "Cluster-Based",
           0.8851808614128523,
           0.9302665616915984,
           283
          ],
          [
           "Cluster-Based",
           0.8851808614128523,
           0.9302665616915984,
           284
          ],
          [
           "Cluster-Based",
           0.8851808614128523,
           0.9302665616915984,
           285
          ],
          [
           "Cluster-Based",
           0.8851808614128523,
           0.9302665616915984,
           286
          ],
          [
           "Cluster-Based",
           0.8851808614128523,
           0.9302665616915984,
           287
          ],
          [
           "Cluster-Based",
           0.8851808614128523,
           0.9302665616915984,
           288
          ],
          [
           "Cluster-Based",
           0.8851808614128523,
           0.9302665616915984,
           289
          ],
          [
           "Cluster-Based",
           0.8851808614128523,
           0.9302665616915984,
           290
          ],
          [
           "Cluster-Based",
           0.8851808614128523,
           0.9302665616915984,
           291
          ],
          [
           "Cluster-Based",
           0.8851808614128523,
           0.9302665616915984,
           292
          ],
          [
           "Cluster-Based",
           0.8851808614128523,
           0.9302665616915984,
           293
          ],
          [
           "Cluster-Based",
           0.8851808614128523,
           0.9302665616915984,
           294
          ],
          [
           "Cluster-Based",
           0.8851808614128523,
           0.9302665616915984,
           295
          ],
          [
           "Cluster-Based",
           0.8851808614128523,
           0.9302665616915984,
           296
          ],
          [
           "Cluster-Based",
           0.8851808614128523,
           0.9302665616915984,
           297
          ],
          [
           "Cluster-Based",
           0.8851808614128523,
           0.9302665616915984,
           298
          ],
          [
           "Cluster-Based",
           0.8851808614128523,
           0.9302665616915984,
           299
          ],
          [
           "Cluster-Based",
           0.8851808614128523,
           0.9302665616915984,
           300
          ],
          [
           "Cluster-Based",
           0.8851808614128523,
           0.9302665616915984,
           301
          ],
          [
           "Cluster-Based",
           0.8851808614128523,
           0.9302665616915984,
           302
          ],
          [
           "Cluster-Based",
           0.8851808614128523,
           0.9302665616915984,
           303
          ],
          [
           "Cluster-Based",
           0.8851808614128523,
           0.9302665616915984,
           304
          ],
          [
           "Cluster-Based",
           0.8851808614128523,
           0.9302665616915984,
           305
          ],
          [
           "Cluster-Based",
           0.8851808614128523,
           0.9302665616915984,
           306
          ],
          [
           "Cluster-Based",
           0.8851808614128523,
           0.9302665616915984,
           307
          ],
          [
           "Cluster-Based",
           0.8851808614128523,
           0.9302665616915984,
           308
          ],
          [
           "Cluster-Based",
           0.8851808614128523,
           0.9302665616915984,
           309
          ],
          [
           "Cluster-Based",
           0.8851808614128523,
           0.9302665616915984,
           310
          ],
          [
           "Cluster-Based",
           0.8851808614128523,
           0.9302665616915984,
           311
          ],
          [
           "Cluster-Based",
           0.8851808614128523,
           0.9302665616915984,
           312
          ],
          [
           "Cluster-Based",
           0.8851808614128523,
           0.9302665616915984,
           313
          ],
          [
           "Cluster-Based",
           0.8851808614128523,
           0.9302665616915984,
           314
          ],
          [
           "Cluster-Based",
           0.8851808614128523,
           0.9302665616915984,
           315
          ],
          [
           "Cluster-Based",
           0.8851808614128523,
           0.9302665616915984,
           316
          ],
          [
           "Cluster-Based",
           0.8851808614128523,
           0.9302665616915984,
           317
          ],
          [
           "Cluster-Based",
           0.8851808614128523,
           0.9302665616915984,
           318
          ],
          [
           "Cluster-Based",
           0.8851808614128523,
           0.9302665616915984,
           319
          ],
          [
           "Cluster-Based",
           0.8851808614128523,
           0.9302665616915984,
           320
          ],
          [
           "Cluster-Based",
           0.8851808614128523,
           0.9302665616915984,
           321
          ],
          [
           "Cluster-Based",
           0.8851808614128523,
           0.9302665616915984,
           322
          ],
          [
           "Cluster-Based",
           0.8851808614128523,
           0.9302665616915984,
           323
          ],
          [
           "Cluster-Based",
           0.8851808614128523,
           0.9302665616915984,
           324
          ],
          [
           "Cluster-Based",
           0.8851808614128523,
           0.9302665616915984,
           325
          ],
          [
           "Cluster-Based",
           0.8851808614128523,
           0.9302665616915984,
           326
          ],
          [
           "Cluster-Based",
           0.8851808614128523,
           0.9302665616915984,
           327
          ],
          [
           "Cluster-Based",
           0.8851808614128523,
           0.9302665616915984,
           328
          ],
          [
           "Cluster-Based",
           0.8851808614128523,
           0.9302665616915984,
           329
          ],
          [
           "Cluster-Based",
           0.8851808614128523,
           0.9302665616915984,
           330
          ],
          [
           "Cluster-Based",
           0.8851808614128523,
           0.9302665616915984,
           331
          ],
          [
           "Cluster-Based",
           0.8851808614128523,
           0.9302665616915984,
           332
          ],
          [
           "Cluster-Based",
           0.8851808614128523,
           0.9302665616915984,
           333
          ],
          [
           "Cluster-Based",
           0.8851808614128523,
           0.9302665616915984,
           334
          ],
          [
           "Cluster-Based",
           0.8851808614128523,
           0.9302665616915984,
           335
          ],
          [
           "Cluster-Based",
           0.8851808614128523,
           0.9302665616915984,
           336
          ],
          [
           "Cluster-Based",
           0.8851808614128523,
           0.9302665616915984,
           337
          ],
          [
           "Cluster-Based",
           0.8851808614128523,
           0.9302665616915984,
           338
          ],
          [
           "Cluster-Based",
           0.8851808614128523,
           0.9302665616915984,
           339
          ],
          [
           "Cluster-Based",
           0.8851808614128523,
           0.9302665616915984,
           340
          ],
          [
           "Cluster-Based",
           0.8851808614128523,
           0.9302665616915984,
           341
          ],
          [
           "Cluster-Based",
           0.8851808614128523,
           0.9302665616915984,
           342
          ],
          [
           "Cluster-Based",
           0.8851808614128523,
           0.9302665616915984,
           343
          ],
          [
           "Cluster-Based",
           0.8851808614128523,
           0.9302665616915984,
           344
          ],
          [
           "Cluster-Based",
           0.8851808614128523,
           0.9302665616915984,
           345
          ],
          [
           "Cluster-Based",
           0.8851808614128523,
           0.9302665616915984,
           346
          ],
          [
           "Cluster-Based",
           0.8851808614128523,
           0.9302665616915984,
           347
          ],
          [
           "Cluster-Based",
           0.8851808614128523,
           0.9302665616915984,
           348
          ],
          [
           "Cluster-Based",
           0.8851808614128523,
           0.9302665616915984,
           349
          ],
          [
           "Cluster-Based",
           0.8851808614128523,
           0.9302665616915984,
           350
          ],
          [
           "Cluster-Based",
           0.8851808614128523,
           0.9302665616915984,
           351
          ],
          [
           "Cluster-Based",
           0.8851808614128523,
           0.9302665616915984,
           352
          ],
          [
           "Cluster-Based",
           0.8851808614128523,
           0.9302665616915984,
           355
          ]
         ],
         "hovertemplate": "Strategy=%{customdata[0]}<br>Number of Labeled Samples=%{x:.0f}<br>F1 Score (weighted)=%{y:.4f}<br>MCC=%{customdata[1]:.4f}<br>Accuracy=%{customdata[2]:.4f}<br>Step=%{customdata[3]}<extra></extra>",
         "legendgroup": "Cluster-Based",
         "line": {
          "color": "blueviolet",
          "dash": "solid"
         },
         "marker": {
          "symbol": "circle"
         },
         "mode": "lines+markers",
         "name": "Cluster-Based",
         "showlegend": true,
         "type": "scattergl",
         "x": {
          "bdata": "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",
          "dtype": "f8"
         },
         "xaxis": "x",
         "y": {
          "bdata": "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",
          "dtype": "f8"
         },
         "yaxis": "y"
        },
        {
         "customdata": [
          [
           "Entropy",
           0.835436566647736,
           0.8965245754133393,
           0
          ],
          [
           "Entropy",
           0.854055023936463,
           0.9090091103362952,
           1
          ],
          [
           "Entropy",
           0.8823010890479049,
           0.928354515802497,
           2
          ],
          [
           "Entropy",
           0.8844565319699296,
           0.9298166685412216,
           3
          ],
          [
           "Entropy",
           0.8844599587273817,
           0.9298166685412216,
           4
          ],
          [
           "Entropy",
           0.8845404836000673,
           0.9298166685412216,
           5
          ],
          [
           "Entropy",
           0.8845404836000673,
           0.9298166685412216,
           6
          ],
          [
           "Entropy",
           0.8845404836000673,
           0.9298166685412216,
           7
          ],
          [
           "Entropy",
           0.8845404836000673,
           0.9298166685412216,
           8
          ],
          [
           "Entropy",
           0.8845404836000673,
           0.9298166685412216,
           9
          ],
          [
           "Entropy",
           0.8845404836000673,
           0.9298166685412216,
           10
          ],
          [
           "Entropy",
           0.8845404836000673,
           0.9298166685412216,
           11
          ],
          [
           "Entropy",
           0.8840325929995216,
           0.929591721966033,
           12
          ],
          [
           "Entropy",
           0.8837497973341869,
           0.9294792486784388,
           13
          ],
          [
           "Entropy",
           0.8830178481361565,
           0.9291418288156564,
           14
          ],
          [
           "Entropy",
           0.8827129322563172,
           0.929029355528062,
           15
          ],
          [
           "Entropy",
           0.8827488372977171,
           0.9291418288156564,
           16
          ],
          [
           "Entropy",
           0.8817701359562871,
           0.929029355528062,
           17
          ],
          [
           "Entropy",
           0.8791642368808381,
           0.927792149364526,
           18
          ],
          [
           "Entropy",
           0.8789827395824684,
           0.92790462265212,
           19
          ],
          [
           "Entropy",
           0.8813142426576898,
           0.9293667753908448,
           20
          ],
          [
           "Entropy",
           0.881011933174655,
           0.9292543021032504,
           21
          ],
          [
           "Entropy",
           0.8812763120422105,
           0.9293667753908448,
           22
          ],
          [
           "Entropy",
           0.8814598286564291,
           0.9294792486784388,
           23
          ],
          [
           "Entropy",
           0.8818719216405708,
           0.9297041952536272,
           24
          ],
          [
           "Entropy",
           0.8816648085521545,
           0.929591721966033,
           25
          ],
          [
           "Entropy",
           0.8814759092360555,
           0.9294792486784388,
           26
          ],
          [
           "Entropy",
           0.8813031813529062,
           0.9293667753908448,
           27
          ],
          [
           "Entropy",
           0.8813193231457408,
           0.9293667753908448,
           28
          ],
          [
           "Entropy",
           0.8813193231457408,
           0.9293667753908448,
           29
          ],
          [
           "Entropy",
           0.8819118407401446,
           0.9297041952536272,
           30
          ],
          [
           "Entropy",
           0.8816634076484385,
           0.929591721966033,
           31
          ],
          [
           "Entropy",
           0.8818318511381029,
           0.9297041952536272,
           32
          ],
          [
           "Entropy",
           0.8821543288472528,
           0.9299291418288156,
           33
          ],
          [
           "Entropy",
           0.8823033047842934,
           0.9300416151164098,
           34
          ],
          [
           "Entropy",
           0.8824236743224649,
           0.930154088404004,
           35
          ],
          [
           "Entropy",
           0.8817990414053728,
           0.9298166685412216,
           36
          ],
          [
           "Entropy",
           0.8821384424136919,
           0.9300416151164098,
           37
          ],
          [
           "Entropy",
           0.8824785382054767,
           0.9302665616915984,
           38
          ],
          [
           "Entropy",
           0.8825186955249583,
           0.9302665616915984,
           39
          ],
          [
           "Entropy",
           0.8825209187614552,
           0.9302665616915984,
           40
          ],
          [
           "Entropy",
           0.8825119112982229,
           0.9302665616915984,
           41
          ],
          [
           "Entropy",
           0.8828902961091303,
           0.9304915082667866,
           42
          ],
          [
           "Entropy",
           0.8830551664591765,
           0.9306039815543808,
           43
          ],
          [
           "Entropy",
           0.8826943013830008,
           0.9303790349791924,
           44
          ],
          [
           "Entropy",
           0.8827122890392217,
           0.9303790349791924,
           45
          ],
          [
           "Entropy",
           0.8828657875655783,
           0.9304915082667866,
           46
          ],
          [
           "Entropy",
           0.8824715582480028,
           0.9302665616915984,
           47
          ],
          [
           "Entropy",
           0.883039587095604,
           0.9306039815543808,
           48
          ],
          [
           "Entropy",
           0.8832465247987021,
           0.9307164548419752,
           49
          ],
          [
           "Entropy",
           0.8832641473615078,
           0.9307164548419752,
           50
          ],
          [
           "Entropy",
           0.882885691387483,
           0.9304915082667866,
           51
          ],
          [
           "Entropy",
           0.8832465247987021,
           0.9307164548419752,
           52
          ],
          [
           "Entropy",
           0.8834534764002133,
           0.9308289281295692,
           53
          ],
          [
           "Entropy",
           0.8836516370521464,
           0.9309414014171634,
           54
          ],
          [
           "Entropy",
           0.8836516370521464,
           0.9309414014171634,
           55
          ],
          [
           "Entropy",
           0.8834359619608899,
           0.9308289281295692,
           56
          ],
          [
           "Entropy",
           0.8834446988353889,
           0.9308289281295692,
           57
          ],
          [
           "Entropy",
           0.8836516370521464,
           0.9309414014171634,
           58
          ],
          [
           "Entropy",
           0.8830571550963469,
           0.9306039815543808,
           59
          ],
          [
           "Entropy",
           0.8834979740382745,
           0.9308289281295692,
           60
          ],
          [
           "Entropy",
           0.8836516370521464,
           0.9309414014171634,
           61
          ],
          [
           "Entropy",
           0.8836516370521464,
           0.9309414014171634,
           62
          ],
          [
           "Entropy",
           0.8832730196229359,
           0.9307164548419752,
           63
          ],
          [
           "Entropy",
           0.8834800530819663,
           0.9308289281295692,
           64
          ],
          [
           "Entropy",
           0.8834396536993158,
           0.9307164548419752,
           65
          ],
          [
           "Entropy",
           0.8819761074594762,
           0.9298166685412216,
           66
          ],
          [
           "Entropy",
           0.8816323064613208,
           0.929591721966033,
           67
          ],
          [
           "Entropy",
           0.8811028498970708,
           0.9292543021032504,
           68
          ],
          [
           "Entropy",
           0.8812685230571171,
           0.9293667753908448,
           69
          ],
          [
           "Entropy",
           0.8803777750660872,
           0.9288044089528736,
           70
          ],
          [
           "Entropy",
           0.8812680318091595,
           0.9292543021032504,
           71
          ],
          [
           "Entropy",
           0.8812680318091595,
           0.9292543021032504,
           72
          ],
          [
           "Entropy",
           0.8813831141418926,
           0.9292543021032504,
           73
          ],
          [
           "Entropy",
           0.8813250780412605,
           0.9292543021032504,
           74
          ],
          [
           "Entropy",
           0.8811624793003278,
           0.9291418288156564,
           75
          ],
          [
           "Entropy",
           0.8820456641933593,
           0.929591721966033,
           76
          ],
          [
           "Entropy",
           0.8825363698919481,
           0.9298166685412216,
           77
          ],
          [
           "Entropy",
           0.882166688597895,
           0.929591721966033,
           78
          ],
          [
           "Entropy",
           0.8823514970933448,
           0.9297041952536272,
           79
          ],
          [
           "Entropy",
           0.8825608400364834,
           0.9298166685412216,
           80
          ],
          [
           "Entropy",
           0.8823760708904923,
           0.9297041952536272,
           81
          ],
          [
           "Entropy",
           0.8825608400364834,
           0.9298166685412216,
           82
          ],
          [
           "Entropy",
           0.8823760708904923,
           0.9297041952536272,
           83
          ],
          [
           "Entropy",
           0.882501297884087,
           0.9297041952536272,
           84
          ],
          [
           "Entropy",
           0.8821074192580518,
           0.9294792486784388,
           85
          ],
          [
           "Entropy",
           0.8823171094386095,
           0.929591721966033,
           86
          ],
          [
           "Entropy",
           0.882580336733601,
           0.929591721966033,
           87
          ],
          [
           "Entropy",
           0.8833045121396529,
           0.9297041952536272,
           88
          ],
          [
           "Entropy",
           0.8832597722710813,
           0.9297041952536272,
           89
          ],
          [
           "Entropy",
           0.8832597722710813,
           0.9297041952536272,
           90
          ],
          [
           "Entropy",
           0.8831685094079996,
           0.929591721966033,
           91
          ],
          [
           "Entropy",
           0.88380256965578,
           0.9299291418288156,
           92
          ],
          [
           "Entropy",
           0.8844367656454825,
           0.9302665616915984,
           93
          ],
          [
           "Entropy",
           0.8842253518681598,
           0.930154088404004,
           94
          ],
          [
           "Entropy",
           0.885132914034588,
           0.9306039815543808,
           95
          ],
          [
           "Entropy",
           0.8849993466271356,
           0.9304915082667866,
           96
          ],
          [
           "Entropy",
           0.8851808614128523,
           0.9302665616915984,
           97
          ],
          [
           "Entropy",
           0.8851808614128523,
           0.9302665616915984,
           98
          ],
          [
           "Entropy",
           0.8851808614128523,
           0.9302665616915984,
           99
          ],
          [
           "Entropy",
           0.8851808614128523,
           0.9302665616915984,
           100
          ],
          [
           "Entropy",
           0.8851808614128523,
           0.9302665616915984,
           101
          ],
          [
           "Entropy",
           0.8851808614128523,
           0.9302665616915984,
           102
          ],
          [
           "Entropy",
           0.8851808614128523,
           0.9302665616915984,
           103
          ],
          [
           "Entropy",
           0.8851808614128523,
           0.9302665616915984,
           104
          ],
          [
           "Entropy",
           0.8851808614128523,
           0.9302665616915984,
           105
          ],
          [
           "Entropy",
           0.8851808614128523,
           0.9302665616915984,
           106
          ],
          [
           "Entropy",
           0.8851808614128523,
           0.9302665616915984,
           107
          ],
          [
           "Entropy",
           0.8851808614128523,
           0.9302665616915984,
           108
          ],
          [
           "Entropy",
           0.8851808614128523,
           0.9302665616915984,
           109
          ],
          [
           "Entropy",
           0.8851808614128523,
           0.9302665616915984,
           110
          ],
          [
           "Entropy",
           0.8851808614128523,
           0.9302665616915984,
           111
          ],
          [
           "Entropy",
           0.8851808614128523,
           0.9302665616915984,
           112
          ],
          [
           "Entropy",
           0.8851808614128523,
           0.9302665616915984,
           113
          ],
          [
           "Entropy",
           0.8851808614128523,
           0.9302665616915984,
           114
          ],
          [
           "Entropy",
           0.8851808614128523,
           0.9302665616915984,
           115
          ],
          [
           "Entropy",
           0.8851808614128523,
           0.9302665616915984,
           116
          ],
          [
           "Entropy",
           0.8851808614128523,
           0.9302665616915984,
           117
          ],
          [
           "Entropy",
           0.8851808614128523,
           0.9302665616915984,
           118
          ],
          [
           "Entropy",
           0.8851808614128523,
           0.9302665616915984,
           119
          ],
          [
           "Entropy",
           0.8851808614128523,
           0.9302665616915984,
           120
          ],
          [
           "Entropy",
           0.8851808614128523,
           0.9302665616915984,
           121
          ],
          [
           "Entropy",
           0.8851808614128523,
           0.9302665616915984,
           122
          ],
          [
           "Entropy",
           0.8851808614128523,
           0.9302665616915984,
           123
          ],
          [
           "Entropy",
           0.8851808614128523,
           0.9302665616915984,
           124
          ],
          [
           "Entropy",
           0.8851808614128523,
           0.9302665616915984,
           125
          ],
          [
           "Entropy",
           0.8851808614128523,
           0.9302665616915984,
           126
          ],
          [
           "Entropy",
           0.8851808614128523,
           0.9302665616915984,
           127
          ],
          [
           "Entropy",
           0.8851808614128523,
           0.9302665616915984,
           128
          ],
          [
           "Entropy",
           0.8851808614128523,
           0.9302665616915984,
           129
          ],
          [
           "Entropy",
           0.8851808614128523,
           0.9302665616915984,
           130
          ],
          [
           "Entropy",
           0.8851808614128523,
           0.9302665616915984,
           131
          ],
          [
           "Entropy",
           0.8851808614128523,
           0.9302665616915984,
           132
          ],
          [
           "Entropy",
           0.8851808614128523,
           0.9302665616915984,
           133
          ],
          [
           "Entropy",
           0.8851808614128523,
           0.9302665616915984,
           134
          ],
          [
           "Entropy",
           0.8851808614128523,
           0.9302665616915984,
           135
          ],
          [
           "Entropy",
           0.8851808614128523,
           0.9302665616915984,
           136
          ],
          [
           "Entropy",
           0.8851808614128523,
           0.9302665616915984,
           137
          ],
          [
           "Entropy",
           0.8851808614128523,
           0.9302665616915984,
           138
          ],
          [
           "Entropy",
           0.8851808614128523,
           0.9302665616915984,
           139
          ],
          [
           "Entropy",
           0.8851808614128523,
           0.9302665616915984,
           140
          ],
          [
           "Entropy",
           0.8851808614128523,
           0.9302665616915984,
           141
          ],
          [
           "Entropy",
           0.8851808614128523,
           0.9302665616915984,
           142
          ],
          [
           "Entropy",
           0.8851808614128523,
           0.9302665616915984,
           143
          ],
          [
           "Entropy",
           0.8851808614128523,
           0.9302665616915984,
           144
          ],
          [
           "Entropy",
           0.8851808614128523,
           0.9302665616915984,
           145
          ],
          [
           "Entropy",
           0.8851808614128523,
           0.9302665616915984,
           146
          ],
          [
           "Entropy",
           0.8851808614128523,
           0.9302665616915984,
           147
          ],
          [
           "Entropy",
           0.8851808614128523,
           0.9302665616915984,
           148
          ],
          [
           "Entropy",
           0.8851808614128523,
           0.9302665616915984,
           149
          ],
          [
           "Entropy",
           0.8851808614128523,
           0.9302665616915984,
           150
          ],
          [
           "Entropy",
           0.8851808614128523,
           0.9302665616915984,
           151
          ],
          [
           "Entropy",
           0.8851808614128523,
           0.9302665616915984,
           152
          ],
          [
           "Entropy",
           0.8851808614128523,
           0.9302665616915984,
           153
          ],
          [
           "Entropy",
           0.8851808614128523,
           0.9302665616915984,
           154
          ],
          [
           "Entropy",
           0.8851808614128523,
           0.9302665616915984,
           155
          ],
          [
           "Entropy",
           0.8851808614128523,
           0.9302665616915984,
           156
          ],
          [
           "Entropy",
           0.8851808614128523,
           0.9302665616915984,
           157
          ],
          [
           "Entropy",
           0.8851808614128523,
           0.9302665616915984,
           158
          ],
          [
           "Entropy",
           0.8851808614128523,
           0.9302665616915984,
           159
          ],
          [
           "Entropy",
           0.8851808614128523,
           0.9302665616915984,
           160
          ],
          [
           "Entropy",
           0.8851808614128523,
           0.9302665616915984,
           161
          ],
          [
           "Entropy",
           0.8851808614128523,
           0.9302665616915984,
           162
          ],
          [
           "Entropy",
           0.8851808614128523,
           0.9302665616915984,
           163
          ],
          [
           "Entropy",
           0.8851808614128523,
           0.9302665616915984,
           164
          ],
          [
           "Entropy",
           0.8851808614128523,
           0.9302665616915984,
           165
          ],
          [
           "Entropy",
           0.8851808614128523,
           0.9302665616915984,
           166
          ],
          [
           "Entropy",
           0.8851808614128523,
           0.9302665616915984,
           167
          ],
          [
           "Entropy",
           0.8851808614128523,
           0.9302665616915984,
           168
          ],
          [
           "Entropy",
           0.8851808614128523,
           0.9302665616915984,
           169
          ],
          [
           "Entropy",
           0.8851808614128523,
           0.9302665616915984,
           170
          ],
          [
           "Entropy",
           0.8851808614128523,
           0.9302665616915984,
           171
          ],
          [
           "Entropy",
           0.8851808614128523,
           0.9302665616915984,
           172
          ],
          [
           "Entropy",
           0.8851808614128523,
           0.9302665616915984,
           173
          ],
          [
           "Entropy",
           0.8851808614128523,
           0.9302665616915984,
           174
          ],
          [
           "Entropy",
           0.8851808614128523,
           0.9302665616915984,
           175
          ],
          [
           "Entropy",
           0.8851808614128523,
           0.9302665616915984,
           176
          ],
          [
           "Entropy",
           0.8851808614128523,
           0.9302665616915984,
           177
          ],
          [
           "Entropy",
           0.8851808614128523,
           0.9302665616915984,
           178
          ],
          [
           "Entropy",
           0.8851808614128523,
           0.9302665616915984,
           179
          ],
          [
           "Entropy",
           0.8851808614128523,
           0.9302665616915984,
           180
          ],
          [
           "Entropy",
           0.8851808614128523,
           0.9302665616915984,
           181
          ],
          [
           "Entropy",
           0.8851808614128523,
           0.9302665616915984,
           182
          ],
          [
           "Entropy",
           0.8851808614128523,
           0.9302665616915984,
           183
          ],
          [
           "Entropy",
           0.8851808614128523,
           0.9302665616915984,
           184
          ],
          [
           "Entropy",
           0.8851808614128523,
           0.9302665616915984,
           185
          ],
          [
           "Entropy",
           0.8851808614128523,
           0.9302665616915984,
           186
          ],
          [
           "Entropy",
           0.8851808614128523,
           0.9302665616915984,
           187
          ],
          [
           "Entropy",
           0.8851808614128523,
           0.9302665616915984,
           188
          ],
          [
           "Entropy",
           0.8851808614128523,
           0.9302665616915984,
           189
          ],
          [
           "Entropy",
           0.8851808614128523,
           0.9302665616915984,
           190
          ],
          [
           "Entropy",
           0.8851808614128523,
           0.9302665616915984,
           191
          ],
          [
           "Entropy",
           0.8851808614128523,
           0.9302665616915984,
           192
          ],
          [
           "Entropy",
           0.8851808614128523,
           0.9302665616915984,
           193
          ],
          [
           "Entropy",
           0.8851808614128523,
           0.9302665616915984,
           194
          ],
          [
           "Entropy",
           0.8851808614128523,
           0.9302665616915984,
           195
          ],
          [
           "Entropy",
           0.8851808614128523,
           0.9302665616915984,
           196
          ],
          [
           "Entropy",
           0.8851808614128523,
           0.9302665616915984,
           197
          ],
          [
           "Entropy",
           0.8851808614128523,
           0.9302665616915984,
           198
          ],
          [
           "Entropy",
           0.8851808614128523,
           0.9302665616915984,
           199
          ],
          [
           "Entropy",
           0.8851808614128523,
           0.9302665616915984,
           200
          ],
          [
           "Entropy",
           0.8851808614128523,
           0.9302665616915984,
           201
          ],
          [
           "Entropy",
           0.8851808614128523,
           0.9302665616915984,
           202
          ],
          [
           "Entropy",
           0.8851808614128523,
           0.9302665616915984,
           203
          ],
          [
           "Entropy",
           0.8851808614128523,
           0.9302665616915984,
           204
          ],
          [
           "Entropy",
           0.8851808614128523,
           0.9302665616915984,
           205
          ],
          [
           "Entropy",
           0.8851808614128523,
           0.9302665616915984,
           206
          ],
          [
           "Entropy",
           0.8851808614128523,
           0.9302665616915984,
           207
          ],
          [
           "Entropy",
           0.8851808614128523,
           0.9302665616915984,
           208
          ],
          [
           "Entropy",
           0.8851808614128523,
           0.9302665616915984,
           209
          ],
          [
           "Entropy",
           0.8851808614128523,
           0.9302665616915984,
           210
          ],
          [
           "Entropy",
           0.8851808614128523,
           0.9302665616915984,
           211
          ],
          [
           "Entropy",
           0.8851808614128523,
           0.9302665616915984,
           212
          ],
          [
           "Entropy",
           0.8851808614128523,
           0.9302665616915984,
           213
          ],
          [
           "Entropy",
           0.8851808614128523,
           0.9302665616915984,
           214
          ],
          [
           "Entropy",
           0.8851808614128523,
           0.9302665616915984,
           215
          ],
          [
           "Entropy",
           0.8851808614128523,
           0.9302665616915984,
           216
          ],
          [
           "Entropy",
           0.8851808614128523,
           0.9302665616915984,
           217
          ],
          [
           "Entropy",
           0.8851808614128523,
           0.9302665616915984,
           218
          ],
          [
           "Entropy",
           0.8851808614128523,
           0.9302665616915984,
           219
          ],
          [
           "Entropy",
           0.8851808614128523,
           0.9302665616915984,
           220
          ],
          [
           "Entropy",
           0.8851808614128523,
           0.9302665616915984,
           221
          ],
          [
           "Entropy",
           0.8851808614128523,
           0.9302665616915984,
           222
          ],
          [
           "Entropy",
           0.8851808614128523,
           0.9302665616915984,
           223
          ],
          [
           "Entropy",
           0.8851808614128523,
           0.9302665616915984,
           224
          ],
          [
           "Entropy",
           0.8851808614128523,
           0.9302665616915984,
           225
          ],
          [
           "Entropy",
           0.8851808614128523,
           0.9302665616915984,
           226
          ],
          [
           "Entropy",
           0.8851808614128523,
           0.9302665616915984,
           227
          ],
          [
           "Entropy",
           0.8851808614128523,
           0.9302665616915984,
           228
          ],
          [
           "Entropy",
           0.8851808614128523,
           0.9302665616915984,
           229
          ],
          [
           "Entropy",
           0.8851808614128523,
           0.9302665616915984,
           230
          ],
          [
           "Entropy",
           0.8851808614128523,
           0.9302665616915984,
           231
          ],
          [
           "Entropy",
           0.8851808614128523,
           0.9302665616915984,
           232
          ],
          [
           "Entropy",
           0.8851808614128523,
           0.9302665616915984,
           233
          ],
          [
           "Entropy",
           0.8851808614128523,
           0.9302665616915984,
           234
          ],
          [
           "Entropy",
           0.8851808614128523,
           0.9302665616915984,
           235
          ],
          [
           "Entropy",
           0.8851808614128523,
           0.9302665616915984,
           236
          ],
          [
           "Entropy",
           0.8851808614128523,
           0.9302665616915984,
           237
          ],
          [
           "Entropy",
           0.8851808614128523,
           0.9302665616915984,
           238
          ],
          [
           "Entropy",
           0.8851808614128523,
           0.9302665616915984,
           239
          ],
          [
           "Entropy",
           0.8851808614128523,
           0.9302665616915984,
           240
          ],
          [
           "Entropy",
           0.8851808614128523,
           0.9302665616915984,
           241
          ],
          [
           "Entropy",
           0.8851808614128523,
           0.9302665616915984,
           242
          ],
          [
           "Entropy",
           0.8851808614128523,
           0.9302665616915984,
           243
          ],
          [
           "Entropy",
           0.8851808614128523,
           0.9302665616915984,
           244
          ],
          [
           "Entropy",
           0.8851808614128523,
           0.9302665616915984,
           245
          ],
          [
           "Entropy",
           0.8851808614128523,
           0.9302665616915984,
           246
          ],
          [
           "Entropy",
           0.8851808614128523,
           0.9302665616915984,
           247
          ],
          [
           "Entropy",
           0.8851808614128523,
           0.9302665616915984,
           248
          ],
          [
           "Entropy",
           0.8851808614128523,
           0.9302665616915984,
           249
          ],
          [
           "Entropy",
           0.8851808614128523,
           0.9302665616915984,
           250
          ],
          [
           "Entropy",
           0.8851808614128523,
           0.9302665616915984,
           251
          ],
          [
           "Entropy",
           0.8851808614128523,
           0.9302665616915984,
           252
          ],
          [
           "Entropy",
           0.8851808614128523,
           0.9302665616915984,
           253
          ],
          [
           "Entropy",
           0.8851808614128523,
           0.9302665616915984,
           254
          ],
          [
           "Entropy",
           0.8851808614128523,
           0.9302665616915984,
           255
          ],
          [
           "Entropy",
           0.8851808614128523,
           0.9302665616915984,
           256
          ],
          [
           "Entropy",
           0.8851808614128523,
           0.9302665616915984,
           257
          ],
          [
           "Entropy",
           0.8851808614128523,
           0.9302665616915984,
           258
          ],
          [
           "Entropy",
           0.8851808614128523,
           0.9302665616915984,
           259
          ],
          [
           "Entropy",
           0.8851808614128523,
           0.9302665616915984,
           260
          ],
          [
           "Entropy",
           0.8851808614128523,
           0.9302665616915984,
           261
          ],
          [
           "Entropy",
           0.8851808614128523,
           0.9302665616915984,
           262
          ],
          [
           "Entropy",
           0.8851808614128523,
           0.9302665616915984,
           263
          ],
          [
           "Entropy",
           0.8851808614128523,
           0.9302665616915984,
           264
          ],
          [
           "Entropy",
           0.8851808614128523,
           0.9302665616915984,
           265
          ],
          [
           "Entropy",
           0.8851808614128523,
           0.9302665616915984,
           266
          ],
          [
           "Entropy",
           0.8851808614128523,
           0.9302665616915984,
           267
          ],
          [
           "Entropy",
           0.8851808614128523,
           0.9302665616915984,
           268
          ],
          [
           "Entropy",
           0.8851808614128523,
           0.9302665616915984,
           269
          ],
          [
           "Entropy",
           0.8851808614128523,
           0.9302665616915984,
           270
          ],
          [
           "Entropy",
           0.8851808614128523,
           0.9302665616915984,
           271
          ],
          [
           "Entropy",
           0.8851808614128523,
           0.9302665616915984,
           272
          ],
          [
           "Entropy",
           0.8851808614128523,
           0.9302665616915984,
           273
          ],
          [
           "Entropy",
           0.8851808614128523,
           0.9302665616915984,
           274
          ],
          [
           "Entropy",
           0.8851808614128523,
           0.9302665616915984,
           275
          ],
          [
           "Entropy",
           0.8851808614128523,
           0.9302665616915984,
           276
          ],
          [
           "Entropy",
           0.8851808614128523,
           0.9302665616915984,
           277
          ],
          [
           "Entropy",
           0.8851808614128523,
           0.9302665616915984,
           278
          ],
          [
           "Entropy",
           0.8851808614128523,
           0.9302665616915984,
           279
          ],
          [
           "Entropy",
           0.8851808614128523,
           0.9302665616915984,
           280
          ],
          [
           "Entropy",
           0.8851808614128523,
           0.9302665616915984,
           281
          ],
          [
           "Entropy",
           0.8851808614128523,
           0.9302665616915984,
           282
          ],
          [
           "Entropy",
           0.8851808614128523,
           0.9302665616915984,
           283
          ],
          [
           "Entropy",
           0.8851808614128523,
           0.9302665616915984,
           284
          ],
          [
           "Entropy",
           0.8851808614128523,
           0.9302665616915984,
           285
          ],
          [
           "Entropy",
           0.8851808614128523,
           0.9302665616915984,
           286
          ],
          [
           "Entropy",
           0.8851808614128523,
           0.9302665616915984,
           287
          ],
          [
           "Entropy",
           0.8851808614128523,
           0.9302665616915984,
           288
          ],
          [
           "Entropy",
           0.8851808614128523,
           0.9302665616915984,
           289
          ],
          [
           "Entropy",
           0.8851808614128523,
           0.9302665616915984,
           290
          ],
          [
           "Entropy",
           0.8851808614128523,
           0.9302665616915984,
           291
          ],
          [
           "Entropy",
           0.8851808614128523,
           0.9302665616915984,
           292
          ],
          [
           "Entropy",
           0.8851808614128523,
           0.9302665616915984,
           293
          ],
          [
           "Entropy",
           0.8851808614128523,
           0.9302665616915984,
           294
          ],
          [
           "Entropy",
           0.8851808614128523,
           0.9302665616915984,
           295
          ],
          [
           "Entropy",
           0.8851808614128523,
           0.9302665616915984,
           296
          ],
          [
           "Entropy",
           0.8851808614128523,
           0.9302665616915984,
           297
          ],
          [
           "Entropy",
           0.8851808614128523,
           0.9302665616915984,
           298
          ],
          [
           "Entropy",
           0.8851808614128523,
           0.9302665616915984,
           299
          ],
          [
           "Entropy",
           0.8851808614128523,
           0.9302665616915984,
           300
          ],
          [
           "Entropy",
           0.8851808614128523,
           0.9302665616915984,
           301
          ],
          [
           "Entropy",
           0.8851808614128523,
           0.9302665616915984,
           302
          ],
          [
           "Entropy",
           0.8851808614128523,
           0.9302665616915984,
           303
          ],
          [
           "Entropy",
           0.8851808614128523,
           0.9302665616915984,
           304
          ],
          [
           "Entropy",
           0.8851808614128523,
           0.9302665616915984,
           305
          ],
          [
           "Entropy",
           0.8851808614128523,
           0.9302665616915984,
           306
          ],
          [
           "Entropy",
           0.8851808614128523,
           0.9302665616915984,
           307
          ],
          [
           "Entropy",
           0.8851808614128523,
           0.9302665616915984,
           308
          ],
          [
           "Entropy",
           0.8851808614128523,
           0.9302665616915984,
           309
          ],
          [
           "Entropy",
           0.8851808614128523,
           0.9302665616915984,
           310
          ],
          [
           "Entropy",
           0.8851808614128523,
           0.9302665616915984,
           311
          ],
          [
           "Entropy",
           0.8851808614128523,
           0.9302665616915984,
           312
          ],
          [
           "Entropy",
           0.8851808614128523,
           0.9302665616915984,
           313
          ],
          [
           "Entropy",
           0.8851808614128523,
           0.9302665616915984,
           314
          ],
          [
           "Entropy",
           0.8851808614128523,
           0.9302665616915984,
           315
          ],
          [
           "Entropy",
           0.8851808614128523,
           0.9302665616915984,
           316
          ],
          [
           "Entropy",
           0.8851808614128523,
           0.9302665616915984,
           317
          ],
          [
           "Entropy",
           0.8851808614128523,
           0.9302665616915984,
           318
          ],
          [
           "Entropy",
           0.8851808614128523,
           0.9302665616915984,
           319
          ],
          [
           "Entropy",
           0.8851808614128523,
           0.9302665616915984,
           320
          ],
          [
           "Entropy",
           0.8851808614128523,
           0.9302665616915984,
           321
          ],
          [
           "Entropy",
           0.8851808614128523,
           0.9302665616915984,
           322
          ],
          [
           "Entropy",
           0.8851808614128523,
           0.9302665616915984,
           323
          ],
          [
           "Entropy",
           0.8851808614128523,
           0.9302665616915984,
           324
          ],
          [
           "Entropy",
           0.8851808614128523,
           0.9302665616915984,
           325
          ],
          [
           "Entropy",
           0.8851808614128523,
           0.9302665616915984,
           326
          ],
          [
           "Entropy",
           0.8851808614128523,
           0.9302665616915984,
           327
          ],
          [
           "Entropy",
           0.8851808614128523,
           0.9302665616915984,
           328
          ],
          [
           "Entropy",
           0.8851808614128523,
           0.9302665616915984,
           329
          ],
          [
           "Entropy",
           0.8851808614128523,
           0.9302665616915984,
           330
          ],
          [
           "Entropy",
           0.8851808614128523,
           0.9302665616915984,
           331
          ],
          [
           "Entropy",
           0.8851808614128523,
           0.9302665616915984,
           332
          ],
          [
           "Entropy",
           0.8851808614128523,
           0.9302665616915984,
           333
          ],
          [
           "Entropy",
           0.8851808614128523,
           0.9302665616915984,
           334
          ],
          [
           "Entropy",
           0.8851808614128523,
           0.9302665616915984,
           335
          ],
          [
           "Entropy",
           0.8851808614128523,
           0.9302665616915984,
           336
          ],
          [
           "Entropy",
           0.8851808614128523,
           0.9302665616915984,
           337
          ],
          [
           "Entropy",
           0.8851808614128523,
           0.9302665616915984,
           338
          ],
          [
           "Entropy",
           0.8851808614128523,
           0.9302665616915984,
           339
          ],
          [
           "Entropy",
           0.8851808614128523,
           0.9302665616915984,
           340
          ],
          [
           "Entropy",
           0.8851808614128523,
           0.9302665616915984,
           341
          ],
          [
           "Entropy",
           0.8851808614128523,
           0.9302665616915984,
           342
          ],
          [
           "Entropy",
           0.8851808614128523,
           0.9302665616915984,
           343
          ],
          [
           "Entropy",
           0.8851808614128523,
           0.9302665616915984,
           344
          ],
          [
           "Entropy",
           0.8851808614128523,
           0.9302665616915984,
           345
          ],
          [
           "Entropy",
           0.8851808614128523,
           0.9302665616915984,
           346
          ],
          [
           "Entropy",
           0.8851808614128523,
           0.9302665616915984,
           347
          ],
          [
           "Entropy",
           0.8851808614128523,
           0.9302665616915984,
           348
          ],
          [
           "Entropy",
           0.8851808614128523,
           0.9302665616915984,
           349
          ],
          [
           "Entropy",
           0.8851808614128523,
           0.9302665616915984,
           350
          ],
          [
           "Entropy",
           0.8851808614128523,
           0.9302665616915984,
           351
          ],
          [
           "Entropy",
           0.8851808614128523,
           0.9302665616915984,
           352
          ],
          [
           "Entropy",
           0.8851808614128523,
           0.9302665616915984,
           355
          ]
         ],
         "hovertemplate": "Strategy=%{customdata[0]}<br>Number of Labeled Samples=%{x:.0f}<br>F1 Score (weighted)=%{y:.4f}<br>MCC=%{customdata[1]:.4f}<br>Accuracy=%{customdata[2]:.4f}<br>Step=%{customdata[3]}<extra></extra>",
         "legendgroup": "Entropy",
         "line": {
          "color": "red",
          "dash": "dot"
         },
         "marker": {
          "symbol": "circle"
         },
         "mode": "lines+markers",
         "name": "Entropy",
         "showlegend": true,
         "type": "scattergl",
         "x": {
          "bdata": "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",
          "dtype": "f8"
         },
         "xaxis": "x",
         "y": {
          "bdata": "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",
          "dtype": "f8"
         },
         "yaxis": "y"
        },
        {
         "customdata": [
          [
           "Least Confidence",
           0.835436566647736,
           0.8965245754133393,
           0
          ],
          [
           "Least Confidence",
           0.8568126973884508,
           0.9112585760881792,
           1
          ],
          [
           "Least Confidence",
           0.8844704613240338,
           0.9298166685412216,
           2
          ],
          [
           "Least Confidence",
           0.8842748222003922,
           0.9297041952536272,
           3
          ],
          [
           "Least Confidence",
           0.8845404836000673,
           0.9298166685412216,
           4
          ],
          [
           "Least Confidence",
           0.8845404836000673,
           0.9298166685412216,
           5
          ],
          [
           "Least Confidence",
           0.8845404836000673,
           0.9298166685412216,
           6
          ],
          [
           "Least Confidence",
           0.8845404836000673,
           0.9298166685412216,
           7
          ],
          [
           "Least Confidence",
           0.8845404836000673,
           0.9298166685412216,
           8
          ],
          [
           "Least Confidence",
           0.8845404836000673,
           0.9298166685412216,
           9
          ],
          [
           "Least Confidence",
           0.8843156338188753,
           0.9297041952536272,
           10
          ],
          [
           "Least Confidence",
           0.8837497973341869,
           0.9294792486784388,
           11
          ],
          [
           "Least Confidence",
           0.8833003030291336,
           0.9292543021032504,
           12
          ],
          [
           "Least Confidence",
           0.8828742377341128,
           0.9291418288156564,
           13
          ],
          [
           "Least Confidence",
           0.8829970816977798,
           0.9292543021032504,
           14
          ],
          [
           "Least Confidence",
           0.8830176458983492,
           0.9294792486784388,
           15
          ],
          [
           "Least Confidence",
           0.8792787503214883,
           0.92790462265212,
           16
          ],
          [
           "Least Confidence",
           0.8803042034749273,
           0.9288044089528736,
           17
          ],
          [
           "Least Confidence",
           0.8801699884531968,
           0.9288044089528736,
           18
          ],
          [
           "Least Confidence",
           0.8806854751820457,
           0.9291418288156564,
           19
          ],
          [
           "Least Confidence",
           0.8808024998198992,
           0.9292543021032504,
           20
          ],
          [
           "Least Confidence",
           0.8810824778528877,
           0.9293667753908448,
           21
          ],
          [
           "Least Confidence",
           0.8813378402836121,
           0.9294792486784388,
           22
          ],
          [
           "Least Confidence",
           0.8815948114152512,
           0.929591721966033,
           23
          ],
          [
           "Least Confidence",
           0.881998420516114,
           0.9298166685412216,
           24
          ],
          [
           "Least Confidence",
           0.8816021944402085,
           0.929591721966033,
           25
          ],
          [
           "Least Confidence",
           0.881791538207351,
           0.9297041952536272,
           26
          ],
          [
           "Least Confidence",
           0.8817496324211086,
           0.9297041952536272,
           27
          ],
          [
           "Least Confidence",
           0.8817329955224128,
           0.9297041952536272,
           28
          ],
          [
           "Least Confidence",
           0.8818928156438085,
           0.9298166685412216,
           29
          ],
          [
           "Least Confidence",
           0.8816456019580868,
           0.9297041952536272,
           30
          ],
          [
           "Least Confidence",
           0.882234383303908,
           0.9300416151164098,
           31
          ],
          [
           "Least Confidence",
           0.8829939038500643,
           0.9304915082667866,
           32
          ],
          [
           "Least Confidence",
           0.8819498795545639,
           0.9299291418288156,
           33
          ],
          [
           "Least Confidence",
           0.8817126191853376,
           0.9298166685412216,
           34
          ],
          [
           "Least Confidence",
           0.8822443062081468,
           0.930154088404004,
           35
          ],
          [
           "Least Confidence",
           0.8822273624626553,
           0.930154088404004,
           36
          ],
          [
           "Least Confidence",
           0.8828248517418338,
           0.9304915082667866,
           37
          ],
          [
           "Least Confidence",
           0.8830273701594001,
           0.9306039815543808,
           38
          ],
          [
           "Least Confidence",
           0.8828205631462652,
           0.9304915082667866,
           39
          ],
          [
           "Least Confidence",
           0.8830273701594001,
           0.9306039815543808,
           40
          ],
          [
           "Least Confidence",
           0.8828205631462652,
           0.9304915082667866,
           41
          ],
          [
           "Least Confidence",
           0.8826239755989009,
           0.9303790349791924,
           42
          ],
          [
           "Least Confidence",
           0.8826239755989009,
           0.9303790349791924,
           43
          ],
          [
           "Least Confidence",
           0.8826239755989009,
           0.9303790349791924,
           44
          ],
          [
           "Least Confidence",
           0.8828153125711287,
           0.9304915082667866,
           45
          ],
          [
           "Least Confidence",
           0.88300493941933,
           0.9306039815543808,
           46
          ],
          [
           "Least Confidence",
           0.8828153125711287,
           0.9304915082667866,
           47
          ],
          [
           "Least Confidence",
           0.8828153125711287,
           0.9304915082667866,
           48
          ],
          [
           "Least Confidence",
           0.8829878599925981,
           0.9306039815543808,
           49
          ],
          [
           "Least Confidence",
           0.8833843960805513,
           0.9308289281295692,
           50
          ],
          [
           "Least Confidence",
           0.8833843960805513,
           0.9308289281295692,
           51
          ],
          [
           "Least Confidence",
           0.8833843960805513,
           0.9308289281295692,
           52
          ],
          [
           "Least Confidence",
           0.8835742259922613,
           0.9309414014171634,
           53
          ],
          [
           "Least Confidence",
           0.88300493941933,
           0.9306039815543808,
           54
          ],
          [
           "Least Confidence",
           0.8835742259922613,
           0.9309414014171634,
           55
          ],
          [
           "Least Confidence",
           0.8835742259922613,
           0.9309414014171634,
           56
          ],
          [
           "Least Confidence",
           0.8835742259922613,
           0.9309414014171634,
           57
          ],
          [
           "Least Confidence",
           0.8837809321685045,
           0.9310538747047576,
           58
          ],
          [
           "Least Confidence",
           0.8836985251692001,
           0.9310538747047576,
           59
          ],
          [
           "Least Confidence",
           0.8833675336819405,
           0.9308289281295692,
           60
          ],
          [
           "Least Confidence",
           0.8836985251692001,
           0.9310538747047576,
           61
          ],
          [
           "Least Confidence",
           0.8835742259922613,
           0.9309414014171634,
           62
          ],
          [
           "Least Confidence",
           0.8835742259922613,
           0.9309414014171634,
           63
          ],
          [
           "Least Confidence",
           0.8833675336819405,
           0.9308289281295692,
           64
          ],
          [
           "Least Confidence",
           0.8836082233222813,
           0.9309414014171634,
           65
          ],
          [
           "Least Confidence",
           0.8834800530819663,
           0.9308289281295692,
           66
          ],
          [
           "Least Confidence",
           0.8834622946398841,
           0.9308289281295692,
           67
          ],
          [
           "Least Confidence",
           0.8834800530819663,
           0.9308289281295692,
           68
          ],
          [
           "Least Confidence",
           0.8833179901140017,
           0.9307164548419752,
           69
          ],
          [
           "Least Confidence",
           0.8831290519650409,
           0.9306039815543808,
           70
          ],
          [
           "Least Confidence",
           0.8833362623097392,
           0.9307164548419752,
           71
          ],
          [
           "Least Confidence",
           0.8831846772899771,
           0.9306039815543808,
           72
          ],
          [
           "Least Confidence",
           0.88212336778194,
           0.9299291418288156,
           73
          ],
          [
           "Least Confidence",
           0.882311209236783,
           0.9300416151164098,
           74
          ],
          [
           "Least Confidence",
           0.8821434385113459,
           0.9299291418288156,
           75
          ],
          [
           "Least Confidence",
           0.8819761074594762,
           0.9298166685412216,
           76
          ],
          [
           "Least Confidence",
           0.8803558467033897,
           0.9288044089528736,
           77
          ],
          [
           "Least Confidence",
           0.8805643222439958,
           0.928916882240468,
           78
          ],
          [
           "Least Confidence",
           0.8807509348927379,
           0.929029355528062,
           79
          ],
          [
           "Least Confidence",
           0.8811162371221877,
           0.9291418288156564,
           80
          ],
          [
           "Least Confidence",
           0.8809074104082221,
           0.929029355528062,
           81
          ],
          [
           "Least Confidence",
           0.8811162371221877,
           0.9291418288156564,
           82
          ],
          [
           "Least Confidence",
           0.8818247065693425,
           0.9294792486784388,
           83
          ],
          [
           "Least Confidence",
           0.8820575892223153,
           0.929591721966033,
           84
          ],
          [
           "Least Confidence",
           0.8816512624944048,
           0.9293667753908448,
           85
          ],
          [
           "Least Confidence",
           0.8827825184436867,
           0.9299291418288156,
           86
          ],
          [
           "Least Confidence",
           0.8824507359143714,
           0.9297041952536272,
           87
          ],
          [
           "Least Confidence",
           0.882597840420847,
           0.9298166685412216,
           88
          ],
          [
           "Least Confidence",
           0.882597840420847,
           0.9298166685412216,
           89
          ],
          [
           "Least Confidence",
           0.8822663411704381,
           0.929591721966033,
           90
          ],
          [
           "Least Confidence",
           0.8822663411704381,
           0.929591721966033,
           91
          ],
          [
           "Least Confidence",
           0.8824507359143714,
           0.9297041952536272,
           92
          ],
          [
           "Least Confidence",
           0.8821587070269296,
           0.9294792486784388,
           93
          ],
          [
           "Least Confidence",
           0.8826729024598666,
           0.9298166685412216,
           94
          ],
          [
           "Least Confidence",
           0.8821587070269296,
           0.9294792486784388,
           95
          ],
          [
           "Least Confidence",
           0.884013953211256,
           0.9300416151164098,
           96
          ],
          [
           "Least Confidence",
           0.8842253518681598,
           0.930154088404004,
           97
          ],
          [
           "Least Confidence",
           0.8842253518681598,
           0.930154088404004,
           98
          ],
          [
           "Least Confidence",
           0.8849955939190423,
           0.9302665616915984,
           99
          ],
          [
           "Least Confidence",
           0.8847832442483685,
           0.930154088404004,
           100
          ],
          [
           "Least Confidence",
           0.8851747140813505,
           0.9303790349791924,
           101
          ],
          [
           "Least Confidence",
           0.8849342450416733,
           0.930154088404004,
           102
          ],
          [
           "Least Confidence",
           0.8849342450416733,
           0.930154088404004,
           103
          ],
          [
           "Least Confidence",
           0.8849342450416733,
           0.930154088404004,
           104
          ],
          [
           "Least Confidence",
           0.8849342450416733,
           0.930154088404004,
           105
          ],
          [
           "Least Confidence",
           0.8849342450416733,
           0.930154088404004,
           106
          ],
          [
           "Least Confidence",
           0.8851808614128523,
           0.9302665616915984,
           107
          ],
          [
           "Least Confidence",
           0.8851808614128523,
           0.9302665616915984,
           108
          ],
          [
           "Least Confidence",
           0.8851808614128523,
           0.9302665616915984,
           109
          ],
          [
           "Least Confidence",
           0.8851808614128523,
           0.9302665616915984,
           110
          ],
          [
           "Least Confidence",
           0.8851808614128523,
           0.9302665616915984,
           111
          ],
          [
           "Least Confidence",
           0.8851808614128523,
           0.9302665616915984,
           112
          ],
          [
           "Least Confidence",
           0.8851808614128523,
           0.9302665616915984,
           113
          ],
          [
           "Least Confidence",
           0.8851808614128523,
           0.9302665616915984,
           114
          ],
          [
           "Least Confidence",
           0.8851808614128523,
           0.9302665616915984,
           115
          ],
          [
           "Least Confidence",
           0.8851808614128523,
           0.9302665616915984,
           116
          ],
          [
           "Least Confidence",
           0.8851808614128523,
           0.9302665616915984,
           117
          ],
          [
           "Least Confidence",
           0.8851808614128523,
           0.9302665616915984,
           118
          ],
          [
           "Least Confidence",
           0.8851808614128523,
           0.9302665616915984,
           119
          ],
          [
           "Least Confidence",
           0.8851808614128523,
           0.9302665616915984,
           120
          ],
          [
           "Least Confidence",
           0.8851808614128523,
           0.9302665616915984,
           121
          ],
          [
           "Least Confidence",
           0.8851808614128523,
           0.9302665616915984,
           122
          ],
          [
           "Least Confidence",
           0.8851808614128523,
           0.9302665616915984,
           123
          ],
          [
           "Least Confidence",
           0.8851808614128523,
           0.9302665616915984,
           124
          ],
          [
           "Least Confidence",
           0.8851808614128523,
           0.9302665616915984,
           125
          ],
          [
           "Least Confidence",
           0.8851808614128523,
           0.9302665616915984,
           126
          ],
          [
           "Least Confidence",
           0.8851808614128523,
           0.9302665616915984,
           127
          ],
          [
           "Least Confidence",
           0.8851808614128523,
           0.9302665616915984,
           128
          ],
          [
           "Least Confidence",
           0.8851808614128523,
           0.9302665616915984,
           129
          ],
          [
           "Least Confidence",
           0.8851808614128523,
           0.9302665616915984,
           130
          ],
          [
           "Least Confidence",
           0.8851808614128523,
           0.9302665616915984,
           131
          ],
          [
           "Least Confidence",
           0.8851808614128523,
           0.9302665616915984,
           132
          ],
          [
           "Least Confidence",
           0.8851808614128523,
           0.9302665616915984,
           133
          ],
          [
           "Least Confidence",
           0.8851808614128523,
           0.9302665616915984,
           134
          ],
          [
           "Least Confidence",
           0.8851808614128523,
           0.9302665616915984,
           135
          ],
          [
           "Least Confidence",
           0.8851808614128523,
           0.9302665616915984,
           136
          ],
          [
           "Least Confidence",
           0.8851808614128523,
           0.9302665616915984,
           137
          ],
          [
           "Least Confidence",
           0.8851808614128523,
           0.9302665616915984,
           138
          ],
          [
           "Least Confidence",
           0.8851808614128523,
           0.9302665616915984,
           139
          ],
          [
           "Least Confidence",
           0.8851808614128523,
           0.9302665616915984,
           140
          ],
          [
           "Least Confidence",
           0.8851808614128523,
           0.9302665616915984,
           141
          ],
          [
           "Least Confidence",
           0.8851808614128523,
           0.9302665616915984,
           142
          ],
          [
           "Least Confidence",
           0.8851808614128523,
           0.9302665616915984,
           143
          ],
          [
           "Least Confidence",
           0.8851808614128523,
           0.9302665616915984,
           144
          ],
          [
           "Least Confidence",
           0.8851808614128523,
           0.9302665616915984,
           145
          ],
          [
           "Least Confidence",
           0.8851808614128523,
           0.9302665616915984,
           146
          ],
          [
           "Least Confidence",
           0.8851808614128523,
           0.9302665616915984,
           147
          ],
          [
           "Least Confidence",
           0.8851808614128523,
           0.9302665616915984,
           148
          ],
          [
           "Least Confidence",
           0.8851808614128523,
           0.9302665616915984,
           149
          ],
          [
           "Least Confidence",
           0.8851808614128523,
           0.9302665616915984,
           150
          ],
          [
           "Least Confidence",
           0.8851808614128523,
           0.9302665616915984,
           151
          ],
          [
           "Least Confidence",
           0.8851808614128523,
           0.9302665616915984,
           152
          ],
          [
           "Least Confidence",
           0.8851808614128523,
           0.9302665616915984,
           153
          ],
          [
           "Least Confidence",
           0.8851808614128523,
           0.9302665616915984,
           154
          ],
          [
           "Least Confidence",
           0.8851808614128523,
           0.9302665616915984,
           155
          ],
          [
           "Least Confidence",
           0.8851808614128523,
           0.9302665616915984,
           156
          ],
          [
           "Least Confidence",
           0.8851808614128523,
           0.9302665616915984,
           157
          ],
          [
           "Least Confidence",
           0.8851808614128523,
           0.9302665616915984,
           158
          ],
          [
           "Least Confidence",
           0.8851808614128523,
           0.9302665616915984,
           159
          ],
          [
           "Least Confidence",
           0.8851808614128523,
           0.9302665616915984,
           160
          ],
          [
           "Least Confidence",
           0.8851808614128523,
           0.9302665616915984,
           161
          ],
          [
           "Least Confidence",
           0.8851808614128523,
           0.9302665616915984,
           162
          ],
          [
           "Least Confidence",
           0.8851808614128523,
           0.9302665616915984,
           163
          ],
          [
           "Least Confidence",
           0.8851808614128523,
           0.9302665616915984,
           164
          ],
          [
           "Least Confidence",
           0.8851808614128523,
           0.9302665616915984,
           165
          ],
          [
           "Least Confidence",
           0.8851808614128523,
           0.9302665616915984,
           166
          ],
          [
           "Least Confidence",
           0.8851808614128523,
           0.9302665616915984,
           167
          ],
          [
           "Least Confidence",
           0.8851808614128523,
           0.9302665616915984,
           168
          ],
          [
           "Least Confidence",
           0.8851808614128523,
           0.9302665616915984,
           169
          ],
          [
           "Least Confidence",
           0.8851808614128523,
           0.9302665616915984,
           170
          ],
          [
           "Least Confidence",
           0.8851808614128523,
           0.9302665616915984,
           171
          ],
          [
           "Least Confidence",
           0.8851808614128523,
           0.9302665616915984,
           172
          ],
          [
           "Least Confidence",
           0.8851808614128523,
           0.9302665616915984,
           173
          ],
          [
           "Least Confidence",
           0.8851808614128523,
           0.9302665616915984,
           174
          ],
          [
           "Least Confidence",
           0.8851808614128523,
           0.9302665616915984,
           175
          ],
          [
           "Least Confidence",
           0.8851808614128523,
           0.9302665616915984,
           176
          ],
          [
           "Least Confidence",
           0.8851808614128523,
           0.9302665616915984,
           177
          ],
          [
           "Least Confidence",
           0.8851808614128523,
           0.9302665616915984,
           178
          ],
          [
           "Least Confidence",
           0.8851808614128523,
           0.9302665616915984,
           179
          ],
          [
           "Least Confidence",
           0.8851808614128523,
           0.9302665616915984,
           180
          ],
          [
           "Least Confidence",
           0.8851808614128523,
           0.9302665616915984,
           181
          ],
          [
           "Least Confidence",
           0.8851808614128523,
           0.9302665616915984,
           182
          ],
          [
           "Least Confidence",
           0.8851808614128523,
           0.9302665616915984,
           183
          ],
          [
           "Least Confidence",
           0.8851808614128523,
           0.9302665616915984,
           184
          ],
          [
           "Least Confidence",
           0.8851808614128523,
           0.9302665616915984,
           185
          ],
          [
           "Least Confidence",
           0.8851808614128523,
           0.9302665616915984,
           186
          ],
          [
           "Least Confidence",
           0.8851808614128523,
           0.9302665616915984,
           187
          ],
          [
           "Least Confidence",
           0.8851808614128523,
           0.9302665616915984,
           188
          ],
          [
           "Least Confidence",
           0.8851808614128523,
           0.9302665616915984,
           189
          ],
          [
           "Least Confidence",
           0.8851808614128523,
           0.9302665616915984,
           190
          ],
          [
           "Least Confidence",
           0.8851808614128523,
           0.9302665616915984,
           191
          ],
          [
           "Least Confidence",
           0.8851808614128523,
           0.9302665616915984,
           192
          ],
          [
           "Least Confidence",
           0.8851808614128523,
           0.9302665616915984,
           193
          ],
          [
           "Least Confidence",
           0.8851808614128523,
           0.9302665616915984,
           194
          ],
          [
           "Least Confidence",
           0.8851808614128523,
           0.9302665616915984,
           195
          ],
          [
           "Least Confidence",
           0.8851808614128523,
           0.9302665616915984,
           196
          ],
          [
           "Least Confidence",
           0.8851808614128523,
           0.9302665616915984,
           197
          ],
          [
           "Least Confidence",
           0.8851808614128523,
           0.9302665616915984,
           198
          ],
          [
           "Least Confidence",
           0.8851808614128523,
           0.9302665616915984,
           199
          ],
          [
           "Least Confidence",
           0.8851808614128523,
           0.9302665616915984,
           200
          ],
          [
           "Least Confidence",
           0.8851808614128523,
           0.9302665616915984,
           201
          ],
          [
           "Least Confidence",
           0.8851808614128523,
           0.9302665616915984,
           202
          ],
          [
           "Least Confidence",
           0.8851808614128523,
           0.9302665616915984,
           203
          ],
          [
           "Least Confidence",
           0.8851808614128523,
           0.9302665616915984,
           204
          ],
          [
           "Least Confidence",
           0.8851808614128523,
           0.9302665616915984,
           205
          ],
          [
           "Least Confidence",
           0.8851808614128523,
           0.9302665616915984,
           206
          ],
          [
           "Least Confidence",
           0.8851808614128523,
           0.9302665616915984,
           207
          ],
          [
           "Least Confidence",
           0.8851808614128523,
           0.9302665616915984,
           208
          ],
          [
           "Least Confidence",
           0.8851808614128523,
           0.9302665616915984,
           209
          ],
          [
           "Least Confidence",
           0.8851808614128523,
           0.9302665616915984,
           210
          ],
          [
           "Least Confidence",
           0.8851808614128523,
           0.9302665616915984,
           211
          ],
          [
           "Least Confidence",
           0.8851808614128523,
           0.9302665616915984,
           212
          ],
          [
           "Least Confidence",
           0.8851808614128523,
           0.9302665616915984,
           213
          ],
          [
           "Least Confidence",
           0.8851808614128523,
           0.9302665616915984,
           214
          ],
          [
           "Least Confidence",
           0.8851808614128523,
           0.9302665616915984,
           215
          ],
          [
           "Least Confidence",
           0.8851808614128523,
           0.9302665616915984,
           216
          ],
          [
           "Least Confidence",
           0.8851808614128523,
           0.9302665616915984,
           217
          ],
          [
           "Least Confidence",
           0.8851808614128523,
           0.9302665616915984,
           218
          ],
          [
           "Least Confidence",
           0.8851808614128523,
           0.9302665616915984,
           219
          ],
          [
           "Least Confidence",
           0.8851808614128523,
           0.9302665616915984,
           220
          ],
          [
           "Least Confidence",
           0.8851808614128523,
           0.9302665616915984,
           221
          ],
          [
           "Least Confidence",
           0.8851808614128523,
           0.9302665616915984,
           222
          ],
          [
           "Least Confidence",
           0.8851808614128523,
           0.9302665616915984,
           223
          ],
          [
           "Least Confidence",
           0.8851808614128523,
           0.9302665616915984,
           224
          ],
          [
           "Least Confidence",
           0.8851808614128523,
           0.9302665616915984,
           225
          ],
          [
           "Least Confidence",
           0.8851808614128523,
           0.9302665616915984,
           226
          ],
          [
           "Least Confidence",
           0.8851808614128523,
           0.9302665616915984,
           227
          ],
          [
           "Least Confidence",
           0.8851808614128523,
           0.9302665616915984,
           228
          ],
          [
           "Least Confidence",
           0.8851808614128523,
           0.9302665616915984,
           229
          ],
          [
           "Least Confidence",
           0.8851808614128523,
           0.9302665616915984,
           230
          ],
          [
           "Least Confidence",
           0.8851808614128523,
           0.9302665616915984,
           231
          ],
          [
           "Least Confidence",
           0.8851808614128523,
           0.9302665616915984,
           232
          ],
          [
           "Least Confidence",
           0.8851808614128523,
           0.9302665616915984,
           233
          ],
          [
           "Least Confidence",
           0.8851808614128523,
           0.9302665616915984,
           234
          ],
          [
           "Least Confidence",
           0.8851808614128523,
           0.9302665616915984,
           235
          ],
          [
           "Least Confidence",
           0.8851808614128523,
           0.9302665616915984,
           236
          ],
          [
           "Least Confidence",
           0.8851808614128523,
           0.9302665616915984,
           237
          ],
          [
           "Least Confidence",
           0.8851808614128523,
           0.9302665616915984,
           238
          ],
          [
           "Least Confidence",
           0.8851808614128523,
           0.9302665616915984,
           239
          ],
          [
           "Least Confidence",
           0.8851808614128523,
           0.9302665616915984,
           240
          ],
          [
           "Least Confidence",
           0.8851808614128523,
           0.9302665616915984,
           241
          ],
          [
           "Least Confidence",
           0.8851808614128523,
           0.9302665616915984,
           242
          ],
          [
           "Least Confidence",
           0.8851808614128523,
           0.9302665616915984,
           243
          ],
          [
           "Least Confidence",
           0.8851808614128523,
           0.9302665616915984,
           244
          ],
          [
           "Least Confidence",
           0.8851808614128523,
           0.9302665616915984,
           245
          ],
          [
           "Least Confidence",
           0.8851808614128523,
           0.9302665616915984,
           246
          ],
          [
           "Least Confidence",
           0.8851808614128523,
           0.9302665616915984,
           247
          ],
          [
           "Least Confidence",
           0.8851808614128523,
           0.9302665616915984,
           248
          ],
          [
           "Least Confidence",
           0.8851808614128523,
           0.9302665616915984,
           249
          ],
          [
           "Least Confidence",
           0.8851808614128523,
           0.9302665616915984,
           250
          ],
          [
           "Least Confidence",
           0.8851808614128523,
           0.9302665616915984,
           251
          ],
          [
           "Least Confidence",
           0.8851808614128523,
           0.9302665616915984,
           252
          ],
          [
           "Least Confidence",
           0.8851808614128523,
           0.9302665616915984,
           253
          ],
          [
           "Least Confidence",
           0.8851808614128523,
           0.9302665616915984,
           254
          ],
          [
           "Least Confidence",
           0.8851808614128523,
           0.9302665616915984,
           255
          ],
          [
           "Least Confidence",
           0.8851808614128523,
           0.9302665616915984,
           256
          ],
          [
           "Least Confidence",
           0.8851808614128523,
           0.9302665616915984,
           257
          ],
          [
           "Least Confidence",
           0.8851808614128523,
           0.9302665616915984,
           258
          ],
          [
           "Least Confidence",
           0.8851808614128523,
           0.9302665616915984,
           259
          ],
          [
           "Least Confidence",
           0.8851808614128523,
           0.9302665616915984,
           260
          ],
          [
           "Least Confidence",
           0.8851808614128523,
           0.9302665616915984,
           261
          ],
          [
           "Least Confidence",
           0.8851808614128523,
           0.9302665616915984,
           262
          ],
          [
           "Least Confidence",
           0.8851808614128523,
           0.9302665616915984,
           263
          ],
          [
           "Least Confidence",
           0.8851808614128523,
           0.9302665616915984,
           264
          ],
          [
           "Least Confidence",
           0.8851808614128523,
           0.9302665616915984,
           265
          ],
          [
           "Least Confidence",
           0.8851808614128523,
           0.9302665616915984,
           266
          ],
          [
           "Least Confidence",
           0.8851808614128523,
           0.9302665616915984,
           267
          ],
          [
           "Least Confidence",
           0.8851808614128523,
           0.9302665616915984,
           268
          ],
          [
           "Least Confidence",
           0.8851808614128523,
           0.9302665616915984,
           269
          ],
          [
           "Least Confidence",
           0.8851808614128523,
           0.9302665616915984,
           270
          ],
          [
           "Least Confidence",
           0.8851808614128523,
           0.9302665616915984,
           271
          ],
          [
           "Least Confidence",
           0.8851808614128523,
           0.9302665616915984,
           272
          ],
          [
           "Least Confidence",
           0.8851808614128523,
           0.9302665616915984,
           273
          ],
          [
           "Least Confidence",
           0.8851808614128523,
           0.9302665616915984,
           274
          ],
          [
           "Least Confidence",
           0.8851808614128523,
           0.9302665616915984,
           275
          ],
          [
           "Least Confidence",
           0.8851808614128523,
           0.9302665616915984,
           276
          ],
          [
           "Least Confidence",
           0.8851808614128523,
           0.9302665616915984,
           277
          ],
          [
           "Least Confidence",
           0.8851808614128523,
           0.9302665616915984,
           278
          ],
          [
           "Least Confidence",
           0.8851808614128523,
           0.9302665616915984,
           279
          ],
          [
           "Least Confidence",
           0.8851808614128523,
           0.9302665616915984,
           280
          ],
          [
           "Least Confidence",
           0.8851808614128523,
           0.9302665616915984,
           281
          ],
          [
           "Least Confidence",
           0.8851808614128523,
           0.9302665616915984,
           282
          ],
          [
           "Least Confidence",
           0.8851808614128523,
           0.9302665616915984,
           283
          ],
          [
           "Least Confidence",
           0.8851808614128523,
           0.9302665616915984,
           284
          ],
          [
           "Least Confidence",
           0.8851808614128523,
           0.9302665616915984,
           285
          ],
          [
           "Least Confidence",
           0.8851808614128523,
           0.9302665616915984,
           286
          ],
          [
           "Least Confidence",
           0.8851808614128523,
           0.9302665616915984,
           287
          ],
          [
           "Least Confidence",
           0.8851808614128523,
           0.9302665616915984,
           288
          ],
          [
           "Least Confidence",
           0.8851808614128523,
           0.9302665616915984,
           289
          ],
          [
           "Least Confidence",
           0.8851808614128523,
           0.9302665616915984,
           290
          ],
          [
           "Least Confidence",
           0.8851808614128523,
           0.9302665616915984,
           291
          ],
          [
           "Least Confidence",
           0.8851808614128523,
           0.9302665616915984,
           292
          ],
          [
           "Least Confidence",
           0.8851808614128523,
           0.9302665616915984,
           293
          ],
          [
           "Least Confidence",
           0.8851808614128523,
           0.9302665616915984,
           294
          ],
          [
           "Least Confidence",
           0.8851808614128523,
           0.9302665616915984,
           295
          ],
          [
           "Least Confidence",
           0.8851808614128523,
           0.9302665616915984,
           296
          ],
          [
           "Least Confidence",
           0.8851808614128523,
           0.9302665616915984,
           297
          ],
          [
           "Least Confidence",
           0.8851808614128523,
           0.9302665616915984,
           298
          ],
          [
           "Least Confidence",
           0.8851808614128523,
           0.9302665616915984,
           299
          ],
          [
           "Least Confidence",
           0.8851808614128523,
           0.9302665616915984,
           300
          ],
          [
           "Least Confidence",
           0.8851808614128523,
           0.9302665616915984,
           301
          ],
          [
           "Least Confidence",
           0.8851808614128523,
           0.9302665616915984,
           302
          ],
          [
           "Least Confidence",
           0.8851808614128523,
           0.9302665616915984,
           303
          ],
          [
           "Least Confidence",
           0.8851808614128523,
           0.9302665616915984,
           304
          ],
          [
           "Least Confidence",
           0.8851808614128523,
           0.9302665616915984,
           305
          ],
          [
           "Least Confidence",
           0.8851808614128523,
           0.9302665616915984,
           306
          ],
          [
           "Least Confidence",
           0.8851808614128523,
           0.9302665616915984,
           307
          ],
          [
           "Least Confidence",
           0.8851808614128523,
           0.9302665616915984,
           308
          ],
          [
           "Least Confidence",
           0.8851808614128523,
           0.9302665616915984,
           309
          ],
          [
           "Least Confidence",
           0.8851808614128523,
           0.9302665616915984,
           310
          ],
          [
           "Least Confidence",
           0.8851808614128523,
           0.9302665616915984,
           311
          ],
          [
           "Least Confidence",
           0.8851808614128523,
           0.9302665616915984,
           312
          ],
          [
           "Least Confidence",
           0.8851808614128523,
           0.9302665616915984,
           313
          ],
          [
           "Least Confidence",
           0.8851808614128523,
           0.9302665616915984,
           314
          ],
          [
           "Least Confidence",
           0.8851808614128523,
           0.9302665616915984,
           315
          ],
          [
           "Least Confidence",
           0.8851808614128523,
           0.9302665616915984,
           316
          ],
          [
           "Least Confidence",
           0.8851808614128523,
           0.9302665616915984,
           317
          ],
          [
           "Least Confidence",
           0.8851808614128523,
           0.9302665616915984,
           318
          ],
          [
           "Least Confidence",
           0.8851808614128523,
           0.9302665616915984,
           319
          ],
          [
           "Least Confidence",
           0.8851808614128523,
           0.9302665616915984,
           320
          ],
          [
           "Least Confidence",
           0.8851808614128523,
           0.9302665616915984,
           321
          ],
          [
           "Least Confidence",
           0.8851808614128523,
           0.9302665616915984,
           322
          ],
          [
           "Least Confidence",
           0.8851808614128523,
           0.9302665616915984,
           323
          ],
          [
           "Least Confidence",
           0.8851808614128523,
           0.9302665616915984,
           324
          ],
          [
           "Least Confidence",
           0.8851808614128523,
           0.9302665616915984,
           325
          ],
          [
           "Least Confidence",
           0.8851808614128523,
           0.9302665616915984,
           326
          ],
          [
           "Least Confidence",
           0.8851808614128523,
           0.9302665616915984,
           327
          ],
          [
           "Least Confidence",
           0.8851808614128523,
           0.9302665616915984,
           328
          ],
          [
           "Least Confidence",
           0.8851808614128523,
           0.9302665616915984,
           329
          ],
          [
           "Least Confidence",
           0.8851808614128523,
           0.9302665616915984,
           330
          ],
          [
           "Least Confidence",
           0.8851808614128523,
           0.9302665616915984,
           331
          ],
          [
           "Least Confidence",
           0.8851808614128523,
           0.9302665616915984,
           332
          ],
          [
           "Least Confidence",
           0.8851808614128523,
           0.9302665616915984,
           333
          ],
          [
           "Least Confidence",
           0.8851808614128523,
           0.9302665616915984,
           334
          ],
          [
           "Least Confidence",
           0.8851808614128523,
           0.9302665616915984,
           335
          ],
          [
           "Least Confidence",
           0.8851808614128523,
           0.9302665616915984,
           336
          ],
          [
           "Least Confidence",
           0.8851808614128523,
           0.9302665616915984,
           337
          ],
          [
           "Least Confidence",
           0.8851808614128523,
           0.9302665616915984,
           338
          ],
          [
           "Least Confidence",
           0.8851808614128523,
           0.9302665616915984,
           339
          ],
          [
           "Least Confidence",
           0.8851808614128523,
           0.9302665616915984,
           340
          ],
          [
           "Least Confidence",
           0.8851808614128523,
           0.9302665616915984,
           341
          ],
          [
           "Least Confidence",
           0.8851808614128523,
           0.9302665616915984,
           342
          ],
          [
           "Least Confidence",
           0.8851808614128523,
           0.9302665616915984,
           343
          ],
          [
           "Least Confidence",
           0.8851808614128523,
           0.9302665616915984,
           344
          ],
          [
           "Least Confidence",
           0.8851808614128523,
           0.9302665616915984,
           345
          ],
          [
           "Least Confidence",
           0.8851808614128523,
           0.9302665616915984,
           346
          ],
          [
           "Least Confidence",
           0.8851808614128523,
           0.9302665616915984,
           347
          ],
          [
           "Least Confidence",
           0.8851808614128523,
           0.9302665616915984,
           348
          ],
          [
           "Least Confidence",
           0.8851808614128523,
           0.9302665616915984,
           349
          ],
          [
           "Least Confidence",
           0.8851808614128523,
           0.9302665616915984,
           350
          ],
          [
           "Least Confidence",
           0.8851808614128523,
           0.9302665616915984,
           351
          ],
          [
           "Least Confidence",
           0.8851808614128523,
           0.9302665616915984,
           352
          ],
          [
           "Least Confidence",
           0.8851808614128523,
           0.9302665616915984,
           355
          ]
         ],
         "hovertemplate": "Strategy=%{customdata[0]}<br>Number of Labeled Samples=%{x:.0f}<br>F1 Score (weighted)=%{y:.4f}<br>MCC=%{customdata[1]:.4f}<br>Accuracy=%{customdata[2]:.4f}<br>Step=%{customdata[3]}<extra></extra>",
         "legendgroup": "Least Confidence",
         "line": {
          "color": "green",
          "dash": "solid"
         },
         "marker": {
          "symbol": "circle"
         },
         "mode": "lines+markers",
         "name": "Least Confidence",
         "showlegend": true,
         "type": "scattergl",
         "x": {
          "bdata": "AAAAAABAf0AAAAAAAMCCQAAAAAAA4IVAAAAAAAAAiUAAAAAAACCMQAAAAAAAQI9AAAAAAAAwkUAAAAAAAMCSQAAAAAAAUJRAAAAAAADglUAAAAAAAHCXQAAAAAAAAJlAAAAAAACQmkAAAAAAACCcQAAAAAAAsJ1AAAAAAABAn0AAAAAAAGigQAAAAAAAMKFAAAAAAAD4oUAAAAAAAMCiQAAAAAAAiKNAAAAAAABQpEAAAAAAABilQAAAAAAA4KVAAAAAAACopkAAAAAAAHCnQAAAAAAAOKhAAAAAAAAAqUAAAAAAAMipQAAAAAAAkKpAAAAAAABYq0AAAAAAACCsQAAAAAAA6KxAAAAAAACwrUAAAAAAAHiuQAAAAAAAQK9AAAAAAAAEsEAAAAAAAGiwQAAAAAAAzLBAAAAAAAAwsUAAAAAAAJSxQAAAAAAA+LFAAAAAAABcskAAAAAAAMCyQAAAAAAAJLNAAAAAAACIs0AAAAAAAOyzQAAAAAAAULRAAAAAAAC0tEAAAAAAABi1QAAAAAAAfLVAAAAAAADgtUAAAAAAAES2QAAAAAAAqLZAAAAAAAAMt0AAAAAAAHC3QAAAAAAA1LdAAAAAAAA4uEAAAAAAAJy4QAAAAAAAALlAAAAAAABkuUAAAAAAAMi5QAAAAAAALLpAAAAAAACQukAAAAAAAPS6QAAAAAAAWLtAAAAAAAC8u0AAAAAAACC8QAAAAAAAhLxAAAAAAADovEAAAAAAAEy9QAAAAAAAsL1AAAAAAAAUvkAAAAAAAHi+QAAAAAAA3L5AAAAAAABAv0AAAAAAAKS/QAAAAAAABMBAAAAAAAA2wEAAAAAAAGjAQAAAAAAAmsBAAAAAAADMwEAAAAAAAP7AQAAAAAAAMMFAAAAAAABiwUAAAAAAAJTBQAAAAAAAxsFAAAAAAAD4wUAAAAAAACrCQAAAAAAAXMJAAAAAAACOwkAAAAAAAMDCQAAAAAAA8sJAAAAAAAAkw0AAAAAAAFbDQAAAAAAAiMNAAAAAAAC6w0AAAAAAAOzDQAAAAAAAHsRAAAAAAABQxEAAAAAAAILEQAAAAAAAtMRAAAAAAADmxEAAAAAAABjFQAAAAAAASsVAAAAAAAB8xUAAAAAAAK7FQAAAAAAA4MVAAAAAAAASxkAAAAAAAETGQAAAAAAAdsZAAAAAAACoxkAAAAAAANrGQAAAAAAADMdAAAAAAAA+x0AAAAAAAHDHQAAAAAAAosdAAAAAAADUx0AAAAAAAAbIQAAAAAAAOMhAAAAAAABqyEAAAAAAAJzIQAAAAAAAzshAAAAAAAAAyUAAAAAAADLJQAAAAAAAZMlAAAAAAACWyUAAAAAAAMjJQAAAAAAA+slAAAAAAAAsykAAAAAAAF7KQAAAAAAAkMpAAAAAAADCykAAAAAAAPTKQAAAAAAAJstAAAAAAABYy0AAAAAAAIrLQAAAAAAAvMtAAAAAAADuy0AAAAAAACDMQAAAAAAAUsxAAAAAAACEzEAAAAAAALbMQAAAAAAA6MxAAAAAAAAazUAAAAAAAEzNQAAAAAAAfs1AAAAAAACwzUAAAAAAAOLNQAAAAAAAFM5AAAAAAABGzkAAAAAAAHjOQAAAAAAAqs5AAAAAAADczkAAAAAAAA7PQAAAAAAAQM9AAAAAAAByz0AAAAAAAKTPQAAAAAAA1s9AAAAAAAAE0EAAAAAAAB3QQAAAAAAANtBAAAAAAABP0EAAAAAAAGjQQAAAAAAAgdBAAAAAAACa0EAAAAAAALPQQAAAAAAAzNBAAAAAAADl0EAAAAAAAP7QQAAAAAAAF9FAAAAAAAAw0UAAAAAAAEnRQAAAAAAAYtFAAAAAAAB70UAAAAAAAJTRQAAAAAAArdFAAAAAAADG0UAAAAAAAN/RQAAAAAAA+NFAAAAAAAAR0kAAAAAAACrSQAAAAAAAQ9JAAAAAAABc0kAAAAAAAHXSQAAAAAAAjtJAAAAAAACn0kAAAAAAAMDSQAAAAAAA2dJAAAAAAADy0kAAAAAAAAvTQAAAAAAAJNNAAAAAAAA900AAAAAAAFbTQAAAAAAAb9NAAAAAAACI00AAAAAAAKHTQAAAAAAAutNAAAAAAADT00AAAAAAAOzTQAAAAAAABdRAAAAAAAAe1EAAAAAAADfUQAAAAAAAUNRAAAAAAABp1EAAAAAAAILUQAAAAAAAm9RAAAAAAAC01EAAAAAAAM3UQAAAAAAA5tRAAAAAAAD/1EAAAAAAABjVQAAAAAAAMdVAAAAAAABK1UAAAAAAAGPVQAAAAAAAfNVAAAAAAACV1UAAAAAAAK7VQAAAAAAAx9VAAAAAAADg1UAAAAAAAPnVQAAAAAAAEtZAAAAAAAAr1kAAAAAAAETWQAAAAAAAXdZAAAAAAAB21kAAAAAAAI/WQAAAAAAAqNZAAAAAAADB1kAAAAAAANrWQAAAAAAA89ZAAAAAAAAM10AAAAAAACXXQAAAAAAAPtdAAAAAAABX10AAAAAAAHDXQAAAAAAAiddAAAAAAACi10AAAAAAALvXQAAAAAAA1NdAAAAAAADt10AAAAAAAAbYQAAAAAAAH9hAAAAAAAA42EAAAAAAAFHYQAAAAAAAathAAAAAAACD2EAAAAAAAJzYQAAAAAAAtdhAAAAAAADO2EAAAAAAAOfYQAAAAAAAANlAAAAAAAAZ2UAAAAAAADLZQAAAAAAAS9lAAAAAAABk2UAAAAAAAH3ZQAAAAAAAltlAAAAAAACv2UAAAAAAAMjZQAAAAAAA4dlAAAAAAAD62UAAAAAAABPaQAAAAAAALNpAAAAAAABF2kAAAAAAAF7aQAAAAAAAd9pAAAAAAACQ2kAAAAAAAKnaQAAAAAAAwtpAAAAAAADb2kAAAAAAAPTaQAAAAAAADdtAAAAAAAAm20AAAAAAAD/bQAAAAAAAWNtAAAAAAABx20AAAAAAAIrbQAAAAAAAo9tAAAAAAAC820AAAAAAANXbQAAAAAAA7ttAAAAAAAAH3EAAAAAAACDcQAAAAAAAOdxAAAAAAABS3EAAAAAAAGvcQAAAAAAAhNxAAAAAAACd3EAAAAAAALbcQAAAAAAAz9xAAAAAAADo3EAAAAAAAAHdQAAAAAAAGt1AAAAAAAAz3UAAAAAAAEzdQAAAAAAAZd1AAAAAAAB+3UAAAAAAAJfdQAAAAAAAsN1AAAAAAADJ3UAAAAAAAOLdQAAAAAAA+91AAAAAAAAU3kAAAAAAAC3eQAAAAAAARt5AAAAAAABf3kAAAAAAAHjeQAAAAAAAkd5AAAAAAACq3kAAAAAAAMPeQAAAAAAA3N5AAAAAAAD13kAAAAAAAA7fQAAAAAAAJ99AAAAAAABA30AAAAAAAFnfQAAAAAAAct9AAAAAAACL30AAAAAAAKTfQAAAAAAAvd9AAAAAAADW30AAAAAAAO/fQAAAAAAABOBAAAAAAIAQ4EAAAAAAAB3gQAAAAACAKeBAAAAAAAA24EAAAAAAgELgQAAAAAAAT+BAAAAAAIBb4EAAAAAAAGjgQAAAAACAdOBAAAAAAACB4EAAAAAAgI3gQAAAAAAAmuBAAAAAAICm4EAAAAAAALPgQAAAAACAv+BAAAAAAADM4EAAAAAAgNjgQAAAAAAA5eBAAAAAAIDx4EAAAAAAAP7gQAAAAACACuFAAAAAAAAX4UAAAAAAgCPhQAAAAAAAMOFAAAAAAIA84UAAAAAAAEnhQAAAAACAVeFAAAAAAEBd4UAAAAAAQF3hQAAAAABAXeFA",
          "dtype": "f8"
         },
         "xaxis": "x",
         "y": {
          "bdata": "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",
          "dtype": "f8"
         },
         "yaxis": "y"
        },
        {
         "customdata": [
          [
           "Margin of Confidence",
           0.835436566647736,
           0.8965245754133393,
           0
          ],
          [
           "Margin of Confidence",
           0.8799173354912274,
           0.9268923630637724,
           1
          ],
          [
           "Margin of Confidence",
           0.8848095233490135,
           0.9300416151164098,
           2
          ],
          [
           "Margin of Confidence",
           0.8848155316451634,
           0.9300416151164098,
           3
          ],
          [
           "Margin of Confidence",
           0.8845039706128965,
           0.9298166685412216,
           4
          ],
          [
           "Margin of Confidence",
           0.8842541610377296,
           0.9297041952536272,
           5
          ],
          [
           "Margin of Confidence",
           0.8845404836000673,
           0.9298166685412216,
           6
          ],
          [
           "Margin of Confidence",
           0.8845404836000673,
           0.9298166685412216,
           7
          ],
          [
           "Margin of Confidence",
           0.8845404836000673,
           0.9298166685412216,
           8
          ],
          [
           "Margin of Confidence",
           0.8845404836000673,
           0.9298166685412216,
           9
          ],
          [
           "Margin of Confidence",
           0.8845404836000673,
           0.9298166685412216,
           10
          ],
          [
           "Margin of Confidence",
           0.8845404836000673,
           0.9298166685412216,
           11
          ],
          [
           "Margin of Confidence",
           0.8842573949056197,
           0.9297041952536272,
           12
          ],
          [
           "Margin of Confidence",
           0.8833003030291336,
           0.9292543021032504,
           13
          ],
          [
           "Margin of Confidence",
           0.8832137242889354,
           0.9292543021032504,
           14
          ],
          [
           "Margin of Confidence",
           0.8829845486977542,
           0.9292543021032504,
           15
          ],
          [
           "Margin of Confidence",
           0.8832031222077237,
           0.929591721966033,
           16
          ],
          [
           "Margin of Confidence",
           0.8795713060874983,
           0.9280170959397144,
           17
          ],
          [
           "Margin of Confidence",
           0.8783377490569901,
           0.9275672027893376,
           18
          ],
          [
           "Margin of Confidence",
           0.8798428619429013,
           0.9285794623776852,
           19
          ],
          [
           "Margin of Confidence",
           0.8815556563550692,
           0.929591721966033,
           20
          ],
          [
           "Margin of Confidence",
           0.8811941247360944,
           0.9293667753908448,
           21
          ],
          [
           "Margin of Confidence",
           0.8814901794115518,
           0.9294792486784388,
           22
          ],
          [
           "Margin of Confidence",
           0.8817134421752468,
           0.929591721966033,
           23
          ],
          [
           "Margin of Confidence",
           0.8817482257118374,
           0.929591721966033,
           24
          ],
          [
           "Margin of Confidence",
           0.8817294058254634,
           0.929591721966033,
           25
          ],
          [
           "Margin of Confidence",
           0.8820664318230351,
           0.9298166685412216,
           26
          ],
          [
           "Margin of Confidence",
           0.8818076230032124,
           0.9297041952536272,
           27
          ],
          [
           "Margin of Confidence",
           0.8818069930778399,
           0.9297041952536272,
           28
          ],
          [
           "Margin of Confidence",
           0.882152618698753,
           0.9299291418288156,
           29
          ],
          [
           "Margin of Confidence",
           0.8827106018712543,
           0.9302665616915984,
           30
          ],
          [
           "Margin of Confidence",
           0.8825293149623031,
           0.930154088404004,
           31
          ],
          [
           "Margin of Confidence",
           0.8820657719269482,
           0.9299291418288156,
           32
          ],
          [
           "Margin of Confidence",
           0.8818893895753682,
           0.9298166685412216,
           33
          ],
          [
           "Margin of Confidence",
           0.8822300995568095,
           0.9300416151164098,
           34
          ],
          [
           "Margin of Confidence",
           0.8820284766793569,
           0.9299291418288156,
           35
          ],
          [
           "Margin of Confidence",
           0.8824083234561029,
           0.930154088404004,
           36
          ],
          [
           "Margin of Confidence",
           0.8824437741195468,
           0.930154088404004,
           37
          ],
          [
           "Margin of Confidence",
           0.882625680406295,
           0.9302665616915984,
           38
          ],
          [
           "Margin of Confidence",
           0.882625680406295,
           0.9302665616915984,
           39
          ],
          [
           "Margin of Confidence",
           0.8824373096946443,
           0.930154088404004,
           40
          ],
          [
           "Margin of Confidence",
           0.8824373096946443,
           0.930154088404004,
           41
          ],
          [
           "Margin of Confidence",
           0.8826288049049739,
           0.9302665616915984,
           42
          ],
          [
           "Margin of Confidence",
           0.8826288049049739,
           0.9302665616915984,
           43
          ],
          [
           "Margin of Confidence",
           0.8822522818986308,
           0.9300416151164098,
           44
          ],
          [
           "Margin of Confidence",
           0.8824598846262864,
           0.930154088404004,
           45
          ],
          [
           "Margin of Confidence",
           0.8824405100749387,
           0.930154088404004,
           46
          ],
          [
           "Margin of Confidence",
           0.8824598846262864,
           0.930154088404004,
           47
          ],
          [
           "Margin of Confidence",
           0.8820641203278389,
           0.9299291418288156,
           48
          ],
          [
           "Margin of Confidence",
           0.8822522818986308,
           0.9300416151164098,
           49
          ],
          [
           "Margin of Confidence",
           0.8822522818986308,
           0.9300416151164098,
           50
          ],
          [
           "Margin of Confidence",
           0.8820641203278389,
           0.9299291418288156,
           51
          ],
          [
           "Margin of Confidence",
           0.882817166436994,
           0.9303790349791924,
           52
          ],
          [
           "Margin of Confidence",
           0.8829679726932179,
           0.9304915082667866,
           53
          ],
          [
           "Margin of Confidence",
           0.883211767946705,
           0.9307164548419752,
           54
          ],
          [
           "Margin of Confidence",
           0.8834014216765617,
           0.9308289281295692,
           55
          ],
          [
           "Margin of Confidence",
           0.8839707890293053,
           0.9311663479923518,
           56
          ],
          [
           "Margin of Confidence",
           0.8841441226449459,
           0.931278821279946,
           57
          ],
          [
           "Margin of Confidence",
           0.8839540892249682,
           0.9311663479923518,
           58
          ],
          [
           "Margin of Confidence",
           0.8840953317621735,
           0.931278821279946,
           59
          ],
          [
           "Margin of Confidence",
           0.8837474786255625,
           0.9310538747047576,
           60
          ],
          [
           "Margin of Confidence",
           0.8841441226449459,
           0.931278821279946,
           61
          ],
          [
           "Margin of Confidence",
           0.8843342240000742,
           0.9313912945675402,
           62
          ],
          [
           "Margin of Confidence",
           0.8834014216765617,
           0.9308289281295692,
           63
          ],
          [
           "Margin of Confidence",
           0.8834014216765617,
           0.9308289281295692,
           64
          ],
          [
           "Margin of Confidence",
           0.8834014216765617,
           0.9308289281295692,
           65
          ],
          [
           "Margin of Confidence",
           0.8833179901140017,
           0.9307164548419752,
           66
          ],
          [
           "Margin of Confidence",
           0.8831108342641604,
           0.9306039815543808,
           67
          ],
          [
           "Margin of Confidence",
           0.8831108342641604,
           0.9306039815543808,
           68
          ],
          [
           "Margin of Confidence",
           0.8832998801422817,
           0.9307164548419752,
           69
          ],
          [
           "Margin of Confidence",
           0.8833546966073105,
           0.9307164548419752,
           70
          ],
          [
           "Margin of Confidence",
           0.8831290519650409,
           0.9306039815543808,
           71
          ],
          [
           "Margin of Confidence",
           0.8829218555703554,
           0.9304915082667866,
           72
          ],
          [
           "Margin of Confidence",
           0.8831474317842072,
           0.9306039815543808,
           73
          ],
          [
           "Margin of Confidence",
           0.8831474317842072,
           0.9306039815543808,
           74
          ],
          [
           "Margin of Confidence",
           0.8827699717867251,
           0.9303790349791924,
           75
          ],
          [
           "Margin of Confidence",
           0.8817277608296246,
           0.9297041952536272,
           76
          ],
          [
           "Margin of Confidence",
           0.8810368383667765,
           0.9291418288156564,
           77
          ],
          [
           "Margin of Confidence",
           0.8809923406547331,
           0.9291418288156564,
           78
          ],
          [
           "Margin of Confidence",
           0.8808282000138751,
           0.929029355528062,
           79
          ],
          [
           "Margin of Confidence",
           0.8808059255555114,
           0.929029355528062,
           80
          ],
          [
           "Margin of Confidence",
           0.8808282000138751,
           0.929029355528062,
           81
          ],
          [
           "Margin of Confidence",
           0.8820936010215512,
           0.929591721966033,
           82
          ],
          [
           "Margin of Confidence",
           0.8822787208477189,
           0.9297041952536272,
           83
          ],
          [
           "Margin of Confidence",
           0.8819085456630362,
           0.9294792486784388,
           84
          ],
          [
           "Margin of Confidence",
           0.8820936010215512,
           0.929591721966033,
           85
          ],
          [
           "Margin of Confidence",
           0.8825854676217197,
           0.9298166685412216,
           86
          ],
          [
           "Margin of Confidence",
           0.8820191746373675,
           0.9294792486784388,
           87
          ],
          [
           "Margin of Confidence",
           0.8826102525396878,
           0.9298166685412216,
           88
          ],
          [
           "Margin of Confidence",
           0.8824256904085868,
           0.9297041952536272,
           89
          ],
          [
           "Margin of Confidence",
           0.881945067913551,
           0.9294792486784388,
           90
          ],
          [
           "Margin of Confidence",
           0.8823107263002348,
           0.9293667753908448,
           91
          ],
          [
           "Margin of Confidence",
           0.8822691253021955,
           0.9293667753908448,
           92
          ],
          [
           "Margin of Confidence",
           0.8822691253021955,
           0.9293667753908448,
           93
          ],
          [
           "Margin of Confidence",
           0.8822829534985892,
           0.9293667753908448,
           94
          ],
          [
           "Margin of Confidence",
           0.8822829534985892,
           0.9293667753908448,
           95
          ],
          [
           "Margin of Confidence",
           0.8821002346467856,
           0.9292543021032504,
           96
          ],
          [
           "Margin of Confidence",
           0.8822829534985892,
           0.9293667753908448,
           97
          ],
          [
           "Margin of Confidence",
           0.8823107263002348,
           0.9293667753908448,
           98
          ],
          [
           "Margin of Confidence",
           0.8821002346467856,
           0.9292543021032504,
           99
          ],
          [
           "Margin of Confidence",
           0.8821281090743427,
           0.9292543021032504,
           100
          ],
          [
           "Margin of Confidence",
           0.8849058628298843,
           0.9304915082667866,
           101
          ],
          [
           "Margin of Confidence",
           0.8846679265398942,
           0.930154088404004,
           102
          ],
          [
           "Margin of Confidence",
           0.8848800891588237,
           0.9302665616915984,
           103
          ],
          [
           "Margin of Confidence",
           0.8846679265398942,
           0.930154088404004,
           104
          ],
          [
           "Margin of Confidence",
           0.8848800891588237,
           0.9302665616915984,
           105
          ],
          [
           "Margin of Confidence",
           0.8848474302922373,
           0.9302665616915984,
           106
          ],
          [
           "Margin of Confidence",
           0.8848800891588237,
           0.9302665616915984,
           107
          ],
          [
           "Margin of Confidence",
           0.8848800891588237,
           0.9302665616915984,
           108
          ],
          [
           "Margin of Confidence",
           0.8847006842521192,
           0.930154088404004,
           109
          ],
          [
           "Margin of Confidence",
           0.8847998702800832,
           0.930154088404004,
           110
          ],
          [
           "Margin of Confidence",
           0.8851808614128523,
           0.9302665616915984,
           111
          ],
          [
           "Margin of Confidence",
           0.8851808614128523,
           0.9302665616915984,
           112
          ],
          [
           "Margin of Confidence",
           0.8851808614128523,
           0.9302665616915984,
           113
          ],
          [
           "Margin of Confidence",
           0.8851808614128523,
           0.9302665616915984,
           114
          ],
          [
           "Margin of Confidence",
           0.8851808614128523,
           0.9302665616915984,
           115
          ],
          [
           "Margin of Confidence",
           0.8851808614128523,
           0.9302665616915984,
           116
          ],
          [
           "Margin of Confidence",
           0.8851808614128523,
           0.9302665616915984,
           117
          ],
          [
           "Margin of Confidence",
           0.8851808614128523,
           0.9302665616915984,
           118
          ],
          [
           "Margin of Confidence",
           0.8851808614128523,
           0.9302665616915984,
           119
          ],
          [
           "Margin of Confidence",
           0.8851808614128523,
           0.9302665616915984,
           120
          ],
          [
           "Margin of Confidence",
           0.8851808614128523,
           0.9302665616915984,
           121
          ],
          [
           "Margin of Confidence",
           0.8851808614128523,
           0.9302665616915984,
           122
          ],
          [
           "Margin of Confidence",
           0.8851808614128523,
           0.9302665616915984,
           123
          ],
          [
           "Margin of Confidence",
           0.8851808614128523,
           0.9302665616915984,
           124
          ],
          [
           "Margin of Confidence",
           0.8851808614128523,
           0.9302665616915984,
           125
          ],
          [
           "Margin of Confidence",
           0.8851808614128523,
           0.9302665616915984,
           126
          ],
          [
           "Margin of Confidence",
           0.8851808614128523,
           0.9302665616915984,
           127
          ],
          [
           "Margin of Confidence",
           0.8851808614128523,
           0.9302665616915984,
           128
          ],
          [
           "Margin of Confidence",
           0.8851808614128523,
           0.9302665616915984,
           129
          ],
          [
           "Margin of Confidence",
           0.8851808614128523,
           0.9302665616915984,
           130
          ],
          [
           "Margin of Confidence",
           0.8851808614128523,
           0.9302665616915984,
           131
          ],
          [
           "Margin of Confidence",
           0.8851808614128523,
           0.9302665616915984,
           132
          ],
          [
           "Margin of Confidence",
           0.8851808614128523,
           0.9302665616915984,
           133
          ],
          [
           "Margin of Confidence",
           0.8851808614128523,
           0.9302665616915984,
           134
          ],
          [
           "Margin of Confidence",
           0.8851808614128523,
           0.9302665616915984,
           135
          ],
          [
           "Margin of Confidence",
           0.8851808614128523,
           0.9302665616915984,
           136
          ],
          [
           "Margin of Confidence",
           0.8851808614128523,
           0.9302665616915984,
           137
          ],
          [
           "Margin of Confidence",
           0.8851808614128523,
           0.9302665616915984,
           138
          ],
          [
           "Margin of Confidence",
           0.8851808614128523,
           0.9302665616915984,
           139
          ],
          [
           "Margin of Confidence",
           0.8851808614128523,
           0.9302665616915984,
           140
          ],
          [
           "Margin of Confidence",
           0.8851808614128523,
           0.9302665616915984,
           141
          ],
          [
           "Margin of Confidence",
           0.8851808614128523,
           0.9302665616915984,
           142
          ],
          [
           "Margin of Confidence",
           0.8851808614128523,
           0.9302665616915984,
           143
          ],
          [
           "Margin of Confidence",
           0.8851808614128523,
           0.9302665616915984,
           144
          ],
          [
           "Margin of Confidence",
           0.8851808614128523,
           0.9302665616915984,
           145
          ],
          [
           "Margin of Confidence",
           0.8851808614128523,
           0.9302665616915984,
           146
          ],
          [
           "Margin of Confidence",
           0.8851808614128523,
           0.9302665616915984,
           147
          ],
          [
           "Margin of Confidence",
           0.8851808614128523,
           0.9302665616915984,
           148
          ],
          [
           "Margin of Confidence",
           0.8851808614128523,
           0.9302665616915984,
           149
          ],
          [
           "Margin of Confidence",
           0.8851808614128523,
           0.9302665616915984,
           150
          ],
          [
           "Margin of Confidence",
           0.8851808614128523,
           0.9302665616915984,
           151
          ],
          [
           "Margin of Confidence",
           0.8851808614128523,
           0.9302665616915984,
           152
          ],
          [
           "Margin of Confidence",
           0.8851808614128523,
           0.9302665616915984,
           153
          ],
          [
           "Margin of Confidence",
           0.8851808614128523,
           0.9302665616915984,
           154
          ],
          [
           "Margin of Confidence",
           0.8851808614128523,
           0.9302665616915984,
           155
          ],
          [
           "Margin of Confidence",
           0.8851808614128523,
           0.9302665616915984,
           156
          ],
          [
           "Margin of Confidence",
           0.8851808614128523,
           0.9302665616915984,
           157
          ],
          [
           "Margin of Confidence",
           0.8851808614128523,
           0.9302665616915984,
           158
          ],
          [
           "Margin of Confidence",
           0.8851808614128523,
           0.9302665616915984,
           159
          ],
          [
           "Margin of Confidence",
           0.8851808614128523,
           0.9302665616915984,
           160
          ],
          [
           "Margin of Confidence",
           0.8851808614128523,
           0.9302665616915984,
           161
          ],
          [
           "Margin of Confidence",
           0.8851808614128523,
           0.9302665616915984,
           162
          ],
          [
           "Margin of Confidence",
           0.8851808614128523,
           0.9302665616915984,
           163
          ],
          [
           "Margin of Confidence",
           0.8851808614128523,
           0.9302665616915984,
           164
          ],
          [
           "Margin of Confidence",
           0.8851808614128523,
           0.9302665616915984,
           165
          ],
          [
           "Margin of Confidence",
           0.8851808614128523,
           0.9302665616915984,
           166
          ],
          [
           "Margin of Confidence",
           0.8851808614128523,
           0.9302665616915984,
           167
          ],
          [
           "Margin of Confidence",
           0.8851808614128523,
           0.9302665616915984,
           168
          ],
          [
           "Margin of Confidence",
           0.8851808614128523,
           0.9302665616915984,
           169
          ],
          [
           "Margin of Confidence",
           0.8851808614128523,
           0.9302665616915984,
           170
          ],
          [
           "Margin of Confidence",
           0.8851808614128523,
           0.9302665616915984,
           171
          ],
          [
           "Margin of Confidence",
           0.8851808614128523,
           0.9302665616915984,
           172
          ],
          [
           "Margin of Confidence",
           0.8851808614128523,
           0.9302665616915984,
           173
          ],
          [
           "Margin of Confidence",
           0.8851808614128523,
           0.9302665616915984,
           174
          ],
          [
           "Margin of Confidence",
           0.8851808614128523,
           0.9302665616915984,
           175
          ],
          [
           "Margin of Confidence",
           0.8851808614128523,
           0.9302665616915984,
           176
          ],
          [
           "Margin of Confidence",
           0.8851808614128523,
           0.9302665616915984,
           177
          ],
          [
           "Margin of Confidence",
           0.8851808614128523,
           0.9302665616915984,
           178
          ],
          [
           "Margin of Confidence",
           0.8851808614128523,
           0.9302665616915984,
           179
          ],
          [
           "Margin of Confidence",
           0.8851808614128523,
           0.9302665616915984,
           180
          ],
          [
           "Margin of Confidence",
           0.8851808614128523,
           0.9302665616915984,
           181
          ],
          [
           "Margin of Confidence",
           0.8851808614128523,
           0.9302665616915984,
           182
          ],
          [
           "Margin of Confidence",
           0.8851808614128523,
           0.9302665616915984,
           183
          ],
          [
           "Margin of Confidence",
           0.8851808614128523,
           0.9302665616915984,
           184
          ],
          [
           "Margin of Confidence",
           0.8851808614128523,
           0.9302665616915984,
           185
          ],
          [
           "Margin of Confidence",
           0.8851808614128523,
           0.9302665616915984,
           186
          ],
          [
           "Margin of Confidence",
           0.8851808614128523,
           0.9302665616915984,
           187
          ],
          [
           "Margin of Confidence",
           0.8851808614128523,
           0.9302665616915984,
           188
          ],
          [
           "Margin of Confidence",
           0.8851808614128523,
           0.9302665616915984,
           189
          ],
          [
           "Margin of Confidence",
           0.8851808614128523,
           0.9302665616915984,
           190
          ],
          [
           "Margin of Confidence",
           0.8851808614128523,
           0.9302665616915984,
           191
          ],
          [
           "Margin of Confidence",
           0.8851808614128523,
           0.9302665616915984,
           192
          ],
          [
           "Margin of Confidence",
           0.8851808614128523,
           0.9302665616915984,
           193
          ],
          [
           "Margin of Confidence",
           0.8851808614128523,
           0.9302665616915984,
           194
          ],
          [
           "Margin of Confidence",
           0.8851808614128523,
           0.9302665616915984,
           195
          ],
          [
           "Margin of Confidence",
           0.8851808614128523,
           0.9302665616915984,
           196
          ],
          [
           "Margin of Confidence",
           0.8851808614128523,
           0.9302665616915984,
           197
          ],
          [
           "Margin of Confidence",
           0.8851808614128523,
           0.9302665616915984,
           198
          ],
          [
           "Margin of Confidence",
           0.8851808614128523,
           0.9302665616915984,
           199
          ],
          [
           "Margin of Confidence",
           0.8851808614128523,
           0.9302665616915984,
           200
          ],
          [
           "Margin of Confidence",
           0.8851808614128523,
           0.9302665616915984,
           201
          ],
          [
           "Margin of Confidence",
           0.8851808614128523,
           0.9302665616915984,
           202
          ],
          [
           "Margin of Confidence",
           0.8851808614128523,
           0.9302665616915984,
           203
          ],
          [
           "Margin of Confidence",
           0.8851808614128523,
           0.9302665616915984,
           204
          ],
          [
           "Margin of Confidence",
           0.8851808614128523,
           0.9302665616915984,
           205
          ],
          [
           "Margin of Confidence",
           0.8851808614128523,
           0.9302665616915984,
           206
          ],
          [
           "Margin of Confidence",
           0.8851808614128523,
           0.9302665616915984,
           207
          ],
          [
           "Margin of Confidence",
           0.8851808614128523,
           0.9302665616915984,
           208
          ],
          [
           "Margin of Confidence",
           0.8851808614128523,
           0.9302665616915984,
           209
          ],
          [
           "Margin of Confidence",
           0.8851808614128523,
           0.9302665616915984,
           210
          ],
          [
           "Margin of Confidence",
           0.8851808614128523,
           0.9302665616915984,
           211
          ],
          [
           "Margin of Confidence",
           0.8851808614128523,
           0.9302665616915984,
           212
          ],
          [
           "Margin of Confidence",
           0.8851808614128523,
           0.9302665616915984,
           213
          ],
          [
           "Margin of Confidence",
           0.8851808614128523,
           0.9302665616915984,
           214
          ],
          [
           "Margin of Confidence",
           0.8851808614128523,
           0.9302665616915984,
           215
          ],
          [
           "Margin of Confidence",
           0.8851808614128523,
           0.9302665616915984,
           216
          ],
          [
           "Margin of Confidence",
           0.8851808614128523,
           0.9302665616915984,
           217
          ],
          [
           "Margin of Confidence",
           0.8851808614128523,
           0.9302665616915984,
           218
          ],
          [
           "Margin of Confidence",
           0.8851808614128523,
           0.9302665616915984,
           219
          ],
          [
           "Margin of Confidence",
           0.8851808614128523,
           0.9302665616915984,
           220
          ],
          [
           "Margin of Confidence",
           0.8851808614128523,
           0.9302665616915984,
           221
          ],
          [
           "Margin of Confidence",
           0.8851808614128523,
           0.9302665616915984,
           222
          ],
          [
           "Margin of Confidence",
           0.8851808614128523,
           0.9302665616915984,
           223
          ],
          [
           "Margin of Confidence",
           0.8851808614128523,
           0.9302665616915984,
           224
          ],
          [
           "Margin of Confidence",
           0.8851808614128523,
           0.9302665616915984,
           225
          ],
          [
           "Margin of Confidence",
           0.8851808614128523,
           0.9302665616915984,
           226
          ],
          [
           "Margin of Confidence",
           0.8851808614128523,
           0.9302665616915984,
           227
          ],
          [
           "Margin of Confidence",
           0.8851808614128523,
           0.9302665616915984,
           228
          ],
          [
           "Margin of Confidence",
           0.8851808614128523,
           0.9302665616915984,
           229
          ],
          [
           "Margin of Confidence",
           0.8851808614128523,
           0.9302665616915984,
           230
          ],
          [
           "Margin of Confidence",
           0.8851808614128523,
           0.9302665616915984,
           231
          ],
          [
           "Margin of Confidence",
           0.8851808614128523,
           0.9302665616915984,
           232
          ],
          [
           "Margin of Confidence",
           0.8851808614128523,
           0.9302665616915984,
           233
          ],
          [
           "Margin of Confidence",
           0.8851808614128523,
           0.9302665616915984,
           234
          ],
          [
           "Margin of Confidence",
           0.8851808614128523,
           0.9302665616915984,
           235
          ],
          [
           "Margin of Confidence",
           0.8851808614128523,
           0.9302665616915984,
           236
          ],
          [
           "Margin of Confidence",
           0.8851808614128523,
           0.9302665616915984,
           237
          ],
          [
           "Margin of Confidence",
           0.8851808614128523,
           0.9302665616915984,
           238
          ],
          [
           "Margin of Confidence",
           0.8851808614128523,
           0.9302665616915984,
           239
          ],
          [
           "Margin of Confidence",
           0.8851808614128523,
           0.9302665616915984,
           240
          ],
          [
           "Margin of Confidence",
           0.8851808614128523,
           0.9302665616915984,
           241
          ],
          [
           "Margin of Confidence",
           0.8851808614128523,
           0.9302665616915984,
           242
          ],
          [
           "Margin of Confidence",
           0.8851808614128523,
           0.9302665616915984,
           243
          ],
          [
           "Margin of Confidence",
           0.8851808614128523,
           0.9302665616915984,
           244
          ],
          [
           "Margin of Confidence",
           0.8851808614128523,
           0.9302665616915984,
           245
          ],
          [
           "Margin of Confidence",
           0.8851808614128523,
           0.9302665616915984,
           246
          ],
          [
           "Margin of Confidence",
           0.8851808614128523,
           0.9302665616915984,
           247
          ],
          [
           "Margin of Confidence",
           0.8851808614128523,
           0.9302665616915984,
           248
          ],
          [
           "Margin of Confidence",
           0.8851808614128523,
           0.9302665616915984,
           249
          ],
          [
           "Margin of Confidence",
           0.8851808614128523,
           0.9302665616915984,
           250
          ],
          [
           "Margin of Confidence",
           0.8851808614128523,
           0.9302665616915984,
           251
          ],
          [
           "Margin of Confidence",
           0.8851808614128523,
           0.9302665616915984,
           252
          ],
          [
           "Margin of Confidence",
           0.8851808614128523,
           0.9302665616915984,
           253
          ],
          [
           "Margin of Confidence",
           0.8851808614128523,
           0.9302665616915984,
           254
          ],
          [
           "Margin of Confidence",
           0.8851808614128523,
           0.9302665616915984,
           255
          ],
          [
           "Margin of Confidence",
           0.8851808614128523,
           0.9302665616915984,
           256
          ],
          [
           "Margin of Confidence",
           0.8851808614128523,
           0.9302665616915984,
           257
          ],
          [
           "Margin of Confidence",
           0.8851808614128523,
           0.9302665616915984,
           258
          ],
          [
           "Margin of Confidence",
           0.8851808614128523,
           0.9302665616915984,
           259
          ],
          [
           "Margin of Confidence",
           0.8851808614128523,
           0.9302665616915984,
           260
          ],
          [
           "Margin of Confidence",
           0.8851808614128523,
           0.9302665616915984,
           261
          ],
          [
           "Margin of Confidence",
           0.8851808614128523,
           0.9302665616915984,
           262
          ],
          [
           "Margin of Confidence",
           0.8851808614128523,
           0.9302665616915984,
           263
          ],
          [
           "Margin of Confidence",
           0.8851808614128523,
           0.9302665616915984,
           264
          ],
          [
           "Margin of Confidence",
           0.8851808614128523,
           0.9302665616915984,
           265
          ],
          [
           "Margin of Confidence",
           0.8851808614128523,
           0.9302665616915984,
           266
          ],
          [
           "Margin of Confidence",
           0.8851808614128523,
           0.9302665616915984,
           267
          ],
          [
           "Margin of Confidence",
           0.8851808614128523,
           0.9302665616915984,
           268
          ],
          [
           "Margin of Confidence",
           0.8851808614128523,
           0.9302665616915984,
           269
          ],
          [
           "Margin of Confidence",
           0.8851808614128523,
           0.9302665616915984,
           270
          ],
          [
           "Margin of Confidence",
           0.8851808614128523,
           0.9302665616915984,
           271
          ],
          [
           "Margin of Confidence",
           0.8851808614128523,
           0.9302665616915984,
           272
          ],
          [
           "Margin of Confidence",
           0.8851808614128523,
           0.9302665616915984,
           273
          ],
          [
           "Margin of Confidence",
           0.8851808614128523,
           0.9302665616915984,
           274
          ],
          [
           "Margin of Confidence",
           0.8851808614128523,
           0.9302665616915984,
           275
          ],
          [
           "Margin of Confidence",
           0.8851808614128523,
           0.9302665616915984,
           276
          ],
          [
           "Margin of Confidence",
           0.8851808614128523,
           0.9302665616915984,
           277
          ],
          [
           "Margin of Confidence",
           0.8851808614128523,
           0.9302665616915984,
           278
          ],
          [
           "Margin of Confidence",
           0.8851808614128523,
           0.9302665616915984,
           279
          ],
          [
           "Margin of Confidence",
           0.8851808614128523,
           0.9302665616915984,
           280
          ],
          [
           "Margin of Confidence",
           0.8851808614128523,
           0.9302665616915984,
           281
          ],
          [
           "Margin of Confidence",
           0.8851808614128523,
           0.9302665616915984,
           282
          ],
          [
           "Margin of Confidence",
           0.8851808614128523,
           0.9302665616915984,
           283
          ],
          [
           "Margin of Confidence",
           0.8851808614128523,
           0.9302665616915984,
           284
          ],
          [
           "Margin of Confidence",
           0.8851808614128523,
           0.9302665616915984,
           285
          ],
          [
           "Margin of Confidence",
           0.8851808614128523,
           0.9302665616915984,
           286
          ],
          [
           "Margin of Confidence",
           0.8851808614128523,
           0.9302665616915984,
           287
          ],
          [
           "Margin of Confidence",
           0.8851808614128523,
           0.9302665616915984,
           288
          ],
          [
           "Margin of Confidence",
           0.8851808614128523,
           0.9302665616915984,
           289
          ],
          [
           "Margin of Confidence",
           0.8851808614128523,
           0.9302665616915984,
           290
          ],
          [
           "Margin of Confidence",
           0.8851808614128523,
           0.9302665616915984,
           291
          ],
          [
           "Margin of Confidence",
           0.8851808614128523,
           0.9302665616915984,
           292
          ],
          [
           "Margin of Confidence",
           0.8851808614128523,
           0.9302665616915984,
           293
          ],
          [
           "Margin of Confidence",
           0.8851808614128523,
           0.9302665616915984,
           294
          ],
          [
           "Margin of Confidence",
           0.8851808614128523,
           0.9302665616915984,
           295
          ],
          [
           "Margin of Confidence",
           0.8851808614128523,
           0.9302665616915984,
           296
          ],
          [
           "Margin of Confidence",
           0.8851808614128523,
           0.9302665616915984,
           297
          ],
          [
           "Margin of Confidence",
           0.8851808614128523,
           0.9302665616915984,
           298
          ],
          [
           "Margin of Confidence",
           0.8851808614128523,
           0.9302665616915984,
           299
          ],
          [
           "Margin of Confidence",
           0.8851808614128523,
           0.9302665616915984,
           300
          ],
          [
           "Margin of Confidence",
           0.8851808614128523,
           0.9302665616915984,
           301
          ],
          [
           "Margin of Confidence",
           0.8851808614128523,
           0.9302665616915984,
           302
          ],
          [
           "Margin of Confidence",
           0.8851808614128523,
           0.9302665616915984,
           303
          ],
          [
           "Margin of Confidence",
           0.8851808614128523,
           0.9302665616915984,
           304
          ],
          [
           "Margin of Confidence",
           0.8851808614128523,
           0.9302665616915984,
           305
          ],
          [
           "Margin of Confidence",
           0.8851808614128523,
           0.9302665616915984,
           306
          ],
          [
           "Margin of Confidence",
           0.8851808614128523,
           0.9302665616915984,
           307
          ],
          [
           "Margin of Confidence",
           0.8851808614128523,
           0.9302665616915984,
           308
          ],
          [
           "Margin of Confidence",
           0.8851808614128523,
           0.9302665616915984,
           309
          ],
          [
           "Margin of Confidence",
           0.8851808614128523,
           0.9302665616915984,
           310
          ],
          [
           "Margin of Confidence",
           0.8851808614128523,
           0.9302665616915984,
           311
          ],
          [
           "Margin of Confidence",
           0.8851808614128523,
           0.9302665616915984,
           312
          ],
          [
           "Margin of Confidence",
           0.8851808614128523,
           0.9302665616915984,
           313
          ],
          [
           "Margin of Confidence",
           0.8851808614128523,
           0.9302665616915984,
           314
          ],
          [
           "Margin of Confidence",
           0.8851808614128523,
           0.9302665616915984,
           315
          ],
          [
           "Margin of Confidence",
           0.8851808614128523,
           0.9302665616915984,
           316
          ],
          [
           "Margin of Confidence",
           0.8851808614128523,
           0.9302665616915984,
           317
          ],
          [
           "Margin of Confidence",
           0.8851808614128523,
           0.9302665616915984,
           318
          ],
          [
           "Margin of Confidence",
           0.8851808614128523,
           0.9302665616915984,
           319
          ],
          [
           "Margin of Confidence",
           0.8851808614128523,
           0.9302665616915984,
           320
          ],
          [
           "Margin of Confidence",
           0.8851808614128523,
           0.9302665616915984,
           321
          ],
          [
           "Margin of Confidence",
           0.8851808614128523,
           0.9302665616915984,
           322
          ],
          [
           "Margin of Confidence",
           0.8851808614128523,
           0.9302665616915984,
           323
          ],
          [
           "Margin of Confidence",
           0.8851808614128523,
           0.9302665616915984,
           324
          ],
          [
           "Margin of Confidence",
           0.8851808614128523,
           0.9302665616915984,
           325
          ],
          [
           "Margin of Confidence",
           0.8851808614128523,
           0.9302665616915984,
           326
          ],
          [
           "Margin of Confidence",
           0.8851808614128523,
           0.9302665616915984,
           327
          ],
          [
           "Margin of Confidence",
           0.8851808614128523,
           0.9302665616915984,
           328
          ],
          [
           "Margin of Confidence",
           0.8851808614128523,
           0.9302665616915984,
           329
          ],
          [
           "Margin of Confidence",
           0.8851808614128523,
           0.9302665616915984,
           330
          ],
          [
           "Margin of Confidence",
           0.8851808614128523,
           0.9302665616915984,
           331
          ],
          [
           "Margin of Confidence",
           0.8851808614128523,
           0.9302665616915984,
           332
          ],
          [
           "Margin of Confidence",
           0.8851808614128523,
           0.9302665616915984,
           333
          ],
          [
           "Margin of Confidence",
           0.8851808614128523,
           0.9302665616915984,
           334
          ],
          [
           "Margin of Confidence",
           0.8851808614128523,
           0.9302665616915984,
           335
          ],
          [
           "Margin of Confidence",
           0.8851808614128523,
           0.9302665616915984,
           336
          ],
          [
           "Margin of Confidence",
           0.8851808614128523,
           0.9302665616915984,
           337
          ],
          [
           "Margin of Confidence",
           0.8851808614128523,
           0.9302665616915984,
           338
          ],
          [
           "Margin of Confidence",
           0.8851808614128523,
           0.9302665616915984,
           339
          ],
          [
           "Margin of Confidence",
           0.8851808614128523,
           0.9302665616915984,
           340
          ],
          [
           "Margin of Confidence",
           0.8851808614128523,
           0.9302665616915984,
           341
          ],
          [
           "Margin of Confidence",
           0.8851808614128523,
           0.9302665616915984,
           342
          ],
          [
           "Margin of Confidence",
           0.8851808614128523,
           0.9302665616915984,
           343
          ],
          [
           "Margin of Confidence",
           0.8851808614128523,
           0.9302665616915984,
           344
          ],
          [
           "Margin of Confidence",
           0.8851808614128523,
           0.9302665616915984,
           345
          ],
          [
           "Margin of Confidence",
           0.8851808614128523,
           0.9302665616915984,
           346
          ],
          [
           "Margin of Confidence",
           0.8851808614128523,
           0.9302665616915984,
           347
          ],
          [
           "Margin of Confidence",
           0.8851808614128523,
           0.9302665616915984,
           348
          ],
          [
           "Margin of Confidence",
           0.8851808614128523,
           0.9302665616915984,
           349
          ],
          [
           "Margin of Confidence",
           0.8851808614128523,
           0.9302665616915984,
           350
          ],
          [
           "Margin of Confidence",
           0.8851808614128523,
           0.9302665616915984,
           351
          ],
          [
           "Margin of Confidence",
           0.8851808614128523,
           0.9302665616915984,
           352
          ],
          [
           "Margin of Confidence",
           0.8851808614128523,
           0.9302665616915984,
           355
          ]
         ],
         "hovertemplate": "Strategy=%{customdata[0]}<br>Number of Labeled Samples=%{x:.0f}<br>F1 Score (weighted)=%{y:.4f}<br>MCC=%{customdata[1]:.4f}<br>Accuracy=%{customdata[2]:.4f}<br>Step=%{customdata[3]}<extra></extra>",
         "legendgroup": "Margin of Confidence",
         "line": {
          "color": "purple",
          "dash": "solid"
         },
         "marker": {
          "symbol": "circle"
         },
         "mode": "lines+markers",
         "name": "Margin of Confidence",
         "showlegend": true,
         "type": "scattergl",
         "x": {
          "bdata": "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",
          "dtype": "f8"
         },
         "xaxis": "x",
         "y": {
          "bdata": "29sMyL9L7T/5nyhQ3gPuP3vZm6j4Fu4/v6X3aPgW7j9cb1Q61BXuP9JoqbsfFe4/9HCuvdwV7j/0cK693BXuP/Rwrr3cFe4/9HCuvdwV7j/0cK693BXuP/Rwrr3cFe4/mgo4A8wU7j+nxUfwBBHuP59Sne6XEO4/IXjVeI4P7j+OfR8+eA7uP7vIpHtk+e0/X4K8ne3u7T+3aHpcYPLtP3DklRh7+O0/uICYLwD37T8meP8cPvjtP0PmKDte+e0/01qRsr757T+S53F8YfntP0yb8vK2+u0/uvLwyYn57T8DWVumP/ntPx74BbwZ+u0/HPK7TI/87T+7d7KdfvztP4lYxNvo+e0/iQ539HX57T+n6zu3efrtP3yRjIzs+e0/pvWALXr77T8rwbuo0/vtP9mEa2t//O0/2YRra3/87T/xpT0QxfvtP/GlPRDF++0/9IRguZb87T/0hGC5lvztP4zSymgi++0/fPPhhzD87T/nDl9u3PvtP3zz4Ycw/O0/BdQXqGj67T+M0spoIvvtP4zSymgi++0/BdQXqGj67T9xelxKUf3tP6RDscph/e0/kS7y3UD87T+kYfgc/vztP4/w47Y3/+0/5wf9Mpv/7T+YlqWf3P7tPxkgL0yE/u0/fkbqO8L97T/nB/0ym//tP3aiohhaAO4/pGH4HP787T+kYfgc/vztP6Rh+Bz+/O0/j9VtF1X+7T+apd0GQv3tP5ql3QZC/e0/pB7KBv797T/q0GiYAP/tPyaGNimZ/e0/rUhFUYb87T9PLKxq7/3tP08srGrv/e0/hJBtjXj87T9K1tHLnfntP+3YI/O6+e0/ph4QJiH57T8vQhYVuPjtPwjMccZq+O0/L0IWFbj47T/Emz+LvADuP/SGnApyAe4/m6mpQQcA7j/Emz+LvADuP/hkQuikA+4/Foe5fHoB7j9gnmy55wPuP+7uGMsyA+4/k6YvE4MA7j/KYH87HQbuPwrmNS6kBe4/CuY1LqQF7j8tiwWT3wXuPy2LBZPfBe4/eR/E9i0F7j8tiwWT3wXuP8pgfzsdBu4/eR/E9i0F7j+vIveqawXuP8yOcADCE+4/GfsBYKEU7j8qboZDghXuPxn7AWChFO4/Km6GQ4IV7j+TOIAvUBXuPypuhkOCFe4/Km6GQ4IV7j/H9V5/0xTuP1YU1KW5Fe4/eo3mcjQY7j96jeZyNBjuP3qN5nI0GO4/eo3mcjQY7j96jeZyNBjuP3qN5nI0GO4/eo3mcjQY7j96jeZyNBjuP3qN5nI0GO4/eo3mcjQY7j96jeZyNBjuP3qN5nI0GO4/eo3mcjQY7j96jeZyNBjuP3qN5nI0GO4/eo3mcjQY7j96jeZyNBjuP3qN5nI0GO4/eo3mcjQY7j96jeZyNBjuP3qN5nI0GO4/eo3mcjQY7j96jeZyNBjuP3qN5nI0GO4/eo3mcjQY7j96jeZyNBjuP3qN5nI0GO4/eo3mcjQY7j96jeZyNBjuP3qN5nI0GO4/eo3mcjQY7j96jeZyNBjuP3qN5nI0GO4/eo3mcjQY7j96jeZyNBjuP3qN5nI0GO4/eo3mcjQY7j96jeZyNBjuP3qN5nI0GO4/eo3mcjQY7j96jeZyNBjuP3qN5nI0GO4/eo3mcjQY7j96jeZyNBjuP3qN5nI0GO4/eo3mcjQY7j96jeZyNBjuP3qN5nI0GO4/eo3mcjQY7j96jeZyNBjuP3qN5nI0GO4/eo3mcjQY7j96jeZyNBjuP3qN5nI0GO4/eo3mcjQY7j96jeZyNBjuP3qN5nI0GO4/eo3mcjQY7j96jeZyNBjuP3qN5nI0GO4/eo3mcjQY7j96jeZyNBjuP3qN5nI0GO4/eo3mcjQY7j96jeZyNBjuP3qN5nI0GO4/eo3mcjQY7j96jeZyNBjuP3qN5nI0GO4/eo3mcjQY7j96jeZyNBjuP3qN5nI0GO4/eo3mcjQY7j96jeZyNBjuP3qN5nI0GO4/eo3mcjQY7j96jeZyNBjuP3qN5nI0GO4/eo3mcjQY7j96jeZyNBjuP3qN5nI0GO4/eo3mcjQY7j96jeZyNBjuP3qN5nI0GO4/eo3mcjQY7j96jeZyNBjuP3qN5nI0GO4/eo3mcjQY7j96jeZyNBjuP3qN5nI0GO4/eo3mcjQY7j96jeZyNBjuP3qN5nI0GO4/eo3mcjQY7j96jeZyNBjuP3qN5nI0GO4/eo3mcjQY7j96jeZyNBjuP3qN5nI0GO4/eo3mcjQY7j96jeZyNBjuP3qN5nI0GO4/eo3mcjQY7j96jeZyNBjuP3qN5nI0GO4/eo3mcjQY7j96jeZyNBjuP3qN5nI0GO4/eo3mcjQY7j96jeZyNBjuP3qN5nI0GO4/eo3mcjQY7j96jeZyNBjuP3qN5nI0GO4/eo3mcjQY7j96jeZyNBjuP3qN5nI0GO4/eo3mcjQY7j96jeZyNBjuP3qN5nI0GO4/eo3mcjQY7j96jeZyNBjuP3qN5nI0GO4/eo3mcjQY7j96jeZyNBjuP3qN5nI0GO4/eo3mcjQY7j96jeZyNBjuP3qN5nI0GO4/eo3mcjQY7j96jeZyNBjuP3qN5nI0GO4/eo3mcjQY7j96jeZyNBjuP3qN5nI0GO4/eo3mcjQY7j96jeZyNBjuP3qN5nI0GO4/eo3mcjQY7j96jeZyNBjuP3qN5nI0GO4/eo3mcjQY7j96jeZyNBjuP3qN5nI0GO4/eo3mcjQY7j96jeZyNBjuP3qN5nI0GO4/eo3mcjQY7j96jeZyNBjuP3qN5nI0GO4/eo3mcjQY7j96jeZyNBjuP3qN5nI0GO4/eo3mcjQY7j96jeZyNBjuP3qN5nI0GO4/eo3mcjQY7j96jeZyNBjuP3qN5nI0GO4/eo3mcjQY7j96jeZyNBjuP3qN5nI0GO4/eo3mcjQY7j96jeZyNBjuP3qN5nI0GO4/eo3mcjQY7j96jeZyNBjuP3qN5nI0GO4/eo3mcjQY7j96jeZyNBjuP3qN5nI0GO4/eo3mcjQY7j96jeZyNBjuP3qN5nI0GO4/eo3mcjQY7j96jeZyNBjuP3qN5nI0GO4/eo3mcjQY7j96jeZyNBjuP3qN5nI0GO4/eo3mcjQY7j96jeZyNBjuP3qN5nI0GO4/eo3mcjQY7j96jeZyNBjuP3qN5nI0GO4/eo3mcjQY7j96jeZyNBjuP3qN5nI0GO4/eo3mcjQY7j96jeZyNBjuP3qN5nI0GO4/eo3mcjQY7j96jeZyNBjuP3qN5nI0GO4/eo3mcjQY7j96jeZyNBjuP3qN5nI0GO4/eo3mcjQY7j96jeZyNBjuP3qN5nI0GO4/eo3mcjQY7j96jeZyNBjuP3qN5nI0GO4/eo3mcjQY7j96jeZyNBjuP3qN5nI0GO4/eo3mcjQY7j96jeZyNBjuP3qN5nI0GO4/eo3mcjQY7j96jeZyNBjuP3qN5nI0GO4/eo3mcjQY7j96jeZyNBjuP3qN5nI0GO4/eo3mcjQY7j96jeZyNBjuP3qN5nI0GO4/eo3mcjQY7j96jeZyNBjuP3qN5nI0GO4/eo3mcjQY7j96jeZyNBjuP3qN5nI0GO4/eo3mcjQY7j96jeZyNBjuP3qN5nI0GO4/eo3mcjQY7j96jeZyNBjuP3qN5nI0GO4/eo3mcjQY7j96jeZyNBjuP3qN5nI0GO4/eo3mcjQY7j96jeZyNBjuP3qN5nI0GO4/eo3mcjQY7j96jeZyNBjuP3qN5nI0GO4/eo3mcjQY7j96jeZyNBjuP3qN5nI0GO4/",
          "dtype": "f8"
         },
         "yaxis": "y"
        },
        {
         "customdata": [
          [
           "Random",
           0.835436566647736,
           0.8965245754133393,
           0
          ],
          [
           "Random",
           0.8519180863363554,
           0.907771904172759,
           1
          ],
          [
           "Random",
           0.8655916890734461,
           0.9173321336182656,
           2
          ],
          [
           "Random",
           0.861874918844797,
           0.9142953548532224,
           3
          ],
          [
           "Random",
           0.8676565674169202,
           0.9182319199190192,
           4
          ],
          [
           "Random",
           0.8723292233292221,
           0.9214936452592508,
           5
          ],
          [
           "Random",
           0.875671526528176,
           0.923855584298729,
           6
          ],
          [
           "Random",
           0.8751508331416628,
           0.9235181644359464,
           7
          ],
          [
           "Random",
           0.8790409450621594,
           0.9261050500506128,
           8
          ],
          [
           "Random",
           0.8820928668333691,
           0.9282420425149028,
           9
          ],
          [
           "Random",
           0.8816146355816677,
           0.92790462265212,
           10
          ],
          [
           "Random",
           0.8835990770364222,
           0.9292543021032504,
           11
          ],
          [
           "Random",
           0.8832666141017982,
           0.929029355528062,
           12
          ],
          [
           "Random",
           0.882374254656094,
           0.928354515802497,
           13
          ],
          [
           "Random",
           0.8831695566844818,
           0.928916882240468,
           14
          ],
          [
           "Random",
           0.8838575404693112,
           0.9293667753908448,
           15
          ],
          [
           "Random",
           0.88382208028931,
           0.9293667753908448,
           16
          ],
          [
           "Random",
           0.8846493234702801,
           0.9299291418288156,
           17
          ],
          [
           "Random",
           0.8848080278420117,
           0.9300416151164098,
           18
          ],
          [
           "Random",
           0.8846493234702801,
           0.9299291418288156,
           19
          ],
          [
           "Random",
           0.8850341794871099,
           0.930154088404004,
           20
          ],
          [
           "Random",
           0.8848324537770543,
           0.9300416151164098,
           21
          ],
          [
           "Random",
           0.8848324537770543,
           0.9300416151164098,
           22
          ],
          [
           "Random",
           0.8848480281385774,
           0.9300416151164098,
           23
          ],
          [
           "Random",
           0.8848216881131339,
           0.9300416151164098,
           24
          ],
          [
           "Random",
           0.8846199166988017,
           0.9299291418288156,
           25
          ],
          [
           "Random",
           0.8850236144612027,
           0.930154088404004,
           26
          ],
          [
           "Random",
           0.885036675297257,
           0.930154088404004,
           27
          ],
          [
           "Random",
           0.8848065747597053,
           0.9300416151164098,
           28
          ],
          [
           "Random",
           0.8851863576641205,
           0.9302665616915984,
           29
          ],
          [
           "Random",
           0.8851863576641205,
           0.9302665616915984,
           30
          ],
          [
           "Random",
           0.8851835910176921,
           0.9302665616915984,
           31
          ],
          [
           "Random",
           0.8851808614128523,
           0.9302665616915984,
           32
          ],
          [
           "Random",
           0.8851835910176921,
           0.9302665616915984,
           33
          ],
          [
           "Random",
           0.8851808614128523,
           0.9302665616915984,
           34
          ],
          [
           "Random",
           0.8851808614128523,
           0.9302665616915984,
           35
          ],
          [
           "Random",
           0.8851808614128523,
           0.9302665616915984,
           36
          ],
          [
           "Random",
           0.8851808614128523,
           0.9302665616915984,
           37
          ],
          [
           "Random",
           0.8851808614128523,
           0.9302665616915984,
           38
          ],
          [
           "Random",
           0.8851891613543104,
           0.9302665616915984,
           39
          ],
          [
           "Random",
           0.8853904882088128,
           0.9303790349791924,
           40
          ],
          [
           "Random",
           0.8853904882088128,
           0.9303790349791924,
           41
          ],
          [
           "Random",
           0.8853904882088128,
           0.9303790349791924,
           42
          ],
          [
           "Random",
           0.8851863576641205,
           0.9302665616915984,
           43
          ],
          [
           "Random",
           0.8851863576641205,
           0.9302665616915984,
           44
          ],
          [
           "Random",
           0.8851835910176921,
           0.9302665616915984,
           45
          ],
          [
           "Random",
           0.8851835910176921,
           0.9302665616915984,
           46
          ],
          [
           "Random",
           0.8851835910176921,
           0.9302665616915984,
           47
          ],
          [
           "Random",
           0.8851835910176921,
           0.9302665616915984,
           48
          ],
          [
           "Random",
           0.8851808614128523,
           0.9302665616915984,
           49
          ],
          [
           "Random",
           0.8851835910176921,
           0.9302665616915984,
           50
          ],
          [
           "Random",
           0.8851835910176921,
           0.9302665616915984,
           51
          ],
          [
           "Random",
           0.8851835910176921,
           0.9302665616915984,
           52
          ],
          [
           "Random",
           0.8851835910176921,
           0.9302665616915984,
           53
          ],
          [
           "Random",
           0.8851835910176921,
           0.9302665616915984,
           54
          ],
          [
           "Random",
           0.8851835910176921,
           0.9302665616915984,
           55
          ],
          [
           "Random",
           0.8851835910176921,
           0.9302665616915984,
           56
          ],
          [
           "Random",
           0.8851835910176921,
           0.9302665616915984,
           57
          ],
          [
           "Random",
           0.8851835910176921,
           0.9302665616915984,
           58
          ],
          [
           "Random",
           0.8851835910176921,
           0.9302665616915984,
           59
          ],
          [
           "Random",
           0.8851835910176921,
           0.9302665616915984,
           60
          ],
          [
           "Random",
           0.8851808614128523,
           0.9302665616915984,
           61
          ],
          [
           "Random",
           0.8851835910176921,
           0.9302665616915984,
           62
          ],
          [
           "Random",
           0.8851835910176921,
           0.9302665616915984,
           63
          ],
          [
           "Random",
           0.8851835910176921,
           0.9302665616915984,
           64
          ],
          [
           "Random",
           0.8851808614128523,
           0.9302665616915984,
           65
          ],
          [
           "Random",
           0.8851808614128523,
           0.9302665616915984,
           66
          ],
          [
           "Random",
           0.8851808614128523,
           0.9302665616915984,
           67
          ],
          [
           "Random",
           0.8851808614128523,
           0.9302665616915984,
           68
          ],
          [
           "Random",
           0.8851808614128523,
           0.9302665616915984,
           69
          ],
          [
           "Random",
           0.8851808614128523,
           0.9302665616915984,
           70
          ],
          [
           "Random",
           0.8851808614128523,
           0.9302665616915984,
           71
          ],
          [
           "Random",
           0.8851808614128523,
           0.9302665616915984,
           72
          ],
          [
           "Random",
           0.8851808614128523,
           0.9302665616915984,
           73
          ],
          [
           "Random",
           0.8851808614128523,
           0.9302665616915984,
           74
          ],
          [
           "Random",
           0.8851808614128523,
           0.9302665616915984,
           75
          ],
          [
           "Random",
           0.8851808614128523,
           0.9302665616915984,
           76
          ],
          [
           "Random",
           0.8851808614128523,
           0.9302665616915984,
           77
          ],
          [
           "Random",
           0.8851808614128523,
           0.9302665616915984,
           78
          ],
          [
           "Random",
           0.8851808614128523,
           0.9302665616915984,
           79
          ],
          [
           "Random",
           0.8851808614128523,
           0.9302665616915984,
           80
          ],
          [
           "Random",
           0.8851808614128523,
           0.9302665616915984,
           81
          ],
          [
           "Random",
           0.8851835910176921,
           0.9302665616915984,
           82
          ],
          [
           "Random",
           0.8851835910176921,
           0.9302665616915984,
           83
          ],
          [
           "Random",
           0.8851835910176921,
           0.9302665616915984,
           84
          ],
          [
           "Random",
           0.8851808614128523,
           0.9302665616915984,
           85
          ],
          [
           "Random",
           0.8851808614128523,
           0.9302665616915984,
           86
          ],
          [
           "Random",
           0.8851808614128523,
           0.9302665616915984,
           87
          ],
          [
           "Random",
           0.8851808614128523,
           0.9302665616915984,
           88
          ],
          [
           "Random",
           0.8851808614128523,
           0.9302665616915984,
           89
          ],
          [
           "Random",
           0.8851808614128523,
           0.9302665616915984,
           90
          ],
          [
           "Random",
           0.8851808614128523,
           0.9302665616915984,
           91
          ],
          [
           "Random",
           0.8851808614128523,
           0.9302665616915984,
           92
          ],
          [
           "Random",
           0.8851808614128523,
           0.9302665616915984,
           93
          ],
          [
           "Random",
           0.8851808614128523,
           0.9302665616915984,
           94
          ],
          [
           "Random",
           0.8851808614128523,
           0.9302665616915984,
           95
          ],
          [
           "Random",
           0.8851808614128523,
           0.9302665616915984,
           96
          ],
          [
           "Random",
           0.8851808614128523,
           0.9302665616915984,
           97
          ],
          [
           "Random",
           0.8851808614128523,
           0.9302665616915984,
           98
          ],
          [
           "Random",
           0.8851808614128523,
           0.9302665616915984,
           99
          ],
          [
           "Random",
           0.8851808614128523,
           0.9302665616915984,
           100
          ],
          [
           "Random",
           0.8851808614128523,
           0.9302665616915984,
           101
          ],
          [
           "Random",
           0.8851808614128523,
           0.9302665616915984,
           102
          ],
          [
           "Random",
           0.8851808614128523,
           0.9302665616915984,
           103
          ],
          [
           "Random",
           0.8851808614128523,
           0.9302665616915984,
           104
          ],
          [
           "Random",
           0.8851808614128523,
           0.9302665616915984,
           105
          ],
          [
           "Random",
           0.8851808614128523,
           0.9302665616915984,
           106
          ],
          [
           "Random",
           0.8851808614128523,
           0.9302665616915984,
           107
          ],
          [
           "Random",
           0.8851808614128523,
           0.9302665616915984,
           108
          ],
          [
           "Random",
           0.8851808614128523,
           0.9302665616915984,
           109
          ],
          [
           "Random",
           0.8851808614128523,
           0.9302665616915984,
           110
          ],
          [
           "Random",
           0.8851808614128523,
           0.9302665616915984,
           111
          ],
          [
           "Random",
           0.8851808614128523,
           0.9302665616915984,
           112
          ],
          [
           "Random",
           0.8851808614128523,
           0.9302665616915984,
           113
          ],
          [
           "Random",
           0.8851808614128523,
           0.9302665616915984,
           114
          ],
          [
           "Random",
           0.8851808614128523,
           0.9302665616915984,
           115
          ],
          [
           "Random",
           0.8851808614128523,
           0.9302665616915984,
           116
          ],
          [
           "Random",
           0.8851808614128523,
           0.9302665616915984,
           117
          ],
          [
           "Random",
           0.8851808614128523,
           0.9302665616915984,
           118
          ],
          [
           "Random",
           0.8851808614128523,
           0.9302665616915984,
           119
          ],
          [
           "Random",
           0.8851808614128523,
           0.9302665616915984,
           120
          ],
          [
           "Random",
           0.8851808614128523,
           0.9302665616915984,
           121
          ],
          [
           "Random",
           0.8851808614128523,
           0.9302665616915984,
           122
          ],
          [
           "Random",
           0.8851808614128523,
           0.9302665616915984,
           123
          ],
          [
           "Random",
           0.8851808614128523,
           0.9302665616915984,
           124
          ],
          [
           "Random",
           0.8851808614128523,
           0.9302665616915984,
           125
          ],
          [
           "Random",
           0.8851808614128523,
           0.9302665616915984,
           126
          ],
          [
           "Random",
           0.8851808614128523,
           0.9302665616915984,
           127
          ],
          [
           "Random",
           0.8851808614128523,
           0.9302665616915984,
           128
          ],
          [
           "Random",
           0.8851808614128523,
           0.9302665616915984,
           129
          ],
          [
           "Random",
           0.8851808614128523,
           0.9302665616915984,
           130
          ],
          [
           "Random",
           0.8851808614128523,
           0.9302665616915984,
           131
          ],
          [
           "Random",
           0.8851808614128523,
           0.9302665616915984,
           132
          ],
          [
           "Random",
           0.8851808614128523,
           0.9302665616915984,
           133
          ],
          [
           "Random",
           0.8851808614128523,
           0.9302665616915984,
           134
          ],
          [
           "Random",
           0.8851808614128523,
           0.9302665616915984,
           135
          ],
          [
           "Random",
           0.8851808614128523,
           0.9302665616915984,
           136
          ],
          [
           "Random",
           0.8851808614128523,
           0.9302665616915984,
           137
          ],
          [
           "Random",
           0.8851808614128523,
           0.9302665616915984,
           138
          ],
          [
           "Random",
           0.8851808614128523,
           0.9302665616915984,
           139
          ],
          [
           "Random",
           0.8851808614128523,
           0.9302665616915984,
           140
          ],
          [
           "Random",
           0.8851808614128523,
           0.9302665616915984,
           141
          ],
          [
           "Random",
           0.8851808614128523,
           0.9302665616915984,
           142
          ],
          [
           "Random",
           0.8851808614128523,
           0.9302665616915984,
           143
          ],
          [
           "Random",
           0.8851808614128523,
           0.9302665616915984,
           144
          ],
          [
           "Random",
           0.8851808614128523,
           0.9302665616915984,
           145
          ],
          [
           "Random",
           0.8851808614128523,
           0.9302665616915984,
           146
          ],
          [
           "Random",
           0.8851808614128523,
           0.9302665616915984,
           147
          ],
          [
           "Random",
           0.8851808614128523,
           0.9302665616915984,
           148
          ],
          [
           "Random",
           0.8851808614128523,
           0.9302665616915984,
           149
          ],
          [
           "Random",
           0.8851808614128523,
           0.9302665616915984,
           150
          ],
          [
           "Random",
           0.8851808614128523,
           0.9302665616915984,
           151
          ],
          [
           "Random",
           0.8851808614128523,
           0.9302665616915984,
           152
          ],
          [
           "Random",
           0.8851808614128523,
           0.9302665616915984,
           153
          ],
          [
           "Random",
           0.8851808614128523,
           0.9302665616915984,
           154
          ],
          [
           "Random",
           0.8851808614128523,
           0.9302665616915984,
           155
          ],
          [
           "Random",
           0.8851808614128523,
           0.9302665616915984,
           156
          ],
          [
           "Random",
           0.8851808614128523,
           0.9302665616915984,
           157
          ],
          [
           "Random",
           0.8851808614128523,
           0.9302665616915984,
           158
          ],
          [
           "Random",
           0.8851808614128523,
           0.9302665616915984,
           159
          ],
          [
           "Random",
           0.8851808614128523,
           0.9302665616915984,
           160
          ],
          [
           "Random",
           0.8851808614128523,
           0.9302665616915984,
           161
          ],
          [
           "Random",
           0.8851808614128523,
           0.9302665616915984,
           162
          ],
          [
           "Random",
           0.8851808614128523,
           0.9302665616915984,
           163
          ],
          [
           "Random",
           0.8851808614128523,
           0.9302665616915984,
           164
          ],
          [
           "Random",
           0.8851808614128523,
           0.9302665616915984,
           165
          ],
          [
           "Random",
           0.8851808614128523,
           0.9302665616915984,
           166
          ],
          [
           "Random",
           0.8851808614128523,
           0.9302665616915984,
           167
          ],
          [
           "Random",
           0.8851808614128523,
           0.9302665616915984,
           168
          ],
          [
           "Random",
           0.8851808614128523,
           0.9302665616915984,
           169
          ],
          [
           "Random",
           0.8851808614128523,
           0.9302665616915984,
           170
          ],
          [
           "Random",
           0.8851808614128523,
           0.9302665616915984,
           171
          ],
          [
           "Random",
           0.8851808614128523,
           0.9302665616915984,
           172
          ],
          [
           "Random",
           0.8851808614128523,
           0.9302665616915984,
           173
          ],
          [
           "Random",
           0.8851808614128523,
           0.9302665616915984,
           174
          ],
          [
           "Random",
           0.8851808614128523,
           0.9302665616915984,
           175
          ],
          [
           "Random",
           0.8851808614128523,
           0.9302665616915984,
           176
          ],
          [
           "Random",
           0.8851808614128523,
           0.9302665616915984,
           177
          ],
          [
           "Random",
           0.8851808614128523,
           0.9302665616915984,
           178
          ],
          [
           "Random",
           0.8851808614128523,
           0.9302665616915984,
           179
          ],
          [
           "Random",
           0.8851808614128523,
           0.9302665616915984,
           180
          ],
          [
           "Random",
           0.8851808614128523,
           0.9302665616915984,
           181
          ],
          [
           "Random",
           0.8851808614128523,
           0.9302665616915984,
           182
          ],
          [
           "Random",
           0.8851808614128523,
           0.9302665616915984,
           183
          ],
          [
           "Random",
           0.8851808614128523,
           0.9302665616915984,
           184
          ],
          [
           "Random",
           0.8851808614128523,
           0.9302665616915984,
           185
          ],
          [
           "Random",
           0.8851808614128523,
           0.9302665616915984,
           186
          ],
          [
           "Random",
           0.8851808614128523,
           0.9302665616915984,
           187
          ],
          [
           "Random",
           0.8851808614128523,
           0.9302665616915984,
           188
          ],
          [
           "Random",
           0.8851808614128523,
           0.9302665616915984,
           189
          ],
          [
           "Random",
           0.8851808614128523,
           0.9302665616915984,
           190
          ],
          [
           "Random",
           0.8851808614128523,
           0.9302665616915984,
           191
          ],
          [
           "Random",
           0.8851808614128523,
           0.9302665616915984,
           192
          ],
          [
           "Random",
           0.8851808614128523,
           0.9302665616915984,
           193
          ],
          [
           "Random",
           0.8851808614128523,
           0.9302665616915984,
           194
          ],
          [
           "Random",
           0.8851808614128523,
           0.9302665616915984,
           195
          ],
          [
           "Random",
           0.8851808614128523,
           0.9302665616915984,
           196
          ],
          [
           "Random",
           0.8851808614128523,
           0.9302665616915984,
           197
          ],
          [
           "Random",
           0.8851808614128523,
           0.9302665616915984,
           198
          ],
          [
           "Random",
           0.8851808614128523,
           0.9302665616915984,
           199
          ],
          [
           "Random",
           0.8851808614128523,
           0.9302665616915984,
           200
          ],
          [
           "Random",
           0.8851808614128523,
           0.9302665616915984,
           201
          ],
          [
           "Random",
           0.8851808614128523,
           0.9302665616915984,
           202
          ],
          [
           "Random",
           0.8851808614128523,
           0.9302665616915984,
           203
          ],
          [
           "Random",
           0.8851808614128523,
           0.9302665616915984,
           204
          ],
          [
           "Random",
           0.8851808614128523,
           0.9302665616915984,
           205
          ],
          [
           "Random",
           0.8851808614128523,
           0.9302665616915984,
           206
          ],
          [
           "Random",
           0.8851808614128523,
           0.9302665616915984,
           207
          ],
          [
           "Random",
           0.8851808614128523,
           0.9302665616915984,
           208
          ],
          [
           "Random",
           0.8851808614128523,
           0.9302665616915984,
           209
          ],
          [
           "Random",
           0.8851808614128523,
           0.9302665616915984,
           210
          ],
          [
           "Random",
           0.8851808614128523,
           0.9302665616915984,
           211
          ],
          [
           "Random",
           0.8851808614128523,
           0.9302665616915984,
           212
          ],
          [
           "Random",
           0.8851808614128523,
           0.9302665616915984,
           213
          ],
          [
           "Random",
           0.8851808614128523,
           0.9302665616915984,
           214
          ],
          [
           "Random",
           0.8851808614128523,
           0.9302665616915984,
           215
          ],
          [
           "Random",
           0.8851808614128523,
           0.9302665616915984,
           216
          ],
          [
           "Random",
           0.8851808614128523,
           0.9302665616915984,
           217
          ],
          [
           "Random",
           0.8851808614128523,
           0.9302665616915984,
           218
          ],
          [
           "Random",
           0.8851808614128523,
           0.9302665616915984,
           219
          ],
          [
           "Random",
           0.8851808614128523,
           0.9302665616915984,
           220
          ],
          [
           "Random",
           0.8851808614128523,
           0.9302665616915984,
           221
          ],
          [
           "Random",
           0.8851808614128523,
           0.9302665616915984,
           222
          ],
          [
           "Random",
           0.8851808614128523,
           0.9302665616915984,
           223
          ],
          [
           "Random",
           0.8851808614128523,
           0.9302665616915984,
           224
          ],
          [
           "Random",
           0.8851808614128523,
           0.9302665616915984,
           225
          ],
          [
           "Random",
           0.8851808614128523,
           0.9302665616915984,
           226
          ],
          [
           "Random",
           0.8851808614128523,
           0.9302665616915984,
           227
          ],
          [
           "Random",
           0.8851808614128523,
           0.9302665616915984,
           228
          ],
          [
           "Random",
           0.8851808614128523,
           0.9302665616915984,
           229
          ],
          [
           "Random",
           0.8851808614128523,
           0.9302665616915984,
           230
          ],
          [
           "Random",
           0.8851808614128523,
           0.9302665616915984,
           231
          ],
          [
           "Random",
           0.8851808614128523,
           0.9302665616915984,
           232
          ],
          [
           "Random",
           0.8851808614128523,
           0.9302665616915984,
           233
          ],
          [
           "Random",
           0.8851808614128523,
           0.9302665616915984,
           234
          ],
          [
           "Random",
           0.8851808614128523,
           0.9302665616915984,
           235
          ],
          [
           "Random",
           0.8851808614128523,
           0.9302665616915984,
           236
          ],
          [
           "Random",
           0.8851808614128523,
           0.9302665616915984,
           237
          ],
          [
           "Random",
           0.8851808614128523,
           0.9302665616915984,
           238
          ],
          [
           "Random",
           0.8851808614128523,
           0.9302665616915984,
           239
          ],
          [
           "Random",
           0.8851808614128523,
           0.9302665616915984,
           240
          ],
          [
           "Random",
           0.8851808614128523,
           0.9302665616915984,
           241
          ],
          [
           "Random",
           0.8849879891646354,
           0.930154088404004,
           242
          ],
          [
           "Random",
           0.8849879891646354,
           0.930154088404004,
           243
          ],
          [
           "Random",
           0.8849879891646354,
           0.930154088404004,
           244
          ],
          [
           "Random",
           0.8851808614128523,
           0.9302665616915984,
           245
          ],
          [
           "Random",
           0.8849879891646354,
           0.930154088404004,
           246
          ],
          [
           "Random",
           0.8849879891646354,
           0.930154088404004,
           247
          ],
          [
           "Random",
           0.8849879891646354,
           0.930154088404004,
           248
          ],
          [
           "Random",
           0.8849879891646354,
           0.930154088404004,
           249
          ],
          [
           "Random",
           0.8849879891646354,
           0.930154088404004,
           250
          ],
          [
           "Random",
           0.8849879891646354,
           0.930154088404004,
           251
          ],
          [
           "Random",
           0.8849879891646354,
           0.930154088404004,
           252
          ],
          [
           "Random",
           0.8849879891646354,
           0.930154088404004,
           253
          ],
          [
           "Random",
           0.8849879891646354,
           0.930154088404004,
           254
          ],
          [
           "Random",
           0.8849879891646354,
           0.930154088404004,
           255
          ],
          [
           "Random",
           0.8849879891646354,
           0.930154088404004,
           256
          ],
          [
           "Random",
           0.8849879891646354,
           0.930154088404004,
           257
          ],
          [
           "Random",
           0.8851808614128523,
           0.9302665616915984,
           258
          ],
          [
           "Random",
           0.8849879891646354,
           0.930154088404004,
           259
          ],
          [
           "Random",
           0.8851808614128523,
           0.9302665616915984,
           260
          ],
          [
           "Random",
           0.8851808614128523,
           0.9302665616915984,
           261
          ],
          [
           "Random",
           0.8851808614128523,
           0.9302665616915984,
           262
          ],
          [
           "Random",
           0.8851808614128523,
           0.9302665616915984,
           263
          ],
          [
           "Random",
           0.8851808614128523,
           0.9302665616915984,
           264
          ],
          [
           "Random",
           0.8851808614128523,
           0.9302665616915984,
           265
          ],
          [
           "Random",
           0.8851808614128523,
           0.9302665616915984,
           266
          ],
          [
           "Random",
           0.8851808614128523,
           0.9302665616915984,
           267
          ],
          [
           "Random",
           0.8851808614128523,
           0.9302665616915984,
           268
          ],
          [
           "Random",
           0.8851808614128523,
           0.9302665616915984,
           269
          ],
          [
           "Random",
           0.8851808614128523,
           0.9302665616915984,
           270
          ],
          [
           "Random",
           0.8851808614128523,
           0.9302665616915984,
           271
          ],
          [
           "Random",
           0.8851808614128523,
           0.9302665616915984,
           272
          ],
          [
           "Random",
           0.8851808614128523,
           0.9302665616915984,
           273
          ],
          [
           "Random",
           0.8851808614128523,
           0.9302665616915984,
           274
          ],
          [
           "Random",
           0.8851808614128523,
           0.9302665616915984,
           275
          ],
          [
           "Random",
           0.8851808614128523,
           0.9302665616915984,
           276
          ],
          [
           "Random",
           0.8851808614128523,
           0.9302665616915984,
           277
          ],
          [
           "Random",
           0.8851808614128523,
           0.9302665616915984,
           278
          ],
          [
           "Random",
           0.8851808614128523,
           0.9302665616915984,
           279
          ],
          [
           "Random",
           0.8851808614128523,
           0.9302665616915984,
           280
          ],
          [
           "Random",
           0.8851808614128523,
           0.9302665616915984,
           281
          ],
          [
           "Random",
           0.8851808614128523,
           0.9302665616915984,
           282
          ],
          [
           "Random",
           0.8851808614128523,
           0.9302665616915984,
           283
          ],
          [
           "Random",
           0.8851808614128523,
           0.9302665616915984,
           284
          ],
          [
           "Random",
           0.8851808614128523,
           0.9302665616915984,
           285
          ],
          [
           "Random",
           0.8851808614128523,
           0.9302665616915984,
           286
          ],
          [
           "Random",
           0.8851808614128523,
           0.9302665616915984,
           287
          ],
          [
           "Random",
           0.8851808614128523,
           0.9302665616915984,
           288
          ],
          [
           "Random",
           0.8851808614128523,
           0.9302665616915984,
           289
          ],
          [
           "Random",
           0.8851808614128523,
           0.9302665616915984,
           290
          ],
          [
           "Random",
           0.8851808614128523,
           0.9302665616915984,
           291
          ],
          [
           "Random",
           0.8851808614128523,
           0.9302665616915984,
           292
          ],
          [
           "Random",
           0.8851808614128523,
           0.9302665616915984,
           293
          ],
          [
           "Random",
           0.8851808614128523,
           0.9302665616915984,
           294
          ],
          [
           "Random",
           0.8851808614128523,
           0.9302665616915984,
           295
          ],
          [
           "Random",
           0.8851808614128523,
           0.9302665616915984,
           296
          ],
          [
           "Random",
           0.8851808614128523,
           0.9302665616915984,
           297
          ],
          [
           "Random",
           0.8851808614128523,
           0.9302665616915984,
           298
          ],
          [
           "Random",
           0.8851808614128523,
           0.9302665616915984,
           299
          ],
          [
           "Random",
           0.8851808614128523,
           0.9302665616915984,
           300
          ],
          [
           "Random",
           0.8851808614128523,
           0.9302665616915984,
           301
          ],
          [
           "Random",
           0.8851808614128523,
           0.9302665616915984,
           302
          ],
          [
           "Random",
           0.8851808614128523,
           0.9302665616915984,
           303
          ],
          [
           "Random",
           0.8851808614128523,
           0.9302665616915984,
           304
          ],
          [
           "Random",
           0.8851808614128523,
           0.9302665616915984,
           305
          ],
          [
           "Random",
           0.8851808614128523,
           0.9302665616915984,
           306
          ],
          [
           "Random",
           0.8851808614128523,
           0.9302665616915984,
           307
          ],
          [
           "Random",
           0.8851808614128523,
           0.9302665616915984,
           308
          ],
          [
           "Random",
           0.8851808614128523,
           0.9302665616915984,
           309
          ],
          [
           "Random",
           0.8851808614128523,
           0.9302665616915984,
           310
          ],
          [
           "Random",
           0.8851808614128523,
           0.9302665616915984,
           311
          ],
          [
           "Random",
           0.8851808614128523,
           0.9302665616915984,
           312
          ],
          [
           "Random",
           0.8851808614128523,
           0.9302665616915984,
           313
          ],
          [
           "Random",
           0.8851808614128523,
           0.9302665616915984,
           314
          ],
          [
           "Random",
           0.8851808614128523,
           0.9302665616915984,
           315
          ],
          [
           "Random",
           0.8851808614128523,
           0.9302665616915984,
           316
          ],
          [
           "Random",
           0.8851808614128523,
           0.9302665616915984,
           317
          ],
          [
           "Random",
           0.8851808614128523,
           0.9302665616915984,
           318
          ],
          [
           "Random",
           0.8851808614128523,
           0.9302665616915984,
           319
          ],
          [
           "Random",
           0.8851808614128523,
           0.9302665616915984,
           320
          ],
          [
           "Random",
           0.8851808614128523,
           0.9302665616915984,
           321
          ],
          [
           "Random",
           0.8851808614128523,
           0.9302665616915984,
           322
          ],
          [
           "Random",
           0.8851808614128523,
           0.9302665616915984,
           323
          ],
          [
           "Random",
           0.8851808614128523,
           0.9302665616915984,
           324
          ],
          [
           "Random",
           0.8851808614128523,
           0.9302665616915984,
           325
          ],
          [
           "Random",
           0.8851808614128523,
           0.9302665616915984,
           326
          ],
          [
           "Random",
           0.8851808614128523,
           0.9302665616915984,
           327
          ],
          [
           "Random",
           0.8851808614128523,
           0.9302665616915984,
           328
          ],
          [
           "Random",
           0.8851808614128523,
           0.9302665616915984,
           329
          ],
          [
           "Random",
           0.8851808614128523,
           0.9302665616915984,
           330
          ],
          [
           "Random",
           0.8851808614128523,
           0.9302665616915984,
           331
          ],
          [
           "Random",
           0.8851808614128523,
           0.9302665616915984,
           332
          ],
          [
           "Random",
           0.8851808614128523,
           0.9302665616915984,
           333
          ],
          [
           "Random",
           0.8851808614128523,
           0.9302665616915984,
           334
          ],
          [
           "Random",
           0.8851808614128523,
           0.9302665616915984,
           335
          ],
          [
           "Random",
           0.8851808614128523,
           0.9302665616915984,
           336
          ],
          [
           "Random",
           0.8851808614128523,
           0.9302665616915984,
           337
          ],
          [
           "Random",
           0.8851808614128523,
           0.9302665616915984,
           338
          ],
          [
           "Random",
           0.8851808614128523,
           0.9302665616915984,
           339
          ],
          [
           "Random",
           0.8851808614128523,
           0.9302665616915984,
           340
          ],
          [
           "Random",
           0.8851808614128523,
           0.9302665616915984,
           341
          ],
          [
           "Random",
           0.8851808614128523,
           0.9302665616915984,
           342
          ],
          [
           "Random",
           0.8851808614128523,
           0.9302665616915984,
           343
          ],
          [
           "Random",
           0.8851808614128523,
           0.9302665616915984,
           344
          ],
          [
           "Random",
           0.8851808614128523,
           0.9302665616915984,
           345
          ],
          [
           "Random",
           0.8851808614128523,
           0.9302665616915984,
           346
          ],
          [
           "Random",
           0.8851808614128523,
           0.9302665616915984,
           347
          ],
          [
           "Random",
           0.8851808614128523,
           0.9302665616915984,
           348
          ],
          [
           "Random",
           0.8851808614128523,
           0.9302665616915984,
           349
          ],
          [
           "Random",
           0.8851808614128523,
           0.9302665616915984,
           350
          ],
          [
           "Random",
           0.8851808614128523,
           0.9302665616915984,
           351
          ],
          [
           "Random",
           0.8851808614128523,
           0.9302665616915984,
           352
          ],
          [
           "Random",
           0.8851808614128523,
           0.9302665616915984,
           355
          ]
         ],
         "hovertemplate": "Strategy=%{customdata[0]}<br>Number of Labeled Samples=%{x:.0f}<br>F1 Score (weighted)=%{y:.4f}<br>MCC=%{customdata[1]:.4f}<br>Accuracy=%{customdata[2]:.4f}<br>Step=%{customdata[3]}<extra></extra>",
         "legendgroup": "Random",
         "line": {
          "color": "orange",
          "dash": "solid"
         },
         "marker": {
          "symbol": "circle"
         },
         "mode": "lines+markers",
         "name": "Random",
         "showlegend": true,
         "type": "scattergl",
         "x": {
          "bdata": "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",
          "dtype": "f8"
         },
         "xaxis": "x",
         "y": {
          "bdata": "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",
          "dtype": "f8"
         },
         "yaxis": "y"
        },
        {
         "customdata": [
          [
           "Ratio of Confidence",
           0.835436566647736,
           0.8965245754133393,
           0
          ],
          [
           "Ratio of Confidence",
           0.8794110947684749,
           0.9265549432009896,
           1
          ],
          [
           "Ratio of Confidence",
           0.8850111465915249,
           0.930154088404004,
           2
          ],
          [
           "Ratio of Confidence",
           0.8850111465915249,
           0.930154088404004,
           3
          ],
          [
           "Ratio of Confidence",
           0.8844812974587587,
           0.9298166685412216,
           4
          ],
          [
           "Ratio of Confidence",
           0.8847074842139085,
           0.9299291418288156,
           5
          ],
          [
           "Ratio of Confidence",
           0.8846168956957652,
           0.9299291418288156,
           6
          ],
          [
           "Ratio of Confidence",
           0.884328219745496,
           0.9297041952536272,
           7
          ],
          [
           "Ratio of Confidence",
           0.8845404836000673,
           0.9298166685412216,
           8
          ],
          [
           "Ratio of Confidence",
           0.8845404836000673,
           0.9298166685412216,
           9
          ],
          [
           "Ratio of Confidence",
           0.8845404836000673,
           0.9298166685412216,
           10
          ],
          [
           "Ratio of Confidence",
           0.8845404836000673,
           0.9298166685412216,
           11
          ],
          [
           "Ratio of Confidence",
           0.8845404836000673,
           0.9298166685412216,
           12
          ],
          [
           "Ratio of Confidence",
           0.8844822014856362,
           0.9298166685412216,
           13
          ],
          [
           "Ratio of Confidence",
           0.8835250478839023,
           0.9293667753908448,
           14
          ],
          [
           "Ratio of Confidence",
           0.8828508270232215,
           0.929029355528062,
           15
          ],
          [
           "Ratio of Confidence",
           0.8826238716092685,
           0.929029355528062,
           16
          ],
          [
           "Ratio of Confidence",
           0.8815870124622187,
           0.9288044089528736,
           17
          ],
          [
           "Ratio of Confidence",
           0.8782154446890117,
           0.9275672027893376,
           18
          ],
          [
           "Ratio of Confidence",
           0.880426617408444,
           0.928916882240468,
           19
          ],
          [
           "Ratio of Confidence",
           0.8815995271744097,
           0.929591721966033,
           20
          ],
          [
           "Ratio of Confidence",
           0.8814742669471937,
           0.9294792486784388,
           21
          ],
          [
           "Ratio of Confidence",
           0.8814901794115518,
           0.9294792486784388,
           22
          ],
          [
           "Ratio of Confidence",
           0.8816881292702119,
           0.929591721966033,
           23
          ],
          [
           "Ratio of Confidence",
           0.8817576961664115,
           0.929591721966033,
           24
          ],
          [
           "Ratio of Confidence",
           0.8821004502895956,
           0.9298166685412216,
           25
          ],
          [
           "Ratio of Confidence",
           0.8816590710197811,
           0.929591721966033,
           26
          ],
          [
           "Ratio of Confidence",
           0.8818164107878463,
           0.9297041952536272,
           27
          ],
          [
           "Ratio of Confidence",
           0.8821950845164048,
           0.9299291418288156,
           28
          ],
          [
           "Ratio of Confidence",
           0.8823147743979127,
           0.9300416151164098,
           29
          ],
          [
           "Ratio of Confidence",
           0.8819166251451489,
           0.9298166685412216,
           30
          ],
          [
           "Ratio of Confidence",
           0.8821334757085554,
           0.9299291418288156,
           31
          ],
          [
           "Ratio of Confidence",
           0.8820616346862001,
           0.9299291418288156,
           32
          ],
          [
           "Ratio of Confidence",
           0.8824280649617506,
           0.930154088404004,
           33
          ],
          [
           "Ratio of Confidence",
           0.8822169055403102,
           0.9300416151164098,
           34
          ],
          [
           "Ratio of Confidence",
           0.8824274138835823,
           0.930154088404004,
           35
          ],
          [
           "Ratio of Confidence",
           0.8822199037881332,
           0.9300416151164098,
           36
          ],
          [
           "Ratio of Confidence",
           0.8826321672094327,
           0.9302665616915984,
           37
          ],
          [
           "Ratio of Confidence",
           0.8820671880577979,
           0.9299291418288156,
           38
          ],
          [
           "Ratio of Confidence",
           0.882625680406295,
           0.9302665616915984,
           39
          ],
          [
           "Ratio of Confidence",
           0.882625680406295,
           0.9302665616915984,
           40
          ],
          [
           "Ratio of Confidence",
           0.8824373096946443,
           0.930154088404004,
           41
          ],
          [
           "Ratio of Confidence",
           0.8824598846262864,
           0.930154088404004,
           42
          ],
          [
           "Ratio of Confidence",
           0.8822522818986308,
           0.9300416151164098,
           43
          ],
          [
           "Ratio of Confidence",
           0.882817166436994,
           0.9303790349791924,
           44
          ],
          [
           "Ratio of Confidence",
           0.8826480724988591,
           0.9302665616915984,
           45
          ],
          [
           "Ratio of Confidence",
           0.8818957202930556,
           0.9298166685412216,
           46
          ],
          [
           "Ratio of Confidence",
           0.8820837085714907,
           0.9299291418288156,
           47
          ],
          [
           "Ratio of Confidence",
           0.8822522818986308,
           0.9300416151164098,
           48
          ],
          [
           "Ratio of Confidence",
           0.8822522818986308,
           0.9300416151164098,
           49
          ],
          [
           "Ratio of Confidence",
           0.8822522818986308,
           0.9300416151164098,
           50
          ],
          [
           "Ratio of Confidence",
           0.8826288049049739,
           0.9302665616915984,
           51
          ],
          [
           "Ratio of Confidence",
           0.8839707890293053,
           0.9311663479923518,
           52
          ],
          [
           "Ratio of Confidence",
           0.8840714896381664,
           0.931278821279946,
           53
          ],
          [
           "Ratio of Confidence",
           0.8844372722087982,
           0.9315037678551344,
           54
          ],
          [
           "Ratio of Confidence",
           0.8848190181405768,
           0.9317287144303228,
           55
          ],
          [
           "Ratio of Confidence",
           0.8848190181405768,
           0.9317287144303228,
           56
          ],
          [
           "Ratio of Confidence",
           0.8846129145611477,
           0.9316162411427286,
           57
          ],
          [
           "Ratio of Confidence",
           0.8846281109200664,
           0.9316162411427286,
           58
          ],
          [
           "Ratio of Confidence",
           0.8848190181405768,
           0.9317287144303228,
           59
          ],
          [
           "Ratio of Confidence",
           0.8846129145611477,
           0.9316162411427286,
           60
          ],
          [
           "Ratio of Confidence",
           0.8850099939205597,
           0.931841187717917,
           61
          ],
          [
           "Ratio of Confidence",
           0.8846281109200664,
           0.9316162411427286,
           62
          ],
          [
           "Ratio of Confidence",
           0.8848496854987935,
           0.9317287144303228,
           63
          ],
          [
           "Ratio of Confidence",
           0.8846589974838539,
           0.9316162411427286,
           64
          ],
          [
           "Ratio of Confidence",
           0.8842465019565918,
           0.9313912945675402,
           65
          ],
          [
           "Ratio of Confidence",
           0.8840714896381664,
           0.931278821279946,
           66
          ],
          [
           "Ratio of Confidence",
           0.8841441226449459,
           0.931278821279946,
           67
          ],
          [
           "Ratio of Confidence",
           0.8838236674718348,
           0.9310538747047576,
           68
          ],
          [
           "Ratio of Confidence",
           0.882903692350296,
           0.9304915082667866,
           69
          ],
          [
           "Ratio of Confidence",
           0.8830927788038891,
           0.9306039815543808,
           70
          ],
          [
           "Ratio of Confidence",
           0.8831108342641604,
           0.9306039815543808,
           71
          ],
          [
           "Ratio of Confidence",
           0.8831108342641604,
           0.9306039815543808,
           72
          ],
          [
           "Ratio of Confidence",
           0.8829218555703554,
           0.9304915082667866,
           73
          ],
          [
           "Ratio of Confidence",
           0.8827699717867251,
           0.9303790349791924,
           74
          ],
          [
           "Ratio of Confidence",
           0.882421296798457,
           0.930154088404004,
           75
          ],
          [
           "Ratio of Confidence",
           0.8826096986903029,
           0.9302665616915984,
           76
          ],
          [
           "Ratio of Confidence",
           0.8824117506758021,
           0.930154088404004,
           77
          ],
          [
           "Ratio of Confidence",
           0.882402244916923,
           0.930154088404004,
           78
          ],
          [
           "Ratio of Confidence",
           0.881697877530103,
           0.9297041952536272,
           79
          ],
          [
           "Ratio of Confidence",
           0.881697877530103,
           0.9297041952536272,
           80
          ],
          [
           "Ratio of Confidence",
           0.881697877530103,
           0.9297041952536272,
           81
          ],
          [
           "Ratio of Confidence",
           0.881697877530103,
           0.9297041952536272,
           82
          ],
          [
           "Ratio of Confidence",
           0.881550106490905,
           0.929591721966033,
           83
          ],
          [
           "Ratio of Confidence",
           0.8807618534846293,
           0.929029355528062,
           84
          ],
          [
           "Ratio of Confidence",
           0.880729217119835,
           0.929029355528062,
           85
          ],
          [
           "Ratio of Confidence",
           0.880729217119835,
           0.929029355528062,
           86
          ],
          [
           "Ratio of Confidence",
           0.8807184179674515,
           0.929029355528062,
           87
          ],
          [
           "Ratio of Confidence",
           0.8806756199200804,
           0.929029355528062,
           88
          ],
          [
           "Ratio of Confidence",
           0.8809703302586054,
           0.9291418288156564,
           89
          ],
          [
           "Ratio of Confidence",
           0.880729217119835,
           0.929029355528062,
           90
          ],
          [
           "Ratio of Confidence",
           0.8813366061276737,
           0.9292543021032504,
           91
          ],
          [
           "Ratio of Confidence",
           0.8811277383048445,
           0.9291418288156564,
           92
          ],
          [
           "Ratio of Confidence",
           0.8813135895495443,
           0.9292543021032504,
           93
          ],
          [
           "Ratio of Confidence",
           0.8813366061276737,
           0.9292543021032504,
           94
          ],
          [
           "Ratio of Confidence",
           0.8820575892223153,
           0.929591721966033,
           95
          ],
          [
           "Ratio of Confidence",
           0.8818843944524636,
           0.9294792486784388,
           96
          ],
          [
           "Ratio of Confidence",
           0.8819206803688523,
           0.9294792486784388,
           97
          ],
          [
           "Ratio of Confidence",
           0.8819206803688523,
           0.9294792486784388,
           98
          ],
          [
           "Ratio of Confidence",
           0.8819573207253015,
           0.9294792486784388,
           99
          ],
          [
           "Ratio of Confidence",
           0.8821421685730166,
           0.929591721966033,
           100
          ],
          [
           "Ratio of Confidence",
           0.8819573207253015,
           0.9294792486784388,
           101
          ],
          [
           "Ratio of Confidence",
           0.881797264333852,
           0.9293667753908448,
           102
          ],
          [
           "Ratio of Confidence",
           0.8822663411704381,
           0.929591721966033,
           103
          ],
          [
           "Ratio of Confidence",
           0.8821074192580518,
           0.9294792486784388,
           104
          ],
          [
           "Ratio of Confidence",
           0.8821074192580518,
           0.9294792486784388,
           105
          ],
          [
           "Ratio of Confidence",
           0.882329899484363,
           0.929591721966033,
           106
          ],
          [
           "Ratio of Confidence",
           0.8827634993914203,
           0.9297041952536272,
           107
          ],
          [
           "Ratio of Confidence",
           0.8825533117826933,
           0.929591721966033,
           108
          ],
          [
           "Ratio of Confidence",
           0.8823972372320328,
           0.9294792486784388,
           109
          ],
          [
           "Ratio of Confidence",
           0.8848348402448076,
           0.9303790349791924,
           110
          ],
          [
           "Ratio of Confidence",
           0.8852246385146717,
           0.9303790349791924,
           111
          ],
          [
           "Ratio of Confidence",
           0.8854370458393941,
           0.9304915082667866,
           112
          ],
          [
           "Ratio of Confidence",
           0.8849342450416733,
           0.930154088404004,
           113
          ],
          [
           "Ratio of Confidence",
           0.8852246385146717,
           0.9303790349791924,
           114
          ],
          [
           "Ratio of Confidence",
           0.8851808614128523,
           0.9302665616915984,
           115
          ],
          [
           "Ratio of Confidence",
           0.8851808614128523,
           0.9302665616915984,
           116
          ],
          [
           "Ratio of Confidence",
           0.8851808614128523,
           0.9302665616915984,
           117
          ],
          [
           "Ratio of Confidence",
           0.8851808614128523,
           0.9302665616915984,
           118
          ],
          [
           "Ratio of Confidence",
           0.8851808614128523,
           0.9302665616915984,
           119
          ],
          [
           "Ratio of Confidence",
           0.8851808614128523,
           0.9302665616915984,
           120
          ],
          [
           "Ratio of Confidence",
           0.8851808614128523,
           0.9302665616915984,
           121
          ],
          [
           "Ratio of Confidence",
           0.8851808614128523,
           0.9302665616915984,
           122
          ],
          [
           "Ratio of Confidence",
           0.8851808614128523,
           0.9302665616915984,
           123
          ],
          [
           "Ratio of Confidence",
           0.8851808614128523,
           0.9302665616915984,
           124
          ],
          [
           "Ratio of Confidence",
           0.8851808614128523,
           0.9302665616915984,
           125
          ],
          [
           "Ratio of Confidence",
           0.8851808614128523,
           0.9302665616915984,
           126
          ],
          [
           "Ratio of Confidence",
           0.8851808614128523,
           0.9302665616915984,
           127
          ],
          [
           "Ratio of Confidence",
           0.8851808614128523,
           0.9302665616915984,
           128
          ],
          [
           "Ratio of Confidence",
           0.8851808614128523,
           0.9302665616915984,
           129
          ],
          [
           "Ratio of Confidence",
           0.8851808614128523,
           0.9302665616915984,
           130
          ],
          [
           "Ratio of Confidence",
           0.8851808614128523,
           0.9302665616915984,
           131
          ],
          [
           "Ratio of Confidence",
           0.8851808614128523,
           0.9302665616915984,
           132
          ],
          [
           "Ratio of Confidence",
           0.8851808614128523,
           0.9302665616915984,
           133
          ],
          [
           "Ratio of Confidence",
           0.8851808614128523,
           0.9302665616915984,
           134
          ],
          [
           "Ratio of Confidence",
           0.8851808614128523,
           0.9302665616915984,
           135
          ],
          [
           "Ratio of Confidence",
           0.8851808614128523,
           0.9302665616915984,
           136
          ],
          [
           "Ratio of Confidence",
           0.8851808614128523,
           0.9302665616915984,
           137
          ],
          [
           "Ratio of Confidence",
           0.8851808614128523,
           0.9302665616915984,
           138
          ],
          [
           "Ratio of Confidence",
           0.8851808614128523,
           0.9302665616915984,
           139
          ],
          [
           "Ratio of Confidence",
           0.8851808614128523,
           0.9302665616915984,
           140
          ],
          [
           "Ratio of Confidence",
           0.8851808614128523,
           0.9302665616915984,
           141
          ],
          [
           "Ratio of Confidence",
           0.8851808614128523,
           0.9302665616915984,
           142
          ],
          [
           "Ratio of Confidence",
           0.8851808614128523,
           0.9302665616915984,
           143
          ],
          [
           "Ratio of Confidence",
           0.8851808614128523,
           0.9302665616915984,
           144
          ],
          [
           "Ratio of Confidence",
           0.8851808614128523,
           0.9302665616915984,
           145
          ],
          [
           "Ratio of Confidence",
           0.8851808614128523,
           0.9302665616915984,
           146
          ],
          [
           "Ratio of Confidence",
           0.8851808614128523,
           0.9302665616915984,
           147
          ],
          [
           "Ratio of Confidence",
           0.8851808614128523,
           0.9302665616915984,
           148
          ],
          [
           "Ratio of Confidence",
           0.8851808614128523,
           0.9302665616915984,
           149
          ],
          [
           "Ratio of Confidence",
           0.8851808614128523,
           0.9302665616915984,
           150
          ],
          [
           "Ratio of Confidence",
           0.8851808614128523,
           0.9302665616915984,
           151
          ],
          [
           "Ratio of Confidence",
           0.8851808614128523,
           0.9302665616915984,
           152
          ],
          [
           "Ratio of Confidence",
           0.8851808614128523,
           0.9302665616915984,
           153
          ],
          [
           "Ratio of Confidence",
           0.8851808614128523,
           0.9302665616915984,
           154
          ],
          [
           "Ratio of Confidence",
           0.8851808614128523,
           0.9302665616915984,
           155
          ],
          [
           "Ratio of Confidence",
           0.8851808614128523,
           0.9302665616915984,
           156
          ],
          [
           "Ratio of Confidence",
           0.8851808614128523,
           0.9302665616915984,
           157
          ],
          [
           "Ratio of Confidence",
           0.8851808614128523,
           0.9302665616915984,
           158
          ],
          [
           "Ratio of Confidence",
           0.8851808614128523,
           0.9302665616915984,
           159
          ],
          [
           "Ratio of Confidence",
           0.8851808614128523,
           0.9302665616915984,
           160
          ],
          [
           "Ratio of Confidence",
           0.8851808614128523,
           0.9302665616915984,
           161
          ],
          [
           "Ratio of Confidence",
           0.8851808614128523,
           0.9302665616915984,
           162
          ],
          [
           "Ratio of Confidence",
           0.8851808614128523,
           0.9302665616915984,
           163
          ],
          [
           "Ratio of Confidence",
           0.8851808614128523,
           0.9302665616915984,
           164
          ],
          [
           "Ratio of Confidence",
           0.8851808614128523,
           0.9302665616915984,
           165
          ],
          [
           "Ratio of Confidence",
           0.8851808614128523,
           0.9302665616915984,
           166
          ],
          [
           "Ratio of Confidence",
           0.8851808614128523,
           0.9302665616915984,
           167
          ],
          [
           "Ratio of Confidence",
           0.8851808614128523,
           0.9302665616915984,
           168
          ],
          [
           "Ratio of Confidence",
           0.8851808614128523,
           0.9302665616915984,
           169
          ],
          [
           "Ratio of Confidence",
           0.8851808614128523,
           0.9302665616915984,
           170
          ],
          [
           "Ratio of Confidence",
           0.8851808614128523,
           0.9302665616915984,
           171
          ],
          [
           "Ratio of Confidence",
           0.8851808614128523,
           0.9302665616915984,
           172
          ],
          [
           "Ratio of Confidence",
           0.8851808614128523,
           0.9302665616915984,
           173
          ],
          [
           "Ratio of Confidence",
           0.8851808614128523,
           0.9302665616915984,
           174
          ],
          [
           "Ratio of Confidence",
           0.8851808614128523,
           0.9302665616915984,
           175
          ],
          [
           "Ratio of Confidence",
           0.8851808614128523,
           0.9302665616915984,
           176
          ],
          [
           "Ratio of Confidence",
           0.8851808614128523,
           0.9302665616915984,
           177
          ],
          [
           "Ratio of Confidence",
           0.8851808614128523,
           0.9302665616915984,
           178
          ],
          [
           "Ratio of Confidence",
           0.8851808614128523,
           0.9302665616915984,
           179
          ],
          [
           "Ratio of Confidence",
           0.8851808614128523,
           0.9302665616915984,
           180
          ],
          [
           "Ratio of Confidence",
           0.8851808614128523,
           0.9302665616915984,
           181
          ],
          [
           "Ratio of Confidence",
           0.8851808614128523,
           0.9302665616915984,
           182
          ],
          [
           "Ratio of Confidence",
           0.8851808614128523,
           0.9302665616915984,
           183
          ],
          [
           "Ratio of Confidence",
           0.8851808614128523,
           0.9302665616915984,
           184
          ],
          [
           "Ratio of Confidence",
           0.8851808614128523,
           0.9302665616915984,
           185
          ],
          [
           "Ratio of Confidence",
           0.8851808614128523,
           0.9302665616915984,
           186
          ],
          [
           "Ratio of Confidence",
           0.8851808614128523,
           0.9302665616915984,
           187
          ],
          [
           "Ratio of Confidence",
           0.8851808614128523,
           0.9302665616915984,
           188
          ],
          [
           "Ratio of Confidence",
           0.8851808614128523,
           0.9302665616915984,
           189
          ],
          [
           "Ratio of Confidence",
           0.8851808614128523,
           0.9302665616915984,
           190
          ],
          [
           "Ratio of Confidence",
           0.8851808614128523,
           0.9302665616915984,
           191
          ],
          [
           "Ratio of Confidence",
           0.8851808614128523,
           0.9302665616915984,
           192
          ],
          [
           "Ratio of Confidence",
           0.8851808614128523,
           0.9302665616915984,
           193
          ],
          [
           "Ratio of Confidence",
           0.8851808614128523,
           0.9302665616915984,
           194
          ],
          [
           "Ratio of Confidence",
           0.8851808614128523,
           0.9302665616915984,
           195
          ],
          [
           "Ratio of Confidence",
           0.8851808614128523,
           0.9302665616915984,
           196
          ],
          [
           "Ratio of Confidence",
           0.8851808614128523,
           0.9302665616915984,
           197
          ],
          [
           "Ratio of Confidence",
           0.8851808614128523,
           0.9302665616915984,
           198
          ],
          [
           "Ratio of Confidence",
           0.8851808614128523,
           0.9302665616915984,
           199
          ],
          [
           "Ratio of Confidence",
           0.8851808614128523,
           0.9302665616915984,
           200
          ],
          [
           "Ratio of Confidence",
           0.8851808614128523,
           0.9302665616915984,
           201
          ],
          [
           "Ratio of Confidence",
           0.8851808614128523,
           0.9302665616915984,
           202
          ],
          [
           "Ratio of Confidence",
           0.8851808614128523,
           0.9302665616915984,
           203
          ],
          [
           "Ratio of Confidence",
           0.8851808614128523,
           0.9302665616915984,
           204
          ],
          [
           "Ratio of Confidence",
           0.8851808614128523,
           0.9302665616915984,
           205
          ],
          [
           "Ratio of Confidence",
           0.8851808614128523,
           0.9302665616915984,
           206
          ],
          [
           "Ratio of Confidence",
           0.8851808614128523,
           0.9302665616915984,
           207
          ],
          [
           "Ratio of Confidence",
           0.8851808614128523,
           0.9302665616915984,
           208
          ],
          [
           "Ratio of Confidence",
           0.8851808614128523,
           0.9302665616915984,
           209
          ],
          [
           "Ratio of Confidence",
           0.8851808614128523,
           0.9302665616915984,
           210
          ],
          [
           "Ratio of Confidence",
           0.8851808614128523,
           0.9302665616915984,
           211
          ],
          [
           "Ratio of Confidence",
           0.8851808614128523,
           0.9302665616915984,
           212
          ],
          [
           "Ratio of Confidence",
           0.8851808614128523,
           0.9302665616915984,
           213
          ],
          [
           "Ratio of Confidence",
           0.8851808614128523,
           0.9302665616915984,
           214
          ],
          [
           "Ratio of Confidence",
           0.8851808614128523,
           0.9302665616915984,
           215
          ],
          [
           "Ratio of Confidence",
           0.8851808614128523,
           0.9302665616915984,
           216
          ],
          [
           "Ratio of Confidence",
           0.8851808614128523,
           0.9302665616915984,
           217
          ],
          [
           "Ratio of Confidence",
           0.8851808614128523,
           0.9302665616915984,
           218
          ],
          [
           "Ratio of Confidence",
           0.8851808614128523,
           0.9302665616915984,
           219
          ],
          [
           "Ratio of Confidence",
           0.8851808614128523,
           0.9302665616915984,
           220
          ],
          [
           "Ratio of Confidence",
           0.8851808614128523,
           0.9302665616915984,
           221
          ],
          [
           "Ratio of Confidence",
           0.8851808614128523,
           0.9302665616915984,
           222
          ],
          [
           "Ratio of Confidence",
           0.8851808614128523,
           0.9302665616915984,
           223
          ],
          [
           "Ratio of Confidence",
           0.8851808614128523,
           0.9302665616915984,
           224
          ],
          [
           "Ratio of Confidence",
           0.8851808614128523,
           0.9302665616915984,
           225
          ],
          [
           "Ratio of Confidence",
           0.8851808614128523,
           0.9302665616915984,
           226
          ],
          [
           "Ratio of Confidence",
           0.8851808614128523,
           0.9302665616915984,
           227
          ],
          [
           "Ratio of Confidence",
           0.8851808614128523,
           0.9302665616915984,
           228
          ],
          [
           "Ratio of Confidence",
           0.8851808614128523,
           0.9302665616915984,
           229
          ],
          [
           "Ratio of Confidence",
           0.8851808614128523,
           0.9302665616915984,
           230
          ],
          [
           "Ratio of Confidence",
           0.8851808614128523,
           0.9302665616915984,
           231
          ],
          [
           "Ratio of Confidence",
           0.8851808614128523,
           0.9302665616915984,
           232
          ],
          [
           "Ratio of Confidence",
           0.8851808614128523,
           0.9302665616915984,
           233
          ],
          [
           "Ratio of Confidence",
           0.8851808614128523,
           0.9302665616915984,
           234
          ],
          [
           "Ratio of Confidence",
           0.8851808614128523,
           0.9302665616915984,
           235
          ],
          [
           "Ratio of Confidence",
           0.8851808614128523,
           0.9302665616915984,
           236
          ],
          [
           "Ratio of Confidence",
           0.8851808614128523,
           0.9302665616915984,
           237
          ],
          [
           "Ratio of Confidence",
           0.8851808614128523,
           0.9302665616915984,
           238
          ],
          [
           "Ratio of Confidence",
           0.8851808614128523,
           0.9302665616915984,
           239
          ],
          [
           "Ratio of Confidence",
           0.8851808614128523,
           0.9302665616915984,
           240
          ],
          [
           "Ratio of Confidence",
           0.8851808614128523,
           0.9302665616915984,
           241
          ],
          [
           "Ratio of Confidence",
           0.8851808614128523,
           0.9302665616915984,
           242
          ],
          [
           "Ratio of Confidence",
           0.8851808614128523,
           0.9302665616915984,
           243
          ],
          [
           "Ratio of Confidence",
           0.8851808614128523,
           0.9302665616915984,
           244
          ],
          [
           "Ratio of Confidence",
           0.8851808614128523,
           0.9302665616915984,
           245
          ],
          [
           "Ratio of Confidence",
           0.8851808614128523,
           0.9302665616915984,
           246
          ],
          [
           "Ratio of Confidence",
           0.8851808614128523,
           0.9302665616915984,
           247
          ],
          [
           "Ratio of Confidence",
           0.8851808614128523,
           0.9302665616915984,
           248
          ],
          [
           "Ratio of Confidence",
           0.8851808614128523,
           0.9302665616915984,
           249
          ],
          [
           "Ratio of Confidence",
           0.8851808614128523,
           0.9302665616915984,
           250
          ],
          [
           "Ratio of Confidence",
           0.8851808614128523,
           0.9302665616915984,
           251
          ],
          [
           "Ratio of Confidence",
           0.8851808614128523,
           0.9302665616915984,
           252
          ],
          [
           "Ratio of Confidence",
           0.8851808614128523,
           0.9302665616915984,
           253
          ],
          [
           "Ratio of Confidence",
           0.8851808614128523,
           0.9302665616915984,
           254
          ],
          [
           "Ratio of Confidence",
           0.8851808614128523,
           0.9302665616915984,
           255
          ],
          [
           "Ratio of Confidence",
           0.8851808614128523,
           0.9302665616915984,
           256
          ],
          [
           "Ratio of Confidence",
           0.8851808614128523,
           0.9302665616915984,
           257
          ],
          [
           "Ratio of Confidence",
           0.8851808614128523,
           0.9302665616915984,
           258
          ],
          [
           "Ratio of Confidence",
           0.8851808614128523,
           0.9302665616915984,
           259
          ],
          [
           "Ratio of Confidence",
           0.8851808614128523,
           0.9302665616915984,
           260
          ],
          [
           "Ratio of Confidence",
           0.8851808614128523,
           0.9302665616915984,
           261
          ],
          [
           "Ratio of Confidence",
           0.8851808614128523,
           0.9302665616915984,
           262
          ],
          [
           "Ratio of Confidence",
           0.8851808614128523,
           0.9302665616915984,
           263
          ],
          [
           "Ratio of Confidence",
           0.8851808614128523,
           0.9302665616915984,
           264
          ],
          [
           "Ratio of Confidence",
           0.8851808614128523,
           0.9302665616915984,
           265
          ],
          [
           "Ratio of Confidence",
           0.8851808614128523,
           0.9302665616915984,
           266
          ],
          [
           "Ratio of Confidence",
           0.8851808614128523,
           0.9302665616915984,
           267
          ],
          [
           "Ratio of Confidence",
           0.8851808614128523,
           0.9302665616915984,
           268
          ],
          [
           "Ratio of Confidence",
           0.8851808614128523,
           0.9302665616915984,
           269
          ],
          [
           "Ratio of Confidence",
           0.8851808614128523,
           0.9302665616915984,
           270
          ],
          [
           "Ratio of Confidence",
           0.8851808614128523,
           0.9302665616915984,
           271
          ],
          [
           "Ratio of Confidence",
           0.8851808614128523,
           0.9302665616915984,
           272
          ],
          [
           "Ratio of Confidence",
           0.8851808614128523,
           0.9302665616915984,
           273
          ],
          [
           "Ratio of Confidence",
           0.8851808614128523,
           0.9302665616915984,
           274
          ],
          [
           "Ratio of Confidence",
           0.8851808614128523,
           0.9302665616915984,
           275
          ],
          [
           "Ratio of Confidence",
           0.8851808614128523,
           0.9302665616915984,
           276
          ],
          [
           "Ratio of Confidence",
           0.8851808614128523,
           0.9302665616915984,
           277
          ],
          [
           "Ratio of Confidence",
           0.8851808614128523,
           0.9302665616915984,
           278
          ],
          [
           "Ratio of Confidence",
           0.8851808614128523,
           0.9302665616915984,
           279
          ],
          [
           "Ratio of Confidence",
           0.8851808614128523,
           0.9302665616915984,
           280
          ],
          [
           "Ratio of Confidence",
           0.8851808614128523,
           0.9302665616915984,
           281
          ],
          [
           "Ratio of Confidence",
           0.8851808614128523,
           0.9302665616915984,
           282
          ],
          [
           "Ratio of Confidence",
           0.8851808614128523,
           0.9302665616915984,
           283
          ],
          [
           "Ratio of Confidence",
           0.8851808614128523,
           0.9302665616915984,
           284
          ],
          [
           "Ratio of Confidence",
           0.8851808614128523,
           0.9302665616915984,
           285
          ],
          [
           "Ratio of Confidence",
           0.8851808614128523,
           0.9302665616915984,
           286
          ],
          [
           "Ratio of Confidence",
           0.8851808614128523,
           0.9302665616915984,
           287
          ],
          [
           "Ratio of Confidence",
           0.8851808614128523,
           0.9302665616915984,
           288
          ],
          [
           "Ratio of Confidence",
           0.8851808614128523,
           0.9302665616915984,
           289
          ],
          [
           "Ratio of Confidence",
           0.8851808614128523,
           0.9302665616915984,
           290
          ],
          [
           "Ratio of Confidence",
           0.8851808614128523,
           0.9302665616915984,
           291
          ],
          [
           "Ratio of Confidence",
           0.8851808614128523,
           0.9302665616915984,
           292
          ],
          [
           "Ratio of Confidence",
           0.8851808614128523,
           0.9302665616915984,
           293
          ],
          [
           "Ratio of Confidence",
           0.8851808614128523,
           0.9302665616915984,
           294
          ],
          [
           "Ratio of Confidence",
           0.8851808614128523,
           0.9302665616915984,
           295
          ],
          [
           "Ratio of Confidence",
           0.8851808614128523,
           0.9302665616915984,
           296
          ],
          [
           "Ratio of Confidence",
           0.8851808614128523,
           0.9302665616915984,
           297
          ],
          [
           "Ratio of Confidence",
           0.8851808614128523,
           0.9302665616915984,
           298
          ],
          [
           "Ratio of Confidence",
           0.8851808614128523,
           0.9302665616915984,
           299
          ],
          [
           "Ratio of Confidence",
           0.8851808614128523,
           0.9302665616915984,
           300
          ],
          [
           "Ratio of Confidence",
           0.8851808614128523,
           0.9302665616915984,
           301
          ],
          [
           "Ratio of Confidence",
           0.8851808614128523,
           0.9302665616915984,
           302
          ],
          [
           "Ratio of Confidence",
           0.8851808614128523,
           0.9302665616915984,
           303
          ],
          [
           "Ratio of Confidence",
           0.8851808614128523,
           0.9302665616915984,
           304
          ],
          [
           "Ratio of Confidence",
           0.8851808614128523,
           0.9302665616915984,
           305
          ],
          [
           "Ratio of Confidence",
           0.8851808614128523,
           0.9302665616915984,
           306
          ],
          [
           "Ratio of Confidence",
           0.8851808614128523,
           0.9302665616915984,
           307
          ],
          [
           "Ratio of Confidence",
           0.8851808614128523,
           0.9302665616915984,
           308
          ],
          [
           "Ratio of Confidence",
           0.8851808614128523,
           0.9302665616915984,
           309
          ],
          [
           "Ratio of Confidence",
           0.8851808614128523,
           0.9302665616915984,
           310
          ],
          [
           "Ratio of Confidence",
           0.8851808614128523,
           0.9302665616915984,
           311
          ],
          [
           "Ratio of Confidence",
           0.8851808614128523,
           0.9302665616915984,
           312
          ],
          [
           "Ratio of Confidence",
           0.8851808614128523,
           0.9302665616915984,
           313
          ],
          [
           "Ratio of Confidence",
           0.8851808614128523,
           0.9302665616915984,
           314
          ],
          [
           "Ratio of Confidence",
           0.8851808614128523,
           0.9302665616915984,
           315
          ],
          [
           "Ratio of Confidence",
           0.8851808614128523,
           0.9302665616915984,
           316
          ],
          [
           "Ratio of Confidence",
           0.8851808614128523,
           0.9302665616915984,
           317
          ],
          [
           "Ratio of Confidence",
           0.8851808614128523,
           0.9302665616915984,
           318
          ],
          [
           "Ratio of Confidence",
           0.8851808614128523,
           0.9302665616915984,
           319
          ],
          [
           "Ratio of Confidence",
           0.8851808614128523,
           0.9302665616915984,
           320
          ],
          [
           "Ratio of Confidence",
           0.8851808614128523,
           0.9302665616915984,
           321
          ],
          [
           "Ratio of Confidence",
           0.8851808614128523,
           0.9302665616915984,
           322
          ],
          [
           "Ratio of Confidence",
           0.8851808614128523,
           0.9302665616915984,
           323
          ],
          [
           "Ratio of Confidence",
           0.8851808614128523,
           0.9302665616915984,
           324
          ],
          [
           "Ratio of Confidence",
           0.8851808614128523,
           0.9302665616915984,
           325
          ],
          [
           "Ratio of Confidence",
           0.8851808614128523,
           0.9302665616915984,
           326
          ],
          [
           "Ratio of Confidence",
           0.8851808614128523,
           0.9302665616915984,
           327
          ],
          [
           "Ratio of Confidence",
           0.8851808614128523,
           0.9302665616915984,
           328
          ],
          [
           "Ratio of Confidence",
           0.8851808614128523,
           0.9302665616915984,
           329
          ],
          [
           "Ratio of Confidence",
           0.8851808614128523,
           0.9302665616915984,
           330
          ],
          [
           "Ratio of Confidence",
           0.8851808614128523,
           0.9302665616915984,
           331
          ],
          [
           "Ratio of Confidence",
           0.8851808614128523,
           0.9302665616915984,
           332
          ],
          [
           "Ratio of Confidence",
           0.8851808614128523,
           0.9302665616915984,
           333
          ],
          [
           "Ratio of Confidence",
           0.8851808614128523,
           0.9302665616915984,
           334
          ],
          [
           "Ratio of Confidence",
           0.8851808614128523,
           0.9302665616915984,
           335
          ],
          [
           "Ratio of Confidence",
           0.8851808614128523,
           0.9302665616915984,
           336
          ],
          [
           "Ratio of Confidence",
           0.8851808614128523,
           0.9302665616915984,
           337
          ],
          [
           "Ratio of Confidence",
           0.8851808614128523,
           0.9302665616915984,
           338
          ],
          [
           "Ratio of Confidence",
           0.8851808614128523,
           0.9302665616915984,
           339
          ],
          [
           "Ratio of Confidence",
           0.8851808614128523,
           0.9302665616915984,
           340
          ],
          [
           "Ratio of Confidence",
           0.8851808614128523,
           0.9302665616915984,
           341
          ],
          [
           "Ratio of Confidence",
           0.8851808614128523,
           0.9302665616915984,
           342
          ],
          [
           "Ratio of Confidence",
           0.8851808614128523,
           0.9302665616915984,
           343
          ],
          [
           "Ratio of Confidence",
           0.8851808614128523,
           0.9302665616915984,
           344
          ],
          [
           "Ratio of Confidence",
           0.8851808614128523,
           0.9302665616915984,
           345
          ],
          [
           "Ratio of Confidence",
           0.8851808614128523,
           0.9302665616915984,
           346
          ],
          [
           "Ratio of Confidence",
           0.8851808614128523,
           0.9302665616915984,
           347
          ],
          [
           "Ratio of Confidence",
           0.8851808614128523,
           0.9302665616915984,
           348
          ],
          [
           "Ratio of Confidence",
           0.8851808614128523,
           0.9302665616915984,
           349
          ],
          [
           "Ratio of Confidence",
           0.8851808614128523,
           0.9302665616915984,
           350
          ],
          [
           "Ratio of Confidence",
           0.8851808614128523,
           0.9302665616915984,
           351
          ],
          [
           "Ratio of Confidence",
           0.8851808614128523,
           0.9302665616915984,
           352
          ],
          [
           "Ratio of Confidence",
           0.8851808614128523,
           0.9302665616915984,
           355
          ]
         ],
         "hovertemplate": "Strategy=%{customdata[0]}<br>Number of Labeled Samples=%{x:.0f}<br>F1 Score (weighted)=%{y:.4f}<br>MCC=%{customdata[1]:.4f}<br>Accuracy=%{customdata[2]:.4f}<br>Step=%{customdata[3]}<extra></extra>",
         "legendgroup": "Ratio of Confidence",
         "line": {
          "color": "cyan",
          "dash": "solid"
         },
         "marker": {
          "symbol": "circle"
         },
         "mode": "lines+markers",
         "name": "Ratio of Confidence",
         "showlegend": true,
         "type": "scattergl",
         "x": {
          "bdata": "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",
          "dtype": "f8"
         },
         "xaxis": "x",
         "y": {
          "bdata": "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",
          "dtype": "f8"
         },
         "yaxis": "y"
        }
       ],
       "layout": {
        "hovermode": "x unified",
        "legend": {
         "title": {
          "text": "Strategy"
         },
         "tracegroupgap": 0
        },
        "template": {
         "data": {
          "bar": [
           {
            "error_x": {
             "color": "#2a3f5f"
            },
            "error_y": {
             "color": "#2a3f5f"
            },
            "marker": {
             "line": {
              "color": "#E5ECF6",
              "width": 0.5
             },
             "pattern": {
              "fillmode": "overlay",
              "size": 10,
              "solidity": 0.2
             }
            },
            "type": "bar"
           }
          ],
          "barpolar": [
           {
            "marker": {
             "line": {
              "color": "#E5ECF6",
              "width": 0.5
             },
             "pattern": {
              "fillmode": "overlay",
              "size": 10,
              "solidity": 0.2
             }
            },
            "type": "barpolar"
           }
          ],
          "carpet": [
           {
            "aaxis": {
             "endlinecolor": "#2a3f5f",
             "gridcolor": "white",
             "linecolor": "white",
             "minorgridcolor": "white",
             "startlinecolor": "#2a3f5f"
            },
            "baxis": {
             "endlinecolor": "#2a3f5f",
             "gridcolor": "white",
             "linecolor": "white",
             "minorgridcolor": "white",
             "startlinecolor": "#2a3f5f"
            },
            "type": "carpet"
           }
          ],
          "choropleth": [
           {
            "colorbar": {
             "outlinewidth": 0,
             "ticks": ""
            },
            "type": "choropleth"
           }
          ],
          "contour": [
           {
            "colorbar": {
             "outlinewidth": 0,
             "ticks": ""
            },
            "colorscale": [
             [
              0,
              "#0d0887"
             ],
             [
              0.1111111111111111,
              "#46039f"
             ],
             [
              0.2222222222222222,
              "#7201a8"
             ],
             [
              0.3333333333333333,
              "#9c179e"
             ],
             [
              0.4444444444444444,
              "#bd3786"
             ],
             [
              0.5555555555555556,
              "#d8576b"
             ],
             [
              0.6666666666666666,
              "#ed7953"
             ],
             [
              0.7777777777777778,
              "#fb9f3a"
             ],
             [
              0.8888888888888888,
              "#fdca26"
             ],
             [
              1,
              "#f0f921"
             ]
            ],
            "type": "contour"
           }
          ],
          "contourcarpet": [
           {
            "colorbar": {
             "outlinewidth": 0,
             "ticks": ""
            },
            "type": "contourcarpet"
           }
          ],
          "heatmap": [
           {
            "colorbar": {
             "outlinewidth": 0,
             "ticks": ""
            },
            "colorscale": [
             [
              0,
              "#0d0887"
             ],
             [
              0.1111111111111111,
              "#46039f"
             ],
             [
              0.2222222222222222,
              "#7201a8"
             ],
             [
              0.3333333333333333,
              "#9c179e"
             ],
             [
              0.4444444444444444,
              "#bd3786"
             ],
             [
              0.5555555555555556,
              "#d8576b"
             ],
             [
              0.6666666666666666,
              "#ed7953"
             ],
             [
              0.7777777777777778,
              "#fb9f3a"
             ],
             [
              0.8888888888888888,
              "#fdca26"
             ],
             [
              1,
              "#f0f921"
             ]
            ],
            "type": "heatmap"
           }
          ],
          "histogram": [
           {
            "marker": {
             "pattern": {
              "fillmode": "overlay",
              "size": 10,
              "solidity": 0.2
             }
            },
            "type": "histogram"
           }
          ],
          "histogram2d": [
           {
            "colorbar": {
             "outlinewidth": 0,
             "ticks": ""
            },
            "colorscale": [
             [
              0,
              "#0d0887"
             ],
             [
              0.1111111111111111,
              "#46039f"
             ],
             [
              0.2222222222222222,
              "#7201a8"
             ],
             [
              0.3333333333333333,
              "#9c179e"
             ],
             [
              0.4444444444444444,
              "#bd3786"
             ],
             [
              0.5555555555555556,
              "#d8576b"
             ],
             [
              0.6666666666666666,
              "#ed7953"
             ],
             [
              0.7777777777777778,
              "#fb9f3a"
             ],
             [
              0.8888888888888888,
              "#fdca26"
             ],
             [
              1,
              "#f0f921"
             ]
            ],
            "type": "histogram2d"
           }
          ],
          "histogram2dcontour": [
           {
            "colorbar": {
             "outlinewidth": 0,
             "ticks": ""
            },
            "colorscale": [
             [
              0,
              "#0d0887"
             ],
             [
              0.1111111111111111,
              "#46039f"
             ],
             [
              0.2222222222222222,
              "#7201a8"
             ],
             [
              0.3333333333333333,
              "#9c179e"
             ],
             [
              0.4444444444444444,
              "#bd3786"
             ],
             [
              0.5555555555555556,
              "#d8576b"
             ],
             [
              0.6666666666666666,
              "#ed7953"
             ],
             [
              0.7777777777777778,
              "#fb9f3a"
             ],
             [
              0.8888888888888888,
              "#fdca26"
             ],
             [
              1,
              "#f0f921"
             ]
            ],
            "type": "histogram2dcontour"
           }
          ],
          "mesh3d": [
           {
            "colorbar": {
             "outlinewidth": 0,
             "ticks": ""
            },
            "type": "mesh3d"
           }
          ],
          "parcoords": [
           {
            "line": {
             "colorbar": {
              "outlinewidth": 0,
              "ticks": ""
             }
            },
            "type": "parcoords"
           }
          ],
          "pie": [
           {
            "automargin": true,
            "type": "pie"
           }
          ],
          "scatter": [
           {
            "fillpattern": {
             "fillmode": "overlay",
             "size": 10,
             "solidity": 0.2
            },
            "type": "scatter"
           }
          ],
          "scatter3d": [
           {
            "line": {
             "colorbar": {
              "outlinewidth": 0,
              "ticks": ""
             }
            },
            "marker": {
             "colorbar": {
              "outlinewidth": 0,
              "ticks": ""
             }
            },
            "type": "scatter3d"
           }
          ],
          "scattercarpet": [
           {
            "marker": {
             "colorbar": {
              "outlinewidth": 0,
              "ticks": ""
             }
            },
            "type": "scattercarpet"
           }
          ],
          "scattergeo": [
           {
            "marker": {
             "colorbar": {
              "outlinewidth": 0,
              "ticks": ""
             }
            },
            "type": "scattergeo"
           }
          ],
          "scattergl": [
           {
            "marker": {
             "colorbar": {
              "outlinewidth": 0,
              "ticks": ""
             }
            },
            "type": "scattergl"
           }
          ],
          "scattermap": [
           {
            "marker": {
             "colorbar": {
              "outlinewidth": 0,
              "ticks": ""
             }
            },
            "type": "scattermap"
           }
          ],
          "scattermapbox": [
           {
            "marker": {
             "colorbar": {
              "outlinewidth": 0,
              "ticks": ""
             }
            },
            "type": "scattermapbox"
           }
          ],
          "scatterpolar": [
           {
            "marker": {
             "colorbar": {
              "outlinewidth": 0,
              "ticks": ""
             }
            },
            "type": "scatterpolar"
           }
          ],
          "scatterpolargl": [
           {
            "marker": {
             "colorbar": {
              "outlinewidth": 0,
              "ticks": ""
             }
            },
            "type": "scatterpolargl"
           }
          ],
          "scatterternary": [
           {
            "marker": {
             "colorbar": {
              "outlinewidth": 0,
              "ticks": ""
             }
            },
            "type": "scatterternary"
           }
          ],
          "surface": [
           {
            "colorbar": {
             "outlinewidth": 0,
             "ticks": ""
            },
            "colorscale": [
             [
              0,
              "#0d0887"
             ],
             [
              0.1111111111111111,
              "#46039f"
             ],
             [
              0.2222222222222222,
              "#7201a8"
             ],
             [
              0.3333333333333333,
              "#9c179e"
             ],
             [
              0.4444444444444444,
              "#bd3786"
             ],
             [
              0.5555555555555556,
              "#d8576b"
             ],
             [
              0.6666666666666666,
              "#ed7953"
             ],
             [
              0.7777777777777778,
              "#fb9f3a"
             ],
             [
              0.8888888888888888,
              "#fdca26"
             ],
             [
              1,
              "#f0f921"
             ]
            ],
            "type": "surface"
           }
          ],
          "table": [
           {
            "cells": {
             "fill": {
              "color": "#EBF0F8"
             },
             "line": {
              "color": "white"
             }
            },
            "header": {
             "fill": {
              "color": "#C8D4E3"
             },
             "line": {
              "color": "white"
             }
            },
            "type": "table"
           }
          ]
         },
         "layout": {
          "annotationdefaults": {
           "arrowcolor": "#2a3f5f",
           "arrowhead": 0,
           "arrowwidth": 1
          },
          "autotypenumbers": "strict",
          "coloraxis": {
           "colorbar": {
            "outlinewidth": 0,
            "ticks": ""
           }
          },
          "colorscale": {
           "diverging": [
            [
             0,
             "#8e0152"
            ],
            [
             0.1,
             "#c51b7d"
            ],
            [
             0.2,
             "#de77ae"
            ],
            [
             0.3,
             "#f1b6da"
            ],
            [
             0.4,
             "#fde0ef"
            ],
            [
             0.5,
             "#f7f7f7"
            ],
            [
             0.6,
             "#e6f5d0"
            ],
            [
             0.7,
             "#b8e186"
            ],
            [
             0.8,
             "#7fbc41"
            ],
            [
             0.9,
             "#4d9221"
            ],
            [
             1,
             "#276419"
            ]
           ],
           "sequential": [
            [
             0,
             "#0d0887"
            ],
            [
             0.1111111111111111,
             "#46039f"
            ],
            [
             0.2222222222222222,
             "#7201a8"
            ],
            [
             0.3333333333333333,
             "#9c179e"
            ],
            [
             0.4444444444444444,
             "#bd3786"
            ],
            [
             0.5555555555555556,
             "#d8576b"
            ],
            [
             0.6666666666666666,
             "#ed7953"
            ],
            [
             0.7777777777777778,
             "#fb9f3a"
            ],
            [
             0.8888888888888888,
             "#fdca26"
            ],
            [
             1,
             "#f0f921"
            ]
           ],
           "sequentialminus": [
            [
             0,
             "#0d0887"
            ],
            [
             0.1111111111111111,
             "#46039f"
            ],
            [
             0.2222222222222222,
             "#7201a8"
            ],
            [
             0.3333333333333333,
             "#9c179e"
            ],
            [
             0.4444444444444444,
             "#bd3786"
            ],
            [
             0.5555555555555556,
             "#d8576b"
            ],
            [
             0.6666666666666666,
             "#ed7953"
            ],
            [
             0.7777777777777778,
             "#fb9f3a"
            ],
            [
             0.8888888888888888,
             "#fdca26"
            ],
            [
             1,
             "#f0f921"
            ]
           ]
          },
          "colorway": [
           "#636efa",
           "#EF553B",
           "#00cc96",
           "#ab63fa",
           "#FFA15A",
           "#19d3f3",
           "#FF6692",
           "#B6E880",
           "#FF97FF",
           "#FECB52"
          ],
          "font": {
           "color": "#2a3f5f"
          },
          "geo": {
           "bgcolor": "white",
           "lakecolor": "white",
           "landcolor": "#E5ECF6",
           "showlakes": true,
           "showland": true,
           "subunitcolor": "white"
          },
          "hoverlabel": {
           "align": "left"
          },
          "hovermode": "closest",
          "mapbox": {
           "style": "light"
          },
          "paper_bgcolor": "white",
          "plot_bgcolor": "#E5ECF6",
          "polar": {
           "angularaxis": {
            "gridcolor": "white",
            "linecolor": "white",
            "ticks": ""
           },
           "bgcolor": "#E5ECF6",
           "radialaxis": {
            "gridcolor": "white",
            "linecolor": "white",
            "ticks": ""
           }
          },
          "scene": {
           "xaxis": {
            "backgroundcolor": "#E5ECF6",
            "gridcolor": "white",
            "gridwidth": 2,
            "linecolor": "white",
            "showbackground": true,
            "ticks": "",
            "zerolinecolor": "white"
           },
           "yaxis": {
            "backgroundcolor": "#E5ECF6",
            "gridcolor": "white",
            "gridwidth": 2,
            "linecolor": "white",
            "showbackground": true,
            "ticks": "",
            "zerolinecolor": "white"
           },
           "zaxis": {
            "backgroundcolor": "#E5ECF6",
            "gridcolor": "white",
            "gridwidth": 2,
            "linecolor": "white",
            "showbackground": true,
            "ticks": "",
            "zerolinecolor": "white"
           }
          },
          "shapedefaults": {
           "line": {
            "color": "#2a3f5f"
           }
          },
          "ternary": {
           "aaxis": {
            "gridcolor": "white",
            "linecolor": "white",
            "ticks": ""
           },
           "baxis": {
            "gridcolor": "white",
            "linecolor": "white",
            "ticks": ""
           },
           "bgcolor": "#E5ECF6",
           "caxis": {
            "gridcolor": "white",
            "linecolor": "white",
            "ticks": ""
           }
          },
          "title": {
           "x": 0.05
          },
          "xaxis": {
           "automargin": true,
           "gridcolor": "white",
           "linecolor": "white",
           "ticks": "",
           "title": {
            "standoff": 15
           },
           "zerolinecolor": "white",
           "zerolinewidth": 2
          },
          "yaxis": {
           "automargin": true,
           "gridcolor": "white",
           "linecolor": "white",
           "ticks": "",
           "title": {
            "standoff": 15
           },
           "zerolinecolor": "white",
           "zerolinewidth": 2
          }
         }
        },
        "title": {
         "text": "Active Learning Performance: F1 Score (Weighted) vs. Number of Labeled Samples",
         "x": 0.5
        },
        "xaxis": {
         "anchor": "y",
         "domain": [
          0,
          1
         ],
         "title": {
          "text": "Number of Labeled Samples"
         }
        },
        "yaxis": {
         "anchor": "x",
         "domain": [
          0,
          1
         ],
         "title": {
          "text": "F1 Score (Weighted)"
         }
        }
       }
      }
     },
     "metadata": {},
     "output_type": "display_data"
    }
   ],
   "source": [
    "strategy_colors = {\n",
    "    'Random': 'orange',\n",
    "    'Least Confidence': 'green',\n",
    "    'Margin of Confidence': 'purple',\n",
    "    'Ratio of Confidence': 'cyan',\n",
    "    'Entropy': 'red',\n",
    "    'Cluster-Based': 'blueviolet',\n",
    "    'Theoretical': 'gray'\n",
    "}\n",
    "\n",
    "\n",
    "strategy_dashes = {\n",
    "    'Random': 'solid',\n",
    "    'Least Confidence': 'solid',\n",
    "    'Margin of Confidence': 'solid',\n",
    "    'Ratio of Confidence': 'solid',\n",
    "    'Entropy': 'dot',\n",
    "    'Cluster-Based': 'solid',\n",
    "    'Theoretical': 'dash'\n",
    "}\n",
    "\n",
    "sorted_strategies = sorted(plot_df['Strategy'].unique())\n",
    "\n",
    "fig_mcc = px.line(\n",
    "    plot_df,\n",
    "    x=\"Number of Labeled Samples\",\n",
    "    y=\"MCC\",\n",
    "    color=\"Strategy\",\n",
    "    title=\"Active Learning Performance: MCC vs. Number of Labeled Samples\",\n",
    "    line_dash=\"Strategy\",\n",
    "    markers=True,\n",
    "    color_discrete_map=strategy_colors,\n",
    "    line_dash_map=strategy_dashes,\n",
    "    category_orders={\"Strategy\": sorted_strategies},\n",
    "    hover_data={\n",
    "        \"Strategy\": True,\n",
    "        \"Number of Labeled Samples\": ':.0f',\n",
    "        \"MCC\": ':.4f',\n",
    "        \"Accuracy\": ':.4f',\n",
    "        \"F1 Score (weighted)\": ':.4f',\n",
    "        # \"Step\": True\n",
    "        }\n",
    ")\n",
    "\n",
    "fig_mcc.update_layout(\n",
    "    xaxis_title=\"Number of Labeled Samples\",\n",
    "    yaxis_title=\"MCC Score\",\n",
    "    legend_title=\"Strategy\",\n",
    "    title_x=0.5,\n",
    "    hovermode=\"x unified\",\n",
    ")\n",
    "\n",
    "fig_mcc.show()\n",
    "\n",
    "plot_df_strategies = plot_df[plot_df['Strategy'] != 'Theoretical']\n",
    "\n",
    "fig_f1 = px.line(\n",
    "    plot_df_strategies,\n",
    "    x=\"Number of Labeled Samples\",\n",
    "    y=\"F1 Score (weighted)\",\n",
    "    color=\"Strategy\",\n",
    "    title=\"Active Learning Performance: F1 Score (Weighted) vs. Number of Labeled Samples\",\n",
    "    line_dash=\"Strategy\",\n",
    "    markers=True,\n",
    "    color_discrete_map=strategy_colors,\n",
    "    line_dash_map=strategy_dashes,\n",
    "    category_orders={\"Strategy\": sorted_strategies},\n",
    "    hover_data={\n",
    "        \"Strategy\": True,\n",
    "        \"Number of Labeled Samples\": ':.0f',\n",
    "        \"MCC\": ':.4f',\n",
    "        \"Accuracy\": ':.4f',\n",
    "        \"F1 Score (weighted)\": ':.4f',\n",
    "        \"Step\": True \n",
    "        }\n",
    ")\n",
    "\n",
    "fig_f1.update_layout(\n",
    "    xaxis_title=\"Number of Labeled Samples\",\n",
    "    yaxis_title=\"F1 Score (Weighted)\",\n",
    "    legend_title=\"Strategy\",\n",
    "    title_x=0.5,\n",
    "    hovermode=\"x unified\", \n",
    ")\n",
    "\n",
    "fig_f1.show()"
   ]
  }
 ],
 "metadata": {
  "kernelspec": {
   "display_name": ".venv",
   "language": "python",
   "name": "python3"
  },
  "language_info": {
   "codemirror_mode": {
    "name": "ipython",
    "version": 3
   },
   "file_extension": ".py",
   "mimetype": "text/x-python",
   "name": "python",
   "nbconvert_exporter": "python",
   "pygments_lexer": "ipython3",
   "version": "3.10.11"
  }
 },
 "nbformat": 4,
 "nbformat_minor": 5
}
