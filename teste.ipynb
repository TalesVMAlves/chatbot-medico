{
 "cells": [
  {
   "cell_type": "markdown",
   "metadata": {},
   "source": [
    "## Teste de semelhança semântica"
   ]
  },
  {
   "cell_type": "code",
   "execution_count": 1,
   "metadata": {},
   "outputs": [],
   "source": [
    "from langchain_chroma import Chroma\n",
    "from utils.get_embedding_function import get_embedding_function\n",
    "\n",
    "chroma_path = \"knowledge_base_chroma\"\n",
    "\n",
    "embedding_function = get_embedding_function()\n",
    "db = Chroma(persist_directory=chroma_path, embedding_function=embedding_function)"
   ]
  },
  {
   "cell_type": "code",
   "execution_count": 2,
   "metadata": {},
   "outputs": [],
   "source": [
    "query = \"o que fazer quando estou com resfriado\"\n",
    "\n",
    "results = db.similarity_search_with_score(query, k=5)\n",
    "\n",
    "results_data = []\n",
    "for i, (doc, score) in enumerate(results):\n",
    "    results_data.append({\n",
    "        \"Rank\": i+1,\n",
    "        \"Score\": f\"{score:.4f}\",\n",
    "        \"Source\": doc.metadata['source'],\n",
    "        \"Page\": doc.metadata.get('page', 'N/A') + 1,\n",
    "        \"Content Preview\": doc.page_content[:150] + \"...\" if len(doc.page_content) > 150 else doc.page_content\n",
    "    })"
   ]
  },
  {
   "cell_type": "code",
   "execution_count": 3,
   "metadata": {},
   "outputs": [
    {
     "data": {
      "text/html": [
       "<style type=\"text/css\">\n",
       "#T_bff62 th {\n",
       "  text-align: left;\n",
       "}\n",
       "#T_bff62_row0_col0, #T_bff62_row0_col1, #T_bff62_row0_col2, #T_bff62_row0_col3, #T_bff62_row0_col4, #T_bff62_row1_col0, #T_bff62_row1_col1, #T_bff62_row1_col2, #T_bff62_row1_col3, #T_bff62_row1_col4, #T_bff62_row2_col0, #T_bff62_row2_col1, #T_bff62_row2_col2, #T_bff62_row2_col3, #T_bff62_row2_col4, #T_bff62_row3_col0, #T_bff62_row3_col1, #T_bff62_row3_col2, #T_bff62_row3_col3, #T_bff62_row3_col4, #T_bff62_row4_col0, #T_bff62_row4_col1, #T_bff62_row4_col2, #T_bff62_row4_col3, #T_bff62_row4_col4 {\n",
       "  text-align: left;\n",
       "}\n",
       "</style>\n",
       "<table id=\"T_bff62\">\n",
       "  <thead>\n",
       "    <tr>\n",
       "      <th class=\"blank level0\" >&nbsp;</th>\n",
       "      <th id=\"T_bff62_level0_col0\" class=\"col_heading level0 col0\" >Rank</th>\n",
       "      <th id=\"T_bff62_level0_col1\" class=\"col_heading level0 col1\" >Score</th>\n",
       "      <th id=\"T_bff62_level0_col2\" class=\"col_heading level0 col2\" >Source</th>\n",
       "      <th id=\"T_bff62_level0_col3\" class=\"col_heading level0 col3\" >Page</th>\n",
       "      <th id=\"T_bff62_level0_col4\" class=\"col_heading level0 col4\" >Content Preview</th>\n",
       "    </tr>\n",
       "  </thead>\n",
       "  <tbody>\n",
       "    <tr>\n",
       "      <th id=\"T_bff62_level0_row0\" class=\"row_heading level0 row0\" >0</th>\n",
       "      <td id=\"T_bff62_row0_col0\" class=\"data row0 col0\" >1</td>\n",
       "      <td id=\"T_bff62_row0_col1\" class=\"data row0 col1\" >1.1341</td>\n",
       "      <td id=\"T_bff62_row0_col2\" class=\"data row0 col2\" >manejo_tratamento_influenza.pdf</td>\n",
       "      <td id=\"T_bff62_row0_col3\" class=\"data row0 col3\" >41</td>\n",
       "      <td id=\"T_bff62_row0_col4\" class=\"data row0 col4\" >o\tlenço\tno\tlixo\tapós\tuso;\n",
       " ◆ lavar\tas\tmãos\tcom\tágua\te\tsabão\tapós\ttossir \tou\tespirrar;\n",
       " ◆ no caso de não haver disponibilidade de água e sabão, usar ál...</td>\n",
       "    </tr>\n",
       "    <tr>\n",
       "      <th id=\"T_bff62_level0_row1\" class=\"row_heading level0 row1\" >1</th>\n",
       "      <td id=\"T_bff62_row1_col0\" class=\"data row1 col0\" >2</td>\n",
       "      <td id=\"T_bff62_row1_col1\" class=\"data row1 col1\" >1.1640</td>\n",
       "      <td id=\"T_bff62_row1_col2\" class=\"data row1 col2\" >manejo_tratamento_influenza.pdf</td>\n",
       "      <td id=\"T_bff62_row1_col3\" class=\"data row1 col3\" >35</td>\n",
       "      <td id=\"T_bff62_row1_col4\" class=\"data row1 col4\" >◼ Higienizar\tas\tmãos\tapós\ttossir \tou\tespirrar .\n",
       " ◼ Não compartilhar objetos de uso pessoal, como talheres, pratos, copos \n",
       "ou garrafas.\n",
       " ◼ Manter os am...</td>\n",
       "    </tr>\n",
       "    <tr>\n",
       "      <th id=\"T_bff62_level0_row2\" class=\"row_heading level0 row2\" >2</th>\n",
       "      <td id=\"T_bff62_row2_col0\" class=\"data row2 col0\" >3</td>\n",
       "      <td id=\"T_bff62_row2_col1\" class=\"data row2 col1\" >1.2131</td>\n",
       "      <td id=\"T_bff62_row2_col2\" class=\"data row2 col2\" >manejo_tratamento_influenza.pdf</td>\n",
       "      <td id=\"T_bff62_row2_col3\" class=\"data row2 col3\" >40</td>\n",
       "      <td id=\"T_bff62_row2_col4\" class=\"data row2 col4\" >desse\tprofissional.\n",
       "MEDIDAS DE PREVENÇÃO E CONTROLE NÃO \n",
       "FARMACOLÓGICAS\n",
       " ◼ Cobrir o nariz e a boca com lenço, ao tossir ou espirrar, e descartar  \n",
       "o\tl...</td>\n",
       "    </tr>\n",
       "    <tr>\n",
       "      <th id=\"T_bff62_level0_row3\" class=\"row_heading level0 row3\" >3</th>\n",
       "      <td id=\"T_bff62_row3_col0\" class=\"data row3 col0\" >4</td>\n",
       "      <td id=\"T_bff62_row3_col1\" class=\"data row3 col1\" >1.3028</td>\n",
       "      <td id=\"T_bff62_row3_col2\" class=\"data row3 col2\" >manejo_tratamento_influenza.pdf</td>\n",
       "      <td id=\"T_bff62_row3_col3\" class=\"data row3 col3\" >35</td>\n",
       "      <td id=\"T_bff62_row3_col4\" class=\"data row3 col4\" >Ministério da Saúde | Secretaria de Vigilância em Saúde\n",
       "34\n",
       " ◼ Orientar\tpais\tou\tacompanhantes\t a\thigienizar\tas\tmãos\tantes\te\tapós\ttocar\t\n",
       "na\tcriança\tou\ta...</td>\n",
       "    </tr>\n",
       "    <tr>\n",
       "      <th id=\"T_bff62_level0_row4\" class=\"row_heading level0 row4\" >4</th>\n",
       "      <td id=\"T_bff62_row4_col0\" class=\"data row4 col0\" >5</td>\n",
       "      <td id=\"T_bff62_row4_col1\" class=\"data row4 col1\" >1.3090</td>\n",
       "      <td id=\"T_bff62_row4_col2\" class=\"data row4 col2\" >manejo_tratamento_influenza.pdf</td>\n",
       "      <td id=\"T_bff62_row4_col3\" class=\"data row4 col3\" >38</td>\n",
       "      <td id=\"T_bff62_row4_col4\" class=\"data row4 col4\" >no quarto.\n",
       " ◼ Restringir\ta\tmovimentação\t dos\t profissionais\t que\t atuam\t em\t áreas\t onde\t\n",
       "há doentes para áreas não atingidas pelo surto.\n",
       " ◼ Evitar no...</td>\n",
       "    </tr>\n",
       "  </tbody>\n",
       "</table>\n"
      ],
      "text/plain": [
       "<pandas.io.formats.style.Styler at 0x126041893f0>"
      ]
     },
     "execution_count": 3,
     "metadata": {},
     "output_type": "execute_result"
    }
   ],
   "source": [
    "import pandas as pd\n",
    "results_df = pd.DataFrame(results_data)\n",
    "results_df.style.set_properties(**{'text-align': 'left'}) \\\n",
    "               .set_table_styles([{'selector': 'th', 'props': [('text-align', 'left')]}])"
   ]
  }
 ],
 "metadata": {
  "kernelspec": {
   "display_name": ".venv",
   "language": "python",
   "name": "python3"
  },
  "language_info": {
   "codemirror_mode": {
    "name": "ipython",
    "version": 3
   },
   "file_extension": ".py",
   "mimetype": "text/x-python",
   "name": "python",
   "nbconvert_exporter": "python",
   "pygments_lexer": "ipython3",
   "version": "3.10.11"
  }
 },
 "nbformat": 4,
 "nbformat_minor": 2
}
